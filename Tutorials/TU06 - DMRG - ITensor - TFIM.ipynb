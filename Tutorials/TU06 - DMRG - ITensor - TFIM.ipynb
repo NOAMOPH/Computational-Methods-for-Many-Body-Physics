{
 "cells": [
  {
   "cell_type": "code",
   "execution_count": 16,
   "metadata": {},
   "outputs": [],
   "source": [
    "using ITensors\n",
    "using Plots"
   ]
  },
  {
   "cell_type": "markdown",
   "metadata": {},
   "source": [
    "site types - https://docs.juliahub.com/ITensors/P3pqL/0.3.57/SiteType.html#ITensors.SiteType\n",
    "\n",
    "Working with MPS and MPO - https://itensor.github.io/ITensors.jl/dev/examples/MPSandMPO.html#MPS-and-MPO-Examples"
   ]
  },
  {
   "cell_type": "code",
   "execution_count": 17,
   "metadata": {},
   "outputs": [
    {
     "data": {
      "text/plain": [
       "Calc_SvN (generic function with 1 method)"
      ]
     },
     "execution_count": 17,
     "metadata": {},
     "output_type": "execute_result"
    }
   ],
   "source": [
    "function Calc_SvN(psi::MPS, b::Int64)\n",
    "    # Orthogonalize the MPS at bond index b\n",
    "    orthogonalize!(psi, b)\n",
    "\n",
    "    # Perform Singular Value Decomposition (SVD)\n",
    "    U, S, V = svd(psi[b], (linkind(psi, b-1), siteind(psi, b)))\n",
    "\n",
    "    # Calculate von Neumann entropy\n",
    "    SvN = 0.0\n",
    "    for n = 1:dim(S, 1)\n",
    "        p = S[n, n]^2\n",
    "        SvN -= p * log(p)\n",
    "    end\n",
    "\n",
    "    return SvN\n",
    "end"
   ]
  },
  {
   "cell_type": "markdown",
   "metadata": {},
   "source": [
    "## TFIM"
   ]
  },
  {
   "cell_type": "code",
   "execution_count": 19,
   "metadata": {},
   "outputs": [
    {
     "data": {
      "text/plain": [
       "TFIM_DMRG (generic function with 1 method)"
      ]
     },
     "execution_count": 19,
     "metadata": {},
     "output_type": "execute_result"
    }
   ],
   "source": [
    "function TFIM_DMRG(N::Int64, h::Float64, swp_num::Int64, maxM::Int64)\n",
    "\"\"\"\n",
    "    TFIM_DMRG(N::Int64, h::Float64, swp_num::Int64, maxM::Int64)\n",
    "\n",
    "    Perform a Density Matrix Renormalization Group (DMRG) simulation for the Transverse Field Ising Model (TFIM) on a 1D chain.\n",
    "\n",
    "    Parameters:\n",
    "    - `N::Int64`: Number of sites in the 1D quantum system.\n",
    "    - `h::Float64`: Transverse field strength in the TFIM Hamiltonian.\n",
    "    - `swp_num::Int64`: Number of DMRG sweeps.\n",
    "    - `maxM::Int64`: Maximum bond dimension.\n",
    "\n",
    "    Returns:\n",
    "    - `energy::Float64`: Ground state energy obtained from the DMRG simulation.\n",
    "    - `psi::MPS`: Matrix Product State (MPS) representing the ground state of the quantum system after DMRG.\n",
    "\"\"\"\n",
    "    # Generate an index set representing quantum sites with spin S=1/2\n",
    "    sites = siteinds(\"S=1/2\", N)\n",
    "\n",
    "    # Initialize an operator sum representing the Hamiltonian using ITensors\n",
    "    ampo = OpSum()\n",
    "\n",
    "    # Construct the Hamiltonian operator for the TFIM\n",
    "    for j = 1:N\n",
    "        if j < N\n",
    "            # Interaction term between neighboring spins (Sz-Sz)\n",
    "            ampo += -2.0, \"Sz\", j, \"Sz\", j + 1\n",
    "        end\n",
    "        # Transverse field term (Sx) at each site\n",
    "        ampo += -h, \"Sx\", j\n",
    "    end\n",
    "\n",
    "    # Convert the operator sum to a Matrix Product Operator (MPO)\n",
    "    H = MPO(ampo, sites)\n",
    "\n",
    "    # Initialize the initial state to a random maxM=10 state \n",
    "    psi0 = randomMPS(sites,10)\n",
    "\n",
    "    # Set up parameters for the DMRG (Density Matrix Renormalization Group) algorithm\n",
    "    sweeps = Sweeps(swp_num)\n",
    "    setmaxdim!(sweeps, maxM)\n",
    "    setcutoff!(sweeps, 1E-16)\n",
    "\n",
    "    # Perform the DMRG simulation to obtain the ground state energy and MPS representation\n",
    "    energy, psi = dmrg(H, psi0, sweeps)\n",
    "\n",
    "    return energy, psi\n",
    "end"
   ]
  },
  {
   "cell_type": "markdown",
   "metadata": {},
   "source": [
    "###  Ferromagnetic phase"
   ]
  },
  {
   "cell_type": "code",
   "execution_count": 30,
   "metadata": {
    "scrolled": true
   },
   "outputs": [
    {
     "name": "stdout",
     "output_type": "stream",
     "text": [
      "After sweep 1 energy=-19.55251793776687  maxlinkdim=20 maxerr=5.13E-11 time=0.059\n",
      "After sweep 2 energy=-19.55253446517045  maxlinkdim=15 maxerr=8.73E-14 time=0.035\n",
      "After sweep 3 energy=-19.55253446521204  maxlinkdim=3 maxerr=8.62E-17 time=0.015\n",
      "After sweep 4 energy=-19.55253446521208  maxlinkdim=3 maxerr=6.63E-17 time=0.013\n",
      "After sweep 5 energy=-19.552534465212076  maxlinkdim=3 maxerr=6.63E-17 time=0.018\n",
      "After sweep 6 energy=-19.552534465212076  maxlinkdim=3 maxerr=6.63E-17 time=0.014\n",
      "After sweep 7 energy=-19.55253446521208  maxlinkdim=3 maxerr=6.63E-17 time=0.016\n",
      "After sweep 8 energy=-19.552534465212076  maxlinkdim=3 maxerr=6.63E-17 time=0.020\n",
      "After sweep 9 energy=-19.552534465212076  maxlinkdim=3 maxerr=6.63E-17 time=0.014\n",
      "After sweep 10 energy=-19.552534465212076  maxlinkdim=3 maxerr=6.63E-17 time=0.015\n",
      "After sweep 11 energy=-19.552534465212076  maxlinkdim=3 maxerr=6.63E-17 time=0.023\n",
      "After sweep 12 energy=-19.552534465212076  maxlinkdim=3 maxerr=6.63E-17 time=0.013\n",
      "After sweep 13 energy=-19.552534465212076  maxlinkdim=3 maxerr=6.63E-17 time=0.014\n",
      "After sweep 14 energy=-19.552534465212076  maxlinkdim=3 maxerr=6.63E-17 time=0.019\n",
      "After sweep 15 energy=-19.552534465212076  maxlinkdim=3 maxerr=6.63E-17 time=0.015\n",
      "After sweep 16 energy=-19.552534465212076  maxlinkdim=3 maxerr=6.63E-17 time=0.015\n",
      "After sweep 17 energy=-19.552534465212076  maxlinkdim=3 maxerr=6.63E-17 time=0.019\n",
      "After sweep 18 energy=-19.552534465212076  maxlinkdim=3 maxerr=6.63E-17 time=0.014\n",
      "After sweep 19 energy=-19.552534465212076  maxlinkdim=3 maxerr=6.63E-17 time=0.014\n",
      "After sweep 20 energy=-19.552534465212076  maxlinkdim=3 maxerr=6.63E-17 time=0.020\n"
     ]
    }
   ],
   "source": [
    "N = 40\n",
    "h = 0.1\n",
    "swp_num = 20\n",
    "maxM = 20\n",
    "energy, psi = TFIM_DMRG(N, h, swp_num, maxM);"
   ]
  },
  {
   "cell_type": "code",
   "execution_count": 31,
   "metadata": {
    "scrolled": false
   },
   "outputs": [
    {
     "data": {
      "text/plain": [
       "40-element Vector{Float64}:\n",
       " 0.49749371855331087\n",
       " 0.49935854217720343\n",
       " 0.4993721352993978\n",
       " 0.4993722474264985\n",
       " 0.49937224840252686\n",
       " 0.4993722484112838\n",
       " 0.49937224841136346\n",
       " 0.4993722484113643\n",
       " 0.4993722484113643\n",
       " 0.4993722484113643\n",
       " 0.4993722484113643\n",
       " 0.4993722484113643\n",
       " 0.4993722484113643\n",
       " ⋮\n",
       " 0.4993722484113643\n",
       " 0.4993722484113643\n",
       " 0.4993722484113643\n",
       " 0.4993722484113643\n",
       " 0.4993722484113643\n",
       " 0.4993722484113636\n",
       " 0.4993722484112841\n",
       " 0.4993722484025276\n",
       " 0.49937224742649977\n",
       " 0.4993721352993978\n",
       " 0.49935854217720466\n",
       " 0.49749371855331215"
      ]
     },
     "execution_count": 31,
     "metadata": {},
     "output_type": "execute_result"
    }
   ],
   "source": [
    "Z = expect(psi, \"Sz\") # compute for all sites"
   ]
  },
  {
   "cell_type": "code",
   "execution_count": 32,
   "metadata": {
    "scrolled": false
   },
   "outputs": [
    {
     "data": {
      "text/plain": [
       "40-element Vector{Float64}:\n",
       " 0.25000000000000006\n",
       " 0.2484402380489113\n",
       " 0.24843459426251835\n",
       " 0.24843455708580903\n",
       " 0.24843455680672177\n",
       " 0.24843455680451237\n",
       " 0.24843455680449716\n",
       " 0.24843455680449716\n",
       " 0.24843455680449722\n",
       " 0.24843455680449728\n",
       " 0.24843455680449733\n",
       " 0.2484345568044974\n",
       " 0.24843455680449744\n",
       " ⋮\n",
       " 0.24843455680449833\n",
       " 0.24843455680449839\n",
       " 0.24843455680449844\n",
       " 0.2484345568044985\n",
       " 0.24843455680449855\n",
       " 0.24843455680449825\n",
       " 0.24843455680445872\n",
       " 0.2484345568001023\n",
       " 0.2484345563145345\n",
       " 0.24843450053200564\n",
       " 0.24842773803909907\n",
       " 0.24750000000000266"
      ]
     },
     "execution_count": 32,
     "metadata": {},
     "output_type": "execute_result"
    }
   ],
   "source": [
    "Czz = correlation_matrix(psi, \"Sz\", \"Sz\")[1,:]"
   ]
  },
  {
   "cell_type": "code",
   "execution_count": 33,
   "metadata": {},
   "outputs": [
    {
     "name": "stdout",
     "output_type": "stream",
     "text": [
      "DMRG for N=40\n",
      "After sweep 1 energy=-19.49993931035905  maxlinkdim=20 maxerr=7.85E-11 time=0.034\n",
      "After sweep 2 energy=-19.499999999625167  maxlinkdim=17 maxerr=9.77E-14 time=0.032\n",
      "After sweep 3 energy=-19.5  maxlinkdim=2 maxerr=9.45E-17 time=0.013\n",
      "After sweep 4 energy=-19.5  maxlinkdim=1 maxerr=2.86E-25 time=0.009\n",
      "After sweep 5 energy=-19.5  maxlinkdim=1 maxerr=7.62E-95 time=0.008\n",
      "After sweep 6 energy=-19.5  maxlinkdim=1 maxerr=7.62E-95 time=0.008\n",
      "After sweep 7 energy=-19.5  maxlinkdim=1 maxerr=7.62E-95 time=0.014\n",
      "After sweep 8 energy=-19.5  maxlinkdim=1 maxerr=7.62E-95 time=0.008\n",
      "After sweep 9 energy=-19.5  maxlinkdim=1 maxerr=7.62E-95 time=0.008\n",
      "After sweep 10 energy=-19.5  maxlinkdim=1 maxerr=7.62E-95 time=0.008\n",
      "After sweep 11 energy=-19.5  maxlinkdim=1 maxerr=7.62E-95 time=0.009\n",
      "After sweep 12 energy=-19.5  maxlinkdim=1 maxerr=7.62E-95 time=0.008\n",
      "After sweep 13 energy=-19.5  maxlinkdim=1 maxerr=7.62E-95 time=0.013\n",
      "After sweep 14 energy=-19.5  maxlinkdim=1 maxerr=7.62E-95 time=0.009\n",
      "After sweep 15 energy=-19.5  maxlinkdim=1 maxerr=7.62E-95 time=0.008\n",
      "After sweep 16 energy=-19.5  maxlinkdim=1 maxerr=7.62E-95 time=0.008\n",
      "After sweep 17 energy=-19.5  maxlinkdim=1 maxerr=7.62E-95 time=0.008\n",
      "After sweep 18 energy=-19.5  maxlinkdim=1 maxerr=7.62E-95 time=0.009\n",
      "After sweep 19 energy=-19.5  maxlinkdim=1 maxerr=7.62E-95 time=0.012\n",
      "After sweep 20 energy=-19.5  maxlinkdim=1 maxerr=7.62E-95 time=0.009\n",
      "DMRG for N=80\n",
      "After sweep 1 energy=-39.49954976011833  maxlinkdim=20 maxerr=6.81E-10 time=0.088\n",
      "After sweep 2 energy=-39.49999984035708  maxlinkdim=20 maxerr=4.08E-11 time=0.075\n",
      "After sweep 3 energy=-39.4999999999687  maxlinkdim=17 maxerr=1.70E-15 time=0.049\n",
      "After sweep 4 energy=-39.5  maxlinkdim=1 maxerr=9.81E-17 time=0.026\n",
      "After sweep 5 energy=-39.5  maxlinkdim=1 maxerr=7.24E-86 time=0.017\n",
      "After sweep 6 energy=-39.5  maxlinkdim=1 maxerr=4.19E-100 time=0.021\n",
      "After sweep 7 energy=-39.5  maxlinkdim=1 maxerr=4.19E-100 time=0.015\n",
      "After sweep 8 energy=-39.5  maxlinkdim=1 maxerr=4.19E-100 time=0.016\n",
      "After sweep 9 energy=-39.5  maxlinkdim=1 maxerr=4.19E-100 time=0.022\n",
      "After sweep 10 energy=-39.5  maxlinkdim=1 maxerr=4.19E-100 time=0.017\n",
      "After sweep 11 energy=-39.5  maxlinkdim=1 maxerr=4.19E-100 time=0.022\n",
      "After sweep 12 energy=-39.5  maxlinkdim=1 maxerr=4.19E-100 time=0.020\n",
      "After sweep 13 energy=-39.5  maxlinkdim=1 maxerr=4.19E-100 time=0.015\n",
      "After sweep 14 energy=-39.5  maxlinkdim=1 maxerr=4.19E-100 time=0.025\n",
      "After sweep 15 energy=-39.5  maxlinkdim=1 maxerr=4.19E-100 time=0.017\n",
      "After sweep 16 energy=-39.5  maxlinkdim=1 maxerr=4.19E-100 time=0.015\n",
      "After sweep 17 energy=-39.5  maxlinkdim=1 maxerr=4.19E-100 time=0.020\n",
      "After sweep 18 energy=-39.5  maxlinkdim=1 maxerr=4.19E-100 time=0.017\n",
      "After sweep 19 energy=-39.5  maxlinkdim=1 maxerr=4.19E-100 time=0.017\n",
      "After sweep 20 energy=-39.5  maxlinkdim=1 maxerr=4.19E-100 time=0.022\n",
      "DMRG for N=100\n",
      "After sweep 1 energy=-49.499585576755095  maxlinkdim=20 maxerr=9.67E-10 time=0.088\n",
      "After sweep 2 energy=-49.49999941842877  maxlinkdim=20 maxerr=1.50E-12 time=0.123\n",
      "After sweep 3 energy=-49.49999999874882  maxlinkdim=20 maxerr=3.30E-15 time=0.072\n",
      "After sweep 4 energy=-49.50000000000004  maxlinkdim=5 maxerr=9.93E-17 time=0.039\n",
      "After sweep 5 energy=-49.5  maxlinkdim=1 maxerr=3.76E-20 time=0.023\n",
      "After sweep 6 energy=-49.5  maxlinkdim=1 maxerr=1.07E-60 time=0.032\n",
      "After sweep 7 energy=-49.5  maxlinkdim=1 maxerr=1.07E-60 time=0.020\n",
      "After sweep 8 energy=-49.5  maxlinkdim=1 maxerr=1.07E-60 time=0.026\n",
      "After sweep 9 energy=-49.5  maxlinkdim=1 maxerr=1.07E-60 time=0.020\n",
      "After sweep 10 energy=-49.5  maxlinkdim=1 maxerr=1.19E-61 time=0.023\n",
      "After sweep 11 energy=-49.5  maxlinkdim=1 maxerr=1.19E-61 time=0.025\n",
      "After sweep 12 energy=-49.5  maxlinkdim=1 maxerr=1.19E-61 time=0.021\n",
      "After sweep 13 energy=-49.5  maxlinkdim=1 maxerr=1.19E-61 time=0.026\n",
      "After sweep 14 energy=-49.5  maxlinkdim=1 maxerr=1.19E-61 time=0.019\n",
      "After sweep 15 energy=-49.5  maxlinkdim=1 maxerr=1.19E-61 time=0.025\n",
      "After sweep 16 energy=-49.5  maxlinkdim=1 maxerr=1.19E-61 time=0.019\n",
      "After sweep 17 energy=-49.5  maxlinkdim=1 maxerr=1.19E-61 time=0.027\n",
      "After sweep 18 energy=-49.5  maxlinkdim=1 maxerr=1.19E-61 time=0.021\n",
      "After sweep 19 energy=-49.5  maxlinkdim=1 maxerr=1.19E-61 time=0.024\n",
      "After sweep 20 energy=-49.5  maxlinkdim=1 maxerr=1.19E-61 time=0.020\n",
      "DMRG for N=200\n",
      "After sweep 1 energy=-99.49691813314969  maxlinkdim=20 maxerr=4.20E-09 time=0.180\n",
      "After sweep 2 energy=-99.499967296365  maxlinkdim=20 maxerr=2.55E-11 time=0.219\n",
      "After sweep 3 energy=-99.49999914789136  maxlinkdim=20 maxerr=1.91E-13 time=0.184\n",
      "After sweep 4 energy=-99.49999999032535  maxlinkdim=20 maxerr=2.42E-15 time=0.134\n",
      "After sweep 5 energy=-99.49999999999962  maxlinkdim=9 maxerr=9.93E-17 time=0.078\n",
      "After sweep 6 energy=-99.5  maxlinkdim=1 maxerr=7.24E-17 time=0.053\n",
      "After sweep 7 energy=-99.5  maxlinkdim=1 maxerr=5.15E-65 time=0.038\n",
      "After sweep 8 energy=-99.5  maxlinkdim=1 maxerr=5.15E-65 time=0.044\n",
      "After sweep 9 energy=-99.5  maxlinkdim=1 maxerr=5.15E-65 time=0.049\n",
      "After sweep 10 energy=-99.5  maxlinkdim=1 maxerr=5.15E-65 time=0.042\n",
      "After sweep 11 energy=-99.5  maxlinkdim=1 maxerr=5.15E-65 time=0.042\n",
      "After sweep 12 energy=-99.5  maxlinkdim=1 maxerr=5.15E-65 time=0.044\n",
      "After sweep 13 energy=-99.5  maxlinkdim=1 maxerr=5.15E-65 time=0.036\n",
      "After sweep 14 energy=-99.5  maxlinkdim=1 maxerr=5.15E-65 time=0.042\n",
      "After sweep 15 energy=-99.5  maxlinkdim=1 maxerr=5.15E-65 time=0.042\n",
      "After sweep 16 energy=-99.5  maxlinkdim=1 maxerr=5.15E-65 time=0.042\n",
      "After sweep 17 energy=-99.5  maxlinkdim=1 maxerr=5.15E-65 time=0.042\n",
      "After sweep 18 energy=-99.5  maxlinkdim=1 maxerr=5.15E-65 time=0.043\n",
      "After sweep 19 energy=-99.5  maxlinkdim=1 maxerr=5.15E-65 time=0.043\n",
      "After sweep 20 energy=-99.5  maxlinkdim=1 maxerr=5.15E-65 time=0.038\n"
     ]
    }
   ],
   "source": [
    "h = 0.\n",
    "swp_num = 20\n",
    "maxM = 20\n",
    "\n",
    "Ns  = [40, 80, 100, 200]\n",
    "SvN = zeros(length(Ns)) \n",
    "\n",
    "for (i,N) in enumerate(Ns)\n",
    "    println(\"DMRG for N=\", N)\n",
    "    energy, psi = TFIM_DMRG(N, h, swp_num, maxM)\n",
    "    SvN[i] = Calc_SvN(psi, Int.(N/2))\n",
    "end"
   ]
  },
  {
   "cell_type": "code",
   "execution_count": 34,
   "metadata": {
    "scrolled": true
   },
   "outputs": [
    {
     "data": {
      "image/png": "[encoded data removed]",
      "image/svg+xml": "<?xml version=\"1.0\" encoding=\"utf-8\"?>\n<svg xmlns=\"http://www.w3.org/2000/svg\" xmlns:xlink=\"http://www.w3.org/1999/xlink\" width=\"600\" height=\"400\" viewBox=\"0 0 2400 1600\">\n<defs>\n  <clipPath id=\"clip730\">\n    <rect x=\"0\" y=\"0\" width=\"2400\" height=\"1600\"/>\n  </clipPath>\n</defs>\n<path clip-path=\"url(#clip730)\" d=\"M0 1600 L2400 1600 L2400 8.88178e-14 L0 8.88178e-14  Z\" fill=\"#ffffff\" fill-rule=\"evenodd\" fill-opacity=\"1\"/>\n<defs>\n  <clipPath id=\"clip731\">\n    <rect x=\"480\" y=\"0\" width=\"1681\" height=\"1600\"/>\n  </clipPath>\n</defs>\n<path clip-path=\"url(#clip730)\" d=\"M193.936 1486.45 L2352.76 1486.45 L2352.76 47.2441 L193.936 47.2441  Z\" fill=\"#ffffff\" fill-rule=\"evenodd\" fill-opacity=\"1\"/>\n<defs>\n  <clipPath id=\"clip732\">\n    <rect x=\"193\" y=\"47\" width=\"2160\" height=\"1440\"/>\n  </clipPath>\n</defs>\n<polyline clip-path=\"url(#clip732)\" style=\"stroke:#000000; stroke-linecap:round; stroke-linejoin:round; stroke-width:2; stroke-opacity:0.1; fill:none\" points=\"509.612,1486.45 509.612,47.2441 \"/>\n<polyline clip-path=\"url(#clip732)\" style=\"stroke:#000000; stroke-linecap:round; stroke-linejoin:round; stroke-width:2; stroke-opacity:0.1; fill:none\" points=\"891.479,1486.45 891.479,47.2441 \"/>\n<polyline clip-path=\"url(#clip732)\" style=\"stroke:#000000; stroke-linecap:round; stroke-linejoin:round; stroke-width:2; stroke-opacity:0.1; fill:none\" points=\"1273.35,1486.45 1273.35,47.2441 \"/>\n<polyline clip-path=\"url(#clip732)\" style=\"stroke:#000000; stroke-linecap:round; stroke-linejoin:round; stroke-width:2; stroke-opacity:0.1; fill:none\" points=\"1655.21,1486.45 1655.21,47.2441 \"/>\n<polyline clip-path=\"url(#clip732)\" style=\"stroke:#000000; stroke-linecap:round; stroke-linejoin:round; stroke-width:2; stroke-opacity:0.1; fill:none\" points=\"2037.08,1486.45 2037.08,47.2441 \"/>\n<polyline clip-path=\"url(#clip730)\" style=\"stroke:#000000; stroke-linecap:round; stroke-linejoin:round; stroke-width:4; stroke-opacity:1; fill:none\" points=\"193.936,1486.45 2352.76,1486.45 \"/>\n<polyline clip-path=\"url(#clip730)\" style=\"stroke:#000000; stroke-linecap:round; stroke-linejoin:round; stroke-width:4; stroke-opacity:1; fill:none\" points=\"509.612,1486.45 509.612,1467.55 \"/>\n<polyline clip-path=\"url(#clip730)\" style=\"stroke:#000000; stroke-linecap:round; stroke-linejoin:round; stroke-width:4; stroke-opacity:1; fill:none\" points=\"891.479,1486.45 891.479,1467.55 \"/>\n<polyline clip-path=\"url(#clip730)\" style=\"stroke:#000000; stroke-linecap:round; stroke-linejoin:round; stroke-width:4; stroke-opacity:1; fill:none\" points=\"1273.35,1486.45 1273.35,1467.55 \"/>\n<polyline clip-path=\"url(#clip730)\" style=\"stroke:#000000; stroke-linecap:round; stroke-linejoin:round; stroke-width:4; stroke-opacity:1; fill:none\" points=\"1655.21,1486.45 1655.21,1467.55 \"/>\n<polyline clip-path=\"url(#clip730)\" style=\"stroke:#000000; stroke-linecap:round; stroke-linejoin:round; stroke-width:4; stroke-opacity:1; fill:none\" points=\"2037.08,1486.45 2037.08,1467.55 \"/>\n<path clip-path=\"url(#clip730)\" d=\"M495.018 1529.7 Q491.87 1529.7 490.018 1531.86 Q488.189 1534.01 488.189 1537.76 Q488.189 1541.49 490.018 1543.66 Q491.87 1545.82 495.018 1545.82 Q498.166 1545.82 499.994 1543.66 Q501.846 1541.49 501.846 1537.76 Q501.846 1534.01 499.994 1531.86 Q498.166 1529.7 495.018 1529.7 M504.3 1515.05 L504.3 1519.31 Q502.541 1518.48 500.735 1518.04 Q498.953 1517.6 497.194 1517.6 Q492.564 1517.6 490.11 1520.72 Q487.68 1523.85 487.333 1530.17 Q488.698 1528.15 490.758 1527.09 Q492.819 1526 495.295 1526 Q500.504 1526 503.513 1529.17 Q506.545 1532.32 506.545 1537.76 Q506.545 1543.08 503.397 1546.3 Q500.249 1549.52 495.018 1549.52 Q489.022 1549.52 485.851 1544.94 Q482.68 1540.33 482.68 1531.6 Q482.68 1523.41 486.569 1518.55 Q490.458 1513.66 497.008 1513.66 Q498.768 1513.66 500.55 1514.01 Q502.356 1514.36 504.3 1515.05 Z\" fill=\"#000000\" fill-rule=\"nonzero\" fill-opacity=\"1\" /><path clip-path=\"url(#clip730)\" d=\"M524.601 1517.37 Q520.99 1517.37 519.161 1520.93 Q517.356 1524.47 517.356 1531.6 Q517.356 1538.71 519.161 1542.27 Q520.99 1545.82 524.601 1545.82 Q528.235 1545.82 530.041 1542.27 Q531.869 1538.71 531.869 1531.6 Q531.869 1524.47 530.041 1520.93 Q528.235 1517.37 524.601 1517.37 M524.601 1513.66 Q530.411 1513.66 533.467 1518.27 Q536.545 1522.85 536.545 1531.6 Q536.545 1540.33 533.467 1544.94 Q530.411 1549.52 524.601 1549.52 Q518.791 1549.52 515.712 1544.94 Q512.656 1540.33 512.656 1531.6 Q512.656 1522.85 515.712 1518.27 Q518.791 1513.66 524.601 1513.66 Z\" fill=\"#000000\" fill-rule=\"nonzero\" fill-opacity=\"1\" /><path clip-path=\"url(#clip730)\" d=\"M866.607 1548.13 L866.607 1543.87 Q868.366 1544.7 870.171 1545.14 Q871.977 1545.58 873.713 1545.58 Q878.343 1545.58 880.773 1542.48 Q883.227 1539.36 883.574 1533.01 Q882.232 1535.01 880.171 1536.07 Q878.111 1537.13 875.611 1537.13 Q870.426 1537.13 867.394 1534.01 Q864.384 1530.86 864.384 1525.42 Q864.384 1520.1 867.533 1516.88 Q870.681 1513.66 875.912 1513.66 Q881.908 1513.66 885.056 1518.27 Q888.227 1522.85 888.227 1531.6 Q888.227 1539.77 884.338 1544.66 Q880.472 1549.52 873.921 1549.52 Q872.162 1549.52 870.357 1549.17 Q868.551 1548.82 866.607 1548.13 M875.912 1533.48 Q879.06 1533.48 880.889 1531.32 Q882.741 1529.17 882.741 1525.42 Q882.741 1521.7 880.889 1519.54 Q879.06 1517.37 875.912 1517.37 Q872.764 1517.37 870.912 1519.54 Q869.084 1521.7 869.084 1525.42 Q869.084 1529.17 870.912 1531.32 Q872.764 1533.48 875.912 1533.48 Z\" fill=\"#000000\" fill-rule=\"nonzero\" fill-opacity=\"1\" /><path clip-path=\"url(#clip730)\" d=\"M906.63 1517.37 Q903.019 1517.37 901.19 1520.93 Q899.384 1524.47 899.384 1531.6 Q899.384 1538.71 901.19 1542.27 Q903.019 1545.82 906.63 1545.82 Q910.264 1545.82 912.069 1542.27 Q913.898 1538.71 913.898 1531.6 Q913.898 1524.47 912.069 1520.93 Q910.264 1517.37 906.63 1517.37 M906.63 1513.66 Q912.44 1513.66 915.495 1518.27 Q918.574 1522.85 918.574 1531.6 Q918.574 1540.33 915.495 1544.94 Q912.44 1549.52 906.63 1549.52 Q900.819 1549.52 897.741 1544.94 Q894.685 1540.33 894.685 1531.6 Q894.685 1522.85 897.741 1518.27 Q900.819 1513.66 906.63 1513.66 Z\" fill=\"#000000\" fill-rule=\"nonzero\" fill-opacity=\"1\" /><path clip-path=\"url(#clip730)\" d=\"M1232.95 1544.91 L1240.59 1544.91 L1240.59 1518.55 L1232.28 1520.21 L1232.28 1515.95 L1240.55 1514.29 L1245.22 1514.29 L1245.22 1544.91 L1252.86 1544.91 L1252.86 1548.85 L1232.95 1548.85 L1232.95 1544.91 Z\" fill=\"#000000\" fill-rule=\"nonzero\" fill-opacity=\"1\" /><path clip-path=\"url(#clip730)\" d=\"M1266.33 1544.91 L1282.65 1544.91 L1282.65 1548.85 L1260.71 1548.85 L1260.71 1544.91 Q1263.37 1542.16 1267.95 1537.53 Q1272.56 1532.88 1273.74 1531.53 Q1275.98 1529.01 1276.86 1527.27 Q1277.77 1525.51 1277.77 1523.82 Q1277.77 1521.07 1275.82 1519.33 Q1273.9 1517.6 1270.8 1517.6 Q1268.6 1517.6 1266.15 1518.36 Q1263.72 1519.13 1260.94 1520.68 L1260.94 1515.95 Q1263.76 1514.82 1266.22 1514.24 Q1268.67 1513.66 1270.71 1513.66 Q1276.08 1513.66 1279.27 1516.35 Q1282.47 1519.03 1282.47 1523.52 Q1282.47 1525.65 1281.66 1527.57 Q1280.87 1529.47 1278.76 1532.07 Q1278.18 1532.74 1275.08 1535.95 Q1271.98 1539.15 1266.33 1544.91 Z\" fill=\"#000000\" fill-rule=\"nonzero\" fill-opacity=\"1\" /><path clip-path=\"url(#clip730)\" d=\"M1302.47 1517.37 Q1298.86 1517.37 1297.03 1520.93 Q1295.22 1524.47 1295.22 1531.6 Q1295.22 1538.71 1297.03 1542.27 Q1298.86 1545.82 1302.47 1545.82 Q1306.1 1545.82 1307.91 1542.27 Q1309.73 1538.71 1309.73 1531.6 Q1309.73 1524.47 1307.91 1520.93 Q1306.1 1517.37 1302.47 1517.37 M1302.47 1513.66 Q1308.28 1513.66 1311.33 1518.27 Q1314.41 1522.85 1314.41 1531.6 Q1314.41 1540.33 1311.33 1544.94 Q1308.28 1549.52 1302.47 1549.52 Q1296.66 1549.52 1293.58 1544.94 Q1290.52 1540.33 1290.52 1531.6 Q1290.52 1522.85 1293.58 1518.27 Q1296.66 1513.66 1302.47 1513.66 Z\" fill=\"#000000\" fill-rule=\"nonzero\" fill-opacity=\"1\" /><path clip-path=\"url(#clip730)\" d=\"M1614.82 1544.91 L1622.46 1544.91 L1622.46 1518.55 L1614.15 1520.21 L1614.15 1515.95 L1622.41 1514.29 L1627.09 1514.29 L1627.09 1544.91 L1634.73 1544.91 L1634.73 1548.85 L1614.82 1548.85 L1614.82 1544.91 Z\" fill=\"#000000\" fill-rule=\"nonzero\" fill-opacity=\"1\" /><path clip-path=\"url(#clip730)\" d=\"M1644.22 1514.29 L1662.57 1514.29 L1662.57 1518.22 L1648.5 1518.22 L1648.5 1526.7 Q1649.52 1526.35 1650.54 1526.19 Q1651.56 1526 1652.57 1526 Q1658.36 1526 1661.74 1529.17 Q1665.12 1532.34 1665.12 1537.76 Q1665.12 1543.34 1661.65 1546.44 Q1658.18 1549.52 1651.86 1549.52 Q1649.68 1549.52 1647.41 1549.15 Q1645.17 1548.78 1642.76 1548.04 L1642.76 1543.34 Q1644.84 1544.47 1647.06 1545.03 Q1649.29 1545.58 1651.76 1545.58 Q1655.77 1545.58 1658.11 1543.48 Q1660.44 1541.37 1660.44 1537.76 Q1660.44 1534.15 1658.11 1532.04 Q1655.77 1529.94 1651.76 1529.94 Q1649.89 1529.94 1648.01 1530.35 Q1646.16 1530.77 1644.22 1531.65 L1644.22 1514.29 Z\" fill=\"#000000\" fill-rule=\"nonzero\" fill-opacity=\"1\" /><path clip-path=\"url(#clip730)\" d=\"M1684.33 1517.37 Q1680.72 1517.37 1678.89 1520.93 Q1677.09 1524.47 1677.09 1531.6 Q1677.09 1538.71 1678.89 1542.27 Q1680.72 1545.82 1684.33 1545.82 Q1687.97 1545.82 1689.77 1542.27 Q1691.6 1538.71 1691.6 1531.6 Q1691.6 1524.47 1689.77 1520.93 Q1687.97 1517.37 1684.33 1517.37 M1684.33 1513.66 Q1690.14 1513.66 1693.2 1518.27 Q1696.28 1522.85 1696.28 1531.6 Q1696.28 1540.33 1693.2 1544.94 Q1690.14 1549.52 1684.33 1549.52 Q1678.52 1549.52 1675.44 1544.94 Q1672.39 1540.33 1672.39 1531.6 Q1672.39 1522.85 1675.44 1518.27 Q1678.52 1513.66 1684.33 1513.66 Z\" fill=\"#000000\" fill-rule=\"nonzero\" fill-opacity=\"1\" /><path clip-path=\"url(#clip730)\" d=\"M1996.69 1544.91 L2004.32 1544.91 L2004.32 1518.55 L1996.01 1520.21 L1996.01 1515.95 L2004.28 1514.29 L2008.95 1514.29 L2008.95 1544.91 L2016.59 1544.91 L2016.59 1548.85 L1996.69 1548.85 L1996.69 1544.91 Z\" fill=\"#000000\" fill-rule=\"nonzero\" fill-opacity=\"1\" /><path clip-path=\"url(#clip730)\" d=\"M2036.04 1532.44 Q2032.7 1532.44 2030.78 1534.22 Q2028.89 1536 2028.89 1539.13 Q2028.89 1542.25 2030.78 1544.03 Q2032.7 1545.82 2036.04 1545.82 Q2039.37 1545.82 2041.29 1544.03 Q2043.21 1542.23 2043.21 1539.13 Q2043.21 1536 2041.29 1534.22 Q2039.39 1532.44 2036.04 1532.44 M2031.36 1530.45 Q2028.35 1529.7 2026.66 1527.64 Q2025 1525.58 2025 1522.62 Q2025 1518.48 2027.94 1516.07 Q2030.9 1513.66 2036.04 1513.66 Q2041.2 1513.66 2044.14 1516.07 Q2047.08 1518.48 2047.08 1522.62 Q2047.08 1525.58 2045.39 1527.64 Q2043.72 1529.7 2040.74 1530.45 Q2044.12 1531.23 2045.99 1533.52 Q2047.89 1535.82 2047.89 1539.13 Q2047.89 1544.15 2044.81 1546.83 Q2041.76 1549.52 2036.04 1549.52 Q2030.32 1549.52 2027.24 1546.83 Q2024.19 1544.15 2024.19 1539.13 Q2024.19 1535.82 2026.08 1533.52 Q2027.98 1531.23 2031.36 1530.45 M2029.65 1523.06 Q2029.65 1525.75 2031.32 1527.25 Q2033.01 1528.76 2036.04 1528.76 Q2039.05 1528.76 2040.74 1527.25 Q2042.45 1525.75 2042.45 1523.06 Q2042.45 1520.38 2040.74 1518.87 Q2039.05 1517.37 2036.04 1517.37 Q2033.01 1517.37 2031.32 1518.87 Q2029.65 1520.38 2029.65 1523.06 Z\" fill=\"#000000\" fill-rule=\"nonzero\" fill-opacity=\"1\" /><path clip-path=\"url(#clip730)\" d=\"M2066.2 1517.37 Q2062.59 1517.37 2060.76 1520.93 Q2058.95 1524.47 2058.95 1531.6 Q2058.95 1538.71 2060.76 1542.27 Q2062.59 1545.82 2066.2 1545.82 Q2069.83 1545.82 2071.64 1542.27 Q2073.47 1538.71 2073.47 1531.6 Q2073.47 1524.47 2071.64 1520.93 Q2069.83 1517.37 2066.2 1517.37 M2066.2 1513.66 Q2072.01 1513.66 2075.07 1518.27 Q2078.14 1522.85 2078.14 1531.6 Q2078.14 1540.33 2075.07 1544.94 Q2072.01 1549.52 2066.2 1549.52 Q2060.39 1549.52 2057.31 1544.94 Q2054.26 1540.33 2054.26 1531.6 Q2054.26 1522.85 2057.31 1518.27 Q2060.39 1513.66 2066.2 1513.66 Z\" fill=\"#000000\" fill-rule=\"nonzero\" fill-opacity=\"1\" /><polyline clip-path=\"url(#clip732)\" style=\"stroke:#000000; stroke-linecap:round; stroke-linejoin:round; stroke-width:2; stroke-opacity:0.1; fill:none\" points=\"193.936,1486.45 2352.76,1486.45 \"/>\n<polyline clip-path=\"url(#clip732)\" style=\"stroke:#000000; stroke-linecap:round; stroke-linejoin:round; stroke-width:2; stroke-opacity:0.1; fill:none\" points=\"193.936,1126.65 2352.76,1126.65 \"/>\n<polyline clip-path=\"url(#clip732)\" style=\"stroke:#000000; stroke-linecap:round; stroke-linejoin:round; stroke-width:2; stroke-opacity:0.1; fill:none\" points=\"193.936,766.846 2352.76,766.846 \"/>\n<polyline clip-path=\"url(#clip732)\" style=\"stroke:#000000; stroke-linecap:round; stroke-linejoin:round; stroke-width:2; stroke-opacity:0.1; fill:none\" points=\"193.936,407.045 2352.76,407.045 \"/>\n<polyline clip-path=\"url(#clip732)\" style=\"stroke:#000000; stroke-linecap:round; stroke-linejoin:round; stroke-width:2; stroke-opacity:0.1; fill:none\" points=\"193.936,47.2441 2352.76,47.2441 \"/>\n<polyline clip-path=\"url(#clip730)\" style=\"stroke:#000000; stroke-linecap:round; stroke-linejoin:round; stroke-width:4; stroke-opacity:1; fill:none\" points=\"193.936,1486.45 193.936,47.2441 \"/>\n<polyline clip-path=\"url(#clip730)\" style=\"stroke:#000000; stroke-linecap:round; stroke-linejoin:round; stroke-width:4; stroke-opacity:1; fill:none\" points=\"193.936,1486.45 212.834,1486.45 \"/>\n<polyline clip-path=\"url(#clip730)\" style=\"stroke:#000000; stroke-linecap:round; stroke-linejoin:round; stroke-width:4; stroke-opacity:1; fill:none\" points=\"193.936,1126.65 212.834,1126.65 \"/>\n<polyline clip-path=\"url(#clip730)\" style=\"stroke:#000000; stroke-linecap:round; stroke-linejoin:round; stroke-width:4; stroke-opacity:1; fill:none\" points=\"193.936,766.846 212.834,766.846 \"/>\n<polyline clip-path=\"url(#clip730)\" style=\"stroke:#000000; stroke-linecap:round; stroke-linejoin:round; stroke-width:4; stroke-opacity:1; fill:none\" points=\"193.936,407.045 212.834,407.045 \"/>\n<polyline clip-path=\"url(#clip730)\" style=\"stroke:#000000; stroke-linecap:round; stroke-linejoin:round; stroke-width:4; stroke-opacity:1; fill:none\" points=\"193.936,47.2441 212.834,47.2441 \"/>\n<path clip-path=\"url(#clip730)\" d=\"M50.9921 1486.9 L80.6679 1486.9 L80.6679 1490.83 L50.9921 1490.83 L50.9921 1486.9 Z\" fill=\"#000000\" fill-rule=\"nonzero\" fill-opacity=\"1\" /><path clip-path=\"url(#clip730)\" d=\"M91.5706 1499.79 L99.2095 1499.79 L99.2095 1473.43 L90.8993 1475.09 L90.8993 1470.83 L99.1632 1469.17 L103.839 1469.17 L103.839 1499.79 L111.478 1499.79 L111.478 1503.73 L91.5706 1503.73 L91.5706 1499.79 Z\" fill=\"#000000\" fill-rule=\"nonzero\" fill-opacity=\"1\" /><path clip-path=\"url(#clip730)\" d=\"M120.922 1497.85 L125.807 1497.85 L125.807 1503.73 L120.922 1503.73 L120.922 1497.85 Z\" fill=\"#000000\" fill-rule=\"nonzero\" fill-opacity=\"1\" /><path clip-path=\"url(#clip730)\" d=\"M145.992 1472.25 Q142.381 1472.25 140.552 1475.81 Q138.746 1479.35 138.746 1486.48 Q138.746 1493.59 140.552 1497.15 Q142.381 1500.7 145.992 1500.7 Q149.626 1500.7 151.431 1497.15 Q153.26 1493.59 153.26 1486.48 Q153.26 1479.35 151.431 1475.81 Q149.626 1472.25 145.992 1472.25 M145.992 1468.54 Q151.802 1468.54 154.857 1473.15 Q157.936 1477.73 157.936 1486.48 Q157.936 1495.21 154.857 1499.82 Q151.802 1504.4 145.992 1504.4 Q140.181 1504.4 137.103 1499.82 Q134.047 1495.21 134.047 1486.48 Q134.047 1477.73 137.103 1473.15 Q140.181 1468.54 145.992 1468.54 Z\" fill=\"#000000\" fill-rule=\"nonzero\" fill-opacity=\"1\" /><path clip-path=\"url(#clip730)\" d=\"M51.9875 1127.1 L81.6633 1127.1 L81.6633 1131.03 L51.9875 1131.03 L51.9875 1127.1 Z\" fill=\"#000000\" fill-rule=\"nonzero\" fill-opacity=\"1\" /><path clip-path=\"url(#clip730)\" d=\"M101.756 1112.45 Q98.1447 1112.45 96.316 1116.01 Q94.5104 1119.55 94.5104 1126.68 Q94.5104 1133.79 96.316 1137.35 Q98.1447 1140.89 101.756 1140.89 Q105.39 1140.89 107.196 1137.35 Q109.024 1133.79 109.024 1126.68 Q109.024 1119.55 107.196 1116.01 Q105.39 1112.45 101.756 1112.45 M101.756 1108.74 Q107.566 1108.74 110.621 1113.35 Q113.7 1117.93 113.7 1126.68 Q113.7 1135.41 110.621 1140.01 Q107.566 1144.6 101.756 1144.6 Q95.9456 1144.6 92.8669 1140.01 Q89.8114 1135.41 89.8114 1126.68 Q89.8114 1117.93 92.8669 1113.35 Q95.9456 1108.74 101.756 1108.74 Z\" fill=\"#000000\" fill-rule=\"nonzero\" fill-opacity=\"1\" /><path clip-path=\"url(#clip730)\" d=\"M121.918 1138.05 L126.802 1138.05 L126.802 1143.93 L121.918 1143.93 L121.918 1138.05 Z\" fill=\"#000000\" fill-rule=\"nonzero\" fill-opacity=\"1\" /><path clip-path=\"url(#clip730)\" d=\"M137.033 1109.37 L155.39 1109.37 L155.39 1113.3 L141.316 1113.3 L141.316 1121.77 Q142.334 1121.43 143.353 1121.27 Q144.371 1121.08 145.39 1121.08 Q151.177 1121.08 154.556 1124.25 Q157.936 1127.42 157.936 1132.84 Q157.936 1138.42 154.464 1141.52 Q150.992 1144.6 144.672 1144.6 Q142.496 1144.6 140.228 1144.23 Q137.982 1143.86 135.575 1143.12 L135.575 1138.42 Q137.658 1139.55 139.881 1140.11 Q142.103 1140.66 144.58 1140.66 Q148.584 1140.66 150.922 1138.56 Q153.26 1136.45 153.26 1132.84 Q153.26 1129.23 150.922 1127.12 Q148.584 1125.01 144.58 1125.01 Q142.705 1125.01 140.83 1125.43 Q138.978 1125.85 137.033 1126.73 L137.033 1109.37 Z\" fill=\"#000000\" fill-rule=\"nonzero\" fill-opacity=\"1\" /><path clip-path=\"url(#clip730)\" d=\"M100.76 752.645 Q97.1493 752.645 95.3206 756.209 Q93.515 759.751 93.515 766.881 Q93.515 773.987 95.3206 777.552 Q97.1493 781.094 100.76 781.094 Q104.395 781.094 106.2 777.552 Q108.029 773.987 108.029 766.881 Q108.029 759.751 106.2 756.209 Q104.395 752.645 100.76 752.645 M100.76 748.941 Q106.571 748.941 109.626 753.547 Q112.705 758.131 112.705 766.881 Q112.705 775.608 109.626 780.214 Q106.571 784.797 100.76 784.797 Q94.9502 784.797 91.8715 780.214 Q88.816 775.608 88.816 766.881 Q88.816 758.131 91.8715 753.547 Q94.9502 748.941 100.76 748.941 Z\" fill=\"#000000\" fill-rule=\"nonzero\" fill-opacity=\"1\" /><path clip-path=\"url(#clip730)\" d=\"M120.922 778.246 L125.807 778.246 L125.807 784.126 L120.922 784.126 L120.922 778.246 Z\" fill=\"#000000\" fill-rule=\"nonzero\" fill-opacity=\"1\" /><path clip-path=\"url(#clip730)\" d=\"M145.992 752.645 Q142.381 752.645 140.552 756.209 Q138.746 759.751 138.746 766.881 Q138.746 773.987 140.552 777.552 Q142.381 781.094 145.992 781.094 Q149.626 781.094 151.431 777.552 Q153.26 773.987 153.26 766.881 Q153.26 759.751 151.431 756.209 Q149.626 752.645 145.992 752.645 M145.992 748.941 Q151.802 748.941 154.857 753.547 Q157.936 758.131 157.936 766.881 Q157.936 775.608 154.857 780.214 Q151.802 784.797 145.992 784.797 Q140.181 784.797 137.103 780.214 Q134.047 775.608 134.047 766.881 Q134.047 758.131 137.103 753.547 Q140.181 748.941 145.992 748.941 Z\" fill=\"#000000\" fill-rule=\"nonzero\" fill-opacity=\"1\" /><path clip-path=\"url(#clip730)\" d=\"M101.756 392.844 Q98.1447 392.844 96.316 396.409 Q94.5104 399.95 94.5104 407.08 Q94.5104 414.186 96.316 417.751 Q98.1447 421.293 101.756 421.293 Q105.39 421.293 107.196 417.751 Q109.024 414.186 109.024 407.08 Q109.024 399.95 107.196 396.409 Q105.39 392.844 101.756 392.844 M101.756 389.14 Q107.566 389.14 110.621 393.746 Q113.7 398.33 113.7 407.08 Q113.7 415.807 110.621 420.413 Q107.566 424.996 101.756 424.996 Q95.9456 424.996 92.8669 420.413 Q89.8114 415.807 89.8114 407.08 Q89.8114 398.33 92.8669 393.746 Q95.9456 389.14 101.756 389.14 Z\" fill=\"#000000\" fill-rule=\"nonzero\" fill-opacity=\"1\" /><path clip-path=\"url(#clip730)\" d=\"M121.918 418.445 L126.802 418.445 L126.802 424.325 L121.918 424.325 L121.918 418.445 Z\" fill=\"#000000\" fill-rule=\"nonzero\" fill-opacity=\"1\" /><path clip-path=\"url(#clip730)\" d=\"M137.033 389.765 L155.39 389.765 L155.39 393.7 L141.316 393.7 L141.316 402.172 Q142.334 401.825 143.353 401.663 Q144.371 401.478 145.39 401.478 Q151.177 401.478 154.556 404.649 Q157.936 407.82 157.936 413.237 Q157.936 418.816 154.464 421.918 Q150.992 424.996 144.672 424.996 Q142.496 424.996 140.228 424.626 Q137.982 424.256 135.575 423.515 L135.575 418.816 Q137.658 419.95 139.881 420.506 Q142.103 421.061 144.58 421.061 Q148.584 421.061 150.922 418.955 Q153.26 416.848 153.26 413.237 Q153.26 409.626 150.922 407.52 Q148.584 405.413 144.58 405.413 Q142.705 405.413 140.83 405.83 Q138.978 406.246 137.033 407.126 L137.033 389.765 Z\" fill=\"#000000\" fill-rule=\"nonzero\" fill-opacity=\"1\" /><path clip-path=\"url(#clip730)\" d=\"M91.5706 60.5889 L99.2095 60.5889 L99.2095 34.2233 L90.8993 35.89 L90.8993 31.6308 L99.1632 29.9641 L103.839 29.9641 L103.839 60.5889 L111.478 60.5889 L111.478 64.5241 L91.5706 64.5241 L91.5706 60.5889 Z\" fill=\"#000000\" fill-rule=\"nonzero\" fill-opacity=\"1\" /><path clip-path=\"url(#clip730)\" d=\"M120.922 58.6445 L125.807 58.6445 L125.807 64.5241 L120.922 64.5241 L120.922 58.6445 Z\" fill=\"#000000\" fill-rule=\"nonzero\" fill-opacity=\"1\" /><path clip-path=\"url(#clip730)\" d=\"M145.992 33.0428 Q142.381 33.0428 140.552 36.6076 Q138.746 40.1492 138.746 47.2788 Q138.746 54.3853 140.552 57.9501 Q142.381 61.4917 145.992 61.4917 Q149.626 61.4917 151.431 57.9501 Q153.26 54.3853 153.26 47.2788 Q153.26 40.1492 151.431 36.6076 Q149.626 33.0428 145.992 33.0428 M145.992 29.3391 Q151.802 29.3391 154.857 33.9456 Q157.936 38.5289 157.936 47.2788 Q157.936 56.0056 154.857 60.6121 Q151.802 65.1954 145.992 65.1954 Q140.181 65.1954 137.103 60.6121 Q134.047 56.0056 134.047 47.2788 Q134.047 38.5289 137.103 33.9456 Q140.181 29.3391 145.992 29.3391 Z\" fill=\"#000000\" fill-rule=\"nonzero\" fill-opacity=\"1\" /><polyline clip-path=\"url(#clip732)\" style=\"stroke:#009af9; stroke-linecap:round; stroke-linejoin:round; stroke-width:4; stroke-opacity:1; fill:none\" points=\"255.035,766.846 764.19,766.846 1018.77,766.846 2291.66,766.846 \"/>\n<path clip-path=\"url(#clip730)\" d=\"M2012.48 198.898 L2280.8 198.898 L2280.8 95.2176 L2012.48 95.2176  Z\" fill=\"#ffffff\" fill-rule=\"evenodd\" fill-opacity=\"1\"/>\n<polyline clip-path=\"url(#clip730)\" style=\"stroke:#000000; stroke-linecap:round; stroke-linejoin:round; stroke-width:4; stroke-opacity:1; fill:none\" points=\"2012.48,198.898 2280.8,198.898 2280.8,95.2176 2012.48,95.2176 2012.48,198.898 \"/>\n<polyline clip-path=\"url(#clip730)\" style=\"stroke:#009af9; stroke-linecap:round; stroke-linejoin:round; stroke-width:4; stroke-opacity:1; fill:none\" points=\"2036.47,147.058 2180.39,147.058 \"/>\n<path clip-path=\"url(#clip730)\" d=\"M2218.22 166.745 Q2216.42 171.375 2214.7 172.787 Q2212.99 174.199 2210.12 174.199 L2206.72 174.199 L2206.72 170.634 L2209.22 170.634 Q2210.98 170.634 2211.95 169.8 Q2212.92 168.967 2214.1 165.865 L2214.86 163.921 L2204.38 138.412 L2208.89 138.412 L2216.99 158.689 L2225.1 138.412 L2229.61 138.412 L2218.22 166.745 Z\" fill=\"#000000\" fill-rule=\"nonzero\" fill-opacity=\"1\" /><path clip-path=\"url(#clip730)\" d=\"M2236.9 160.402 L2244.54 160.402 L2244.54 134.037 L2236.23 135.703 L2236.23 131.444 L2244.49 129.778 L2249.17 129.778 L2249.17 160.402 L2256.81 160.402 L2256.81 164.338 L2236.9 164.338 L2236.9 160.402 Z\" fill=\"#000000\" fill-rule=\"nonzero\" fill-opacity=\"1\" /></svg>\n",
      "text/html": [
       "<?xml version=\"1.0\" encoding=\"utf-8\"?>\n",
       "<svg xmlns=\"http://www.w3.org/2000/svg\" xmlns:xlink=\"http://www.w3.org/1999/xlink\" width=\"600\" height=\"400\" viewBox=\"0 0 2400 1600\">\n",
       "<defs>\n",
       "  <clipPath id=\"clip780\">\n",
       "    <rect x=\"0\" y=\"0\" width=\"2400\" height=\"1600\"/>\n",
       "  </clipPath>\n",
       "</defs>\n",
       "<path clip-path=\"url(#clip780)\" d=\"M0 1600 L2400 1600 L2400 8.88178e-14 L0 8.88178e-14  Z\" fill=\"#ffffff\" fill-rule=\"evenodd\" fill-opacity=\"1\"/>\n",
       "<defs>\n",
       "  <clipPath id=\"clip781\">\n",
       "    <rect x=\"480\" y=\"0\" width=\"1681\" height=\"1600\"/>\n",
       "  </clipPath>\n",
       "</defs>\n",
       "<path clip-path=\"url(#clip780)\" d=\"M193.936 1486.45 L2352.76 1486.45 L2352.76 47.2441 L193.936 47.2441  Z\" fill=\"#ffffff\" fill-rule=\"evenodd\" fill-opacity=\"1\"/>\n",
       "<defs>\n",
       "  <clipPath id=\"clip782\">\n",
       "    <rect x=\"193\" y=\"47\" width=\"2160\" height=\"1440\"/>\n",
       "  </clipPath>\n",
       "</defs>\n",
       "<polyline clip-path=\"url(#clip782)\" style=\"stroke:#000000; stroke-linecap:round; stroke-linejoin:round; stroke-width:2; stroke-opacity:0.1; fill:none\" points=\"509.612,1486.45 509.612,47.2441 \"/>\n",
       "<polyline clip-path=\"url(#clip782)\" style=\"stroke:#000000; stroke-linecap:round; stroke-linejoin:round; stroke-width:2; stroke-opacity:0.1; fill:none\" points=\"891.479,1486.45 891.479,47.2441 \"/>\n",
       "<polyline clip-path=\"url(#clip782)\" style=\"stroke:#000000; stroke-linecap:round; stroke-linejoin:round; stroke-width:2; stroke-opacity:0.1; fill:none\" points=\"1273.35,1486.45 1273.35,47.2441 \"/>\n",
       "<polyline clip-path=\"url(#clip782)\" style=\"stroke:#000000; stroke-linecap:round; stroke-linejoin:round; stroke-width:2; stroke-opacity:0.1; fill:none\" points=\"1655.21,1486.45 1655.21,47.2441 \"/>\n",
       "<polyline clip-path=\"url(#clip782)\" style=\"stroke:#000000; stroke-linecap:round; stroke-linejoin:round; stroke-width:2; stroke-opacity:0.1; fill:none\" points=\"2037.08,1486.45 2037.08,47.2441 \"/>\n",
       "<polyline clip-path=\"url(#clip780)\" style=\"stroke:#000000; stroke-linecap:round; stroke-linejoin:round; stroke-width:4; stroke-opacity:1; fill:none\" points=\"193.936,1486.45 2352.76,1486.45 \"/>\n",
       "<polyline clip-path=\"url(#clip780)\" style=\"stroke:#000000; stroke-linecap:round; stroke-linejoin:round; stroke-width:4; stroke-opacity:1; fill:none\" points=\"509.612,1486.45 509.612,1467.55 \"/>\n",
       "<polyline clip-path=\"url(#clip780)\" style=\"stroke:#000000; stroke-linecap:round; stroke-linejoin:round; stroke-width:4; stroke-opacity:1; fill:none\" points=\"891.479,1486.45 891.479,1467.55 \"/>\n",
       "<polyline clip-path=\"url(#clip780)\" style=\"stroke:#000000; stroke-linecap:round; stroke-linejoin:round; stroke-width:4; stroke-opacity:1; fill:none\" points=\"1273.35,1486.45 1273.35,1467.55 \"/>\n",
       "<polyline clip-path=\"url(#clip780)\" style=\"stroke:#000000; stroke-linecap:round; stroke-linejoin:round; stroke-width:4; stroke-opacity:1; fill:none\" points=\"1655.21,1486.45 1655.21,1467.55 \"/>\n",
       "<polyline clip-path=\"url(#clip780)\" style=\"stroke:#000000; stroke-linecap:round; stroke-linejoin:round; stroke-width:4; stroke-opacity:1; fill:none\" points=\"2037.08,1486.45 2037.08,1467.55 \"/>\n",
       "<path clip-path=\"url(#clip780)\" d=\"M495.018 1529.7 Q491.87 1529.7 490.018 1531.86 Q488.189 1534.01 488.189 1537.76 Q488.189 1541.49 490.018 1543.66 Q491.87 1545.82 495.018 1545.82 Q498.166 1545.82 499.994 1543.66 Q501.846 1541.49 501.846 1537.76 Q501.846 1534.01 499.994 1531.86 Q498.166 1529.7 495.018 1529.7 M504.3 1515.05 L504.3 1519.31 Q502.541 1518.48 500.735 1518.04 Q498.953 1517.6 497.194 1517.6 Q492.564 1517.6 490.11 1520.72 Q487.68 1523.85 487.333 1530.17 Q488.698 1528.15 490.758 1527.09 Q492.819 1526 495.295 1526 Q500.504 1526 503.513 1529.17 Q506.545 1532.32 506.545 1537.76 Q506.545 1543.08 503.397 1546.3 Q500.249 1549.52 495.018 1549.52 Q489.022 1549.52 485.851 1544.94 Q482.68 1540.33 482.68 1531.6 Q482.68 1523.41 486.569 1518.55 Q490.458 1513.66 497.008 1513.66 Q498.768 1513.66 500.55 1514.01 Q502.356 1514.36 504.3 1515.05 Z\" fill=\"#000000\" fill-rule=\"nonzero\" fill-opacity=\"1\" /><path clip-path=\"url(#clip780)\" d=\"M524.601 1517.37 Q520.99 1517.37 519.161 1520.93 Q517.356 1524.47 517.356 1531.6 Q517.356 1538.71 519.161 1542.27 Q520.99 1545.82 524.601 1545.82 Q528.235 1545.82 530.041 1542.27 Q531.869 1538.71 531.869 1531.6 Q531.869 1524.47 530.041 1520.93 Q528.235 1517.37 524.601 1517.37 M524.601 1513.66 Q530.411 1513.66 533.467 1518.27 Q536.545 1522.85 536.545 1531.6 Q536.545 1540.33 533.467 1544.94 Q530.411 1549.52 524.601 1549.52 Q518.791 1549.52 515.712 1544.94 Q512.656 1540.33 512.656 1531.6 Q512.656 1522.85 515.712 1518.27 Q518.791 1513.66 524.601 1513.66 Z\" fill=\"#000000\" fill-rule=\"nonzero\" fill-opacity=\"1\" /><path clip-path=\"url(#clip780)\" d=\"M866.607 1548.13 L866.607 1543.87 Q868.366 1544.7 870.171 1545.14 Q871.977 1545.58 873.713 1545.58 Q878.343 1545.58 880.773 1542.48 Q883.227 1539.36 883.574 1533.01 Q882.232 1535.01 880.171 1536.07 Q878.111 1537.13 875.611 1537.13 Q870.426 1537.13 867.394 1534.01 Q864.384 1530.86 864.384 1525.42 Q864.384 1520.1 867.533 1516.88 Q870.681 1513.66 875.912 1513.66 Q881.908 1513.66 885.056 1518.27 Q888.227 1522.85 888.227 1531.6 Q888.227 1539.77 884.338 1544.66 Q880.472 1549.52 873.921 1549.52 Q872.162 1549.52 870.357 1549.17 Q868.551 1548.82 866.607 1548.13 M875.912 1533.48 Q879.06 1533.48 880.889 1531.32 Q882.741 1529.17 882.741 1525.42 Q882.741 1521.7 880.889 1519.54 Q879.06 1517.37 875.912 1517.37 Q872.764 1517.37 870.912 1519.54 Q869.084 1521.7 869.084 1525.42 Q869.084 1529.17 870.912 1531.32 Q872.764 1533.48 875.912 1533.48 Z\" fill=\"#000000\" fill-rule=\"nonzero\" fill-opacity=\"1\" /><path clip-path=\"url(#clip780)\" d=\"M906.63 1517.37 Q903.019 1517.37 901.19 1520.93 Q899.384 1524.47 899.384 1531.6 Q899.384 1538.71 901.19 1542.27 Q903.019 1545.82 906.63 1545.82 Q910.264 1545.82 912.069 1542.27 Q913.898 1538.71 913.898 1531.6 Q913.898 1524.47 912.069 1520.93 Q910.264 1517.37 906.63 1517.37 M906.63 1513.66 Q912.44 1513.66 915.495 1518.27 Q918.574 1522.85 918.574 1531.6 Q918.574 1540.33 915.495 1544.94 Q912.44 1549.52 906.63 1549.52 Q900.819 1549.52 897.741 1544.94 Q894.685 1540.33 894.685 1531.6 Q894.685 1522.85 897.741 1518.27 Q900.819 1513.66 906.63 1513.66 Z\" fill=\"#000000\" fill-rule=\"nonzero\" fill-opacity=\"1\" /><path clip-path=\"url(#clip780)\" d=\"M1232.95 1544.91 L1240.59 1544.91 L1240.59 1518.55 L1232.28 1520.21 L1232.28 1515.95 L1240.55 1514.29 L1245.22 1514.29 L1245.22 1544.91 L1252.86 1544.91 L1252.86 1548.85 L1232.95 1548.85 L1232.95 1544.91 Z\" fill=\"#000000\" fill-rule=\"nonzero\" fill-opacity=\"1\" /><path clip-path=\"url(#clip780)\" d=\"M1266.33 1544.91 L1282.65 1544.91 L1282.65 1548.85 L1260.71 1548.85 L1260.71 1544.91 Q1263.37 1542.16 1267.95 1537.53 Q1272.56 1532.88 1273.74 1531.53 Q1275.98 1529.01 1276.86 1527.27 Q1277.77 1525.51 1277.77 1523.82 Q1277.77 1521.07 1275.82 1519.33 Q1273.9 1517.6 1270.8 1517.6 Q1268.6 1517.6 1266.15 1518.36 Q1263.72 1519.13 1260.94 1520.68 L1260.94 1515.95 Q1263.76 1514.82 1266.22 1514.24 Q1268.67 1513.66 1270.71 1513.66 Q1276.08 1513.66 1279.27 1516.35 Q1282.47 1519.03 1282.47 1523.52 Q1282.47 1525.65 1281.66 1527.57 Q1280.87 1529.47 1278.76 1532.07 Q1278.18 1532.74 1275.08 1535.95 Q1271.98 1539.15 1266.33 1544.91 Z\" fill=\"#000000\" fill-rule=\"nonzero\" fill-opacity=\"1\" /><path clip-path=\"url(#clip780)\" d=\"M1302.47 1517.37 Q1298.86 1517.37 1297.03 1520.93 Q1295.22 1524.47 1295.22 1531.6 Q1295.22 1538.71 1297.03 1542.27 Q1298.86 1545.82 1302.47 1545.82 Q1306.1 1545.82 1307.91 1542.27 Q1309.73 1538.71 1309.73 1531.6 Q1309.73 1524.47 1307.91 1520.93 Q1306.1 1517.37 1302.47 1517.37 M1302.47 1513.66 Q1308.28 1513.66 1311.33 1518.27 Q1314.41 1522.85 1314.41 1531.6 Q1314.41 1540.33 1311.33 1544.94 Q1308.28 1549.52 1302.47 1549.52 Q1296.66 1549.52 1293.58 1544.94 Q1290.52 1540.33 1290.52 1531.6 Q1290.52 1522.85 1293.58 1518.27 Q1296.66 1513.66 1302.47 1513.66 Z\" fill=\"#000000\" fill-rule=\"nonzero\" fill-opacity=\"1\" /><path clip-path=\"url(#clip780)\" d=\"M1614.82 1544.91 L1622.46 1544.91 L1622.46 1518.55 L1614.15 1520.21 L1614.15 1515.95 L1622.41 1514.29 L1627.09 1514.29 L1627.09 1544.91 L1634.73 1544.91 L1634.73 1548.85 L1614.82 1548.85 L1614.82 1544.91 Z\" fill=\"#000000\" fill-rule=\"nonzero\" fill-opacity=\"1\" /><path clip-path=\"url(#clip780)\" d=\"M1644.22 1514.29 L1662.57 1514.29 L1662.57 1518.22 L1648.5 1518.22 L1648.5 1526.7 Q1649.52 1526.35 1650.54 1526.19 Q1651.56 1526 1652.57 1526 Q1658.36 1526 1661.74 1529.17 Q1665.12 1532.34 1665.12 1537.76 Q1665.12 1543.34 1661.65 1546.44 Q1658.18 1549.52 1651.86 1549.52 Q1649.68 1549.52 1647.41 1549.15 Q1645.17 1548.78 1642.76 1548.04 L1642.76 1543.34 Q1644.84 1544.47 1647.06 1545.03 Q1649.29 1545.58 1651.76 1545.58 Q1655.77 1545.58 1658.11 1543.48 Q1660.44 1541.37 1660.44 1537.76 Q1660.44 1534.15 1658.11 1532.04 Q1655.77 1529.94 1651.76 1529.94 Q1649.89 1529.94 1648.01 1530.35 Q1646.16 1530.77 1644.22 1531.65 L1644.22 1514.29 Z\" fill=\"#000000\" fill-rule=\"nonzero\" fill-opacity=\"1\" /><path clip-path=\"url(#clip780)\" d=\"M1684.33 1517.37 Q1680.72 1517.37 1678.89 1520.93 Q1677.09 1524.47 1677.09 1531.6 Q1677.09 1538.71 1678.89 1542.27 Q1680.72 1545.82 1684.33 1545.82 Q1687.97 1545.82 1689.77 1542.27 Q1691.6 1538.71 1691.6 1531.6 Q1691.6 1524.47 1689.77 1520.93 Q1687.97 1517.37 1684.33 1517.37 M1684.33 1513.66 Q1690.14 1513.66 1693.2 1518.27 Q1696.28 1522.85 1696.28 1531.6 Q1696.28 1540.33 1693.2 1544.94 Q1690.14 1549.52 1684.33 1549.52 Q1678.52 1549.52 1675.44 1544.94 Q1672.39 1540.33 1672.39 1531.6 Q1672.39 1522.85 1675.44 1518.27 Q1678.52 1513.66 1684.33 1513.66 Z\" fill=\"#000000\" fill-rule=\"nonzero\" fill-opacity=\"1\" /><path clip-path=\"url(#clip780)\" d=\"M1996.69 1544.91 L2004.32 1544.91 L2004.32 1518.55 L1996.01 1520.21 L1996.01 1515.95 L2004.28 1514.29 L2008.95 1514.29 L2008.95 1544.91 L2016.59 1544.91 L2016.59 1548.85 L1996.69 1548.85 L1996.69 1544.91 Z\" fill=\"#000000\" fill-rule=\"nonzero\" fill-opacity=\"1\" /><path clip-path=\"url(#clip780)\" d=\"M2036.04 1532.44 Q2032.7 1532.44 2030.78 1534.22 Q2028.89 1536 2028.89 1539.13 Q2028.89 1542.25 2030.78 1544.03 Q2032.7 1545.82 2036.04 1545.82 Q2039.37 1545.82 2041.29 1544.03 Q2043.21 1542.23 2043.21 1539.13 Q2043.21 1536 2041.29 1534.22 Q2039.39 1532.44 2036.04 1532.44 M2031.36 1530.45 Q2028.35 1529.7 2026.66 1527.64 Q2025 1525.58 2025 1522.62 Q2025 1518.48 2027.94 1516.07 Q2030.9 1513.66 2036.04 1513.66 Q2041.2 1513.66 2044.14 1516.07 Q2047.08 1518.48 2047.08 1522.62 Q2047.08 1525.58 2045.39 1527.64 Q2043.72 1529.7 2040.74 1530.45 Q2044.12 1531.23 2045.99 1533.52 Q2047.89 1535.82 2047.89 1539.13 Q2047.89 1544.15 2044.81 1546.83 Q2041.76 1549.52 2036.04 1549.52 Q2030.32 1549.52 2027.24 1546.83 Q2024.19 1544.15 2024.19 1539.13 Q2024.19 1535.82 2026.08 1533.52 Q2027.98 1531.23 2031.36 1530.45 M2029.65 1523.06 Q2029.65 1525.75 2031.32 1527.25 Q2033.01 1528.76 2036.04 1528.76 Q2039.05 1528.76 2040.74 1527.25 Q2042.45 1525.75 2042.45 1523.06 Q2042.45 1520.38 2040.74 1518.87 Q2039.05 1517.37 2036.04 1517.37 Q2033.01 1517.37 2031.32 1518.87 Q2029.65 1520.38 2029.65 1523.06 Z\" fill=\"#000000\" fill-rule=\"nonzero\" fill-opacity=\"1\" /><path clip-path=\"url(#clip780)\" d=\"M2066.2 1517.37 Q2062.59 1517.37 2060.76 1520.93 Q2058.95 1524.47 2058.95 1531.6 Q2058.95 1538.71 2060.76 1542.27 Q2062.59 1545.82 2066.2 1545.82 Q2069.83 1545.82 2071.64 1542.27 Q2073.47 1538.71 2073.47 1531.6 Q2073.47 1524.47 2071.64 1520.93 Q2069.83 1517.37 2066.2 1517.37 M2066.2 1513.66 Q2072.01 1513.66 2075.07 1518.27 Q2078.14 1522.85 2078.14 1531.6 Q2078.14 1540.33 2075.07 1544.94 Q2072.01 1549.52 2066.2 1549.52 Q2060.39 1549.52 2057.31 1544.94 Q2054.26 1540.33 2054.26 1531.6 Q2054.26 1522.85 2057.31 1518.27 Q2060.39 1513.66 2066.2 1513.66 Z\" fill=\"#000000\" fill-rule=\"nonzero\" fill-opacity=\"1\" /><polyline clip-path=\"url(#clip782)\" style=\"stroke:#000000; stroke-linecap:round; stroke-linejoin:round; stroke-width:2; stroke-opacity:0.1; fill:none\" points=\"193.936,1486.45 2352.76,1486.45 \"/>\n",
       "<polyline clip-path=\"url(#clip782)\" style=\"stroke:#000000; stroke-linecap:round; stroke-linejoin:round; stroke-width:2; stroke-opacity:0.1; fill:none\" points=\"193.936,1126.65 2352.76,1126.65 \"/>\n",
       "<polyline clip-path=\"url(#clip782)\" style=\"stroke:#000000; stroke-linecap:round; stroke-linejoin:round; stroke-width:2; stroke-opacity:0.1; fill:none\" points=\"193.936,766.846 2352.76,766.846 \"/>\n",
       "<polyline clip-path=\"url(#clip782)\" style=\"stroke:#000000; stroke-linecap:round; stroke-linejoin:round; stroke-width:2; stroke-opacity:0.1; fill:none\" points=\"193.936,407.045 2352.76,407.045 \"/>\n",
       "<polyline clip-path=\"url(#clip782)\" style=\"stroke:#000000; stroke-linecap:round; stroke-linejoin:round; stroke-width:2; stroke-opacity:0.1; fill:none\" points=\"193.936,47.2441 2352.76,47.2441 \"/>\n",
       "<polyline clip-path=\"url(#clip780)\" style=\"stroke:#000000; stroke-linecap:round; stroke-linejoin:round; stroke-width:4; stroke-opacity:1; fill:none\" points=\"193.936,1486.45 193.936,47.2441 \"/>\n",
       "<polyline clip-path=\"url(#clip780)\" style=\"stroke:#000000; stroke-linecap:round; stroke-linejoin:round; stroke-width:4; stroke-opacity:1; fill:none\" points=\"193.936,1486.45 212.834,1486.45 \"/>\n",
       "<polyline clip-path=\"url(#clip780)\" style=\"stroke:#000000; stroke-linecap:round; stroke-linejoin:round; stroke-width:4; stroke-opacity:1; fill:none\" points=\"193.936,1126.65 212.834,1126.65 \"/>\n",
       "<polyline clip-path=\"url(#clip780)\" style=\"stroke:#000000; stroke-linecap:round; stroke-linejoin:round; stroke-width:4; stroke-opacity:1; fill:none\" points=\"193.936,766.846 212.834,766.846 \"/>\n",
       "<polyline clip-path=\"url(#clip780)\" style=\"stroke:#000000; stroke-linecap:round; stroke-linejoin:round; stroke-width:4; stroke-opacity:1; fill:none\" points=\"193.936,407.045 212.834,407.045 \"/>\n",
       "<polyline clip-path=\"url(#clip780)\" style=\"stroke:#000000; stroke-linecap:round; stroke-linejoin:round; stroke-width:4; stroke-opacity:1; fill:none\" points=\"193.936,47.2441 212.834,47.2441 \"/>\n",
       "<path clip-path=\"url(#clip780)\" d=\"M50.9921 1486.9 L80.6679 1486.9 L80.6679 1490.83 L50.9921 1490.83 L50.9921 1486.9 Z\" fill=\"#000000\" fill-rule=\"nonzero\" fill-opacity=\"1\" /><path clip-path=\"url(#clip780)\" d=\"M91.5706 1499.79 L99.2095 1499.79 L99.2095 1473.43 L90.8993 1475.09 L90.8993 1470.83 L99.1632 1469.17 L103.839 1469.17 L103.839 1499.79 L111.478 1499.79 L111.478 1503.73 L91.5706 1503.73 L91.5706 1499.79 Z\" fill=\"#000000\" fill-rule=\"nonzero\" fill-opacity=\"1\" /><path clip-path=\"url(#clip780)\" d=\"M120.922 1497.85 L125.807 1497.85 L125.807 1503.73 L120.922 1503.73 L120.922 1497.85 Z\" fill=\"#000000\" fill-rule=\"nonzero\" fill-opacity=\"1\" /><path clip-path=\"url(#clip780)\" d=\"M145.992 1472.25 Q142.381 1472.25 140.552 1475.81 Q138.746 1479.35 138.746 1486.48 Q138.746 1493.59 140.552 1497.15 Q142.381 1500.7 145.992 1500.7 Q149.626 1500.7 151.431 1497.15 Q153.26 1493.59 153.26 1486.48 Q153.26 1479.35 151.431 1475.81 Q149.626 1472.25 145.992 1472.25 M145.992 1468.54 Q151.802 1468.54 154.857 1473.15 Q157.936 1477.73 157.936 1486.48 Q157.936 1495.21 154.857 1499.82 Q151.802 1504.4 145.992 1504.4 Q140.181 1504.4 137.103 1499.82 Q134.047 1495.21 134.047 1486.48 Q134.047 1477.73 137.103 1473.15 Q140.181 1468.54 145.992 1468.54 Z\" fill=\"#000000\" fill-rule=\"nonzero\" fill-opacity=\"1\" /><path clip-path=\"url(#clip780)\" d=\"M51.9875 1127.1 L81.6633 1127.1 L81.6633 1131.03 L51.9875 1131.03 L51.9875 1127.1 Z\" fill=\"#000000\" fill-rule=\"nonzero\" fill-opacity=\"1\" /><path clip-path=\"url(#clip780)\" d=\"M101.756 1112.45 Q98.1447 1112.45 96.316 1116.01 Q94.5104 1119.55 94.5104 1126.68 Q94.5104 1133.79 96.316 1137.35 Q98.1447 1140.89 101.756 1140.89 Q105.39 1140.89 107.196 1137.35 Q109.024 1133.79 109.024 1126.68 Q109.024 1119.55 107.196 1116.01 Q105.39 1112.45 101.756 1112.45 M101.756 1108.74 Q107.566 1108.74 110.621 1113.35 Q113.7 1117.93 113.7 1126.68 Q113.7 1135.41 110.621 1140.01 Q107.566 1144.6 101.756 1144.6 Q95.9456 1144.6 92.8669 1140.01 Q89.8114 1135.41 89.8114 1126.68 Q89.8114 1117.93 92.8669 1113.35 Q95.9456 1108.74 101.756 1108.74 Z\" fill=\"#000000\" fill-rule=\"nonzero\" fill-opacity=\"1\" /><path clip-path=\"url(#clip780)\" d=\"M121.918 1138.05 L126.802 1138.05 L126.802 1143.93 L121.918 1143.93 L121.918 1138.05 Z\" fill=\"#000000\" fill-rule=\"nonzero\" fill-opacity=\"1\" /><path clip-path=\"url(#clip780)\" d=\"M137.033 1109.37 L155.39 1109.37 L155.39 1113.3 L141.316 1113.3 L141.316 1121.77 Q142.334 1121.43 143.353 1121.27 Q144.371 1121.08 145.39 1121.08 Q151.177 1121.08 154.556 1124.25 Q157.936 1127.42 157.936 1132.84 Q157.936 1138.42 154.464 1141.52 Q150.992 1144.6 144.672 1144.6 Q142.496 1144.6 140.228 1144.23 Q137.982 1143.86 135.575 1143.12 L135.575 1138.42 Q137.658 1139.55 139.881 1140.11 Q142.103 1140.66 144.58 1140.66 Q148.584 1140.66 150.922 1138.56 Q153.26 1136.45 153.26 1132.84 Q153.26 1129.23 150.922 1127.12 Q148.584 1125.01 144.58 1125.01 Q142.705 1125.01 140.83 1125.43 Q138.978 1125.85 137.033 1126.73 L137.033 1109.37 Z\" fill=\"#000000\" fill-rule=\"nonzero\" fill-opacity=\"1\" /><path clip-path=\"url(#clip780)\" d=\"M100.76 752.645 Q97.1493 752.645 95.3206 756.209 Q93.515 759.751 93.515 766.881 Q93.515 773.987 95.3206 777.552 Q97.1493 781.094 100.76 781.094 Q104.395 781.094 106.2 777.552 Q108.029 773.987 108.029 766.881 Q108.029 759.751 106.2 756.209 Q104.395 752.645 100.76 752.645 M100.76 748.941 Q106.571 748.941 109.626 753.547 Q112.705 758.131 112.705 766.881 Q112.705 775.608 109.626 780.214 Q106.571 784.797 100.76 784.797 Q94.9502 784.797 91.8715 780.214 Q88.816 775.608 88.816 766.881 Q88.816 758.131 91.8715 753.547 Q94.9502 748.941 100.76 748.941 Z\" fill=\"#000000\" fill-rule=\"nonzero\" fill-opacity=\"1\" /><path clip-path=\"url(#clip780)\" d=\"M120.922 778.246 L125.807 778.246 L125.807 784.126 L120.922 784.126 L120.922 778.246 Z\" fill=\"#000000\" fill-rule=\"nonzero\" fill-opacity=\"1\" /><path clip-path=\"url(#clip780)\" d=\"M145.992 752.645 Q142.381 752.645 140.552 756.209 Q138.746 759.751 138.746 766.881 Q138.746 773.987 140.552 777.552 Q142.381 781.094 145.992 781.094 Q149.626 781.094 151.431 777.552 Q153.26 773.987 153.26 766.881 Q153.26 759.751 151.431 756.209 Q149.626 752.645 145.992 752.645 M145.992 748.941 Q151.802 748.941 154.857 753.547 Q157.936 758.131 157.936 766.881 Q157.936 775.608 154.857 780.214 Q151.802 784.797 145.992 784.797 Q140.181 784.797 137.103 780.214 Q134.047 775.608 134.047 766.881 Q134.047 758.131 137.103 753.547 Q140.181 748.941 145.992 748.941 Z\" fill=\"#000000\" fill-rule=\"nonzero\" fill-opacity=\"1\" /><path clip-path=\"url(#clip780)\" d=\"M101.756 392.844 Q98.1447 392.844 96.316 396.409 Q94.5104 399.95 94.5104 407.08 Q94.5104 414.186 96.316 417.751 Q98.1447 421.293 101.756 421.293 Q105.39 421.293 107.196 417.751 Q109.024 414.186 109.024 407.08 Q109.024 399.95 107.196 396.409 Q105.39 392.844 101.756 392.844 M101.756 389.14 Q107.566 389.14 110.621 393.746 Q113.7 398.33 113.7 407.08 Q113.7 415.807 110.621 420.413 Q107.566 424.996 101.756 424.996 Q95.9456 424.996 92.8669 420.413 Q89.8114 415.807 89.8114 407.08 Q89.8114 398.33 92.8669 393.746 Q95.9456 389.14 101.756 389.14 Z\" fill=\"#000000\" fill-rule=\"nonzero\" fill-opacity=\"1\" /><path clip-path=\"url(#clip780)\" d=\"M121.918 418.445 L126.802 418.445 L126.802 424.325 L121.918 424.325 L121.918 418.445 Z\" fill=\"#000000\" fill-rule=\"nonzero\" fill-opacity=\"1\" /><path clip-path=\"url(#clip780)\" d=\"M137.033 389.765 L155.39 389.765 L155.39 393.7 L141.316 393.7 L141.316 402.172 Q142.334 401.825 143.353 401.663 Q144.371 401.478 145.39 401.478 Q151.177 401.478 154.556 404.649 Q157.936 407.82 157.936 413.237 Q157.936 418.816 154.464 421.918 Q150.992 424.996 144.672 424.996 Q142.496 424.996 140.228 424.626 Q137.982 424.256 135.575 423.515 L135.575 418.816 Q137.658 419.95 139.881 420.506 Q142.103 421.061 144.58 421.061 Q148.584 421.061 150.922 418.955 Q153.26 416.848 153.26 413.237 Q153.26 409.626 150.922 407.52 Q148.584 405.413 144.58 405.413 Q142.705 405.413 140.83 405.83 Q138.978 406.246 137.033 407.126 L137.033 389.765 Z\" fill=\"#000000\" fill-rule=\"nonzero\" fill-opacity=\"1\" /><path clip-path=\"url(#clip780)\" d=\"M91.5706 60.5889 L99.2095 60.5889 L99.2095 34.2233 L90.8993 35.89 L90.8993 31.6308 L99.1632 29.9641 L103.839 29.9641 L103.839 60.5889 L111.478 60.5889 L111.478 64.5241 L91.5706 64.5241 L91.5706 60.5889 Z\" fill=\"#000000\" fill-rule=\"nonzero\" fill-opacity=\"1\" /><path clip-path=\"url(#clip780)\" d=\"M120.922 58.6445 L125.807 58.6445 L125.807 64.5241 L120.922 64.5241 L120.922 58.6445 Z\" fill=\"#000000\" fill-rule=\"nonzero\" fill-opacity=\"1\" /><path clip-path=\"url(#clip780)\" d=\"M145.992 33.0428 Q142.381 33.0428 140.552 36.6076 Q138.746 40.1492 138.746 47.2788 Q138.746 54.3853 140.552 57.9501 Q142.381 61.4917 145.992 61.4917 Q149.626 61.4917 151.431 57.9501 Q153.26 54.3853 153.26 47.2788 Q153.26 40.1492 151.431 36.6076 Q149.626 33.0428 145.992 33.0428 M145.992 29.3391 Q151.802 29.3391 154.857 33.9456 Q157.936 38.5289 157.936 47.2788 Q157.936 56.0056 154.857 60.6121 Q151.802 65.1954 145.992 65.1954 Q140.181 65.1954 137.103 60.6121 Q134.047 56.0056 134.047 47.2788 Q134.047 38.5289 137.103 33.9456 Q140.181 29.3391 145.992 29.3391 Z\" fill=\"#000000\" fill-rule=\"nonzero\" fill-opacity=\"1\" /><polyline clip-path=\"url(#clip782)\" style=\"stroke:#009af9; stroke-linecap:round; stroke-linejoin:round; stroke-width:4; stroke-opacity:1; fill:none\" points=\"255.035,766.846 764.19,766.846 1018.77,766.846 2291.66,766.846 \"/>\n",
       "<path clip-path=\"url(#clip780)\" d=\"M2012.48 198.898 L2280.8 198.898 L2280.8 95.2176 L2012.48 95.2176  Z\" fill=\"#ffffff\" fill-rule=\"evenodd\" fill-opacity=\"1\"/>\n",
       "<polyline clip-path=\"url(#clip780)\" style=\"stroke:#000000; stroke-linecap:round; stroke-linejoin:round; stroke-width:4; stroke-opacity:1; fill:none\" points=\"2012.48,198.898 2280.8,198.898 2280.8,95.2176 2012.48,95.2176 2012.48,198.898 \"/>\n",
       "<polyline clip-path=\"url(#clip780)\" style=\"stroke:#009af9; stroke-linecap:round; stroke-linejoin:round; stroke-width:4; stroke-opacity:1; fill:none\" points=\"2036.47,147.058 2180.39,147.058 \"/>\n",
       "<path clip-path=\"url(#clip780)\" d=\"M2218.22 166.745 Q2216.42 171.375 2214.7 172.787 Q2212.99 174.199 2210.12 174.199 L2206.72 174.199 L2206.72 170.634 L2209.22 170.634 Q2210.98 170.634 2211.95 169.8 Q2212.92 168.967 2214.1 165.865 L2214.86 163.921 L2204.38 138.412 L2208.89 138.412 L2216.99 158.689 L2225.1 138.412 L2229.61 138.412 L2218.22 166.745 Z\" fill=\"#000000\" fill-rule=\"nonzero\" fill-opacity=\"1\" /><path clip-path=\"url(#clip780)\" d=\"M2236.9 160.402 L2244.54 160.402 L2244.54 134.037 L2236.23 135.703 L2236.23 131.444 L2244.49 129.778 L2249.17 129.778 L2249.17 160.402 L2256.81 160.402 L2256.81 164.338 L2236.9 164.338 L2236.9 160.402 Z\" fill=\"#000000\" fill-rule=\"nonzero\" fill-opacity=\"1\" /></svg>\n"
      ]
     },
     "execution_count": 34,
     "metadata": {},
     "output_type": "execute_result"
    }
   ],
   "source": [
    "plot(Ns, SvN, ylims = (-1,1))"
   ]
  },
  {
   "cell_type": "markdown",
   "metadata": {},
   "source": [
    " ### Paramagnetic phase"
   ]
  },
  {
   "cell_type": "code",
   "execution_count": 39,
   "metadata": {
    "scrolled": false
   },
   "outputs": [
    {
     "name": "stdout",
     "output_type": "stream",
     "text": [
      "After sweep 1 energy=-800.2462163132693  maxlinkdim=20 maxerr=8.47E-09 time=0.092\n",
      "After sweep 2 energy=-800.4916766892834  maxlinkdim=20 maxerr=3.01E-10 time=0.094\n",
      "After sweep 3 energy=-800.4937995344055  maxlinkdim=20 maxerr=1.60E-12 time=0.092\n",
      "After sweep 4 energy=-800.4938249413813  maxlinkdim=20 maxerr=9.68E-14 time=0.067\n",
      "After sweep 5 energy=-800.4938252401039  maxlinkdim=18 maxerr=2.08E-16 time=0.043\n",
      "After sweep 6 energy=-800.4938252411487  maxlinkdim=4 maxerr=9.87E-17 time=0.033\n",
      "After sweep 7 energy=-800.4938252411447  maxlinkdim=4 maxerr=9.77E-20 time=0.031\n",
      "After sweep 8 energy=-800.493825241146  maxlinkdim=4 maxerr=9.34E-20 time=0.031\n",
      "After sweep 9 energy=-800.4938252411429  maxlinkdim=4 maxerr=9.34E-20 time=0.031\n",
      "After sweep 10 energy=-800.4938252411454  maxlinkdim=4 maxerr=9.34E-20 time=0.031\n",
      "After sweep 11 energy=-800.4938252411439  maxlinkdim=4 maxerr=9.34E-20 time=0.032\n",
      "After sweep 12 energy=-800.4938252411451  maxlinkdim=4 maxerr=9.34E-20 time=0.032\n",
      "After sweep 13 energy=-800.4938252411444  maxlinkdim=4 maxerr=9.34E-20 time=0.030\n",
      "After sweep 14 energy=-800.4938252411438  maxlinkdim=4 maxerr=9.34E-20 time=0.030\n",
      "After sweep 15 energy=-800.4938252411438  maxlinkdim=4 maxerr=9.34E-20 time=0.030\n",
      "After sweep 16 energy=-800.4938252411434  maxlinkdim=4 maxerr=9.34E-20 time=0.030\n",
      "After sweep 17 energy=-800.4938252411441  maxlinkdim=4 maxerr=9.34E-20 time=0.032\n",
      "After sweep 18 energy=-800.4938252411439  maxlinkdim=4 maxerr=9.34E-20 time=0.031\n",
      "After sweep 19 energy=-800.4938252411425  maxlinkdim=4 maxerr=9.34E-20 time=0.032\n",
      "After sweep 20 energy=-800.4938252411448  maxlinkdim=4 maxerr=9.34E-20 time=0.033\n"
     ]
    }
   ],
   "source": [
    "N = 80\n",
    "h = 20.\n",
    "swp_num = 20\n",
    "maxM = 20\n",
    "energy, psi = TFIM_DMRG(N, h, swp_num, maxM);"
   ]
  },
  {
   "cell_type": "code",
   "execution_count": 40,
   "metadata": {
    "scrolled": false
   },
   "outputs": [
    {
     "data": {
      "text/plain": [
       "80-element Vector{Float64}:\n",
       " 0.49984370113368637\n",
       " 0.49968747554010245\n",
       " 0.4996873535232031\n",
       " 0.49968735336308434\n",
       " 0.49968735336282927\n",
       " 0.49968735336282893\n",
       " 0.4996873533628292\n",
       " 0.4996873533628295\n",
       " 0.49968735336282966\n",
       " 0.4996873533628298\n",
       " 0.49968735336283\n",
       " 0.4996873533628302\n",
       " 0.49968735336283043\n",
       " ⋮\n",
       " 0.49968735336284126\n",
       " 0.4996873533628414\n",
       " 0.49968735336284176\n",
       " 0.4996873533628419\n",
       " 0.49968735336284215\n",
       " 0.49968735336284237\n",
       " 0.49968735336284253\n",
       " 0.4996873533628433\n",
       " 0.4996873533630991\n",
       " 0.4996873535232186\n",
       " 0.49968747554011844\n",
       " 0.4998437011337019"
      ]
     },
     "execution_count": 40,
     "metadata": {},
     "output_type": "execute_result"
    }
   ],
   "source": [
    "X = expect(psi, \"Sx\") # compute for all sites"
   ]
  },
  {
   "cell_type": "code",
   "execution_count": 41,
   "metadata": {},
   "outputs": [
    {
     "name": "stdout",
     "output_type": "stream",
     "text": [
      "DMRG for N=40\n",
      "After sweep 1 energy=-42.44403216442172  maxlinkdim=20 maxerr=1.60E-08 time=0.052\n",
      "After sweep 2 energy=-42.475936156159186  maxlinkdim=20 maxerr=5.39E-10 time=0.043\n",
      "After sweep 3 energy=-42.4759917601757  maxlinkdim=20 maxerr=2.04E-12 time=0.046\n",
      "After sweep 4 energy=-42.47599185658167  maxlinkdim=20 maxerr=1.41E-14 time=0.039\n",
      "After sweep 5 energy=-42.47599185660251  maxlinkdim=11 maxerr=9.83E-17 time=0.026\n",
      "After sweep 6 energy=-42.475991856602654  maxlinkdim=11 maxerr=6.17E-17 time=0.023\n",
      "After sweep 7 energy=-42.47599185660264  maxlinkdim=11 maxerr=6.17E-17 time=0.023\n",
      "After sweep 8 energy=-42.47599185660267  maxlinkdim=11 maxerr=6.17E-17 time=0.019\n",
      "After sweep 9 energy=-42.475991856602676  maxlinkdim=11 maxerr=6.17E-17 time=0.023\n",
      "After sweep 10 energy=-42.47599185660265  maxlinkdim=11 maxerr=6.17E-17 time=0.023\n",
      "After sweep 11 energy=-42.47599185660265  maxlinkdim=11 maxerr=6.17E-17 time=0.019\n",
      "After sweep 12 energy=-42.475991856602576  maxlinkdim=11 maxerr=6.17E-17 time=0.023\n",
      "After sweep 13 energy=-42.47599185660257  maxlinkdim=11 maxerr=6.17E-17 time=0.023\n",
      "After sweep 14 energy=-42.47599185660263  maxlinkdim=11 maxerr=6.17E-17 time=0.020\n",
      "After sweep 15 energy=-42.47599185660265  maxlinkdim=11 maxerr=6.17E-17 time=0.022\n",
      "After sweep 16 energy=-42.47599185660263  maxlinkdim=11 maxerr=6.17E-17 time=0.023\n",
      "After sweep 17 energy=-42.47599185660265  maxlinkdim=11 maxerr=6.17E-17 time=0.022\n",
      "After sweep 18 energy=-42.4759918566026  maxlinkdim=11 maxerr=6.17E-17 time=0.019\n",
      "After sweep 19 energy=-42.47599185660254  maxlinkdim=11 maxerr=6.17E-17 time=0.022\n",
      "After sweep 20 energy=-42.47599185660266  maxlinkdim=11 maxerr=6.17E-17 time=0.023\n",
      "DMRG for N=80\n",
      "After sweep 1 energy=-84.9411487466893  maxlinkdim=20 maxerr=5.94E-08 time=0.071\n",
      "After sweep 2 energy=-85.01580032715759  maxlinkdim=20 maxerr=1.63E-09 time=0.101\n",
      "After sweep 3 energy=-85.01770395699748  maxlinkdim=20 maxerr=5.19E-11 time=0.096\n",
      "After sweep 4 energy=-85.01776578039113  maxlinkdim=20 maxerr=3.04E-12 time=0.082\n",
      "After sweep 5 energy=-85.01776820449899  maxlinkdim=20 maxerr=2.37E-14 time=0.083\n",
      "After sweep 6 energy=-85.01776825531468  maxlinkdim=20 maxerr=4.35E-15 time=0.074\n",
      "After sweep 7 energy=-85.0177682555378  maxlinkdim=13 maxerr=9.92E-17 time=0.050\n",
      "After sweep 8 energy=-85.01776825553995  maxlinkdim=11 maxerr=6.17E-17 time=0.049\n",
      "After sweep 9 energy=-85.01776825554053  maxlinkdim=11 maxerr=6.17E-17 time=0.046\n",
      "After sweep 10 energy=-85.01776825554059  maxlinkdim=11 maxerr=6.17E-17 time=0.048\n",
      "After sweep 11 energy=-85.01776825554008  maxlinkdim=11 maxerr=6.17E-17 time=0.043\n",
      "After sweep 12 energy=-85.01776825554046  maxlinkdim=11 maxerr=6.17E-17 time=0.045\n",
      "After sweep 13 energy=-85.01776825554026  maxlinkdim=11 maxerr=6.17E-17 time=0.042\n",
      "After sweep 14 energy=-85.01776825554035  maxlinkdim=11 maxerr=6.17E-17 time=0.042\n",
      "After sweep 15 energy=-85.01776825554037  maxlinkdim=11 maxerr=6.17E-17 time=0.045\n",
      "After sweep 16 energy=-85.01776825554003  maxlinkdim=11 maxerr=6.17E-17 time=0.043\n",
      "After sweep 17 energy=-85.01776825553974  maxlinkdim=11 maxerr=6.17E-17 time=0.045\n",
      "After sweep 18 energy=-85.01776825554019  maxlinkdim=11 maxerr=6.17E-17 time=0.042\n",
      "After sweep 19 energy=-85.01776825554046  maxlinkdim=11 maxerr=6.17E-17 time=0.046\n",
      "After sweep 20 energy=-85.01776825554055  maxlinkdim=11 maxerr=6.17E-17 time=0.042\n",
      "DMRG for N=100\n",
      "After sweep 1 energy=-106.19815218904576  maxlinkdim=20 maxerr=6.78E-08 time=0.091\n",
      "After sweep 2 energy=-106.28386801613166  maxlinkdim=20 maxerr=3.64E-10 time=0.118\n",
      "After sweep 3 energy=-106.28827418901369  maxlinkdim=20 maxerr=4.28E-11 time=0.127\n",
      "After sweep 4 energy=-106.28862282501053  maxlinkdim=20 maxerr=4.69E-12 time=0.111\n",
      "After sweep 5 energy=-106.28865432953846  maxlinkdim=20 maxerr=4.27E-13 time=0.106\n",
      "After sweep 6 energy=-106.2886563922831  maxlinkdim=20 maxerr=3.43E-14 time=0.096\n",
      "After sweep 7 energy=-106.28865645467192  maxlinkdim=20 maxerr=4.71E-15 time=0.079\n",
      "After sweep 8 energy=-106.28865645500692  maxlinkdim=14 maxerr=9.93E-17 time=0.063\n",
      "After sweep 9 energy=-106.28865645500863  maxlinkdim=11 maxerr=9.01E-17 time=0.055\n",
      "After sweep 10 energy=-106.28865645501021  maxlinkdim=11 maxerr=6.17E-17 time=0.057\n",
      "After sweep 11 energy=-106.28865645501003  maxlinkdim=11 maxerr=6.17E-17 time=0.058\n",
      "After sweep 12 energy=-106.28865645500974  maxlinkdim=11 maxerr=6.17E-17 time=0.057\n",
      "After sweep 13 energy=-106.28865645501045  maxlinkdim=11 maxerr=6.17E-17 time=0.055\n",
      "After sweep 14 energy=-106.28865645500991  maxlinkdim=11 maxerr=6.17E-17 time=0.058\n",
      "After sweep 15 energy=-106.28865645501031  maxlinkdim=11 maxerr=6.17E-17 time=0.057\n",
      "After sweep 16 energy=-106.28865645500989  maxlinkdim=11 maxerr=6.17E-17 time=0.054\n",
      "After sweep 17 energy=-106.28865645501028  maxlinkdim=11 maxerr=6.17E-17 time=0.061\n",
      "After sweep 18 energy=-106.28865645501034  maxlinkdim=11 maxerr=6.17E-17 time=0.058\n",
      "After sweep 19 energy=-106.28865645501018  maxlinkdim=11 maxerr=6.17E-17 time=0.054\n",
      "After sweep 20 energy=-106.28865645500987  maxlinkdim=11 maxerr=6.17E-17 time=0.064\n",
      "DMRG for N=200\n",
      "After sweep 1 energy=-212.50810623472697  maxlinkdim=20 maxerr=2.49E-08 time=0.195\n",
      "After sweep 2 energy=-212.6364110732143  maxlinkdim=20 maxerr=3.28E-10 time=0.251\n",
      "After sweep 3 energy=-212.64221957442075  maxlinkdim=20 maxerr=3.64E-11 time=0.234\n",
      "After sweep 4 energy=-212.6429438419392  maxlinkdim=20 maxerr=2.82E-12 time=0.232\n",
      "After sweep 5 energy=-212.6430718718176  maxlinkdim=20 maxerr=2.15E-12 time=0.229\n",
      "After sweep 6 energy=-212.64309314878966  maxlinkdim=20 maxerr=6.90E-14 time=0.221\n",
      "After sweep 7 energy=-212.64309704019104  maxlinkdim=20 maxerr=1.94E-14 time=0.215\n",
      "After sweep 8 energy=-212.6430974209199  maxlinkdim=20 maxerr=3.68E-15 time=0.184\n",
      "After sweep 9 energy=-212.64309745082758  maxlinkdim=20 maxerr=3.52E-16 time=0.165\n",
      "After sweep 10 energy=-212.64309745231114  maxlinkdim=16 maxerr=9.81E-17 time=0.140\n",
      "After sweep 11 energy=-212.64309745236153  maxlinkdim=12 maxerr=9.84E-17 time=0.117\n",
      "After sweep 12 energy=-212.64309745237009  maxlinkdim=11 maxerr=7.98E-17 time=0.110\n",
      "After sweep 13 energy=-212.64309745237102  maxlinkdim=11 maxerr=6.17E-17 time=0.106\n",
      "After sweep 14 energy=-212.64309745237014  maxlinkdim=11 maxerr=6.17E-17 time=0.115\n",
      "After sweep 15 energy=-212.64309745236883  maxlinkdim=11 maxerr=6.17E-17 time=0.116\n",
      "After sweep 16 energy=-212.6430974523705  maxlinkdim=11 maxerr=6.17E-17 time=0.113\n",
      "After sweep 17 energy=-212.64309745236974  maxlinkdim=11 maxerr=6.17E-17 time=0.107\n",
      "After sweep 18 energy=-212.64309745237034  maxlinkdim=11 maxerr=6.17E-17 time=0.111\n",
      "After sweep 19 energy=-212.6430974523703  maxlinkdim=11 maxerr=6.17E-17 time=0.113\n",
      "After sweep 20 energy=-212.64309745237034  maxlinkdim=11 maxerr=6.17E-17 time=0.111\n"
     ]
    }
   ],
   "source": [
    "h = 2.\n",
    "swp_num = 20\n",
    "maxM = 20\n",
    "\n",
    "Ns  = [40, 80, 100, 200]\n",
    "SvN = zeros(length(Ns)) \n",
    "\n",
    "for (i,N) in enumerate(Ns)\n",
    "    println(\"DMRG for N=\", N)\n",
    "    energy, psi = TFIM_DMRG(N, h, swp_num, maxM)\n",
    "    SvN[i] = Calc_SvN(psi, Int.(N/2))\n",
    "end"
   ]
  },
  {
   "cell_type": "code",
   "execution_count": 42,
   "metadata": {
    "scrolled": true
   },
   "outputs": [
    {
     "data": {
      "image/png": "[encoded data removed]",
      "image/svg+xml": "<?xml version=\"1.0\" encoding=\"utf-8\"?>\n<svg xmlns=\"http://www.w3.org/2000/svg\" xmlns:xlink=\"http://www.w3.org/1999/xlink\" width=\"600\" height=\"400\" viewBox=\"0 0 2400 1600\">\n<defs>\n  <clipPath id=\"clip820\">\n    <rect x=\"0\" y=\"0\" width=\"2400\" height=\"1600\"/>\n  </clipPath>\n</defs>\n<path clip-path=\"url(#clip820)\" d=\"M0 1600 L2400 1600 L2400 8.88178e-14 L0 8.88178e-14  Z\" fill=\"#ffffff\" fill-rule=\"evenodd\" fill-opacity=\"1\"/>\n<defs>\n  <clipPath id=\"clip821\">\n    <rect x=\"480\" y=\"0\" width=\"1681\" height=\"1600\"/>\n  </clipPath>\n</defs>\n<path clip-path=\"url(#clip820)\" d=\"M156.598 1486.45 L2352.76 1486.45 L2352.76 47.2441 L156.598 47.2441  Z\" fill=\"#ffffff\" fill-rule=\"evenodd\" fill-opacity=\"1\"/>\n<defs>\n  <clipPath id=\"clip822\">\n    <rect x=\"156\" y=\"47\" width=\"2197\" height=\"1440\"/>\n  </clipPath>\n</defs>\n<polyline clip-path=\"url(#clip822)\" style=\"stroke:#000000; stroke-linecap:round; stroke-linejoin:round; stroke-width:2; stroke-opacity:0.1; fill:none\" points=\"477.734,1486.45 477.734,47.2441 \"/>\n<polyline clip-path=\"url(#clip822)\" style=\"stroke:#000000; stroke-linecap:round; stroke-linejoin:round; stroke-width:2; stroke-opacity:0.1; fill:none\" points=\"866.206,1486.45 866.206,47.2441 \"/>\n<polyline clip-path=\"url(#clip822)\" style=\"stroke:#000000; stroke-linecap:round; stroke-linejoin:round; stroke-width:2; stroke-opacity:0.1; fill:none\" points=\"1254.68,1486.45 1254.68,47.2441 \"/>\n<polyline clip-path=\"url(#clip822)\" style=\"stroke:#000000; stroke-linecap:round; stroke-linejoin:round; stroke-width:2; stroke-opacity:0.1; fill:none\" points=\"1643.15,1486.45 1643.15,47.2441 \"/>\n<polyline clip-path=\"url(#clip822)\" style=\"stroke:#000000; stroke-linecap:round; stroke-linejoin:round; stroke-width:2; stroke-opacity:0.1; fill:none\" points=\"2031.62,1486.45 2031.62,47.2441 \"/>\n<polyline clip-path=\"url(#clip820)\" style=\"stroke:#000000; stroke-linecap:round; stroke-linejoin:round; stroke-width:4; stroke-opacity:1; fill:none\" points=\"156.598,1486.45 2352.76,1486.45 \"/>\n<polyline clip-path=\"url(#clip820)\" style=\"stroke:#000000; stroke-linecap:round; stroke-linejoin:round; stroke-width:4; stroke-opacity:1; fill:none\" points=\"477.734,1486.45 477.734,1467.55 \"/>\n<polyline clip-path=\"url(#clip820)\" style=\"stroke:#000000; stroke-linecap:round; stroke-linejoin:round; stroke-width:4; stroke-opacity:1; fill:none\" points=\"866.206,1486.45 866.206,1467.55 \"/>\n<polyline clip-path=\"url(#clip820)\" style=\"stroke:#000000; stroke-linecap:round; stroke-linejoin:round; stroke-width:4; stroke-opacity:1; fill:none\" points=\"1254.68,1486.45 1254.68,1467.55 \"/>\n<polyline clip-path=\"url(#clip820)\" style=\"stroke:#000000; stroke-linecap:round; stroke-linejoin:round; stroke-width:4; stroke-opacity:1; fill:none\" points=\"1643.15,1486.45 1643.15,1467.55 \"/>\n<polyline clip-path=\"url(#clip820)\" style=\"stroke:#000000; stroke-linecap:round; stroke-linejoin:round; stroke-width:4; stroke-opacity:1; fill:none\" points=\"2031.62,1486.45 2031.62,1467.55 \"/>\n<path clip-path=\"url(#clip820)\" d=\"M463.14 1529.7 Q459.992 1529.7 458.14 1531.86 Q456.311 1534.01 456.311 1537.76 Q456.311 1541.49 458.14 1543.66 Q459.992 1545.82 463.14 1545.82 Q466.288 1545.82 468.116 1543.66 Q469.968 1541.49 469.968 1537.76 Q469.968 1534.01 468.116 1531.86 Q466.288 1529.7 463.14 1529.7 M472.422 1515.05 L472.422 1519.31 Q470.663 1518.48 468.857 1518.04 Q467.075 1517.6 465.316 1517.6 Q460.686 1517.6 458.232 1520.72 Q455.802 1523.85 455.455 1530.17 Q456.82 1528.15 458.88 1527.09 Q460.941 1526 463.417 1526 Q468.626 1526 471.635 1529.17 Q474.667 1532.32 474.667 1537.76 Q474.667 1543.08 471.519 1546.3 Q468.371 1549.52 463.14 1549.52 Q457.144 1549.52 453.973 1544.94 Q450.802 1540.33 450.802 1531.6 Q450.802 1523.41 454.691 1518.55 Q458.58 1513.66 465.13 1513.66 Q466.89 1513.66 468.672 1514.01 Q470.478 1514.36 472.422 1515.05 Z\" fill=\"#000000\" fill-rule=\"nonzero\" fill-opacity=\"1\" /><path clip-path=\"url(#clip820)\" d=\"M492.723 1517.37 Q489.112 1517.37 487.283 1520.93 Q485.478 1524.47 485.478 1531.6 Q485.478 1538.71 487.283 1542.27 Q489.112 1545.82 492.723 1545.82 Q496.357 1545.82 498.163 1542.27 Q499.991 1538.71 499.991 1531.6 Q499.991 1524.47 498.163 1520.93 Q496.357 1517.37 492.723 1517.37 M492.723 1513.66 Q498.533 1513.66 501.589 1518.27 Q504.667 1522.85 504.667 1531.6 Q504.667 1540.33 501.589 1544.94 Q498.533 1549.52 492.723 1549.52 Q486.913 1549.52 483.834 1544.94 Q480.778 1540.33 480.778 1531.6 Q480.778 1522.85 483.834 1518.27 Q486.913 1513.66 492.723 1513.66 Z\" fill=\"#000000\" fill-rule=\"nonzero\" fill-opacity=\"1\" /><path clip-path=\"url(#clip820)\" d=\"M841.333 1548.13 L841.333 1543.87 Q843.092 1544.7 844.898 1545.14 Q846.704 1545.58 848.44 1545.58 Q853.069 1545.58 855.5 1542.48 Q857.954 1539.36 858.301 1533.01 Q856.958 1535.01 854.898 1536.07 Q852.838 1537.13 850.338 1537.13 Q845.153 1537.13 842.12 1534.01 Q839.111 1530.86 839.111 1525.42 Q839.111 1520.1 842.259 1516.88 Q845.407 1513.66 850.639 1513.66 Q856.634 1513.66 859.782 1518.27 Q862.953 1522.85 862.953 1531.6 Q862.953 1539.77 859.065 1544.66 Q855.199 1549.52 848.648 1549.52 Q846.889 1549.52 845.083 1549.17 Q843.278 1548.82 841.333 1548.13 M850.639 1533.48 Q853.787 1533.48 855.616 1531.32 Q857.467 1529.17 857.467 1525.42 Q857.467 1521.7 855.616 1519.54 Q853.787 1517.37 850.639 1517.37 Q847.491 1517.37 845.639 1519.54 Q843.81 1521.7 843.81 1525.42 Q843.81 1529.17 845.639 1531.32 Q847.491 1533.48 850.639 1533.48 Z\" fill=\"#000000\" fill-rule=\"nonzero\" fill-opacity=\"1\" /><path clip-path=\"url(#clip820)\" d=\"M881.356 1517.37 Q877.745 1517.37 875.916 1520.93 Q874.111 1524.47 874.111 1531.6 Q874.111 1538.71 875.916 1542.27 Q877.745 1545.82 881.356 1545.82 Q884.99 1545.82 886.796 1542.27 Q888.625 1538.71 888.625 1531.6 Q888.625 1524.47 886.796 1520.93 Q884.99 1517.37 881.356 1517.37 M881.356 1513.66 Q887.166 1513.66 890.222 1518.27 Q893.301 1522.85 893.301 1531.6 Q893.301 1540.33 890.222 1544.94 Q887.166 1549.52 881.356 1549.52 Q875.546 1549.52 872.467 1544.94 Q869.412 1540.33 869.412 1531.6 Q869.412 1522.85 872.467 1518.27 Q875.546 1513.66 881.356 1513.66 Z\" fill=\"#000000\" fill-rule=\"nonzero\" fill-opacity=\"1\" /><path clip-path=\"url(#clip820)\" d=\"M1214.28 1544.91 L1221.92 1544.91 L1221.92 1518.55 L1213.61 1520.21 L1213.61 1515.95 L1221.88 1514.29 L1226.55 1514.29 L1226.55 1544.91 L1234.19 1544.91 L1234.19 1548.85 L1214.28 1548.85 L1214.28 1544.91 Z\" fill=\"#000000\" fill-rule=\"nonzero\" fill-opacity=\"1\" /><path clip-path=\"url(#clip820)\" d=\"M1247.66 1544.91 L1263.98 1544.91 L1263.98 1548.85 L1242.04 1548.85 L1242.04 1544.91 Q1244.7 1542.16 1249.28 1537.53 Q1253.89 1532.88 1255.07 1531.53 Q1257.32 1529.01 1258.2 1527.27 Q1259.1 1525.51 1259.1 1523.82 Q1259.1 1521.07 1257.15 1519.33 Q1255.23 1517.6 1252.13 1517.6 Q1249.93 1517.6 1247.48 1518.36 Q1245.05 1519.13 1242.27 1520.68 L1242.27 1515.95 Q1245.09 1514.82 1247.55 1514.24 Q1250 1513.66 1252.04 1513.66 Q1257.41 1513.66 1260.6 1516.35 Q1263.8 1519.03 1263.8 1523.52 Q1263.8 1525.65 1262.99 1527.57 Q1262.2 1529.47 1260.09 1532.07 Q1259.52 1532.74 1256.41 1535.95 Q1253.31 1539.15 1247.66 1544.91 Z\" fill=\"#000000\" fill-rule=\"nonzero\" fill-opacity=\"1\" /><path clip-path=\"url(#clip820)\" d=\"M1283.8 1517.37 Q1280.19 1517.37 1278.36 1520.93 Q1276.55 1524.47 1276.55 1531.6 Q1276.55 1538.71 1278.36 1542.27 Q1280.19 1545.82 1283.8 1545.82 Q1287.43 1545.82 1289.24 1542.27 Q1291.07 1538.71 1291.07 1531.6 Q1291.07 1524.47 1289.24 1520.93 Q1287.43 1517.37 1283.8 1517.37 M1283.8 1513.66 Q1289.61 1513.66 1292.66 1518.27 Q1295.74 1522.85 1295.74 1531.6 Q1295.74 1540.33 1292.66 1544.94 Q1289.61 1549.52 1283.8 1549.52 Q1277.99 1549.52 1274.91 1544.94 Q1271.85 1540.33 1271.85 1531.6 Q1271.85 1522.85 1274.91 1518.27 Q1277.99 1513.66 1283.8 1513.66 Z\" fill=\"#000000\" fill-rule=\"nonzero\" fill-opacity=\"1\" /><path clip-path=\"url(#clip820)\" d=\"M1602.76 1544.91 L1610.39 1544.91 L1610.39 1518.55 L1602.08 1520.21 L1602.08 1515.95 L1610.35 1514.29 L1615.02 1514.29 L1615.02 1544.91 L1622.66 1544.91 L1622.66 1548.85 L1602.76 1548.85 L1602.76 1544.91 Z\" fill=\"#000000\" fill-rule=\"nonzero\" fill-opacity=\"1\" /><path clip-path=\"url(#clip820)\" d=\"M1632.15 1514.29 L1650.51 1514.29 L1650.51 1518.22 L1636.44 1518.22 L1636.44 1526.7 Q1637.45 1526.35 1638.47 1526.19 Q1639.49 1526 1640.51 1526 Q1646.3 1526 1649.68 1529.17 Q1653.06 1532.34 1653.06 1537.76 Q1653.06 1543.34 1649.58 1546.44 Q1646.11 1549.52 1639.79 1549.52 Q1637.62 1549.52 1635.35 1549.15 Q1633.1 1548.78 1630.69 1548.04 L1630.69 1543.34 Q1632.78 1544.47 1635 1545.03 Q1637.22 1545.58 1639.7 1545.58 Q1643.7 1545.58 1646.04 1543.48 Q1648.38 1541.37 1648.38 1537.76 Q1648.38 1534.15 1646.04 1532.04 Q1643.7 1529.94 1639.7 1529.94 Q1637.82 1529.94 1635.95 1530.35 Q1634.1 1530.77 1632.15 1531.65 L1632.15 1514.29 Z\" fill=\"#000000\" fill-rule=\"nonzero\" fill-opacity=\"1\" /><path clip-path=\"url(#clip820)\" d=\"M1672.27 1517.37 Q1668.66 1517.37 1666.83 1520.93 Q1665.02 1524.47 1665.02 1531.6 Q1665.02 1538.71 1666.83 1542.27 Q1668.66 1545.82 1672.27 1545.82 Q1675.9 1545.82 1677.71 1542.27 Q1679.54 1538.71 1679.54 1531.6 Q1679.54 1524.47 1677.71 1520.93 Q1675.9 1517.37 1672.27 1517.37 M1672.27 1513.66 Q1678.08 1513.66 1681.13 1518.27 Q1684.21 1522.85 1684.21 1531.6 Q1684.21 1540.33 1681.13 1544.94 Q1678.08 1549.52 1672.27 1549.52 Q1666.46 1549.52 1663.38 1544.94 Q1660.32 1540.33 1660.32 1531.6 Q1660.32 1522.85 1663.38 1518.27 Q1666.46 1513.66 1672.27 1513.66 Z\" fill=\"#000000\" fill-rule=\"nonzero\" fill-opacity=\"1\" /><path clip-path=\"url(#clip820)\" d=\"M1991.23 1544.91 L1998.87 1544.91 L1998.87 1518.55 L1990.56 1520.21 L1990.56 1515.95 L1998.82 1514.29 L2003.49 1514.29 L2003.49 1544.91 L2011.13 1544.91 L2011.13 1548.85 L1991.23 1548.85 L1991.23 1544.91 Z\" fill=\"#000000\" fill-rule=\"nonzero\" fill-opacity=\"1\" /><path clip-path=\"url(#clip820)\" d=\"M2030.58 1532.44 Q2027.24 1532.44 2025.32 1534.22 Q2023.43 1536 2023.43 1539.13 Q2023.43 1542.25 2025.32 1544.03 Q2027.24 1545.82 2030.58 1545.82 Q2033.91 1545.82 2035.83 1544.03 Q2037.75 1542.23 2037.75 1539.13 Q2037.75 1536 2035.83 1534.22 Q2033.93 1532.44 2030.58 1532.44 M2025.9 1530.45 Q2022.89 1529.7 2021.2 1527.64 Q2019.54 1525.58 2019.54 1522.62 Q2019.54 1518.48 2022.48 1516.07 Q2025.44 1513.66 2030.58 1513.66 Q2035.74 1513.66 2038.68 1516.07 Q2041.62 1518.48 2041.62 1522.62 Q2041.62 1525.58 2039.93 1527.64 Q2038.26 1529.7 2035.28 1530.45 Q2038.66 1531.23 2040.53 1533.52 Q2042.43 1535.82 2042.43 1539.13 Q2042.43 1544.15 2039.35 1546.83 Q2036.3 1549.52 2030.58 1549.52 Q2024.86 1549.52 2021.78 1546.83 Q2018.73 1544.15 2018.73 1539.13 Q2018.73 1535.82 2020.62 1533.52 Q2022.52 1531.23 2025.9 1530.45 M2024.19 1523.06 Q2024.19 1525.75 2025.86 1527.25 Q2027.55 1528.76 2030.58 1528.76 Q2033.59 1528.76 2035.28 1527.25 Q2036.99 1525.75 2036.99 1523.06 Q2036.99 1520.38 2035.28 1518.87 Q2033.59 1517.37 2030.58 1517.37 Q2027.55 1517.37 2025.86 1518.87 Q2024.19 1520.38 2024.19 1523.06 Z\" fill=\"#000000\" fill-rule=\"nonzero\" fill-opacity=\"1\" /><path clip-path=\"url(#clip820)\" d=\"M2060.74 1517.37 Q2057.13 1517.37 2055.3 1520.93 Q2053.49 1524.47 2053.49 1531.6 Q2053.49 1538.71 2055.3 1542.27 Q2057.13 1545.82 2060.74 1545.82 Q2064.37 1545.82 2066.18 1542.27 Q2068.01 1538.71 2068.01 1531.6 Q2068.01 1524.47 2066.18 1520.93 Q2064.37 1517.37 2060.74 1517.37 M2060.74 1513.66 Q2066.55 1513.66 2069.61 1518.27 Q2072.68 1522.85 2072.68 1531.6 Q2072.68 1540.33 2069.61 1544.94 Q2066.55 1549.52 2060.74 1549.52 Q2054.93 1549.52 2051.85 1544.94 Q2048.8 1540.33 2048.8 1531.6 Q2048.8 1522.85 2051.85 1518.27 Q2054.93 1513.66 2060.74 1513.66 Z\" fill=\"#000000\" fill-rule=\"nonzero\" fill-opacity=\"1\" /><polyline clip-path=\"url(#clip822)\" style=\"stroke:#000000; stroke-linecap:round; stroke-linejoin:round; stroke-width:2; stroke-opacity:0.1; fill:none\" points=\"156.598,1486.45 2352.76,1486.45 \"/>\n<polyline clip-path=\"url(#clip822)\" style=\"stroke:#000000; stroke-linecap:round; stroke-linejoin:round; stroke-width:2; stroke-opacity:0.1; fill:none\" points=\"156.598,1198.61 2352.76,1198.61 \"/>\n<polyline clip-path=\"url(#clip822)\" style=\"stroke:#000000; stroke-linecap:round; stroke-linejoin:round; stroke-width:2; stroke-opacity:0.1; fill:none\" points=\"156.598,910.766 2352.76,910.766 \"/>\n<polyline clip-path=\"url(#clip822)\" style=\"stroke:#000000; stroke-linecap:round; stroke-linejoin:round; stroke-width:2; stroke-opacity:0.1; fill:none\" points=\"156.598,622.926 2352.76,622.926 \"/>\n<polyline clip-path=\"url(#clip822)\" style=\"stroke:#000000; stroke-linecap:round; stroke-linejoin:round; stroke-width:2; stroke-opacity:0.1; fill:none\" points=\"156.598,335.085 2352.76,335.085 \"/>\n<polyline clip-path=\"url(#clip822)\" style=\"stroke:#000000; stroke-linecap:round; stroke-linejoin:round; stroke-width:2; stroke-opacity:0.1; fill:none\" points=\"156.598,47.2441 2352.76,47.2441 \"/>\n<polyline clip-path=\"url(#clip820)\" style=\"stroke:#000000; stroke-linecap:round; stroke-linejoin:round; stroke-width:4; stroke-opacity:1; fill:none\" points=\"156.598,1486.45 156.598,47.2441 \"/>\n<polyline clip-path=\"url(#clip820)\" style=\"stroke:#000000; stroke-linecap:round; stroke-linejoin:round; stroke-width:4; stroke-opacity:1; fill:none\" points=\"156.598,1486.45 175.496,1486.45 \"/>\n<polyline clip-path=\"url(#clip820)\" style=\"stroke:#000000; stroke-linecap:round; stroke-linejoin:round; stroke-width:4; stroke-opacity:1; fill:none\" points=\"156.598,1198.61 175.496,1198.61 \"/>\n<polyline clip-path=\"url(#clip820)\" style=\"stroke:#000000; stroke-linecap:round; stroke-linejoin:round; stroke-width:4; stroke-opacity:1; fill:none\" points=\"156.598,910.766 175.496,910.766 \"/>\n<polyline clip-path=\"url(#clip820)\" style=\"stroke:#000000; stroke-linecap:round; stroke-linejoin:round; stroke-width:4; stroke-opacity:1; fill:none\" points=\"156.598,622.926 175.496,622.926 \"/>\n<polyline clip-path=\"url(#clip820)\" style=\"stroke:#000000; stroke-linecap:round; stroke-linejoin:round; stroke-width:4; stroke-opacity:1; fill:none\" points=\"156.598,335.085 175.496,335.085 \"/>\n<polyline clip-path=\"url(#clip820)\" style=\"stroke:#000000; stroke-linecap:round; stroke-linejoin:round; stroke-width:4; stroke-opacity:1; fill:none\" points=\"156.598,47.2441 175.496,47.2441 \"/>\n<path clip-path=\"url(#clip820)\" d=\"M63.4226 1472.25 Q59.8115 1472.25 57.9828 1475.81 Q56.1773 1479.35 56.1773 1486.48 Q56.1773 1493.59 57.9828 1497.15 Q59.8115 1500.7 63.4226 1500.7 Q67.0569 1500.7 68.8624 1497.15 Q70.6911 1493.59 70.6911 1486.48 Q70.6911 1479.35 68.8624 1475.81 Q67.0569 1472.25 63.4226 1472.25 M63.4226 1468.54 Q69.2328 1468.54 72.2883 1473.15 Q75.367 1477.73 75.367 1486.48 Q75.367 1495.21 72.2883 1499.82 Q69.2328 1504.4 63.4226 1504.4 Q57.6125 1504.4 54.5338 1499.82 Q51.4782 1495.21 51.4782 1486.48 Q51.4782 1477.73 54.5338 1473.15 Q57.6125 1468.54 63.4226 1468.54 Z\" fill=\"#000000\" fill-rule=\"nonzero\" fill-opacity=\"1\" /><path clip-path=\"url(#clip820)\" d=\"M83.5845 1497.85 L88.4688 1497.85 L88.4688 1503.73 L83.5845 1503.73 L83.5845 1497.85 Z\" fill=\"#000000\" fill-rule=\"nonzero\" fill-opacity=\"1\" /><path clip-path=\"url(#clip820)\" d=\"M108.654 1472.25 Q105.043 1472.25 103.214 1475.81 Q101.409 1479.35 101.409 1486.48 Q101.409 1493.59 103.214 1497.15 Q105.043 1500.7 108.654 1500.7 Q112.288 1500.7 114.094 1497.15 Q115.922 1493.59 115.922 1486.48 Q115.922 1479.35 114.094 1475.81 Q112.288 1472.25 108.654 1472.25 M108.654 1468.54 Q114.464 1468.54 117.52 1473.15 Q120.598 1477.73 120.598 1486.48 Q120.598 1495.21 117.52 1499.82 Q114.464 1504.4 108.654 1504.4 Q102.844 1504.4 99.765 1499.82 Q96.7095 1495.21 96.7095 1486.48 Q96.7095 1477.73 99.765 1473.15 Q102.844 1468.54 108.654 1468.54 Z\" fill=\"#000000\" fill-rule=\"nonzero\" fill-opacity=\"1\" /><path clip-path=\"url(#clip820)\" d=\"M65.0198 1184.41 Q61.4087 1184.41 59.58 1187.97 Q57.7745 1191.51 57.7745 1198.64 Q57.7745 1205.75 59.58 1209.31 Q61.4087 1212.85 65.0198 1212.85 Q68.6541 1212.85 70.4596 1209.31 Q72.2883 1205.75 72.2883 1198.64 Q72.2883 1191.51 70.4596 1187.97 Q68.6541 1184.41 65.0198 1184.41 M65.0198 1180.7 Q70.83 1180.7 73.8855 1185.31 Q76.9642 1189.89 76.9642 1198.64 Q76.9642 1207.37 73.8855 1211.98 Q70.83 1216.56 65.0198 1216.56 Q59.2097 1216.56 56.131 1211.98 Q53.0754 1207.37 53.0754 1198.64 Q53.0754 1189.89 56.131 1185.31 Q59.2097 1180.7 65.0198 1180.7 Z\" fill=\"#000000\" fill-rule=\"nonzero\" fill-opacity=\"1\" /><path clip-path=\"url(#clip820)\" d=\"M85.1818 1210.01 L90.066 1210.01 L90.066 1215.89 L85.1818 1215.89 L85.1818 1210.01 Z\" fill=\"#000000\" fill-rule=\"nonzero\" fill-opacity=\"1\" /><path clip-path=\"url(#clip820)\" d=\"M104.279 1211.95 L120.598 1211.95 L120.598 1215.89 L98.6539 1215.89 L98.6539 1211.95 Q101.316 1209.2 105.899 1204.57 Q110.506 1199.91 111.686 1198.57 Q113.932 1196.05 114.811 1194.31 Q115.714 1192.55 115.714 1190.86 Q115.714 1188.11 113.77 1186.37 Q111.848 1184.64 108.746 1184.64 Q106.547 1184.64 104.094 1185.4 Q101.663 1186.17 98.8854 1187.72 L98.8854 1182.99 Q101.709 1181.86 104.163 1181.28 Q106.617 1180.7 108.654 1180.7 Q114.024 1180.7 117.219 1183.39 Q120.413 1186.07 120.413 1190.56 Q120.413 1192.69 119.603 1194.61 Q118.816 1196.51 116.709 1199.1 Q116.131 1199.78 113.029 1202.99 Q109.927 1206.19 104.279 1211.95 Z\" fill=\"#000000\" fill-rule=\"nonzero\" fill-opacity=\"1\" /><path clip-path=\"url(#clip820)\" d=\"M62.9365 896.565 Q59.3254 896.565 57.4967 900.13 Q55.6912 903.671 55.6912 910.801 Q55.6912 917.908 57.4967 921.472 Q59.3254 925.014 62.9365 925.014 Q66.5707 925.014 68.3763 921.472 Q70.205 917.908 70.205 910.801 Q70.205 903.671 68.3763 900.13 Q66.5707 896.565 62.9365 896.565 M62.9365 892.861 Q68.7467 892.861 71.8022 897.468 Q74.8809 902.051 74.8809 910.801 Q74.8809 919.528 71.8022 924.134 Q68.7467 928.718 62.9365 928.718 Q57.1264 928.718 54.0477 924.134 Q50.9921 919.528 50.9921 910.801 Q50.9921 902.051 54.0477 897.468 Q57.1264 892.861 62.9365 892.861 Z\" fill=\"#000000\" fill-rule=\"nonzero\" fill-opacity=\"1\" /><path clip-path=\"url(#clip820)\" d=\"M83.0984 922.167 L87.9827 922.167 L87.9827 928.046 L83.0984 928.046 L83.0984 922.167 Z\" fill=\"#000000\" fill-rule=\"nonzero\" fill-opacity=\"1\" /><path clip-path=\"url(#clip820)\" d=\"M111.015 897.56 L99.2095 916.009 L111.015 916.009 L111.015 897.56 M109.788 893.486 L115.668 893.486 L115.668 916.009 L120.598 916.009 L120.598 919.898 L115.668 919.898 L115.668 928.046 L111.015 928.046 L111.015 919.898 L95.4132 919.898 L95.4132 915.384 L109.788 893.486 Z\" fill=\"#000000\" fill-rule=\"nonzero\" fill-opacity=\"1\" /><path clip-path=\"url(#clip820)\" d=\"M63.2606 608.724 Q59.6495 608.724 57.8208 612.289 Q56.0152 615.831 56.0152 622.96 Q56.0152 630.067 57.8208 633.632 Q59.6495 637.173 63.2606 637.173 Q66.8948 637.173 68.7004 633.632 Q70.5291 630.067 70.5291 622.96 Q70.5291 615.831 68.7004 612.289 Q66.8948 608.724 63.2606 608.724 M63.2606 605.021 Q69.0707 605.021 72.1263 609.627 Q75.205 614.21 75.205 622.96 Q75.205 631.687 72.1263 636.294 Q69.0707 640.877 63.2606 640.877 Q57.4504 640.877 54.3717 636.294 Q51.3162 631.687 51.3162 622.96 Q51.3162 614.21 54.3717 609.627 Q57.4504 605.021 63.2606 605.021 Z\" fill=\"#000000\" fill-rule=\"nonzero\" fill-opacity=\"1\" /><path clip-path=\"url(#clip820)\" d=\"M83.4225 634.326 L88.3067 634.326 L88.3067 640.206 L83.4225 640.206 L83.4225 634.326 Z\" fill=\"#000000\" fill-rule=\"nonzero\" fill-opacity=\"1\" /><path clip-path=\"url(#clip820)\" d=\"M109.071 621.062 Q105.922 621.062 104.071 623.215 Q102.242 625.368 102.242 629.118 Q102.242 632.845 104.071 635.02 Q105.922 637.173 109.071 637.173 Q112.219 637.173 114.047 635.02 Q115.899 632.845 115.899 629.118 Q115.899 625.368 114.047 623.215 Q112.219 621.062 109.071 621.062 M118.353 606.409 L118.353 610.669 Q116.594 609.835 114.788 609.396 Q113.006 608.956 111.246 608.956 Q106.617 608.956 104.163 612.081 Q101.733 615.206 101.385 621.525 Q102.751 619.511 104.811 618.446 Q106.871 617.359 109.348 617.359 Q114.557 617.359 117.566 620.53 Q120.598 623.678 120.598 629.118 Q120.598 634.442 117.45 637.659 Q114.302 640.877 109.071 640.877 Q103.075 640.877 99.9039 636.294 Q96.7326 631.687 96.7326 622.96 Q96.7326 614.766 100.621 609.905 Q104.51 605.021 111.061 605.021 Q112.82 605.021 114.603 605.368 Q116.408 605.715 118.353 606.409 Z\" fill=\"#000000\" fill-rule=\"nonzero\" fill-opacity=\"1\" /><path clip-path=\"url(#clip820)\" d=\"M63.5152 320.884 Q59.9041 320.884 58.0754 324.448 Q56.2699 327.99 56.2699 335.12 Q56.2699 342.226 58.0754 345.791 Q59.9041 349.332 63.5152 349.332 Q67.1494 349.332 68.955 345.791 Q70.7837 342.226 70.7837 335.12 Q70.7837 327.99 68.955 324.448 Q67.1494 320.884 63.5152 320.884 M63.5152 317.18 Q69.3254 317.18 72.3809 321.786 Q75.4596 326.37 75.4596 335.12 Q75.4596 343.846 72.3809 348.453 Q69.3254 353.036 63.5152 353.036 Q57.7051 353.036 54.6264 348.453 Q51.5708 343.846 51.5708 335.12 Q51.5708 326.37 54.6264 321.786 Q57.7051 317.18 63.5152 317.18 Z\" fill=\"#000000\" fill-rule=\"nonzero\" fill-opacity=\"1\" /><path clip-path=\"url(#clip820)\" d=\"M83.6771 346.485 L88.5614 346.485 L88.5614 352.365 L83.6771 352.365 L83.6771 346.485 Z\" fill=\"#000000\" fill-rule=\"nonzero\" fill-opacity=\"1\" /><path clip-path=\"url(#clip820)\" d=\"M108.746 335.953 Q105.413 335.953 103.492 337.735 Q101.594 339.518 101.594 342.643 Q101.594 345.768 103.492 347.55 Q105.413 349.332 108.746 349.332 Q112.08 349.332 114.001 347.55 Q115.922 345.745 115.922 342.643 Q115.922 339.518 114.001 337.735 Q112.103 335.953 108.746 335.953 M104.071 333.962 Q101.061 333.221 99.3715 331.161 Q97.7048 329.101 97.7048 326.138 Q97.7048 321.995 100.645 319.587 Q103.608 317.18 108.746 317.18 Q113.908 317.18 116.848 319.587 Q119.788 321.995 119.788 326.138 Q119.788 329.101 118.098 331.161 Q116.432 333.221 113.445 333.962 Q116.825 334.749 118.7 337.041 Q120.598 339.333 120.598 342.643 Q120.598 347.666 117.52 350.351 Q114.464 353.036 108.746 353.036 Q103.029 353.036 99.9502 350.351 Q96.8947 347.666 96.8947 342.643 Q96.8947 339.333 98.7928 337.041 Q100.691 334.749 104.071 333.962 M102.358 326.578 Q102.358 329.263 104.024 330.768 Q105.714 332.272 108.746 332.272 Q111.756 332.272 113.445 330.768 Q115.158 329.263 115.158 326.578 Q115.158 323.893 113.445 322.388 Q111.756 320.884 108.746 320.884 Q105.714 320.884 104.024 322.388 Q102.358 323.893 102.358 326.578 Z\" fill=\"#000000\" fill-rule=\"nonzero\" fill-opacity=\"1\" /><path clip-path=\"url(#clip820)\" d=\"M54.2328 60.5889 L61.8717 60.5889 L61.8717 34.2233 L53.5616 35.89 L53.5616 31.6308 L61.8254 29.9641 L66.5013 29.9641 L66.5013 60.5889 L74.1402 60.5889 L74.1402 64.5241 L54.2328 64.5241 L54.2328 60.5889 Z\" fill=\"#000000\" fill-rule=\"nonzero\" fill-opacity=\"1\" /><path clip-path=\"url(#clip820)\" d=\"M83.5845 58.6445 L88.4688 58.6445 L88.4688 64.5241 L83.5845 64.5241 L83.5845 58.6445 Z\" fill=\"#000000\" fill-rule=\"nonzero\" fill-opacity=\"1\" /><path clip-path=\"url(#clip820)\" d=\"M108.654 33.0428 Q105.043 33.0428 103.214 36.6076 Q101.409 40.1492 101.409 47.2788 Q101.409 54.3853 103.214 57.9501 Q105.043 61.4917 108.654 61.4917 Q112.288 61.4917 114.094 57.9501 Q115.922 54.3853 115.922 47.2788 Q115.922 40.1492 114.094 36.6076 Q112.288 33.0428 108.654 33.0428 M108.654 29.3391 Q114.464 29.3391 117.52 33.9456 Q120.598 38.5289 120.598 47.2788 Q120.598 56.0056 117.52 60.6121 Q114.464 65.1954 108.654 65.1954 Q102.844 65.1954 99.765 60.6121 Q96.7095 56.0056 96.7095 47.2788 Q96.7095 38.5289 99.765 33.9456 Q102.844 29.3391 108.654 29.3391 Z\" fill=\"#000000\" fill-rule=\"nonzero\" fill-opacity=\"1\" /><polyline clip-path=\"url(#clip822)\" style=\"stroke:#009af9; stroke-linecap:round; stroke-linejoin:round; stroke-width:4; stroke-opacity:1; fill:none\" points=\"218.754,1358.58 736.715,1358.58 995.696,1358.58 2290.6,1358.58 \"/>\n<path clip-path=\"url(#clip820)\" d=\"M2007.5 198.898 L2279.55 198.898 L2279.55 95.2176 L2007.5 95.2176  Z\" fill=\"#ffffff\" fill-rule=\"evenodd\" fill-opacity=\"1\"/>\n<polyline clip-path=\"url(#clip820)\" style=\"stroke:#000000; stroke-linecap:round; stroke-linejoin:round; stroke-width:4; stroke-opacity:1; fill:none\" points=\"2007.5,198.898 2279.55,198.898 2279.55,95.2176 2007.5,95.2176 2007.5,198.898 \"/>\n<polyline clip-path=\"url(#clip820)\" style=\"stroke:#009af9; stroke-linecap:round; stroke-linejoin:round; stroke-width:4; stroke-opacity:1; fill:none\" points=\"2031.91,147.058 2178.32,147.058 \"/>\n<path clip-path=\"url(#clip820)\" d=\"M2216.56 166.745 Q2214.76 171.375 2213.04 172.787 Q2211.33 174.199 2208.46 174.199 L2205.06 174.199 L2205.06 170.634 L2207.56 170.634 Q2209.32 170.634 2210.29 169.8 Q2211.26 168.967 2212.44 165.865 L2213.2 163.921 L2202.72 138.412 L2207.23 138.412 L2215.33 158.689 L2223.44 138.412 L2227.95 138.412 L2216.56 166.745 Z\" fill=\"#000000\" fill-rule=\"nonzero\" fill-opacity=\"1\" /><path clip-path=\"url(#clip820)\" d=\"M2235.24 160.402 L2242.88 160.402 L2242.88 134.037 L2234.57 135.703 L2234.57 131.444 L2242.83 129.778 L2247.51 129.778 L2247.51 160.402 L2255.15 160.402 L2255.15 164.338 L2235.24 164.338 L2235.24 160.402 Z\" fill=\"#000000\" fill-rule=\"nonzero\" fill-opacity=\"1\" /></svg>\n",
      "text/html": [
       "<?xml version=\"1.0\" encoding=\"utf-8\"?>\n",
       "<svg xmlns=\"http://www.w3.org/2000/svg\" xmlns:xlink=\"http://www.w3.org/1999/xlink\" width=\"600\" height=\"400\" viewBox=\"0 0 2400 1600\">\n",
       "<defs>\n",
       "  <clipPath id=\"clip870\">\n",
       "    <rect x=\"0\" y=\"0\" width=\"2400\" height=\"1600\"/>\n",
       "  </clipPath>\n",
       "</defs>\n",
       "<path clip-path=\"url(#clip870)\" d=\"M0 1600 L2400 1600 L2400 8.88178e-14 L0 8.88178e-14  Z\" fill=\"#ffffff\" fill-rule=\"evenodd\" fill-opacity=\"1\"/>\n",
       "<defs>\n",
       "  <clipPath id=\"clip871\">\n",
       "    <rect x=\"480\" y=\"0\" width=\"1681\" height=\"1600\"/>\n",
       "  </clipPath>\n",
       "</defs>\n",
       "<path clip-path=\"url(#clip870)\" d=\"M156.598 1486.45 L2352.76 1486.45 L2352.76 47.2441 L156.598 47.2441  Z\" fill=\"#ffffff\" fill-rule=\"evenodd\" fill-opacity=\"1\"/>\n",
       "<defs>\n",
       "  <clipPath id=\"clip872\">\n",
       "    <rect x=\"156\" y=\"47\" width=\"2197\" height=\"1440\"/>\n",
       "  </clipPath>\n",
       "</defs>\n",
       "<polyline clip-path=\"url(#clip872)\" style=\"stroke:#000000; stroke-linecap:round; stroke-linejoin:round; stroke-width:2; stroke-opacity:0.1; fill:none\" points=\"477.734,1486.45 477.734,47.2441 \"/>\n",
       "<polyline clip-path=\"url(#clip872)\" style=\"stroke:#000000; stroke-linecap:round; stroke-linejoin:round; stroke-width:2; stroke-opacity:0.1; fill:none\" points=\"866.206,1486.45 866.206,47.2441 \"/>\n",
       "<polyline clip-path=\"url(#clip872)\" style=\"stroke:#000000; stroke-linecap:round; stroke-linejoin:round; stroke-width:2; stroke-opacity:0.1; fill:none\" points=\"1254.68,1486.45 1254.68,47.2441 \"/>\n",
       "<polyline clip-path=\"url(#clip872)\" style=\"stroke:#000000; stroke-linecap:round; stroke-linejoin:round; stroke-width:2; stroke-opacity:0.1; fill:none\" points=\"1643.15,1486.45 1643.15,47.2441 \"/>\n",
       "<polyline clip-path=\"url(#clip872)\" style=\"stroke:#000000; stroke-linecap:round; stroke-linejoin:round; stroke-width:2; stroke-opacity:0.1; fill:none\" points=\"2031.62,1486.45 2031.62,47.2441 \"/>\n",
       "<polyline clip-path=\"url(#clip870)\" style=\"stroke:#000000; stroke-linecap:round; stroke-linejoin:round; stroke-width:4; stroke-opacity:1; fill:none\" points=\"156.598,1486.45 2352.76,1486.45 \"/>\n",
       "<polyline clip-path=\"url(#clip870)\" style=\"stroke:#000000; stroke-linecap:round; stroke-linejoin:round; stroke-width:4; stroke-opacity:1; fill:none\" points=\"477.734,1486.45 477.734,1467.55 \"/>\n",
       "<polyline clip-path=\"url(#clip870)\" style=\"stroke:#000000; stroke-linecap:round; stroke-linejoin:round; stroke-width:4; stroke-opacity:1; fill:none\" points=\"866.206,1486.45 866.206,1467.55 \"/>\n",
       "<polyline clip-path=\"url(#clip870)\" style=\"stroke:#000000; stroke-linecap:round; stroke-linejoin:round; stroke-width:4; stroke-opacity:1; fill:none\" points=\"1254.68,1486.45 1254.68,1467.55 \"/>\n",
       "<polyline clip-path=\"url(#clip870)\" style=\"stroke:#000000; stroke-linecap:round; stroke-linejoin:round; stroke-width:4; stroke-opacity:1; fill:none\" points=\"1643.15,1486.45 1643.15,1467.55 \"/>\n",
       "<polyline clip-path=\"url(#clip870)\" style=\"stroke:#000000; stroke-linecap:round; stroke-linejoin:round; stroke-width:4; stroke-opacity:1; fill:none\" points=\"2031.62,1486.45 2031.62,1467.55 \"/>\n",
       "<path clip-path=\"url(#clip870)\" d=\"M463.14 1529.7 Q459.992 1529.7 458.14 1531.86 Q456.311 1534.01 456.311 1537.76 Q456.311 1541.49 458.14 1543.66 Q459.992 1545.82 463.14 1545.82 Q466.288 1545.82 468.116 1543.66 Q469.968 1541.49 469.968 1537.76 Q469.968 1534.01 468.116 1531.86 Q466.288 1529.7 463.14 1529.7 M472.422 1515.05 L472.422 1519.31 Q470.663 1518.48 468.857 1518.04 Q467.075 1517.6 465.316 1517.6 Q460.686 1517.6 458.232 1520.72 Q455.802 1523.85 455.455 1530.17 Q456.82 1528.15 458.88 1527.09 Q460.941 1526 463.417 1526 Q468.626 1526 471.635 1529.17 Q474.667 1532.32 474.667 1537.76 Q474.667 1543.08 471.519 1546.3 Q468.371 1549.52 463.14 1549.52 Q457.144 1549.52 453.973 1544.94 Q450.802 1540.33 450.802 1531.6 Q450.802 1523.41 454.691 1518.55 Q458.58 1513.66 465.13 1513.66 Q466.89 1513.66 468.672 1514.01 Q470.478 1514.36 472.422 1515.05 Z\" fill=\"#000000\" fill-rule=\"nonzero\" fill-opacity=\"1\" /><path clip-path=\"url(#clip870)\" d=\"M492.723 1517.37 Q489.112 1517.37 487.283 1520.93 Q485.478 1524.47 485.478 1531.6 Q485.478 1538.71 487.283 1542.27 Q489.112 1545.82 492.723 1545.82 Q496.357 1545.82 498.163 1542.27 Q499.991 1538.71 499.991 1531.6 Q499.991 1524.47 498.163 1520.93 Q496.357 1517.37 492.723 1517.37 M492.723 1513.66 Q498.533 1513.66 501.589 1518.27 Q504.667 1522.85 504.667 1531.6 Q504.667 1540.33 501.589 1544.94 Q498.533 1549.52 492.723 1549.52 Q486.913 1549.52 483.834 1544.94 Q480.778 1540.33 480.778 1531.6 Q480.778 1522.85 483.834 1518.27 Q486.913 1513.66 492.723 1513.66 Z\" fill=\"#000000\" fill-rule=\"nonzero\" fill-opacity=\"1\" /><path clip-path=\"url(#clip870)\" d=\"M841.333 1548.13 L841.333 1543.87 Q843.092 1544.7 844.898 1545.14 Q846.704 1545.58 848.44 1545.58 Q853.069 1545.58 855.5 1542.48 Q857.954 1539.36 858.301 1533.01 Q856.958 1535.01 854.898 1536.07 Q852.838 1537.13 850.338 1537.13 Q845.153 1537.13 842.12 1534.01 Q839.111 1530.86 839.111 1525.42 Q839.111 1520.1 842.259 1516.88 Q845.407 1513.66 850.639 1513.66 Q856.634 1513.66 859.782 1518.27 Q862.953 1522.85 862.953 1531.6 Q862.953 1539.77 859.065 1544.66 Q855.199 1549.52 848.648 1549.52 Q846.889 1549.52 845.083 1549.17 Q843.278 1548.82 841.333 1548.13 M850.639 1533.48 Q853.787 1533.48 855.616 1531.32 Q857.467 1529.17 857.467 1525.42 Q857.467 1521.7 855.616 1519.54 Q853.787 1517.37 850.639 1517.37 Q847.491 1517.37 845.639 1519.54 Q843.81 1521.7 843.81 1525.42 Q843.81 1529.17 845.639 1531.32 Q847.491 1533.48 850.639 1533.48 Z\" fill=\"#000000\" fill-rule=\"nonzero\" fill-opacity=\"1\" /><path clip-path=\"url(#clip870)\" d=\"M881.356 1517.37 Q877.745 1517.37 875.916 1520.93 Q874.111 1524.47 874.111 1531.6 Q874.111 1538.71 875.916 1542.27 Q877.745 1545.82 881.356 1545.82 Q884.99 1545.82 886.796 1542.27 Q888.625 1538.71 888.625 1531.6 Q888.625 1524.47 886.796 1520.93 Q884.99 1517.37 881.356 1517.37 M881.356 1513.66 Q887.166 1513.66 890.222 1518.27 Q893.301 1522.85 893.301 1531.6 Q893.301 1540.33 890.222 1544.94 Q887.166 1549.52 881.356 1549.52 Q875.546 1549.52 872.467 1544.94 Q869.412 1540.33 869.412 1531.6 Q869.412 1522.85 872.467 1518.27 Q875.546 1513.66 881.356 1513.66 Z\" fill=\"#000000\" fill-rule=\"nonzero\" fill-opacity=\"1\" /><path clip-path=\"url(#clip870)\" d=\"M1214.28 1544.91 L1221.92 1544.91 L1221.92 1518.55 L1213.61 1520.21 L1213.61 1515.95 L1221.88 1514.29 L1226.55 1514.29 L1226.55 1544.91 L1234.19 1544.91 L1234.19 1548.85 L1214.28 1548.85 L1214.28 1544.91 Z\" fill=\"#000000\" fill-rule=\"nonzero\" fill-opacity=\"1\" /><path clip-path=\"url(#clip870)\" d=\"M1247.66 1544.91 L1263.98 1544.91 L1263.98 1548.85 L1242.04 1548.85 L1242.04 1544.91 Q1244.7 1542.16 1249.28 1537.53 Q1253.89 1532.88 1255.07 1531.53 Q1257.32 1529.01 1258.2 1527.27 Q1259.1 1525.51 1259.1 1523.82 Q1259.1 1521.07 1257.15 1519.33 Q1255.23 1517.6 1252.13 1517.6 Q1249.93 1517.6 1247.48 1518.36 Q1245.05 1519.13 1242.27 1520.68 L1242.27 1515.95 Q1245.09 1514.82 1247.55 1514.24 Q1250 1513.66 1252.04 1513.66 Q1257.41 1513.66 1260.6 1516.35 Q1263.8 1519.03 1263.8 1523.52 Q1263.8 1525.65 1262.99 1527.57 Q1262.2 1529.47 1260.09 1532.07 Q1259.52 1532.74 1256.41 1535.95 Q1253.31 1539.15 1247.66 1544.91 Z\" fill=\"#000000\" fill-rule=\"nonzero\" fill-opacity=\"1\" /><path clip-path=\"url(#clip870)\" d=\"M1283.8 1517.37 Q1280.19 1517.37 1278.36 1520.93 Q1276.55 1524.47 1276.55 1531.6 Q1276.55 1538.71 1278.36 1542.27 Q1280.19 1545.82 1283.8 1545.82 Q1287.43 1545.82 1289.24 1542.27 Q1291.07 1538.71 1291.07 1531.6 Q1291.07 1524.47 1289.24 1520.93 Q1287.43 1517.37 1283.8 1517.37 M1283.8 1513.66 Q1289.61 1513.66 1292.66 1518.27 Q1295.74 1522.85 1295.74 1531.6 Q1295.74 1540.33 1292.66 1544.94 Q1289.61 1549.52 1283.8 1549.52 Q1277.99 1549.52 1274.91 1544.94 Q1271.85 1540.33 1271.85 1531.6 Q1271.85 1522.85 1274.91 1518.27 Q1277.99 1513.66 1283.8 1513.66 Z\" fill=\"#000000\" fill-rule=\"nonzero\" fill-opacity=\"1\" /><path clip-path=\"url(#clip870)\" d=\"M1602.76 1544.91 L1610.39 1544.91 L1610.39 1518.55 L1602.08 1520.21 L1602.08 1515.95 L1610.35 1514.29 L1615.02 1514.29 L1615.02 1544.91 L1622.66 1544.91 L1622.66 1548.85 L1602.76 1548.85 L1602.76 1544.91 Z\" fill=\"#000000\" fill-rule=\"nonzero\" fill-opacity=\"1\" /><path clip-path=\"url(#clip870)\" d=\"M1632.15 1514.29 L1650.51 1514.29 L1650.51 1518.22 L1636.44 1518.22 L1636.44 1526.7 Q1637.45 1526.35 1638.47 1526.19 Q1639.49 1526 1640.51 1526 Q1646.3 1526 1649.68 1529.17 Q1653.06 1532.34 1653.06 1537.76 Q1653.06 1543.34 1649.58 1546.44 Q1646.11 1549.52 1639.79 1549.52 Q1637.62 1549.52 1635.35 1549.15 Q1633.1 1548.78 1630.69 1548.04 L1630.69 1543.34 Q1632.78 1544.47 1635 1545.03 Q1637.22 1545.58 1639.7 1545.58 Q1643.7 1545.58 1646.04 1543.48 Q1648.38 1541.37 1648.38 1537.76 Q1648.38 1534.15 1646.04 1532.04 Q1643.7 1529.94 1639.7 1529.94 Q1637.82 1529.94 1635.95 1530.35 Q1634.1 1530.77 1632.15 1531.65 L1632.15 1514.29 Z\" fill=\"#000000\" fill-rule=\"nonzero\" fill-opacity=\"1\" /><path clip-path=\"url(#clip870)\" d=\"M1672.27 1517.37 Q1668.66 1517.37 1666.83 1520.93 Q1665.02 1524.47 1665.02 1531.6 Q1665.02 1538.71 1666.83 1542.27 Q1668.66 1545.82 1672.27 1545.82 Q1675.9 1545.82 1677.71 1542.27 Q1679.54 1538.71 1679.54 1531.6 Q1679.54 1524.47 1677.71 1520.93 Q1675.9 1517.37 1672.27 1517.37 M1672.27 1513.66 Q1678.08 1513.66 1681.13 1518.27 Q1684.21 1522.85 1684.21 1531.6 Q1684.21 1540.33 1681.13 1544.94 Q1678.08 1549.52 1672.27 1549.52 Q1666.46 1549.52 1663.38 1544.94 Q1660.32 1540.33 1660.32 1531.6 Q1660.32 1522.85 1663.38 1518.27 Q1666.46 1513.66 1672.27 1513.66 Z\" fill=\"#000000\" fill-rule=\"nonzero\" fill-opacity=\"1\" /><path clip-path=\"url(#clip870)\" d=\"M1991.23 1544.91 L1998.87 1544.91 L1998.87 1518.55 L1990.56 1520.21 L1990.56 1515.95 L1998.82 1514.29 L2003.49 1514.29 L2003.49 1544.91 L2011.13 1544.91 L2011.13 1548.85 L1991.23 1548.85 L1991.23 1544.91 Z\" fill=\"#000000\" fill-rule=\"nonzero\" fill-opacity=\"1\" /><path clip-path=\"url(#clip870)\" d=\"M2030.58 1532.44 Q2027.24 1532.44 2025.32 1534.22 Q2023.43 1536 2023.43 1539.13 Q2023.43 1542.25 2025.32 1544.03 Q2027.24 1545.82 2030.58 1545.82 Q2033.91 1545.82 2035.83 1544.03 Q2037.75 1542.23 2037.75 1539.13 Q2037.75 1536 2035.83 1534.22 Q2033.93 1532.44 2030.58 1532.44 M2025.9 1530.45 Q2022.89 1529.7 2021.2 1527.64 Q2019.54 1525.58 2019.54 1522.62 Q2019.54 1518.48 2022.48 1516.07 Q2025.44 1513.66 2030.58 1513.66 Q2035.74 1513.66 2038.68 1516.07 Q2041.62 1518.48 2041.62 1522.62 Q2041.62 1525.58 2039.93 1527.64 Q2038.26 1529.7 2035.28 1530.45 Q2038.66 1531.23 2040.53 1533.52 Q2042.43 1535.82 2042.43 1539.13 Q2042.43 1544.15 2039.35 1546.83 Q2036.3 1549.52 2030.58 1549.52 Q2024.86 1549.52 2021.78 1546.83 Q2018.73 1544.15 2018.73 1539.13 Q2018.73 1535.82 2020.62 1533.52 Q2022.52 1531.23 2025.9 1530.45 M2024.19 1523.06 Q2024.19 1525.75 2025.86 1527.25 Q2027.55 1528.76 2030.58 1528.76 Q2033.59 1528.76 2035.28 1527.25 Q2036.99 1525.75 2036.99 1523.06 Q2036.99 1520.38 2035.28 1518.87 Q2033.59 1517.37 2030.58 1517.37 Q2027.55 1517.37 2025.86 1518.87 Q2024.19 1520.38 2024.19 1523.06 Z\" fill=\"#000000\" fill-rule=\"nonzero\" fill-opacity=\"1\" /><path clip-path=\"url(#clip870)\" d=\"M2060.74 1517.37 Q2057.13 1517.37 2055.3 1520.93 Q2053.49 1524.47 2053.49 1531.6 Q2053.49 1538.71 2055.3 1542.27 Q2057.13 1545.82 2060.74 1545.82 Q2064.37 1545.82 2066.18 1542.27 Q2068.01 1538.71 2068.01 1531.6 Q2068.01 1524.47 2066.18 1520.93 Q2064.37 1517.37 2060.74 1517.37 M2060.74 1513.66 Q2066.55 1513.66 2069.61 1518.27 Q2072.68 1522.85 2072.68 1531.6 Q2072.68 1540.33 2069.61 1544.94 Q2066.55 1549.52 2060.74 1549.52 Q2054.93 1549.52 2051.85 1544.94 Q2048.8 1540.33 2048.8 1531.6 Q2048.8 1522.85 2051.85 1518.27 Q2054.93 1513.66 2060.74 1513.66 Z\" fill=\"#000000\" fill-rule=\"nonzero\" fill-opacity=\"1\" /><polyline clip-path=\"url(#clip872)\" style=\"stroke:#000000; stroke-linecap:round; stroke-linejoin:round; stroke-width:2; stroke-opacity:0.1; fill:none\" points=\"156.598,1486.45 2352.76,1486.45 \"/>\n",
       "<polyline clip-path=\"url(#clip872)\" style=\"stroke:#000000; stroke-linecap:round; stroke-linejoin:round; stroke-width:2; stroke-opacity:0.1; fill:none\" points=\"156.598,1198.61 2352.76,1198.61 \"/>\n",
       "<polyline clip-path=\"url(#clip872)\" style=\"stroke:#000000; stroke-linecap:round; stroke-linejoin:round; stroke-width:2; stroke-opacity:0.1; fill:none\" points=\"156.598,910.766 2352.76,910.766 \"/>\n",
       "<polyline clip-path=\"url(#clip872)\" style=\"stroke:#000000; stroke-linecap:round; stroke-linejoin:round; stroke-width:2; stroke-opacity:0.1; fill:none\" points=\"156.598,622.926 2352.76,622.926 \"/>\n",
       "<polyline clip-path=\"url(#clip872)\" style=\"stroke:#000000; stroke-linecap:round; stroke-linejoin:round; stroke-width:2; stroke-opacity:0.1; fill:none\" points=\"156.598,335.085 2352.76,335.085 \"/>\n",
       "<polyline clip-path=\"url(#clip872)\" style=\"stroke:#000000; stroke-linecap:round; stroke-linejoin:round; stroke-width:2; stroke-opacity:0.1; fill:none\" points=\"156.598,47.2441 2352.76,47.2441 \"/>\n",
       "<polyline clip-path=\"url(#clip870)\" style=\"stroke:#000000; stroke-linecap:round; stroke-linejoin:round; stroke-width:4; stroke-opacity:1; fill:none\" points=\"156.598,1486.45 156.598,47.2441 \"/>\n",
       "<polyline clip-path=\"url(#clip870)\" style=\"stroke:#000000; stroke-linecap:round; stroke-linejoin:round; stroke-width:4; stroke-opacity:1; fill:none\" points=\"156.598,1486.45 175.496,1486.45 \"/>\n",
       "<polyline clip-path=\"url(#clip870)\" style=\"stroke:#000000; stroke-linecap:round; stroke-linejoin:round; stroke-width:4; stroke-opacity:1; fill:none\" points=\"156.598,1198.61 175.496,1198.61 \"/>\n",
       "<polyline clip-path=\"url(#clip870)\" style=\"stroke:#000000; stroke-linecap:round; stroke-linejoin:round; stroke-width:4; stroke-opacity:1; fill:none\" points=\"156.598,910.766 175.496,910.766 \"/>\n",
       "<polyline clip-path=\"url(#clip870)\" style=\"stroke:#000000; stroke-linecap:round; stroke-linejoin:round; stroke-width:4; stroke-opacity:1; fill:none\" points=\"156.598,622.926 175.496,622.926 \"/>\n",
       "<polyline clip-path=\"url(#clip870)\" style=\"stroke:#000000; stroke-linecap:round; stroke-linejoin:round; stroke-width:4; stroke-opacity:1; fill:none\" points=\"156.598,335.085 175.496,335.085 \"/>\n",
       "<polyline clip-path=\"url(#clip870)\" style=\"stroke:#000000; stroke-linecap:round; stroke-linejoin:round; stroke-width:4; stroke-opacity:1; fill:none\" points=\"156.598,47.2441 175.496,47.2441 \"/>\n",
       "<path clip-path=\"url(#clip870)\" d=\"M63.4226 1472.25 Q59.8115 1472.25 57.9828 1475.81 Q56.1773 1479.35 56.1773 1486.48 Q56.1773 1493.59 57.9828 1497.15 Q59.8115 1500.7 63.4226 1500.7 Q67.0569 1500.7 68.8624 1497.15 Q70.6911 1493.59 70.6911 1486.48 Q70.6911 1479.35 68.8624 1475.81 Q67.0569 1472.25 63.4226 1472.25 M63.4226 1468.54 Q69.2328 1468.54 72.2883 1473.15 Q75.367 1477.73 75.367 1486.48 Q75.367 1495.21 72.2883 1499.82 Q69.2328 1504.4 63.4226 1504.4 Q57.6125 1504.4 54.5338 1499.82 Q51.4782 1495.21 51.4782 1486.48 Q51.4782 1477.73 54.5338 1473.15 Q57.6125 1468.54 63.4226 1468.54 Z\" fill=\"#000000\" fill-rule=\"nonzero\" fill-opacity=\"1\" /><path clip-path=\"url(#clip870)\" d=\"M83.5845 1497.85 L88.4688 1497.85 L88.4688 1503.73 L83.5845 1503.73 L83.5845 1497.85 Z\" fill=\"#000000\" fill-rule=\"nonzero\" fill-opacity=\"1\" /><path clip-path=\"url(#clip870)\" d=\"M108.654 1472.25 Q105.043 1472.25 103.214 1475.81 Q101.409 1479.35 101.409 1486.48 Q101.409 1493.59 103.214 1497.15 Q105.043 1500.7 108.654 1500.7 Q112.288 1500.7 114.094 1497.15 Q115.922 1493.59 115.922 1486.48 Q115.922 1479.35 114.094 1475.81 Q112.288 1472.25 108.654 1472.25 M108.654 1468.54 Q114.464 1468.54 117.52 1473.15 Q120.598 1477.73 120.598 1486.48 Q120.598 1495.21 117.52 1499.82 Q114.464 1504.4 108.654 1504.4 Q102.844 1504.4 99.765 1499.82 Q96.7095 1495.21 96.7095 1486.48 Q96.7095 1477.73 99.765 1473.15 Q102.844 1468.54 108.654 1468.54 Z\" fill=\"#000000\" fill-rule=\"nonzero\" fill-opacity=\"1\" /><path clip-path=\"url(#clip870)\" d=\"M65.0198 1184.41 Q61.4087 1184.41 59.58 1187.97 Q57.7745 1191.51 57.7745 1198.64 Q57.7745 1205.75 59.58 1209.31 Q61.4087 1212.85 65.0198 1212.85 Q68.6541 1212.85 70.4596 1209.31 Q72.2883 1205.75 72.2883 1198.64 Q72.2883 1191.51 70.4596 1187.97 Q68.6541 1184.41 65.0198 1184.41 M65.0198 1180.7 Q70.83 1180.7 73.8855 1185.31 Q76.9642 1189.89 76.9642 1198.64 Q76.9642 1207.37 73.8855 1211.98 Q70.83 1216.56 65.0198 1216.56 Q59.2097 1216.56 56.131 1211.98 Q53.0754 1207.37 53.0754 1198.64 Q53.0754 1189.89 56.131 1185.31 Q59.2097 1180.7 65.0198 1180.7 Z\" fill=\"#000000\" fill-rule=\"nonzero\" fill-opacity=\"1\" /><path clip-path=\"url(#clip870)\" d=\"M85.1818 1210.01 L90.066 1210.01 L90.066 1215.89 L85.1818 1215.89 L85.1818 1210.01 Z\" fill=\"#000000\" fill-rule=\"nonzero\" fill-opacity=\"1\" /><path clip-path=\"url(#clip870)\" d=\"M104.279 1211.95 L120.598 1211.95 L120.598 1215.89 L98.6539 1215.89 L98.6539 1211.95 Q101.316 1209.2 105.899 1204.57 Q110.506 1199.91 111.686 1198.57 Q113.932 1196.05 114.811 1194.31 Q115.714 1192.55 115.714 1190.86 Q115.714 1188.11 113.77 1186.37 Q111.848 1184.64 108.746 1184.64 Q106.547 1184.64 104.094 1185.4 Q101.663 1186.17 98.8854 1187.72 L98.8854 1182.99 Q101.709 1181.86 104.163 1181.28 Q106.617 1180.7 108.654 1180.7 Q114.024 1180.7 117.219 1183.39 Q120.413 1186.07 120.413 1190.56 Q120.413 1192.69 119.603 1194.61 Q118.816 1196.51 116.709 1199.1 Q116.131 1199.78 113.029 1202.99 Q109.927 1206.19 104.279 1211.95 Z\" fill=\"#000000\" fill-rule=\"nonzero\" fill-opacity=\"1\" /><path clip-path=\"url(#clip870)\" d=\"M62.9365 896.565 Q59.3254 896.565 57.4967 900.13 Q55.6912 903.671 55.6912 910.801 Q55.6912 917.908 57.4967 921.472 Q59.3254 925.014 62.9365 925.014 Q66.5707 925.014 68.3763 921.472 Q70.205 917.908 70.205 910.801 Q70.205 903.671 68.3763 900.13 Q66.5707 896.565 62.9365 896.565 M62.9365 892.861 Q68.7467 892.861 71.8022 897.468 Q74.8809 902.051 74.8809 910.801 Q74.8809 919.528 71.8022 924.134 Q68.7467 928.718 62.9365 928.718 Q57.1264 928.718 54.0477 924.134 Q50.9921 919.528 50.9921 910.801 Q50.9921 902.051 54.0477 897.468 Q57.1264 892.861 62.9365 892.861 Z\" fill=\"#000000\" fill-rule=\"nonzero\" fill-opacity=\"1\" /><path clip-path=\"url(#clip870)\" d=\"M83.0984 922.167 L87.9827 922.167 L87.9827 928.046 L83.0984 928.046 L83.0984 922.167 Z\" fill=\"#000000\" fill-rule=\"nonzero\" fill-opacity=\"1\" /><path clip-path=\"url(#clip870)\" d=\"M111.015 897.56 L99.2095 916.009 L111.015 916.009 L111.015 897.56 M109.788 893.486 L115.668 893.486 L115.668 916.009 L120.598 916.009 L120.598 919.898 L115.668 919.898 L115.668 928.046 L111.015 928.046 L111.015 919.898 L95.4132 919.898 L95.4132 915.384 L109.788 893.486 Z\" fill=\"#000000\" fill-rule=\"nonzero\" fill-opacity=\"1\" /><path clip-path=\"url(#clip870)\" d=\"M63.2606 608.724 Q59.6495 608.724 57.8208 612.289 Q56.0152 615.831 56.0152 622.96 Q56.0152 630.067 57.8208 633.632 Q59.6495 637.173 63.2606 637.173 Q66.8948 637.173 68.7004 633.632 Q70.5291 630.067 70.5291 622.96 Q70.5291 615.831 68.7004 612.289 Q66.8948 608.724 63.2606 608.724 M63.2606 605.021 Q69.0707 605.021 72.1263 609.627 Q75.205 614.21 75.205 622.96 Q75.205 631.687 72.1263 636.294 Q69.0707 640.877 63.2606 640.877 Q57.4504 640.877 54.3717 636.294 Q51.3162 631.687 51.3162 622.96 Q51.3162 614.21 54.3717 609.627 Q57.4504 605.021 63.2606 605.021 Z\" fill=\"#000000\" fill-rule=\"nonzero\" fill-opacity=\"1\" /><path clip-path=\"url(#clip870)\" d=\"M83.4225 634.326 L88.3067 634.326 L88.3067 640.206 L83.4225 640.206 L83.4225 634.326 Z\" fill=\"#000000\" fill-rule=\"nonzero\" fill-opacity=\"1\" /><path clip-path=\"url(#clip870)\" d=\"M109.071 621.062 Q105.922 621.062 104.071 623.215 Q102.242 625.368 102.242 629.118 Q102.242 632.845 104.071 635.02 Q105.922 637.173 109.071 637.173 Q112.219 637.173 114.047 635.02 Q115.899 632.845 115.899 629.118 Q115.899 625.368 114.047 623.215 Q112.219 621.062 109.071 621.062 M118.353 606.409 L118.353 610.669 Q116.594 609.835 114.788 609.396 Q113.006 608.956 111.246 608.956 Q106.617 608.956 104.163 612.081 Q101.733 615.206 101.385 621.525 Q102.751 619.511 104.811 618.446 Q106.871 617.359 109.348 617.359 Q114.557 617.359 117.566 620.53 Q120.598 623.678 120.598 629.118 Q120.598 634.442 117.45 637.659 Q114.302 640.877 109.071 640.877 Q103.075 640.877 99.9039 636.294 Q96.7326 631.687 96.7326 622.96 Q96.7326 614.766 100.621 609.905 Q104.51 605.021 111.061 605.021 Q112.82 605.021 114.603 605.368 Q116.408 605.715 118.353 606.409 Z\" fill=\"#000000\" fill-rule=\"nonzero\" fill-opacity=\"1\" /><path clip-path=\"url(#clip870)\" d=\"M63.5152 320.884 Q59.9041 320.884 58.0754 324.448 Q56.2699 327.99 56.2699 335.12 Q56.2699 342.226 58.0754 345.791 Q59.9041 349.332 63.5152 349.332 Q67.1494 349.332 68.955 345.791 Q70.7837 342.226 70.7837 335.12 Q70.7837 327.99 68.955 324.448 Q67.1494 320.884 63.5152 320.884 M63.5152 317.18 Q69.3254 317.18 72.3809 321.786 Q75.4596 326.37 75.4596 335.12 Q75.4596 343.846 72.3809 348.453 Q69.3254 353.036 63.5152 353.036 Q57.7051 353.036 54.6264 348.453 Q51.5708 343.846 51.5708 335.12 Q51.5708 326.37 54.6264 321.786 Q57.7051 317.18 63.5152 317.18 Z\" fill=\"#000000\" fill-rule=\"nonzero\" fill-opacity=\"1\" /><path clip-path=\"url(#clip870)\" d=\"M83.6771 346.485 L88.5614 346.485 L88.5614 352.365 L83.6771 352.365 L83.6771 346.485 Z\" fill=\"#000000\" fill-rule=\"nonzero\" fill-opacity=\"1\" /><path clip-path=\"url(#clip870)\" d=\"M108.746 335.953 Q105.413 335.953 103.492 337.735 Q101.594 339.518 101.594 342.643 Q101.594 345.768 103.492 347.55 Q105.413 349.332 108.746 349.332 Q112.08 349.332 114.001 347.55 Q115.922 345.745 115.922 342.643 Q115.922 339.518 114.001 337.735 Q112.103 335.953 108.746 335.953 M104.071 333.962 Q101.061 333.221 99.3715 331.161 Q97.7048 329.101 97.7048 326.138 Q97.7048 321.995 100.645 319.587 Q103.608 317.18 108.746 317.18 Q113.908 317.18 116.848 319.587 Q119.788 321.995 119.788 326.138 Q119.788 329.101 118.098 331.161 Q116.432 333.221 113.445 333.962 Q116.825 334.749 118.7 337.041 Q120.598 339.333 120.598 342.643 Q120.598 347.666 117.52 350.351 Q114.464 353.036 108.746 353.036 Q103.029 353.036 99.9502 350.351 Q96.8947 347.666 96.8947 342.643 Q96.8947 339.333 98.7928 337.041 Q100.691 334.749 104.071 333.962 M102.358 326.578 Q102.358 329.263 104.024 330.768 Q105.714 332.272 108.746 332.272 Q111.756 332.272 113.445 330.768 Q115.158 329.263 115.158 326.578 Q115.158 323.893 113.445 322.388 Q111.756 320.884 108.746 320.884 Q105.714 320.884 104.024 322.388 Q102.358 323.893 102.358 326.578 Z\" fill=\"#000000\" fill-rule=\"nonzero\" fill-opacity=\"1\" /><path clip-path=\"url(#clip870)\" d=\"M54.2328 60.5889 L61.8717 60.5889 L61.8717 34.2233 L53.5616 35.89 L53.5616 31.6308 L61.8254 29.9641 L66.5013 29.9641 L66.5013 60.5889 L74.1402 60.5889 L74.1402 64.5241 L54.2328 64.5241 L54.2328 60.5889 Z\" fill=\"#000000\" fill-rule=\"nonzero\" fill-opacity=\"1\" /><path clip-path=\"url(#clip870)\" d=\"M83.5845 58.6445 L88.4688 58.6445 L88.4688 64.5241 L83.5845 64.5241 L83.5845 58.6445 Z\" fill=\"#000000\" fill-rule=\"nonzero\" fill-opacity=\"1\" /><path clip-path=\"url(#clip870)\" d=\"M108.654 33.0428 Q105.043 33.0428 103.214 36.6076 Q101.409 40.1492 101.409 47.2788 Q101.409 54.3853 103.214 57.9501 Q105.043 61.4917 108.654 61.4917 Q112.288 61.4917 114.094 57.9501 Q115.922 54.3853 115.922 47.2788 Q115.922 40.1492 114.094 36.6076 Q112.288 33.0428 108.654 33.0428 M108.654 29.3391 Q114.464 29.3391 117.52 33.9456 Q120.598 38.5289 120.598 47.2788 Q120.598 56.0056 117.52 60.6121 Q114.464 65.1954 108.654 65.1954 Q102.844 65.1954 99.765 60.6121 Q96.7095 56.0056 96.7095 47.2788 Q96.7095 38.5289 99.765 33.9456 Q102.844 29.3391 108.654 29.3391 Z\" fill=\"#000000\" fill-rule=\"nonzero\" fill-opacity=\"1\" /><polyline clip-path=\"url(#clip872)\" style=\"stroke:#009af9; stroke-linecap:round; stroke-linejoin:round; stroke-width:4; stroke-opacity:1; fill:none\" points=\"218.754,1358.58 736.715,1358.58 995.696,1358.58 2290.6,1358.58 \"/>\n",
       "<path clip-path=\"url(#clip870)\" d=\"M2007.5 198.898 L2279.55 198.898 L2279.55 95.2176 L2007.5 95.2176  Z\" fill=\"#ffffff\" fill-rule=\"evenodd\" fill-opacity=\"1\"/>\n",
       "<polyline clip-path=\"url(#clip870)\" style=\"stroke:#000000; stroke-linecap:round; stroke-linejoin:round; stroke-width:4; stroke-opacity:1; fill:none\" points=\"2007.5,198.898 2279.55,198.898 2279.55,95.2176 2007.5,95.2176 2007.5,198.898 \"/>\n",
       "<polyline clip-path=\"url(#clip870)\" style=\"stroke:#009af9; stroke-linecap:round; stroke-linejoin:round; stroke-width:4; stroke-opacity:1; fill:none\" points=\"2031.91,147.058 2178.32,147.058 \"/>\n",
       "<path clip-path=\"url(#clip870)\" d=\"M2216.56 166.745 Q2214.76 171.375 2213.04 172.787 Q2211.33 174.199 2208.46 174.199 L2205.06 174.199 L2205.06 170.634 L2207.56 170.634 Q2209.32 170.634 2210.29 169.8 Q2211.26 168.967 2212.44 165.865 L2213.2 163.921 L2202.72 138.412 L2207.23 138.412 L2215.33 158.689 L2223.44 138.412 L2227.95 138.412 L2216.56 166.745 Z\" fill=\"#000000\" fill-rule=\"nonzero\" fill-opacity=\"1\" /><path clip-path=\"url(#clip870)\" d=\"M2235.24 160.402 L2242.88 160.402 L2242.88 134.037 L2234.57 135.703 L2234.57 131.444 L2242.83 129.778 L2247.51 129.778 L2247.51 160.402 L2255.15 160.402 L2255.15 164.338 L2235.24 164.338 L2235.24 160.402 Z\" fill=\"#000000\" fill-rule=\"nonzero\" fill-opacity=\"1\" /></svg>\n"
      ]
     },
     "execution_count": 42,
     "metadata": {},
     "output_type": "execute_result"
    }
   ],
   "source": [
    "plot(Ns, SvN, ylims = (0,1))"
   ]
  },
  {
   "cell_type": "markdown",
   "metadata": {},
   "source": [
    "## Heisenberg chain (with $S^z$ conservation)"
   ]
  },
  {
   "cell_type": "code",
   "execution_count": null,
   "metadata": {
    "scrolled": true
   },
   "outputs": [],
   "source": [
    "# Number of sites in the 1D quantum system\n",
    "N = 100\n",
    "\n",
    "# Generate an index set representing quantum sites with spin S=1/2, conserving quantum numbers\n",
    "sites = siteinds(\"S=1/2\", N; conserve_qns=true)\n",
    "\n",
    "# Initialize an operator sum representing the Hamiltonian using ITensors\n",
    "ampo = OpSum()\n",
    "\n",
    "# Construct the Hamiltonian operator for the 1D quantum system\n",
    "for j = 1:N-1\n",
    "    # Heisenberg interaction term (Sz-Sz)\n",
    "    ampo += \"Sz\", j, \"Sz\", j+1\n",
    "    # Spin-flip terms (S+, S- and S-, S+) with coupling strength 1/2\n",
    "    ampo += 1/2, \"S+\", j, \"S-\", j+1\n",
    "    ampo += 1/2, \"S-\", j, \"S+\", j+1\n",
    "end\n",
    "\n",
    "# Convert the operator sum to a Matrix Product Operator (MPO)\n",
    "H = MPO(ampo, sites)\n",
    "\n",
    "# Initialize the initial state to an antiferromagnetic (AFM) state with total Sz=0\n",
    "+psi0 = productMPS(sites, state)\n",
    "\n",
    "# Display the total flux of the initial state\n",
    "@show flux(psi0)\n",
    "\n",
    "# Set up parameters for the DMRG (Density Matrix Renormalization Group) algorithm\n",
    "sweeps = Sweeps(10)\n",
    "setmaxdim!(sweeps, 20, 50, 100)\n",
    "setcutoff!(sweeps, 1E-12)\n",
    "\n",
    "# Perform the DMRG simulation to obtain the ground state energy and MPS representation\n",
    "energy, psi = dmrg(H, psi0, sweeps)\n"
   ]
  },
  {
   "cell_type": "code",
   "execution_count": null,
   "metadata": {},
   "outputs": [],
   "source": []
  }
 ],
 "metadata": {
  "kernelspec": {
   "display_name": "Julia 1.6.4",
   "language": "julia",
   "name": "julia-1.6"
  },
  "language_info": {
   "file_extension": ".jl",
   "mimetype": "application/julia",
   "name": "julia",
   "version": "1.10.1"
  }
 },
 "nbformat": 4,
 "nbformat_minor": 2
}
