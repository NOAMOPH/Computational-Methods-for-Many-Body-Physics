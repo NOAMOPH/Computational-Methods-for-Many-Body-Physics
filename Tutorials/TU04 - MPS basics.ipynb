{
 "cells": [
  {
   "cell_type": "code",
   "execution_count": 2,
   "metadata": {},
   "outputs": [],
   "source": [
    "using TensorOperations, LinearAlgebra"
   ]
  },
  {
   "cell_type": "code",
   "execution_count": 1,
   "metadata": {},
   "outputs": [],
   "source": [
    "using LinearAlgebra\n",
    "using PyPlot\n",
    "using RandomMatrix"
   ]
  },
  {
   "cell_type": "code",
   "execution_count": 3,
   "metadata": {},
   "outputs": [
    {
     "data": {
      "text/plain": [
       "MPSrep_LC (generic function with 2 methods)"
      ]
     },
     "execution_count": 3,
     "metadata": {},
     "output_type": "execute_result"
    }
   ],
   "source": [
    "function MPSrep_LC(psi, maxM=0)\n",
    "    \n",
    "    D = size(psi)[1]\n",
    "    logD = log2(D)\n",
    "    @assert isinteger(logD) \"State vector of incompatible length\"\n",
    "    L = Int(logD) # How many qubits in the state?\n",
    "    psiMPS = []\n",
    "    VN = []\n",
    "    Ms = []\n",
    "    Trunc = []\n",
    "\n",
    "    \n",
    "    psi_matrix = reshape(psi, (2,2^(L-1)))\n",
    "    for l in range(1, stop=L-1)\n",
    "        U,s,V = svd(psi_matrix)\n",
    "        Ml = findlast(s .> 1e-14) # throw out zeros\n",
    "        U, s, V = U[:,1:Ml], s[1:Ml] , V[:,1:Ml]\n",
    "        # first Ml columns of U corresponding to non-zero singular values\n",
    "        # first Ml columns of V (i.e. Ml rows of V') corresponding to non-zero singular values\n",
    "        w = s.^2\n",
    "        svn = -sum(w.*log.(w))\n",
    "        \n",
    "        # if 0<maxM<Ml - truncation\n",
    "        if(maxM > 0 && Ml > maxM) # truncate\n",
    "            trunc = sum(s[maxM:end].^2)\n",
    "            push!(Trunc, trunc)\n",
    "            U, s, V = U[:,1:maxM], s[1:maxM] , V[:,1:maxM]\n",
    "            s /= sqrt(1. - trunc)\n",
    "            Ml = maxM\n",
    "        end\n",
    "                             \n",
    "        @show Ml\n",
    "        push!(Ms, Ml)\n",
    "        push!(VN, svn)\n",
    "        if(l == 1)\n",
    "            push!(psiMPS, reshape(U, (2, Ml)))\n",
    "        else\n",
    "            push!(psiMPS, reshape(U, (Ms[end-1], 2, Ml)))\n",
    "        end\n",
    "        if(l == L-1)\n",
    "            push!(psiMPS, reshape(diagm(s)*V', (Ml, 2)))    \n",
    "        else\n",
    "            psi_matrix = reshape(diagm(s)*V', (2*Ml,2^(L-l-1)))    \n",
    "        end\n",
    "    end\n",
    "    return psiMPS, VN, Ms, Trunc\n",
    "end"
   ]
  },
  {
   "cell_type": "markdown",
   "metadata": {},
   "source": [
    "## Cat State"
   ]
  },
  {
   "cell_type": "code",
   "execution_count": 4,
   "metadata": {},
   "outputs": [
    {
     "name": "stdout",
     "output_type": "stream",
     "text": [
      "Ml = 2\n",
      "Ml = 2\n"
     ]
    },
    {
     "data": {
      "text/plain": [
       "2-element Vector{Any}:\n",
       " 0.6931471805599454\n",
       " 0.6931471805599454"
      ]
     },
     "execution_count": 4,
     "metadata": {},
     "output_type": "execute_result"
    }
   ],
   "source": [
    "L = 3\n",
    "D = 2^L\n",
    "psi = zeros(D)\n",
    "psi[1] = 1.  #cat state\n",
    "psi[end] = 1. #cat state\n",
    "psi ./= norm(psi)\n",
    "psi\n",
    "psiMPS, VN, Ms, Trunc = MPSrep_LC(psi)\n",
    "VN"
   ]
  },
  {
   "cell_type": "markdown",
   "metadata": {},
   "source": [
    "### up spins"
   ]
  },
  {
   "cell_type": "code",
   "execution_count": 5,
   "metadata": {},
   "outputs": [
    {
     "data": {
      "text/plain": [
       "2-element Vector{Float64}:\n",
       " 1.0\n",
       " 0.0"
      ]
     },
     "execution_count": 5,
     "metadata": {},
     "output_type": "execute_result"
    }
   ],
   "source": [
    "psiMPS[1][1,:] # spin up"
   ]
  },
  {
   "cell_type": "code",
   "execution_count": 6,
   "metadata": {},
   "outputs": [
    {
     "data": {
      "text/plain": [
       "2×2 Matrix{Float64}:\n",
       " 1.0  0.0\n",
       " 0.0  0.0"
      ]
     },
     "execution_count": 6,
     "metadata": {},
     "output_type": "execute_result"
    }
   ],
   "source": [
    "psiMPS[2][:,1,:] # spin up"
   ]
  },
  {
   "cell_type": "code",
   "execution_count": 7,
   "metadata": {},
   "outputs": [
    {
     "data": {
      "text/plain": [
       "2×1 Matrix{Float64}:\n",
       " 0.7071067811865475\n",
       " 0.0"
      ]
     },
     "execution_count": 7,
     "metadata": {},
     "output_type": "execute_result"
    }
   ],
   "source": [
    "psiMPS[3][:,1,:] # spin up"
   ]
  },
  {
   "cell_type": "code",
   "execution_count": null,
   "metadata": {
    "scrolled": true
   },
   "outputs": [],
   "source": [
    "psiMPS[4][:,1] # spin up"
   ]
  },
  {
   "cell_type": "markdown",
   "metadata": {},
   "source": [
    "### down spins"
   ]
  },
  {
   "cell_type": "code",
   "execution_count": 8,
   "metadata": {},
   "outputs": [
    {
     "data": {
      "text/plain": [
       "2-element Vector{Float64}:\n",
       " 0.0\n",
       " 1.0"
      ]
     },
     "execution_count": 8,
     "metadata": {},
     "output_type": "execute_result"
    }
   ],
   "source": [
    "psiMPS[1][2,:] # spin down"
   ]
  },
  {
   "cell_type": "code",
   "execution_count": 9,
   "metadata": {},
   "outputs": [
    {
     "data": {
      "text/plain": [
       "2×2 Matrix{Float64}:\n",
       " 0.0   0.0\n",
       " 0.0  -1.0"
      ]
     },
     "execution_count": 9,
     "metadata": {},
     "output_type": "execute_result"
    }
   ],
   "source": [
    "psiMPS[2][:,2,:] # spin down"
   ]
  },
  {
   "cell_type": "code",
   "execution_count": 10,
   "metadata": {},
   "outputs": [
    {
     "data": {
      "text/plain": [
       "2×1 Matrix{Float64}:\n",
       "  0.0\n",
       " -0.7071067811865475"
      ]
     },
     "execution_count": 10,
     "metadata": {},
     "output_type": "execute_result"
    }
   ],
   "source": [
    "psiMPS[3][:,2,:] # spin down"
   ]
  },
  {
   "cell_type": "code",
   "execution_count": null,
   "metadata": {
    "scrolled": true
   },
   "outputs": [],
   "source": [
    "psiMPS[4][:,2] # spin down"
   ]
  },
  {
   "cell_type": "markdown",
   "metadata": {},
   "source": [
    "the minus sign is exactly the gauge freedom shown in class."
   ]
  },
  {
   "cell_type": "markdown",
   "metadata": {},
   "source": [
    "## Random state"
   ]
  },
  {
   "cell_type": "code",
   "execution_count": 12,
   "metadata": {},
   "outputs": [
    {
     "name": "stdout",
     "output_type": "stream",
     "text": [
      "Bond dims - no truncation:\n",
      "Ml = 2\n",
      "Ml = 4\n",
      "Ml = 8\n",
      "Ml = 16\n",
      "Ml = 32\n",
      "Ml = 16\n",
      "Ml = 8\n",
      "Ml = 4\n",
      "Ml = 2\n",
      "Bond dims - with truncation:\n",
      "Ml = 2\n",
      "Ml = 4\n",
      "Ml = 8\n",
      "Ml = 10\n",
      "Ml = 10\n",
      "Ml = 10\n",
      "Ml = 8\n",
      "Ml = 4\n",
      "Ml = 2\n"
     ]
    }
   ],
   "source": [
    "L = 10\n",
    "D = 2^L\n",
    "psi = rand(D)\n",
    "psi ./= norm(psi)\n",
    "psi\n",
    "println(\"Bond dims - no truncation:\")\n",
    "psiMPS, VN, Ms, Trunc = MPSrep_LC(psi);\n",
    "println(\"Bond dims - with truncation:\")\n",
    "psiMPS1, VN1, Ms1, Trunc1 = MPSrep_LC(psi, 10);\n",
    "# VN\n"
   ]
  },
  {
   "cell_type": "code",
   "execution_count": null,
   "metadata": {},
   "outputs": [],
   "source": [
    "plot(VN)\n",
    "# plot(log.(Ms))"
   ]
  },
  {
   "cell_type": "markdown",
   "metadata": {},
   "source": [
    "## MPS - tensor contraction"
   ]
  },
  {
   "cell_type": "code",
   "execution_count": null,
   "metadata": {},
   "outputs": [],
   "source": [
    "psiMPS[3]"
   ]
  },
  {
   "cell_type": "code",
   "execution_count": 13,
   "metadata": {},
   "outputs": [
    {
     "name": "stdout",
     "output_type": "stream",
     "text": [
      "loop\n",
      "loop\n",
      "loop\n",
      "loop\n",
      "loop\n",
      "loop\n",
      "loop\n"
     ]
    },
    {
     "data": {
      "text/plain": [
       "1024×1 Matrix{Float64}:\n",
       " 0.004476193853985417\n",
       " 0.026393202361319902\n",
       " 0.047170227690590816\n",
       " 0.0018399350371513627\n",
       " 0.0011289514856492322\n",
       " 0.04469086683581759\n",
       " 0.053880621650542734\n",
       " 0.047097220232489426\n",
       " 0.04735887650276042\n",
       " 0.015102271599243898\n",
       " 0.04327266720350975\n",
       " 0.0034768784040758284\n",
       " 0.04959083473107147\n",
       " ⋮\n",
       " 0.010251318624936594\n",
       " 0.05131866935936781\n",
       " 0.029583579206680997\n",
       " 0.01932465903596973\n",
       " 0.05163116495862409\n",
       " 0.04541115089764966\n",
       " 0.010626125393752349\n",
       " 0.0032249328004816044\n",
       " 0.047914371331524624\n",
       " 0.017735407770524743\n",
       " 0.03314261088032239\n",
       " 0.01630928502388222"
      ]
     },
     "execution_count": 13,
     "metadata": {},
     "output_type": "execute_result"
    }
   ],
   "source": [
    "L = size(psiMPS)[1]\n",
    "\n",
    "M = size(psiMPS[2])[3]\n",
    "psi_bond = zeros(2,2,M)\n",
    "@tensor psi_bond[s1, s2, l2] = psiMPS[1][s1, l1]*psiMPS[2][l1, s2, l2]\n",
    "psi_bond = reshape(psi_bond,(4,M))\n",
    "\n",
    "for b in range(2, stop=L-2)\n",
    "    println(\"loop\")\n",
    "    M = size(psiMPS[b+1])[3]\n",
    "    psi_new = zeros(2^b,2,M)\n",
    "    @tensor psi_new[s1, s2, l2] = psi_bond[s1, l1]*psiMPS[b+1][l1, s2, l2]\n",
    "    psi_bond = reshape(psi_new,(2^(b+1),M))\n",
    "end\n",
    "\n",
    "psi_new = zeros(2^(L-1),2)\n",
    "@tensor psi_new[s1, s2] = psi_bond[s1, l1]*psiMPS[end][l1, s2]\n",
    "psi_bond = reshape(psi_new,(2^L,1))\n",
    "\n"
   ]
  },
  {
   "cell_type": "code",
   "execution_count": 14,
   "metadata": {},
   "outputs": [
    {
     "data": {
      "text/plain": [
       "1.0000000000000007"
      ]
     },
     "execution_count": 14,
     "metadata": {},
     "output_type": "execute_result"
    }
   ],
   "source": [
    "dot(psi, psi_bond)"
   ]
  }
 ],
 "metadata": {
  "kernelspec": {
   "display_name": "Julia 1.6.4",
   "language": "julia",
   "name": "julia-1.6"
  },
  "language_info": {
   "file_extension": ".jl",
   "mimetype": "application/julia",
   "name": "julia",
   "version": "1.6.4"
  }
 },
 "nbformat": 4,
 "nbformat_minor": 2
}
