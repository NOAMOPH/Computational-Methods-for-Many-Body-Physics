{
 "cells": [
  {
   "cell_type": "code",
   "execution_count": 16,
   "metadata": {},
   "outputs": [
    {
     "name": "stdout",
     "output_type": "stream",
     "text": [
      "  6.624641 seconds (100.00 M allocations: 8.941 GiB, 12.67% gc time)\n"
     ]
    },
    {
     "data": {
      "text/plain": [
       "3.14155748"
      ]
     },
     "execution_count": 16,
     "metadata": {},
     "output_type": "execute_result"
    }
   ],
   "source": [
    "N = Int64(1e8)\n",
    "\n",
    "function pi_estimator(N::Int64)\n",
    "    count = 0\n",
    "    for i = 1:N\n",
    "        r = rand(2)\n",
    "        if sqrt(r[1]^2+r[2]^2)<1\n",
    "            count += 1\n",
    "        end\n",
    "    end\n",
    "\n",
    "    pie = 4*(count/N)\n",
    "    return pie\n",
    "end\n",
    "\n",
    "@time pi_estimator(N)"
   ]
  },
  {
   "cell_type": "code",
   "execution_count": null,
   "metadata": {},
   "outputs": [],
   "source": [
    "function Met_pi(N::Int64)\n",
    "    count = 0\n",
    "    for i = 1:N\n",
    "        r0 = rand(2)\n",
    "        if sqrt(r[1]^2+r[2]^2)<1\n",
    "            p0 = 1\n",
    "        else\n",
    "            p0 = 0\n",
    "        end\n",
    "        \n"
   ]
  }
 ],
 "metadata": {
  "kernelspec": {
   "display_name": "Julia 1.6.4",
   "language": "julia",
   "name": "julia-1.6"
  },
  "language_info": {
   "file_extension": ".jl",
   "mimetype": "application/julia",
   "name": "julia",
   "version": "1.6.4"
  },
  "orig_nbformat": 4
 },
 "nbformat": 4,
 "nbformat_minor": 2
}
