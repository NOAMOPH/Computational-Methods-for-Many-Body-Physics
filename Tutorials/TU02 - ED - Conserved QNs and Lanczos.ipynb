{
 "cells": [
  {
   "cell_type": "code",
   "execution_count": 1,
   "metadata": {},
   "outputs": [],
   "source": [
    "using SparseArrays, LinearAlgebra, Arpack, PyPlot, LsqFit\n"
   ]
  },
  {
   "cell_type": "markdown",
   "metadata": {},
   "source": [
    "We will consider the 1D Heisenberg Hamiltonian $H = J \\sum_{i=1}^{N-1} \\vec{S}_i \\cdot \\vec{S}_{i+1}$\n",
    "\n",
    "Denoting $S^\\alpha = \\frac{1}{2}\\sigma^\\alpha$, where $\\sigma^\\alpha$ ($\\alpha=x,y,z$) are the Pauli matrices we have $H_i = J \\sum_i \\left[ \\frac{1}{2}\\left(\\sigma^+_i \\sigma^-_{i+1} +\\sigma^-_i \\sigma^+_{i+1}\\right) + \\frac{1}{4} \\sigma^z_i \\sigma^z_{i+1} \\right]$\n"
   ]
  },
  {
   "cell_type": "markdown",
   "metadata": {},
   "source": [
    "# Constructing the Hamiltonian"
   ]
  },
  {
   "cell_type": "code",
   "execution_count": 2,
   "metadata": {},
   "outputs": [
    {
     "data": {
      "text/plain": [
       "FlipSpins"
      ]
     },
     "execution_count": 2,
     "metadata": {},
     "output_type": "execute_result"
    }
   ],
   "source": [
    "\"Flip spins at positions i and j in state x\"\n",
    "function FlipSpins(x,i,j)\n",
    "    f = typeof(x)(1)<<(i-1) | typeof(x)(1)<<(j-1) \n",
    "    return x ⊻ f\n",
    "end"
   ]
  },
  {
   "cell_type": "code",
   "execution_count": 3,
   "metadata": {},
   "outputs": [
    {
     "data": {
      "text/plain": [
       "(\"00000010\", \"00000001\")"
      ]
     },
     "execution_count": 3,
     "metadata": {},
     "output_type": "execute_result"
    }
   ],
   "source": [
    "x = UInt8(2)\n",
    "xf = FlipSpins(x, 1, 2)\n",
    "bitstring(x), bitstring(xf)"
   ]
  },
  {
   "cell_type": "code",
   "execution_count": 4,
   "metadata": {},
   "outputs": [
    {
     "data": {
      "text/plain": [
       "ConstructHeisenbergHamiltonian (generic function with 1 method)"
      ]
     },
     "execution_count": 4,
     "metadata": {},
     "output_type": "execute_result"
    }
   ],
   "source": [
    "function ConstructHeisenbergHamiltonian(N)\n",
    "    \n",
    "    H = spzeros(2^N,2^N) # sparse matrix, will actually store only non-zero values, \n",
    "                         # i.e. no storage is allocated upon construction\n",
    "\n",
    "    # Iterate over all the states in the basis |a> and calculate the nonzero matrix elements <b|H|a>\n",
    "    # Recall that H = \\sum_i H_{i,i+1}\n",
    "    for a in range(0, length = 2^N)\n",
    "\n",
    "        for i in range(1, length = N)\n",
    "            j = mod(i,N)+1 # periodic boundary conditions\n",
    "            si = ( a & 1<<(i-1) ) >> (i-1)\n",
    "            sj = ( a & 1<<(j-1) ) >> (j-1)\n",
    "\n",
    "            if si == sj\n",
    "                H[a+1,a+1] += 1/4 # indexing in Julia is 1-based !!!\n",
    "            else\n",
    "                H[a+1,a+1] += - 1/4\n",
    "                b = FlipSpins(a,i,j)\n",
    "                H[a+1,b+1] = 1/2\n",
    "            end\n",
    "        end\n",
    "    end\n",
    "    \n",
    "    return H\n",
    "end"
   ]
  },
  {
   "cell_type": "code",
   "execution_count": 5,
   "metadata": {},
   "outputs": [
    {
     "name": "stdout",
     "output_type": "stream",
     "text": [
      "  0.147238 seconds (287.65 k allocations: 19.213 MiB, 5.29% gc time, 79.95% compilation time)\n"
     ]
    }
   ],
   "source": [
    "N = 12\n",
    "@time H = ConstructHeisenbergHamiltonian(N);"
   ]
  },
  {
   "cell_type": "code",
   "execution_count": 6,
   "metadata": {},
   "outputs": [
    {
     "name": "stdout",
     "output_type": "stream",
     "text": [
      "  5.323280 seconds (911.37 k allocations: 310.823 MiB, 0.21% gc time, 4.94% compilation time)\n",
      "Ground state energy is -5.38739091744519\n"
     ]
    }
   ],
   "source": [
    "@time En = eigvals(Matrix(H));\n",
    "println(\"Ground state energy is \", En[1])"
   ]
  },
  {
   "cell_type": "markdown",
   "metadata": {},
   "source": [
    "# Symmetries - using $S^z$ conservation"
   ]
  },
  {
   "cell_type": "markdown",
   "metadata": {},
   "source": [
    "We will now use $S^z$ conservation and solve the Hamiltonian within a specific magnetization sector.\n",
    "\n",
    "For $S^z=(n_\\uparrow-n_\\downarrow)/2$ (with $N=n_\\uparrow+n_\\downarrow$) this will decrease the dimension of the basis from $2^N$ to $\\frac{N!}{n_\\uparrow! n_\\downarrow!}$ \n",
    "\n",
    "(i.e. choose $n_\\uparrow$ sites out of $N$ to be occupied with spin up, the other $n_\\downarrow=N-n_\\uparrow$ will be occupied with spin down.)"
   ]
  },
  {
   "cell_type": "code",
   "execution_count": 7,
   "metadata": {},
   "outputs": [
    {
     "data": {
      "text/plain": [
       "Sz (generic function with 1 method)"
      ]
     },
     "execution_count": 7,
     "metadata": {},
     "output_type": "execute_result"
    }
   ],
   "source": [
    "struct FixedSzBasis\n",
    "    N::Int64\n",
    "    Nup::Int64\n",
    "    states::Vector{Int64}\n",
    "    \n",
    "    function FixedSzBasis(N::Int, Nup::Int)\n",
    "\n",
    "        Ndown = N - Nup\n",
    "\n",
    "        D = binomial(N, Nup)\n",
    "        \n",
    "        println(\"Dimension of subspace with S^z=\", (Nup-Ndown)/2, \" is \", D)\n",
    "\n",
    "        states = zeros(Int, D)\n",
    "\n",
    "        k=1\n",
    "        for a in range(0, length = 2^N) # loop over all basis states\n",
    "            if count_ones(a) == Nup\n",
    "                states[k] = a\n",
    "                k += 1\n",
    "            end\n",
    "        end\n",
    "        \n",
    "        new(N, Nup, states)\n",
    "    end\n",
    "    \n",
    "end\n",
    "\n",
    "import Base.length\n",
    "function length(b::FixedSzBasis)\n",
    "    return length(b.states)\n",
    "end\n",
    "\n",
    "function Sz(b::FixedSzBasis)\n",
    "    Ndown = b.N - b.Nup\n",
    "    return (b.Nup-Ndown)/2\n",
    "end\n",
    "\n"
   ]
  },
  {
   "cell_type": "code",
   "execution_count": 8,
   "metadata": {},
   "outputs": [
    {
     "data": {
      "text/plain": [
       "ConstructHeisenbergHamiltonian (generic function with 2 methods)"
      ]
     },
     "execution_count": 8,
     "metadata": {},
     "output_type": "execute_result"
    }
   ],
   "source": [
    "function ConstructHeisenbergHamiltonian(basis::FixedSzBasis)\n",
    "    \n",
    "    D = length(basis)\n",
    "    \n",
    "    H = spzeros(D,D)\n",
    "    \n",
    "    # Iterate over all the states in the basis |a> and calculate the nonzero matrix elements <b|H|a>\n",
    "    # Recall that H = \\sum_i H_{i,i+1}\n",
    "    for k in range(1, length = D)\n",
    "        \n",
    "        a = basis.states[k]\n",
    "\n",
    "        for i in range(1, length = basis.N)\n",
    "            j = mod(i,basis.N)+1 # periodic boundary conditions\n",
    "            si = ( a & 1<<(i-1) ) >> (i-1)\n",
    "            sj = ( a & 1<<(j-1) ) >> (j-1)\n",
    "\n",
    "            if si == sj\n",
    "                H[k,k] += 1/4\n",
    "            else\n",
    "                H[k,k] += - 1/4\n",
    "                b = FlipSpins(a,i,j)\n",
    "                l = searchsortedfirst(basis.states,b)\n",
    "                @assert (l<=D) && (basis.states[l] == b) \"Invalid basis state generated by FlipSpins\"\n",
    "                H[k,l] = 1/2\n",
    "            end\n",
    "        end\n",
    "    end\n",
    "    \n",
    "    return H\n",
    "end"
   ]
  },
  {
   "cell_type": "code",
   "execution_count": 9,
   "metadata": {},
   "outputs": [
    {
     "name": "stdout",
     "output_type": "stream",
     "text": [
      "Dimension of subspace with S^z=0.0 is 3432\n",
      "  0.028924 seconds (35 allocations: 2.028 MiB)\n"
     ]
    }
   ],
   "source": [
    "N, Nup = 14,7\n",
    "basis = FixedSzBasis(N,Nup);\n",
    "@time H = ConstructHeisenbergHamiltonian(basis);"
   ]
  },
  {
   "cell_type": "code",
   "execution_count": 10,
   "metadata": {},
   "outputs": [
    {
     "name": "stdout",
     "output_type": "stream",
     "text": [
      "  3.117054 seconds (16 allocations: 180.959 MiB, 1.75% gc time)\n",
      "Ground state energy is -6.263549533547022\n"
     ]
    }
   ],
   "source": [
    "@time En = eigvals(Matrix(H));\n",
    "println(\"Ground state energy is \", En[1])"
   ]
  },
  {
   "cell_type": "markdown",
   "metadata": {},
   "source": [
    "Full diagonalization scales as $t\\sim O({\\rm dim} H ^3$)"
   ]
  },
  {
   "cell_type": "code",
   "execution_count": 11,
   "metadata": {},
   "outputs": [
    {
     "name": "stdout",
     "output_type": "stream",
     "text": [
      "Dimension of subspace with S^z=0.0 is 48620\n",
      "  7.385855 seconds (43 allocations: 18.373 MiB, 0.74% gc time)\n"
     ]
    }
   ],
   "source": [
    "N, Nup = 18,9\n",
    "basis = FixedSzBasis(N,Nup);\n",
    "@time H = ConstructHeisenbergHamiltonian(basis);"
   ]
  },
  {
   "cell_type": "code",
   "execution_count": 12,
   "metadata": {},
   "outputs": [
    {
     "name": "stdout",
     "output_type": "stream",
     "text": [
      "  7.586208 seconds (7.19 M allocations: 430.548 MiB, 1.52% gc time, 23.65% compilation time)\n",
      "Ground state energy is -8.022749087033743\n"
     ]
    }
   ],
   "source": [
    "@time res = eigs(H; nev=10, which=:LM, ritzvec=false) # Using Lanczos to calculate lowest eigenvalues!\n",
    "En = res[1]\n",
    "println(\"Ground state energy is \", En[1])"
   ]
  },
  {
   "cell_type": "markdown",
   "metadata": {},
   "source": [
    "Diagonalization with Lanczos scales as $t\\sim O({\\rm dim} H)$"
   ]
  },
  {
   "cell_type": "markdown",
   "metadata": {},
   "source": [
    "# Finite-size scaling of the gap"
   ]
  },
  {
   "cell_type": "markdown",
   "metadata": {},
   "source": [
    "We now calculate the gap in the system. \n",
    "\n",
    "We'll consider the triplet gap, i.e. the energy of the lowest state in the $S^z=1$ sector compared to the ground state which is in the $S^z=0$ sector."
   ]
  },
  {
   "cell_type": "code",
   "execution_count": 13,
   "metadata": {},
   "outputs": [
    {
     "name": "stdout",
     "output_type": "stream",
     "text": [
      "Dimension of subspace with S^z=0.0 is 20\n",
      "  0.000018 seconds (15 allocations: 4.656 KiB)\n",
      "Dimension of subspace with S^z=1.0 is 15\n",
      "  0.000011 seconds (15 allocations: 4.609 KiB)\n",
      "Dimension of subspace with S^z=0.0 is 70\n",
      "  0.000058 seconds (19 allocations: 17.312 KiB)\n",
      "Dimension of subspace with S^z=1.0 is 56\n",
      "  0.000045 seconds (19 allocations: 17.188 KiB)\n",
      "Dimension of subspace with S^z=0.0 is 252\n",
      "  0.000314 seconds (23 allocations: 67.031 KiB)\n",
      "Dimension of subspace with S^z=1.0 is 210\n",
      "  0.000245 seconds (23 allocations: 66.672 KiB)\n",
      "Dimension of subspace with S^z=0.0 is 924\n",
      "  0.002393 seconds (29 allocations: 520.656 KiB)\n",
      "Dimension of subspace with S^z=1.0 is 792\n",
      "  0.001881 seconds (27 allocations: 263.531 KiB)\n",
      "Dimension of subspace with S^z=0.0 is 3432\n",
      "  0.030667 seconds (34 allocations: 2.028 MiB)\n",
      "Dimension of subspace with S^z=1.0 is 3003\n",
      "  0.029675 seconds (32 allocations: 1.024 MiB, 23.98% gc time)\n",
      "Dimension of subspace with S^z=0.0 is 12870\n",
      "  0.480763 seconds (38 allocations: 6.100 MiB)\n",
      "Dimension of subspace with S^z=1.0 is 11440\n",
      "  0.356049 seconds (36 allocations: 4.089 MiB)\n",
      "Dimension of subspace with S^z=0.0 is 48620\n",
      "  7.272541 seconds (42 allocations: 18.373 MiB)\n",
      "Dimension of subspace with S^z=1.0 is 43758\n",
      "  5.695412 seconds (40 allocations: 10.335 MiB, 0.05% gc time)\n",
      "Dimension of subspace with S^z=0.0 is 184756\n",
      "116.799359 seconds (46 allocations: 67.411 MiB, 0.00% gc time)\n",
      "Dimension of subspace with S^z=1.0 is 167960\n",
      " 94.397729 seconds (44 allocations: 35.283 MiB, 0.00% gc time)\n"
     ]
    }
   ],
   "source": [
    "Ns = 6:2:20\n",
    "\n",
    "Egs_sz0 = zeros(length(Ns))\n",
    "Egs_sz1 = zeros(length(Ns))\n",
    "\n",
    "for (i,N) in enumerate(Ns)\n",
    "    Nup = Int(N/2)\n",
    "    basis_sz0 = FixedSzBasis(N,Nup);\n",
    "    @time Heff = ConstructHeisenbergHamiltonian(basis_sz0)\n",
    "    res = eigs(Heff; nev=10, which=:LM, ritzvec=false) # Using Lanczos to calculate lowest eigenvalues!\n",
    "    En = res[1]    \n",
    "    Egs_sz0[i] = En[1]\n",
    "    \n",
    "    basis_sz1 = FixedSzBasis(N,Nup+1);\n",
    "    @time Heff = ConstructHeisenbergHamiltonian(basis_sz1)\n",
    "    res = eigs(Heff; nev=10, which=:LM, ritzvec=false) # Using Lanczos to calculate lowest eigenvalues!\n",
    "    En = res[1]\n",
    "    Egs_sz1[i] = En[1]\n",
    "end\n"
   ]
  },
  {
   "cell_type": "markdown",
   "metadata": {},
   "source": [
    "fitting to linear model"
   ]
  },
  {
   "cell_type": "code",
   "execution_count": 14,
   "metadata": {
    "scrolled": true
   },
   "outputs": [
    {
     "data": {
      "text/plain": [
       "LsqFit.LsqFitResult{Vector{Float64}, Vector{Float64}, Matrix{Float64}, Vector{Float64}}([0.020232791641281115, 4.004470442018583], [0.00290288299561392, -0.0018827481989819317, -0.00255917191024041, -0.0019088518932806608, -0.0008393149258266175, 0.00032251201711763766, 0.0014539218628519812, 0.0025107700527449983], [1.0000000000052196 0.1666666666644272; 1.0000000000052196 0.12499999999946501; … ; 1.000000000000636 0.055555555554809066; 1.000000000000636 0.04999999999990047], true, Float64[])"
      ]
     },
     "execution_count": 14,
     "metadata": {},
     "output_type": "execute_result"
    }
   ],
   "source": [
    "x = 1 ./ Ns\n",
    "y = Egs_sz1-Egs_sz0\n",
    "\n",
    "fun(x, a) = a[1] .+ a[2]*x\n",
    "res = LsqFit.curve_fit(fun, x, y, [0., 0.])\n"
   ]
  },
  {
   "cell_type": "code",
   "execution_count": 15,
   "metadata": {},
   "outputs": [
    {
     "data": {
      "image/png": "[encoded data removed]",
      "text/plain": [
       "Figure(PyObject <Figure size 400x300 with 1 Axes>)"
      ]
     },
     "metadata": {},
     "output_type": "display_data"
    },
    {
     "data": {
      "text/plain": [
       "1-element Vector{PyCall.PyObject}:\n",
       " PyObject <matplotlib.lines.Line2D object at 0x7fc7b1cb7f40>"
      ]
     },
     "execution_count": 15,
     "metadata": {},
     "output_type": "execute_result"
    }
   ],
   "source": [
    "figure(figsize=(4,3))\n",
    "plot(x, y, \"o--\")\n",
    "xlim(0, 0.2)\n",
    "ylim(0, 0.8)\n",
    "xlabel(\"1/N\")\n",
    "ylabel(L\"\\Delta\");\n",
    "\n",
    "x1 = 0:0.001:0.2\n",
    "plot(x1, fun(x1, coef(res)))"
   ]
  },
  {
   "cell_type": "markdown",
   "metadata": {},
   "source": [
    "We see that the gap scales as $1/N$ indicating the systems is gapless"
   ]
  }
 ],
 "metadata": {
  "celltoolbar": "Raw Cell Format",
  "kernelspec": {
   "display_name": "Julia 1.6.4",
   "language": "julia",
   "name": "julia-1.6"
  },
  "language_info": {
   "file_extension": ".jl",
   "mimetype": "application/julia",
   "name": "julia",
   "version": "1.6.4"
  }
 },
 "nbformat": 4,
 "nbformat_minor": 2
}
