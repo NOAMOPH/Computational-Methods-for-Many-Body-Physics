{
 "cells": [
  {
   "cell_type": "code",
   "execution_count": 1,
   "metadata": {},
   "outputs": [],
   "source": [
    "using Random, Statistics, PyPlot"
   ]
  },
  {
   "cell_type": "code",
   "execution_count": 2,
   "metadata": {
    "code_folding": [
     0,
     9,
     25
    ]
   },
   "outputs": [
    {
     "data": {
      "text/plain": [
       "DiagUpdate! (generic function with 1 method)"
      ]
     },
     "execution_count": 2,
     "metadata": {},
     "output_type": "execute_result"
    }
   ],
   "source": [
    "function DiagUpdate!(s::Vector{Int64}, c::Vector{Int64}, T::Float64)\n",
    "    # s is the operator string, c is the spin configuration at p=0\n",
    "\n",
    "    Nmax = length(s) # total length of operator string\n",
    "    n = sum(s .> 0) # number of non-identity operators in the string\n",
    "    \n",
    "    Nb = length(c) # this is the number of bonds assuming periodic boundary conditions\n",
    "    \n",
    "    for p in range(1, stop = Nmax)\n",
    "        if s[p] == 0 # identity operator present at this p, attempt adding diagonal H term\n",
    "            \n",
    "            # pick a random bond and attempt inserting diag H if the spins are anti-parallel\n",
    "            b = rand(1:Nb)\n",
    "            \n",
    "            i, j = b, mod(b, length(c))+1 \n",
    "            if c[i] == c[j]\n",
    "                continue\n",
    "            end\n",
    "            \n",
    "            p_insert = Nb/(2*T*(Nmax-n))\n",
    "            if rand() < p_insert\n",
    "                n += 1\n",
    "                s[p] = 2*b-1\n",
    "            end\n",
    "            \n",
    "        elseif mod(s[p],2) == 1 # diagonal operator present at this p, attempt removal\n",
    "            p_remove = 2*T*( Nmax - (n-1) )/Nb\n",
    "            if rand() < p_remove\n",
    "                n -= 1\n",
    "                s[p] = 0\n",
    "            end\n",
    "        else # off-diagonal operator present at this p\n",
    "            # keep track of the spin configuration after each p\n",
    "            b = div(s[p],2)\n",
    "            i, j = b, mod(b, length(c))+1 \n",
    "            c[i], c[j] = 1-c[i], 1-c[j]\n",
    "        end\n",
    "    end\n",
    "end"
   ]
  },
  {
   "cell_type": "code",
   "execution_count": 3,
   "metadata": {
    "code_folding": [
     9
    ]
   },
   "outputs": [
    {
     "data": {
      "text/plain": [
       "LinkedVertexList (generic function with 1 method)"
      ]
     },
     "execution_count": 3,
     "metadata": {},
     "output_type": "execute_result"
    }
   ],
   "source": [
    "function LinkedVertexList(s::Vector{Int64}, Nx::Int64)\n",
    "    \n",
    "    Nmax = length(s)\n",
    "    \n",
    "    list = zeros(Int64, 4*Nmax)\n",
    "    \n",
    "    lastVertex = zeros(Int64, Nx) # store the last vertex for each site\n",
    "    firstVertex = zeros(Int64, Nx) # store the first vertex for each site\n",
    "    \n",
    "    for p in range(1, length = Nmax)\n",
    "\n",
    "        if s[p] == 0 # no vertices here\n",
    "            continue\n",
    "        end\n",
    "\n",
    "        b = div(s[p]+1,2) # bond index\n",
    "        i, j = b, mod(b, Nx)+1 # site indices\n",
    "        \n",
    "        vi, vj = lastVertex[i], lastVertex[j]\n",
    "        if vi != 0\n",
    "            list[vi] = 4*(p-1)+1\n",
    "            list[4*(p-1)+1] = vi\n",
    "        else\n",
    "            firstVertex[i] = 4*(p-1)+1\n",
    "        end\n",
    "                    \n",
    "        if vj != 0\n",
    "            list[vj] = 4*(p-1)+2\n",
    "            list[4*(p-1)+2] = vj\n",
    "        else\n",
    "            firstVertex[j] = 4*(p-1)+2\n",
    "        end\n",
    "            \n",
    "        # update last vertex for each site\n",
    "        lastVertex[i], lastVertex[j] = 4*(p-1)+3, 4*(p-1)+4\n",
    "                \n",
    "    end\n",
    "\n",
    "    # link back last to first (due to periodic boundary conditions in p)\n",
    "    for i in range(1, length=Nx)\n",
    "        if firstVertex[i] != 0\n",
    "            list[lastVertex[i]] = firstVertex[i]\n",
    "            list[firstVertex[i]] = lastVertex[i]\n",
    "        end\n",
    "    end\n",
    "    \n",
    "    # return the linked vertices list, and also all the sites that didn't appear in any vertex\n",
    "    return list, firstVertex\n",
    "    \n",
    "end"
   ]
  },
  {
   "cell_type": "code",
   "execution_count": 4,
   "metadata": {
    "code_folding": [
     0,
     25
    ]
   },
   "outputs": [
    {
     "data": {
      "text/plain": [
       "LoopUpdate! (generic function with 1 method)"
      ]
     },
     "execution_count": 4,
     "metadata": {},
     "output_type": "execute_result"
    }
   ],
   "source": [
    "function TraverseLoop!(v0::Int64, list::Vector{Int64}, s::Vector{Int64}, flip::Bool = false )\n",
    "  \n",
    "    v = v0\n",
    "    \n",
    "    while true\n",
    "        if flip\n",
    "            p = div(v-1,4)+1 # find p at which this vertex lives, reacall that both v and p are 1-based\n",
    "            b = div(s[p]+1,2) # bond index corresponding to this vertex\n",
    "            op_type = mod(s[p],2) # diagonal or off-diagonal\n",
    "            s[p] = 2*b - (1-op_type) # flip diagonal <-> off-diagonal\n",
    "        end\n",
    "        list[v] = flip ? -1 : 0\n",
    "        vn = mod(v,2) == 1 ? v+1 : v-1\n",
    "        next_v = list[vn]\n",
    "        list[vn] = flip ? -1 : 0\n",
    "\n",
    "        if next_v == v0\n",
    "            break\n",
    "        else\n",
    "            v = next_v\n",
    "        end\n",
    "    end\n",
    "    \n",
    "end\n",
    "\n",
    "function LoopUpdate!(s::Vector{Int64}, c::Vector{Int64}, list::Vector{Int64}, first::Vector{Int64})\n",
    "    \n",
    "    for v in range(1, stop = length(list), step = 2) # neighboring vertices are always treated together\n",
    "        if list[v] <= 0 # this vertex has already been visited\n",
    "            continue\n",
    "        end\n",
    "        \n",
    "        \n",
    "        # traverse the loop and flip the spins along the loop with p=1/2\n",
    "        if rand() < 0.5\n",
    "            TraverseLoop!(v, list, s, false)\n",
    "        else\n",
    "            TraverseLoop!(v, list, s, true)\n",
    "        end\n",
    "        \n",
    "    end\n",
    "    \n",
    "    # update the spin configuration at p=0\n",
    "    for i in range(1, length = length(first))\n",
    "        if first[i] == 0\n",
    "            c[i]  = rand() < 0.5 ? c[i] : 1-c[i]\n",
    "        elseif list[first[i]] == -1\n",
    "            c[i] = 1-c[i]\n",
    "        end\n",
    "    end\n",
    "    \n",
    "end"
   ]
  },
  {
   "cell_type": "code",
   "execution_count": 5,
   "metadata": {
    "code_folding": []
   },
   "outputs": [
    {
     "data": {
      "text/plain": [
       "HeisenbergSSE (generic function with 1 method)"
      ]
     },
     "execution_count": 5,
     "metadata": {},
     "output_type": "execute_result"
    }
   ],
   "source": [
    "function HeisenbergSSE(Nx::Int64, T::Float64, Nsw::Int64)\n",
    "    \n",
    "    n0 = 100 # initial operator string length\n",
    "    s = zeros(Int64, n0) # initial operator string - all identities\n",
    "    c = rand(0:1, Nx) # initial spin configuration\n",
    "    \n",
    "    ns = zeros(Nsw)\n",
    "    \n",
    "    for i in range(1, length=Nsw)\n",
    "        DiagUpdate!(s, copy(c), T)\n",
    "        list, first = LinkedVertexList(s, Nx)\n",
    "        LoopUpdate!(s, c, list, first)\n",
    "            \n",
    "        @assert sum(list .> 0) == 0 \"Some vertices have not been visited!\" \n",
    "        \n",
    "        # check if length of operators string needs to be increased\n",
    "        ns[i] = sum(s .> 0)\n",
    "        Nmax = length(s)\n",
    "        if ns[i] > Nmax * 3/4\n",
    "            new_Nmax = Int(ceil(Nmax * 4/3))\n",
    "            println(\"Increasing Nmax to \", new_Nmax)\n",
    "            # increase length of operator string by padding with identity operators\n",
    "            old_s = copy(s)\n",
    "            s = zeros(Int64, new_Nmax)\n",
    "            s[1:Nmax] = old_s[1:Nmax]\n",
    "        end\n",
    "    end\n",
    "        \n",
    "    return ns\n",
    "    \n",
    "end"
   ]
  },
  {
   "cell_type": "code",
   "execution_count": 6,
   "metadata": {
    "code_folding": [
     0
    ]
   },
   "outputs": [
    {
     "data": {
      "text/plain": [
       "CalculateError (generic function with 1 method)"
      ]
     },
     "execution_count": 6,
     "metadata": {},
     "output_type": "execute_result"
    }
   ],
   "source": [
    "function CalculateError(obs, Neq, Nsw)\n",
    "    # obs is the vector of measurements for the observable\n",
    "    err = Float64[]\n",
    "    Nsw2 = 2^Int(floor(log(2, Nsw-Neq))) # closest power of 2 smaller than number of sweeps after equilibration\n",
    "    obs_l = obs[end-Nsw2+1:end]\n",
    "    min_size = 2^5\n",
    "    while length(obs_l) > min_size\n",
    "        push!(err, std(obs_l)/sqrt(length(obs_l)-1))\n",
    "        obs_l = map(j -> mean(obs_l[2*j-1:2*j]), range(1,stop=div(length(obs_l),2)) )\n",
    "    end\n",
    "    return err\n",
    "end"
   ]
  },
  {
   "cell_type": "code",
   "execution_count": 14,
   "metadata": {},
   "outputs": [
    {
     "name": "stdout",
     "output_type": "stream",
     "text": [
      "Increasing Nmax to 134\n",
      "Increasing Nmax to 179\n",
      "Increasing Nmax to 239\n",
      "Increasing Nmax to 319\n",
      "Increasing Nmax to 426\n",
      "Increasing Nmax to 568\n",
      "Increasing Nmax to 758\n",
      "Increasing Nmax to 1011\n",
      "Increasing Nmax to 1348\n",
      "Increasing Nmax to 1798\n",
      "Increasing Nmax to 2398\n",
      "Increasing Nmax to 3198\n",
      "Increasing Nmax to 4264\n",
      "Increasing Nmax to 5686\n",
      "Increasing Nmax to 7582\n",
      "Increasing Nmax to 10110\n",
      "  0.556150 seconds (14.85 k allocations: 325.214 MiB, 10.39% gc time)\n"
     ]
    }
   ],
   "source": [
    "Nx = 10\n",
    "T = 1e-3\n",
    "Nsw = 1000\n",
    "@time ns = HeisenbergSSE(Nx, T, Nsw);"
   ]
  },
  {
   "cell_type": "code",
   "execution_count": 15,
   "metadata": {},
   "outputs": [
    {
     "data": {
      "image/png": "[encoded data removed]",
      "text/plain": [
       "Figure(PyObject <Figure size 400x300 with 1 Axes>)"
      ]
     },
     "metadata": {},
     "output_type": "display_data"
    }
   ],
   "source": [
    "figure(figsize=(4,3))\n",
    "plot(ns)\n",
    "ylabel(\"n\")\n",
    "xlabel(L\"$N_{\\rm sw}$\");"
   ]
  },
  {
   "cell_type": "code",
   "execution_count": 16,
   "metadata": {},
   "outputs": [
    {
     "name": "stdout",
     "output_type": "stream",
     "text": [
      "Ground state energy obtained using QMC is -4.516 +- 0.0052\n",
      "Error compared to ED -0.0005\n"
     ]
    }
   ],
   "source": [
    "Neq = 100\n",
    "mean_n = mean(ns[Neq:Nsw])\n",
    "dn = CalculateError(ns, Neq, Nsw)[end]\n",
    "\n",
    "Egs_mc = -T*mean(ns[Neq:Nsw])+1/4*Nx\n",
    "dE = dn*T\n",
    "\n",
    "Egs_exact = -4.515446\n",
    "\n",
    "println(\"Ground state energy obtained using QMC is \", round(Egs_mc,digits=4) , \" +- \", round(dE,digits=4))\n",
    "println(\"Error compared to ED \", round(Egs_mc-Egs_exact,digits=4))"
   ]
  },
  {
   "cell_type": "code",
   "execution_count": null,
   "metadata": {},
   "outputs": [],
   "source": []
  }
 ],
 "metadata": {
  "kernelspec": {
   "display_name": "Julia 1.6.1",
   "language": "julia",
   "name": "julia-1.6"
  },
  "language_info": {
   "file_extension": ".jl",
   "mimetype": "application/julia",
   "name": "julia",
   "version": "1.6.1"
  }
 },
 "nbformat": 4,
 "nbformat_minor": 2
}
