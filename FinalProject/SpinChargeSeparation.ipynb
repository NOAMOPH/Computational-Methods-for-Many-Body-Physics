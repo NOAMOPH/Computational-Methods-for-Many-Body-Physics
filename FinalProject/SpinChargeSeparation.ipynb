{
 "cells": [
  {
   "cell_type": "code",
   "execution_count": 6,
   "metadata": {},
   "outputs": [],
   "source": [
    "using ITensors\n",
    "using PyPlot"
   ]
  },
  {
   "cell_type": "markdown",
   "metadata": {},
   "source": [
    "# The model\n",
    "$$H=t\\sum_{i,\\sigma} c^\\dagger_{i,\\sigma} c_{i+1,\\sigma} +\\mathrm{h.c.}+U\\sum_i n_{i,\\uparrow}n_{i,\\downarrow}$$"
   ]
  },
  {
   "cell_type": "code",
   "execution_count": 11,
   "metadata": {},
   "outputs": [
    {
     "data": {
      "text/plain": [
       "ExpValInTime (generic function with 1 method)"
      ]
     },
     "metadata": {},
     "output_type": "display_data"
    }
   ],
   "source": [
    "function Hubbard_Hamiltonian(sites,U)\n",
    "    \"\"\"\n",
    "    t = 1\n",
    "    \"\"\"\n",
    "    L = length(sites)\n",
    "    ampo = OpSum()\n",
    "\n",
    "    for i = 1:L-1\n",
    "        ampo += -1, \"Cdagup\",i,\"Cup\",i+1\n",
    "        ampo += -1, \"Cdagup\",i+1,\"Cup\",i\n",
    "        ampo += -1, \"Cdagdn\",i,\"Cdn\",i+1\n",
    "        ampo += -1, \"Cdagdn\",i+1,\"Cdn\",i\n",
    "    end\n",
    "    for i = 1:L\n",
    "        ampo += U, \"Nup\", i, \"Ndn\", i\n",
    "    end\n",
    "    return MPO(ampo,sites)\n",
    "end\n",
    "\n",
    "function InitialState(L::Int64, Ne::Int64, M::Int64)\n",
    "    @assert M <= Ne \"magnetization has to be smaller than number of electrons\"\n",
    "    @assert iseven(M)*iseven(Ne) || isodd(M)*isodd(Ne) \"magnetization and Ne parity has to be opposite\"\n",
    "    println(\"filling factor is \"*string(Ne/2/L))\n",
    "\n",
    "    Nup = div(Ne + M,2)\n",
    "    Ndn = div(Ne - M,2)\n",
    "    \n",
    "    state0 = []\n",
    "\n",
    "    if Nup >= Ndn\n",
    "        for i = 1:L\n",
    "            if i <= Ndn\n",
    "                append!(state0,[\"UpDn\"])\n",
    "            elseif i <= Nup\n",
    "                append!(state0,[\"Up\"])\n",
    "            else\n",
    "                append!(state0,[\"Emp\"])\n",
    "            end\n",
    "        end\n",
    "    else\n",
    "        for i = 1:L\n",
    "            if i <= Nup\n",
    "                append!(state0,[\"UpDn\"])\n",
    "            elseif i <= Ndn\n",
    "                append!(state0,[\"Dn\"])\n",
    "            else\n",
    "                append!(state0,[\"Emp\"])\n",
    "            end\n",
    "        end\n",
    "    end\n",
    "    return state0\n",
    "    # state0 = [Ne>L ? n<=div(Ne-L,2) ? \"UpDn\" : isodd(n) ? \"Up\" : \"Dn\" : n<=Ne ? (isodd(n) ? \"Up\" : \"Dn\") : \"Emp\" for n = 1:L]\n",
    "end\n",
    "\n",
    "function Hubbard_DMRG(L::Int64, U::Float64, sweeps::Int64, maxdim::Int64, state0)\n",
    "    # Return: E,psi\n",
    "    # @assert filling <= 1.0 and filling >= 0.0 \"Filling has to be between 0.0 to 1.0\"\n",
    "    # Ne = Int(round(2*L*filling,digits=0))\n",
    "    # # @assert !isodd(Ne) \"The  filling factor is imcomplitable with the system being at 0 magnetization\"\n",
    "    # println(\"filling factor is \"*string(Ne/2/L))\n",
    "\n",
    "    sites = siteinds(\"Electron\",L; conserve_nf=true, conserve_sz=false)\n",
    "    H = Hubbard_Hamiltonian(sites,U)\n",
    "    \n",
    "    # state0 = [Ne>L ? n<=div(Ne-L,2) ? \"UpDn\" : isodd(n) ? \"Up\" : \"Dn\" : n<=Ne ? (isodd(n) ? \"Up\" : \"Dn\") : \"Emp\" for n = 1:L]\n",
    "    # state0 = [isodd(l) ? \"Up\" : \"Dn\" for l = 1:L]\n",
    "    psi0 = randomMPS(sites,state0)\n",
    "\n",
    "    # @show flux(psi0)\n",
    "\n",
    "    return dmrg(H,psi0; nsweeps=sweeps, maxdim=maxdim, cutoff=1E-10)\n",
    "    # @show flux(psi)\n",
    "end\n",
    "\n",
    "function Quench(psi::MPS, op_name::String; is_fermionic=true)\n",
    "    \"\"\"\n",
    "    Quench() Applies a quench operation to a given MPS by modifying the state based on a specified local operator.\n",
    "\n",
    "    # Arguments\n",
    "    - `psi::MPS`: MPS representing the state.\n",
    "    - `operator::String`: Name of the local operator to be applied during the quench.\n",
    "\n",
    "    # Returns\n",
    "    - `MPS`: Modified MPS after applying the quench operation.\n",
    "\n",
    "    # Details\n",
    "    - The function performs a quench operation on the input MPS by modifying the state at a specific site.\n",
    "    - The quench is applied by introducing a local operator at the central site (i0) of the MPS.\n",
    "    - For fermionic systems, the function introduces a fermionic transformation (`\"F\"`) at sites before the central site.\n",
    "    - The local operator specified by `operator` is applied at the central site.\n",
    "    \"\"\"\n",
    "    L = length(psi)\n",
    "    psi_q = deepcopy(psi)\n",
    "\n",
    "    i0 = isodd(L) ? div(L+1,2) : div(L,2)\n",
    "    if is_fermionic\n",
    "        for j=1:i0-1\n",
    "            # orthogonalize!(psi_q,i0)\n",
    "            s = siteind(psi_q, j)\n",
    "            psi_q[j] = noprime(psi_q[j]*op(s,\"F\"))\n",
    "        end\n",
    "    end\n",
    "\n",
    "    s = siteind(psi_q,i0)\n",
    "    psi_q[i0] = noprime(psi_q[i0]*op(s,op_name))\n",
    "\n",
    "    # orthogonalize!(psi_q,i0)\n",
    "\n",
    "    println(\"Norm of quenched wavefunction: \", norm(psi_q))\n",
    "    return psi_q\n",
    "end\n",
    "\n",
    "function BuildGates(U::Float64, dt::Float64, E::Float64, sites::Vector) \n",
    "    \"\"\"\n",
    "    BuildGates(params, dt, sites) Constructs a set of time evolution operators (gates) for a 1D quantum many-body system. \n",
    "    The gates are generated based on the specified parameters and the system's Hamiltonian.\n",
    "\n",
    "    # Arguments\n",
    "    - `params::List`: A dictionary containing the parameters of the system.\n",
    "    - `dt::Float64`: Time step for the time evolution.\n",
    "    - `E::Float`: The GS Energy\n",
    "    - `sites::MPS{ITensor}`: Vector of site indices representing the lattice.\n",
    "    - `N::Int64`: The systems' size\n",
    "    \n",
    "    # Returns\n",
    "    - `Vector{ITensor}`: Array of time evolution operators (gates) for the given system.\n",
    "\n",
    "    # Hamiltonian Terms\n",
    "    The system Hamiltonian consists of terms involving creation and annihilation operators on lattice sites, as well as various interaction terms.\n",
    "    The specific form of the Hamiltonian is provided in the function implementation.\n",
    "    \n",
    "    # Notes\n",
    "    - The gates are constructed using Trotterization, a technique for approximating the time evolution operator by splitting it into smaller, more manageable operators.\n",
    "    \"\"\"\n",
    "    L = length(sites)\n",
    "    en_density = E / (L-1)\n",
    "    \n",
    "    θ = 1/(2 - 2^(1/3))\n",
    "\n",
    "    gO1, gO2, gE1, gE2 = ITensor[], ITensor[], ITensor[], ITensor[]\n",
    "\n",
    "    for j=1:L-1\n",
    "        s1 = sites[j]\n",
    "        s2 = sites[j+1]\n",
    "        \n",
    "        hj = (- op(\"Adagup * F\",s1) * op(\"Aup\",s2) + op(\"Aup * F\",s1) * op(\"Adagup\",s2)\n",
    "        - op(\"Adagdn\",s1) * op(\"F * Adn\",s2) +  op(\"Adn\",s1) * op(\"F * Adagdn\",s2)\n",
    "        + U * op(\"Nupdn\",s1) * op(\"Id\",s2) \n",
    "        - en_density * op(\"Id\",s1) * op(\"Id\",s2))\n",
    "        \n",
    "        if j==L-1\n",
    "            hj += U * op(\"Id\",s1) * op(\"Nupdn\",s2) \n",
    "        end\n",
    "\n",
    "        \n",
    "        if mod(j,2) == 1\n",
    "            push!(gO1, exp(-1.0im * dt*θ/2 * hj) )\n",
    "            push!(gO2, exp(-1.0im * dt*(1-θ)/2 * hj) )\n",
    "        else\n",
    "            push!(gE1, exp(-1.0im * dt*θ * hj) )\n",
    "            push!(gE2, exp(-1.0im * dt*(1-2*θ) * hj) )\n",
    "        end            \n",
    "    end\n",
    "    return vcat(gO1, gE1, gO2, gE2, gO2, gE1, gO1)\n",
    "end\n",
    "\n",
    "function ExpValInTime(q_psi::MPS, E::Float64, U::Float64, dt::Float64, T::Float64)\n",
    "    # N = length(psi)\n",
    "    # q_psi = Quench(psi, quench_op)\n",
    "\n",
    "    # gates\n",
    "    gates  = BuildGates(U, dt, E, siteinds(q_psi))\n",
    "\n",
    "    # TEBD\n",
    "    cutoff = 1e-7\n",
    "    Nsteps = Int(T/dt)\n",
    "\n",
    "    magnetization = []\n",
    "    density = []\n",
    "    push!(magnetization, expect(q_psi, \"Sz\"))\n",
    "    push!(density, expect(q_psi, \"Ntot\"))\n",
    "\n",
    "    for step=1:Nsteps\n",
    "\n",
    "        @time q_psi = apply(gates, q_psi; cutoff=cutoff, maxdim=100)\n",
    "        @show maxlinkdim(q_psi)\n",
    "        # orthogonalize!(q_psi,div(length(psi),2))\n",
    "        # truncate_mps!(q_psi, 200)\n",
    "\n",
    "\n",
    "        push!(magnetization, expect(q_psi, \"Sz\"))\n",
    "        push!(density, expect(q_psi, \"Ntot\"))\n",
    "        # if mod(step, 10) == 0\n",
    "        #     @show step\n",
    "        #     push!(magnetization, magnetization(psi, q_psi_ps, measurable, isfermion))\n",
    "        #     push!(magnetization, magnetization(psi, q_psi_ps, measurable, isfermion))\n",
    "        #     push!(density, density(psi, q_psi_ps, measurable, isfermion))\n",
    "        # end\n",
    "    end\n",
    "\n",
    "    res_m = zeros(ComplexF64, (length(magnetization), length(psi)))\n",
    "    res_d = zeros(ComplexF64, (length(density), length(psi)))\n",
    "\n",
    "    for j = 1:lastindex(density)\n",
    "        res_m[j,:] = Array{ComplexF64}(magnetization[j])\n",
    "        res_d[j,:] = Array{ComplexF64}(density[j])\n",
    "    end\n",
    "\n",
    "    return [res_m, res_d]\n",
    "end"
   ]
  },
  {
   "cell_type": "markdown",
   "metadata": {},
   "source": [
    "# Half-filling"
   ]
  },
  {
   "cell_type": "code",
   "execution_count": 8,
   "metadata": {},
   "outputs": [
    {
     "name": "stdout",
     "output_type": "stream",
     "text": [
      "filling factor is 0.5\n"
     ]
    },
    {
     "ename": "InterruptException",
     "evalue": "InterruptException:",
     "output_type": "error",
     "traceback": [
      "InterruptException:\n",
      "\n",
      "Stacktrace:\n",
      "  [1] replaceinds(::NDTensors.BlockSparseTensor{Float64, 4, NTuple{4, Index{Vector{Pair{QN, Int64}}}}, NDTensors.BlockSparse{Float64, Vector{Float64}, 4}}, ::Vector{Index{Vector{Pair{QN, Int64}}}}, ::Vector{Index{Vector{Pair{QN, Int64}}}})\n",
      "    @ ITensors ~/.julia/packages/ITensors/rH5UO/src/itensor.jl:1500\n",
      "  [2] replaceinds(::ITensor, ::Vector{Index{Vector{Pair{QN, Int64}}}}, ::Vararg{Vector{Index{Vector{Pair{QN, Int64}}}}}; kwargs::Base.Pairs{Symbol, Union{}, Tuple{}, NamedTuple{(), Tuple{}}})\n",
      "    @ ITensors ~/.julia/packages/ITensors/rH5UO/src/itensor.jl:1496\n",
      "  [3] replaceinds(::ITensor, ::Vector{Index{Vector{Pair{QN, Int64}}}}, ::Vector{Index{Vector{Pair{QN, Int64}}}})\n",
      "    @ ITensors ~/.julia/packages/ITensors/rH5UO/src/itensor.jl:1496\n",
      "  [4] factorize_eigen(A::ITensor, Linds::Tuple{Index{Vector{Pair{QN, Int64}}}, Index{Vector{Pair{QN, Int64}}}, Index{Vector{Pair{QN, Int64}}}}; ortho::String, eigen_perturbation::Nothing, mindim::Int64, maxdim::Int64, cutoff::Float64, tags::ITensors.TagSets.GenericTagSet{BitIntegers.UInt256, 4}, use_absolute_cutoff::Nothing, use_relative_cutoff::Nothing)\n",
      "    @ ITensors ~/.julia/packages/ITensors/rH5UO/src/tensor_operations/matrix_decomposition.jl:672\n",
      "  [5] factorize(A::ITensor, Linds::Tuple{Index{Vector{Pair{QN, Int64}}}, Index{Vector{Pair{QN, Int64}}}, Index{Vector{Pair{QN, Int64}}}}; mindim::Int64, maxdim::Int64, cutoff::Float64, ortho::String, tags::ITensors.TagSets.GenericTagSet{BitIntegers.UInt256, 4}, plev::Nothing, which_decomp::Nothing, eigen_perturbation::Nothing, svd_alg::Nothing, use_absolute_cutoff::Nothing, use_relative_cutoff::Nothing, min_blockdim::Nothing, singular_values!::Nothing, dir::Nothing)\n",
      "    @ ITensors ~/.julia/packages/ITensors/rH5UO/src/tensor_operations/matrix_decomposition.jl:828\n",
      "  [6] replacebond!(M::MPS, b::Int64, phi::ITensor; normalize::Bool, swapsites::Nothing, ortho::String, which_decomp::Nothing, mindim::Int64, maxdim::Int64, cutoff::Float64, eigen_perturbation::Nothing, svd_alg::Nothing, use_absolute_cutoff::Nothing, use_relative_cutoff::Nothing, min_blockdim::Nothing)\n",
      "    @ ITensors.ITensorMPS ~/.julia/packages/ITensors/rH5UO/src/lib/ITensorMPS/src/mps.jl:563\n",
      "  [7] #replacebond!#409\n",
      "    @ ~/.julia/packages/ITensors/rH5UO/src/lib/ITensorMPS/src/mps.jl:610 [inlined]\n",
      "  [8] macro expansion\n",
      "    @ ~/.julia/packages/ITensors/rH5UO/src/lib/ITensorMPS/src/dmrg.jl:279 [inlined]\n",
      "  [9] macro expansion\n",
      "    @ ~/.julia/packages/TimerOutputs/Lw5SP/src/TimerOutput.jl:253 [inlined]\n",
      " [10] macro expansion\n",
      "    @ ~/.julia/packages/ITensors/rH5UO/src/lib/ITensorMPS/src/dmrg.jl:278 [inlined]\n",
      " [11] macro expansion\n",
      "    @ ./timing.jl:299 [inlined]\n",
      " [12] dmrg(PH::ProjMPO, psi0::MPS, sweeps::Sweeps; which_decomp::Nothing, svd_alg::Nothing, observer::NoObserver, outputlevel::Int64, write_when_maxdim_exceeds::Nothing, write_path::String, eigsolve_tol::Float64, eigsolve_krylovdim::Int64, eigsolve_maxiter::Int64, eigsolve_verbosity::Int64, eigsolve_which_eigenvalue::Symbol, ishermitian::Bool)\n",
      "    @ ITensors.ITensorMPS ~/.julia/packages/ITensors/rH5UO/src/lib/ITensorMPS/src/dmrg.jl:206\n",
      " [13] dmrg\n",
      "    @ ~/.julia/packages/ITensors/rH5UO/src/lib/ITensorMPS/src/dmrg.jl:176 [inlined]\n",
      " [14] #dmrg#509\n",
      "    @ ~/.julia/packages/ITensors/rH5UO/src/lib/ITensorMPS/src/dmrg.jl:28 [inlined]\n",
      " [15] dmrg\n",
      "    @ ~/.julia/packages/ITensors/rH5UO/src/lib/ITensorMPS/src/dmrg.jl:22 [inlined]\n",
      " [16] #dmrg#515\n",
      "    @ ~/.julia/packages/ITensors/rH5UO/src/lib/ITensorMPS/src/dmrg.jl:388 [inlined]\n",
      " [17] Hubbard_DMRG(L::Int64, U::Float64, sweeps::Int64, maxdim::Int64, state0::Vector{Any})\n",
      "    @ Main ~/Documents/GitHub/Computational-Methods-for-Many-Body-Physics/FinalProject/SpinChargeSeparation.ipynb:71\n",
      " [18] top-level scope\n",
      "    @ ~/Documents/GitHub/Computational-Methods-for-Many-Body-Physics/FinalProject/SpinChargeSeparation.ipynb:8"
     ]
    }
   ],
   "source": [
    "L = 21\n",
    "dt = 1e-1\n",
    "T = 5.0\n",
    "Us = [0.0, 0.1, 1.0, 10.0]\n",
    "scan_U_res_e = []\n",
    "scan_U_res_s = []\n",
    "for (i,U) in enumerate(Us)\n",
    "    E, psi = Hubbard_DMRG(L,U,30,100,InitialState(L,L,1))\n",
    "    append!(scan_U_res_e,ExpValInTime(Quench(Quench(psi, \"Cdn\"), \"Cup\"), E, U, dt, T))\n",
    "    # append!(scan_U_res_s,ExpValInTime(Quench(psi, \"S-\"), E, U, dt, T))\n",
    "end"
   ]
  },
  {
   "cell_type": "markdown",
   "metadata": {},
   "source": [
    "## Quenching an electron"
   ]
  },
  {
   "cell_type": "code",
   "execution_count": 512,
   "metadata": {},
   "outputs": [
    {
     "data": {
      "image/png": "[encoded data removed]",
      "text/plain": [
       "Figure(PyObject <Figure size 500x1000 with 8 Axes>)"
      ]
     },
     "metadata": {},
     "output_type": "display_data"
    }
   ],
   "source": [
    "fig,ax = subplots(4,2,figsize=(5,10))\n",
    "for i = 1:4\n",
    "    ax[i,1].imshow(real.(scan_U_res_e[2*i-1]),vmin=-maximum(abs.(scan_U_res_e[7])),vmax=maximum(abs.(scan_U_res_e[7]))\n",
    "                , aspect=\"auto\", cmap=\"RdBu\", interpolation=\"gaussian\")\n",
    "    ax[i,2].imshow(real.(scan_U_res_e[2*i]),vmin=0.0,vmax=maximum(real.(scan_U_res_e[2]))\n",
    "                , aspect=\"auto\", cmap=\"Blues_r\", interpolation=\"gaussian\")\n",
    "end\n",
    "\n",
    "ax[1,1].set_title(L\"$\\langle S_Z \\rangle$\", fontsize=16)\n",
    "ax[1,2].set_title(L\"$\\langle n \\rangle$\", fontsize=16)\n",
    "\n",
    "gcf()"
   ]
  },
  {
   "cell_type": "code",
   "execution_count": 514,
   "metadata": {},
   "outputs": [],
   "source": [
    "for i = 1:length(scan_U_res_e[7][:,1])\n",
    "# i = 1\n",
    "    fig,ax = subplots(figsize=(10,4))\n",
    "    # for i = 1:length(scan_U_res_e[8][:,1])\n",
    "    #     ax.plot(real.(scan_U_res_e[7][i,:]),color=\"black\",label=L\"$\\langle S_Z \\rangle$\")\n",
    "    # end\n",
    "    ax.plot(real.(scan_U_res_e[8][i,:]),\"-o\", color=\"firebrick\",label=L\"$\\langle n \\rangle$\")\n",
    "    ax.plot(abs.(scan_U_res_e[7][i,:]),\"-o\", color=\"darkblue\",label=L\"$\\langle |S_Z| \\rangle$\")\n",
    "    ax.legend(fontsize=16, loc=(1.05,0.5))\n",
    "    # ax.set_title(L\"$t=$\"*string(i*dt), fontsize=14)\n",
    "    props = Dict(\"boxstyle\" => \"round\", \"facecolor\" => \"white\", \"alpha\" => 1.0)\n",
    "    ax.text(22.5,0.7,L\"$t=$\"*string(round(dt,digits=2)),bbox=props,fontsize=16)\n",
    "    # boxstyle='round', facecolor='wheat', alpha=0.5\n",
    "    ax.set_ylim([-0.5,1.05])\n",
    "    ax.set_xticks(0:2:20)\n",
    "    ax.grid()\n",
    "    fig.tight_layout()\n",
    "    fig.savefig(\"timeevolutionviedo/plot_abs\"*string(i)*\".png\")\n",
    "end\n",
    "# gcf()"
   ]
  },
  {
   "cell_type": "code",
   "execution_count": 426,
   "metadata": {},
   "outputs": [],
   "source": [
    "colormap_name = \"viridis\"\n",
    "num_colors = 4\n",
    "cmap = get_cmap(colormap_name)\n",
    "colors = [cmap(k/num_colors) for k in 0:num_colors-1]\n",
    "for i = 1:div(length(scan_U_res_e[7][:,1]),10)\n",
    "# i = 1\n",
    "    fig,ax = subplots(2,1,figsize=(10,4))\n",
    "    # for i = 1:length(scan_U_res_e[8][:,1])\n",
    "    #     ax.plot(real.(scan_U_res_e[7][i,:]),color=\"black\",label=L\"$\\langle S_Z \\rangle$\")\n",
    "    # end\n",
    "\n",
    "\n",
    "    ax[1].plot(real.(scan_U_res_e[2][10*i,:]),\"-o\", color=colors[1])\n",
    "    ax[1].plot(real.(scan_U_res_e[4][10*i,:]),\"-o\", color=colors[2])\n",
    "    ax[1].plot(real.(scan_U_res_e[6][10*i,:]),\"-o\", color=colors[3])\n",
    "    ax[1].plot(real.(scan_U_res_e[8][10*i,:]),\"-o\", color=colors[4])\n",
    "    ax[2].plot(real.(scan_U_res_e[1][10*i,:]),\"-o\", color=colors[1],label=Us[1])\n",
    "    ax[2].plot(real.(scan_U_res_e[3][10*i,:]),\"-o\", color=colors[2],label=Us[2])\n",
    "    ax[2].plot(real.(scan_U_res_e[5][10*i,:]),\"-o\", color=colors[3],label=Us[3])\n",
    "    ax[2].plot(real.(scan_U_res_e[7][10*i,:]),\"-o\", color=colors[4],label=Us[4])\n",
    "    ax[2].legend(fontsize=14, loc=(1.05,0.0), title=L\"$U$\")\n",
    "    # ax[2].set_title(L\"$t=$\"*string(i*dt), fontsize=14)\n",
    "    props = Dict(\"boxstyle\" => \"round\", \"facecolor\" => \"white\", \"alpha\" => 1.0)\n",
    "    ax[1].text(22.5,0.7,L\"$t=$\"*string(round(10*i*dt,digits=2)),bbox=props,fontsize=16)\n",
    "    # boxstyle='round', facecolor='wheat', alpha=0.5\n",
    "    ax[1].set_ylim([0.0,1.05])\n",
    "    ax[2].set_ylim([-0.5,0.5])\n",
    "    ax[2].set_xticks(0:2:20)\n",
    "    ax[1].grid()\n",
    "    ax[2].grid()\n",
    "\n",
    "    ax[1].set_ylabel(L\"$\\langle n \\rangle$\", fontsize=14)\n",
    "    ax[2].set_ylabel(L\"$\\langle S_z \\rangle$\", fontsize=14)\n",
    "    fig.tight_layout()\n",
    "    fig.savefig(\"timeevolutionviedo/plot_sep\"*string(i)*\".png\")\n",
    "end\n",
    "# gcf()"
   ]
  },
  {
   "cell_type": "code",
   "execution_count": 359,
   "metadata": {},
   "outputs": [
    {
     "data": {
      "text/plain": [
       "(501, 21)"
      ]
     },
     "metadata": {},
     "output_type": "display_data"
    }
   ],
   "source": [
    "size(scan_U_res_e[7][:,:])"
   ]
  },
  {
   "cell_type": "markdown",
   "metadata": {},
   "source": [
    "## Quenching spin"
   ]
  },
  {
   "cell_type": "code",
   "execution_count": 230,
   "metadata": {},
   "outputs": [
    {
     "data": {
      "image/png": "[encoded data removed]",
      "text/plain": [
       "Figure(PyObject <Figure size 700x1400 with 8 Axes>)"
      ]
     },
     "metadata": {},
     "output_type": "display_data"
    }
   ],
   "source": [
    "fig,ax = subplots(4,2,figsize=(7,14))\n",
    "for i = 1:4\n",
    "    ax[i,1].imshow(real.(scan_U_res_s[2*i-1]),vmin=-maximum(abs.(scan_U_res_s[2*i-1])),vmax=maximum(abs.(scan_U_res_s[2*i-1]))\n",
    "                , aspect=\"auto\", cmap=\"RdBu\", interpolation=\"none\")\n",
    "    ax[i,2].imshow(real.(scan_U_res_s[2*i]),vmin=0.0,vmax=maximum(real.(scan_U_res_s[2*i]))\n",
    "                , aspect=\"auto\", cmap=\"Blues_r\", interpolation=\"none\")\n",
    "end\n",
    "\n",
    "ax[1,1].set_title(L\"$\\langle S_Z \\rangle$\", fontsize=16)\n",
    "ax[1,2].set_title(L\"$\\langle n \\rangle$\", fontsize=16)\n",
    "\n",
    "\n",
    "gcf()"
   ]
  },
  {
   "cell_type": "code",
   "execution_count": 218,
   "metadata": {},
   "outputs": [
    {
     "data": {
      "text/plain": [
       "51×21 Matrix{ComplexF64}:\n",
       "   0.041598+0.0im  -0.000308771+0.0im   0.0416676+0.0im  …   0.0415982+0.0im\n",
       "  0.0415953+0.0im  -0.000309643+0.0im   0.0416631+0.0im      0.0415956+0.0im\n",
       "  0.0415871+0.0im   -0.00031204+0.0im   0.0416495+0.0im      0.0415876+0.0im\n",
       "  0.0415734+0.0im  -0.000315986+0.0im   0.0416266+0.0im      0.0415741+0.0im\n",
       "  0.0415541+0.0im  -0.000321511+0.0im   0.0415942+0.0im      0.0415548+0.0im\n",
       "  0.0415288+0.0im  -0.000328783+0.0im   0.0415517+0.0im  …   0.0415297+0.0im\n",
       "  0.0414973+0.0im  -0.000337922+0.0im   0.0414984+0.0im      0.0414984+0.0im\n",
       "  0.0414593+0.0im  -0.000349056+0.0im   0.0414336+0.0im      0.0414604+0.0im\n",
       "  0.0414142+0.0im  -0.000362357+0.0im   0.0413559+0.0im      0.0414155+0.0im\n",
       "  0.0413614+0.0im  -0.000378042+0.0im   0.0412639+0.0im       0.041363+0.0im\n",
       "           ⋮                                             ⋱            ⋮\n",
       " -0.0114288+0.0im    -0.0269483+0.0im  -0.0853257+0.0im     -0.0114461+0.0im\n",
       " -0.0203907+0.0im    -0.0303582+0.0im  -0.0956364+0.0im     -0.0204066+0.0im\n",
       " -0.0306016+0.0im     -0.033709+0.0im   -0.105048+0.0im     -0.0306143+0.0im\n",
       " -0.0421387+0.0im    -0.0368361+0.0im   -0.113203+0.0im  …  -0.0421464+0.0im\n",
       " -0.0550542+0.0im    -0.0395463+0.0im   -0.119756+0.0im     -0.0550551+0.0im\n",
       " -0.0693656+0.0im    -0.0416253+0.0im   -0.124404+0.0im     -0.0693584+0.0im\n",
       " -0.0850462+0.0im    -0.0428482+0.0im   -0.126908+0.0im     -0.0850301+0.0im\n",
       "  -0.102015+0.0im    -0.0429949+0.0im   -0.127113+0.0im       -0.10199+0.0im\n",
       "  -0.120127+0.0im    -0.0418681+0.0im   -0.124967+0.0im  …   -0.120093+0.0im"
      ]
     },
     "metadata": {},
     "output_type": "display_data"
    }
   ],
   "source": [
    "scan_U_res_s[1]"
   ]
  },
  {
   "cell_type": "markdown",
   "metadata": {},
   "source": [
    "# $\\nu = 1/3$"
   ]
  },
  {
   "cell_type": "code",
   "execution_count": 12,
   "metadata": {},
   "outputs": [
    {
     "name": "stdout",
     "output_type": "stream",
     "text": [
      "filling factor is 0.3333333333333333\n"
     ]
    },
    {
     "name": "stdout",
     "output_type": "stream",
     "text": [
      "After sweep 1 energy=-6.910646914474075  maxlinkdim=6 maxerr=1.11E-15 time=0.048\n"
     ]
    },
    {
     "name": "stdout",
     "output_type": "stream",
     "text": [
      "After sweep 2 energy=-12.427569625043828  maxlinkdim=47 maxerr=8.94E-11 time=0.200\n"
     ]
    },
    {
     "name": "stdout",
     "output_type": "stream",
     "text": [
      "After sweep 3 energy=-15.143929704331816  maxlinkdim=50 maxerr=1.47E-06 time=0.328\n"
     ]
    },
    {
     "name": "stdout",
     "output_type": "stream",
     "text": [
      "After sweep 4 energy=-15.925474342126368  maxlinkdim=50 maxerr=1.37E-05 time=0.407\n"
     ]
    },
    {
     "name": "stdout",
     "output_type": "stream",
     "text": [
      "After sweep 5 energy=-15.994308878480501  maxlinkdim=50 maxerr=1.61E-05 time=0.427\n"
     ]
    },
    {
     "name": "stdout",
     "output_type": "stream",
     "text": [
      "After sweep 6 energy=-15.994979332732136  maxlinkdim=50 maxerr=1.73E-05 time=0.440\n"
     ]
    },
    {
     "name": "stdout",
     "output_type": "stream",
     "text": [
      "After sweep 7 energy=-15.994980519224285  maxlinkdim=50 maxerr=1.59E-05 time=0.478\n"
     ]
    },
    {
     "name": "stdout",
     "output_type": "stream",
     "text": [
      "After sweep 8 energy=-15.994980633060269  maxlinkdim=50 maxerr=1.57E-05 time=0.454\n"
     ]
    },
    {
     "name": "stdout",
     "output_type": "stream",
     "text": [
      "After sweep 9 energy=-15.994980644161771  maxlinkdim=50 maxerr=1.57E-05 time=0.435\n"
     ]
    },
    {
     "name": "stdout",
     "output_type": "stream",
     "text": [
      "After sweep 10 energy=-15.99498064591335  maxlinkdim=50 maxerr=1.57E-05 time=0.431\n"
     ]
    },
    {
     "name": "stdout",
     "output_type": "stream",
     "text": [
      "Norm of quenched wavefunction: 0.6124217838197807\n",
      "Norm of quenched wavefunction: 0.3750640574188596\n"
     ]
    },
    {
     "name": "stdout",
     "output_type": "stream",
     "text": [
      " 27.075898 seconds (51.56 M allocations: 2.703 GiB, 2.74% gc time, 98.95% compilation time)\n",
      "maxlinkdim(q_psi) = 43\n",
      "  0.222883 seconds (1.01 M allocations: 191.720 MiB, 19.74% gc time)"
     ]
    },
    {
     "name": "stdout",
     "output_type": "stream",
     "text": [
      "\n",
      "maxlinkdim(q_psi) = 43\n"
     ]
    },
    {
     "name": "stdout",
     "output_type": "stream",
     "text": [
      "  0.255102 seconds (1.01 M allocations: 191.388 MiB, 29.80% gc time)\n",
      "maxlinkdim(q_psi) = 43\n",
      "  0.206835 seconds (1.01 M allocations: 191.388 MiB, 14.87% gc time)"
     ]
    },
    {
     "name": "stdout",
     "output_type": "stream",
     "text": [
      "\n",
      "maxlinkdim(q_psi) = 43\n"
     ]
    },
    {
     "name": "stdout",
     "output_type": "stream",
     "text": [
      "  0.203771 seconds (1.01 M allocations: 191.388 MiB, 14.27% gc time)\n",
      "maxlinkdim(q_psi) = 43\n",
      "  0.200513 seconds (1.01 M allocations: 191.388 MiB, 15.20% gc time)"
     ]
    },
    {
     "name": "stdout",
     "output_type": "stream",
     "text": [
      "\n",
      "maxlinkdim(q_psi) = 43\n"
     ]
    },
    {
     "name": "stdout",
     "output_type": "stream",
     "text": [
      "  0.204494 seconds (1.01 M allocations: 191.388 MiB, 14.37% gc time)\n",
      "maxlinkdim(q_psi) = 43\n",
      "  0.199101 seconds (1.01 M allocations: 191.388 MiB, 14.75% gc time)"
     ]
    },
    {
     "name": "stdout",
     "output_type": "stream",
     "text": [
      "\n",
      "maxlinkdim(q_psi) = 43\n"
     ]
    },
    {
     "name": "stdout",
     "output_type": "stream",
     "text": [
      "  0.207502 seconds (1.01 M allocations: 191.388 MiB, 14.61% gc time)\n",
      "maxlinkdim(q_psi) = 43\n",
      "  0.204876 seconds (1.01 M allocations: 191.388 MiB, 15.65% gc time)"
     ]
    },
    {
     "name": "stdout",
     "output_type": "stream",
     "text": [
      "\n",
      "maxlinkdim(q_psi) = 43\n"
     ]
    },
    {
     "name": "stdout",
     "output_type": "stream",
     "text": [
      "  0.204475 seconds (1.01 M allocations: 191.388 MiB, 14.68% gc time)\n",
      "maxlinkdim(q_psi) = 43\n",
      "  0.201971 seconds (1.01 M allocations: 191.388 MiB, 14.70% gc time)"
     ]
    },
    {
     "name": "stdout",
     "output_type": "stream",
     "text": [
      "\n",
      "maxlinkdim(q_psi) = 43\n"
     ]
    },
    {
     "name": "stdout",
     "output_type": "stream",
     "text": [
      "  0.224559 seconds (1.01 M allocations: 191.388 MiB, 14.17% gc time)\n",
      "maxlinkdim(q_psi) = 43\n",
      "  0.197993 seconds (1.01 M allocations: 191.388 MiB, 13.57% gc time)"
     ]
    },
    {
     "name": "stdout",
     "output_type": "stream",
     "text": [
      "\n",
      "maxlinkdim(q_psi) = 43\n"
     ]
    },
    {
     "name": "stdout",
     "output_type": "stream",
     "text": [
      "  0.204940 seconds (1.01 M allocations: 191.388 MiB, 14.95% gc time)\n",
      "maxlinkdim(q_psi) = 43\n",
      "  0.207073 seconds (1.01 M allocations: 191.388 MiB, 16.18% gc time)"
     ]
    },
    {
     "name": "stdout",
     "output_type": "stream",
     "text": [
      "\n",
      "maxlinkdim(q_psi) = 43\n"
     ]
    },
    {
     "name": "stdout",
     "output_type": "stream",
     "text": [
      "  0.209956 seconds (1.01 M allocations: 191.388 MiB, 15.55% gc time)\n",
      "maxlinkdim(q_psi) = 43\n",
      "  0.198642 seconds (1.01 M allocations: 191.388 MiB, 14.26% gc time)"
     ]
    },
    {
     "name": "stdout",
     "output_type": "stream",
     "text": [
      "\n",
      "maxlinkdim(q_psi) = 43\n"
     ]
    },
    {
     "name": "stdout",
     "output_type": "stream",
     "text": [
      "  0.203156 seconds (1.01 M allocations: 191.388 MiB, 14.13% gc time)\n",
      "maxlinkdim(q_psi) = 43\n",
      "  0.228960 seconds (1.01 M allocations: 191.388 MiB, 25.81% gc time)"
     ]
    },
    {
     "name": "stdout",
     "output_type": "stream",
     "text": [
      "\n",
      "maxlinkdim(q_psi) = 43\n"
     ]
    },
    {
     "name": "stdout",
     "output_type": "stream",
     "text": [
      "  0.201150 seconds (1.01 M allocations: 191.388 MiB, 13.78% gc time)\n",
      "maxlinkdim(q_psi) = 43\n",
      "  0.225744 seconds (1.01 M allocations: 191.388 MiB, 24.47% gc time)"
     ]
    },
    {
     "name": "stdout",
     "output_type": "stream",
     "text": [
      "\n",
      "maxlinkdim(q_psi) = 43\n"
     ]
    },
    {
     "name": "stdout",
     "output_type": "stream",
     "text": [
      "  0.205466 seconds (1.01 M allocations: 191.388 MiB, 14.87% gc time)\n",
      "maxlinkdim(q_psi) = 43\n",
      "  0.251251 seconds (1.01 M allocations: 191.388 MiB, 25.74% gc time)"
     ]
    },
    {
     "name": "stdout",
     "output_type": "stream",
     "text": [
      "\n",
      "maxlinkdim(q_psi) = 43\n"
     ]
    },
    {
     "name": "stdout",
     "output_type": "stream",
     "text": [
      "  0.202774 seconds (1.01 M allocations: 191.388 MiB, 14.17% gc time)\n",
      "maxlinkdim(q_psi) = 43\n",
      "  0.237231 seconds (1.01 M allocations: 191.388 MiB, 25.40% gc time)"
     ]
    },
    {
     "name": "stdout",
     "output_type": "stream",
     "text": [
      "\n",
      "maxlinkdim(q_psi) = 43\n"
     ]
    },
    {
     "name": "stdout",
     "output_type": "stream",
     "text": [
      "  0.202806 seconds (1.01 M allocations: 191.388 MiB, 14.45% gc time)\n",
      "maxlinkdim(q_psi) = 43\n",
      "  0.300276 seconds (1.01 M allocations: 191.388 MiB, 21.75% gc time)"
     ]
    },
    {
     "name": "stdout",
     "output_type": "stream",
     "text": [
      "\n",
      "maxlinkdim(q_psi) = 43\n"
     ]
    },
    {
     "name": "stdout",
     "output_type": "stream",
     "text": [
      "  0.211766 seconds (1.01 M allocations: 191.388 MiB, 14.64% gc time)\n",
      "maxlinkdim(q_psi) = 43\n",
      "  0.290398 seconds (1.01 M allocations: 191.388 MiB, 21.71% gc time)"
     ]
    },
    {
     "name": "stdout",
     "output_type": "stream",
     "text": [
      "\n",
      "maxlinkdim(q_psi) = 43\n"
     ]
    },
    {
     "name": "stdout",
     "output_type": "stream",
     "text": [
      "  0.223761 seconds (1.01 M allocations: 191.388 MiB, 11.81% gc time)\n",
      "maxlinkdim(q_psi) = 43\n",
      "  0.257505 seconds (1.01 M allocations: 191.388 MiB, 24.45% gc time)"
     ]
    },
    {
     "name": "stdout",
     "output_type": "stream",
     "text": [
      "\n",
      "maxlinkdim(q_psi) = 43\n"
     ]
    },
    {
     "name": "stdout",
     "output_type": "stream",
     "text": [
      "  0.247330 seconds (1.01 M allocations: 191.388 MiB, 12.31% gc time)\n",
      "maxlinkdim(q_psi) = 43\n",
      "  0.247508 seconds (1.01 M allocations: 191.388 MiB, 24.37% gc time)"
     ]
    },
    {
     "name": "stdout",
     "output_type": "stream",
     "text": [
      "\n",
      "maxlinkdim(q_psi) = 43\n"
     ]
    },
    {
     "name": "stdout",
     "output_type": "stream",
     "text": [
      "  0.220187 seconds (1.01 M allocations: 191.388 MiB, 13.87% gc time)\n",
      "maxlinkdim(q_psi) = 43\n",
      "  0.223188 seconds (1.01 M allocations: 191.388 MiB, 14.24% gc time)"
     ]
    },
    {
     "name": "stdout",
     "output_type": "stream",
     "text": [
      "\n",
      "maxlinkdim(q_psi) = 43\n"
     ]
    },
    {
     "name": "stdout",
     "output_type": "stream",
     "text": [
      "  0.216135 seconds (1.01 M allocations: 191.388 MiB, 12.55% gc time)\n",
      "maxlinkdim(q_psi) = 43\n",
      "  0.216513 seconds (1.01 M allocations: 191.388 MiB, 13.65% gc time)"
     ]
    },
    {
     "name": "stdout",
     "output_type": "stream",
     "text": [
      "\n",
      "maxlinkdim(q_psi) = 43\n"
     ]
    },
    {
     "name": "stdout",
     "output_type": "stream",
     "text": [
      "  0.216739 seconds (1.01 M allocations: 191.388 MiB, 13.84% gc time)\n",
      "maxlinkdim(q_psi) = 43\n",
      "  0.211097 seconds (1.01 M allocations: 191.388 MiB, 12.97% gc time)"
     ]
    },
    {
     "name": "stdout",
     "output_type": "stream",
     "text": [
      "\n",
      "maxlinkdim(q_psi) = 43\n"
     ]
    },
    {
     "name": "stdout",
     "output_type": "stream",
     "text": [
      "  0.211438 seconds (1.01 M allocations: 191.388 MiB, 14.73% gc time)\n",
      "maxlinkdim(q_psi) = 43\n",
      "  0.210224 seconds (1.01 M allocations: 191.484 MiB, 13.14% gc time)"
     ]
    },
    {
     "name": "stdout",
     "output_type": "stream",
     "text": [
      "\n",
      "maxlinkdim(q_psi) = 43\n"
     ]
    },
    {
     "name": "stdout",
     "output_type": "stream",
     "text": [
      "  0.252750 seconds (1.01 M allocations: 191.484 MiB, 12.33% gc time)\n",
      "maxlinkdim(q_psi) = 43\n",
      "  0.209309 seconds (1.01 M allocations: 191.484 MiB, 14.12% gc time)"
     ]
    },
    {
     "name": "stdout",
     "output_type": "stream",
     "text": [
      "\n",
      "maxlinkdim(q_psi) = 43\n"
     ]
    },
    {
     "name": "stdout",
     "output_type": "stream",
     "text": [
      "  0.210505 seconds (1.01 M allocations: 191.484 MiB, 15.30% gc time)\n",
      "maxlinkdim(q_psi) = 43\n",
      "  0.207015 seconds (1.01 M allocations: 191.484 MiB, 12.83% gc time)"
     ]
    },
    {
     "name": "stdout",
     "output_type": "stream",
     "text": [
      "\n",
      "maxlinkdim(q_psi) = 43\n"
     ]
    },
    {
     "name": "stdout",
     "output_type": "stream",
     "text": [
      "  0.240194 seconds (1.01 M allocations: 191.484 MiB, 25.72% gc time)\n",
      "maxlinkdim(q_psi) = 43\n",
      "  0.210307 seconds (1.01 M allocations: 191.484 MiB, 14.38% gc time)"
     ]
    },
    {
     "name": "stdout",
     "output_type": "stream",
     "text": [
      "\n",
      "maxlinkdim(q_psi) = 43\n"
     ]
    },
    {
     "name": "stdout",
     "output_type": "stream",
     "text": [
      "  0.236502 seconds (1.01 M allocations: 191.484 MiB, 24.82% gc time)\n",
      "maxlinkdim(q_psi) = 43\n",
      "  0.209248 seconds (1.01 M allocations: 191.484 MiB, 13.93% gc time)"
     ]
    },
    {
     "name": "stdout",
     "output_type": "stream",
     "text": [
      "\n",
      "maxlinkdim(q_psi) = 43\n"
     ]
    },
    {
     "name": "stdout",
     "output_type": "stream",
     "text": [
      "  0.239974 seconds (1.01 M allocations: 191.484 MiB, 25.03% gc time)\n",
      "maxlinkdim(q_psi) = 43\n",
      "  0.212348 seconds (1.01 M allocations: 191.484 MiB, 15.61% gc time)"
     ]
    },
    {
     "name": "stdout",
     "output_type": "stream",
     "text": [
      "\n",
      "maxlinkdim(q_psi) = 43\n"
     ]
    },
    {
     "name": "stdout",
     "output_type": "stream",
     "text": [
      "  0.240855 seconds (1.01 M allocations: 191.484 MiB, 25.59% gc time)\n",
      "maxlinkdim(q_psi) = 43\n",
      "  0.211919 seconds (1.01 M allocations: 191.484 MiB, 15.37% gc time)"
     ]
    },
    {
     "name": "stdout",
     "output_type": "stream",
     "text": [
      "\n",
      "maxlinkdim(q_psi) = 43\n"
     ]
    },
    {
     "name": "stdout",
     "output_type": "stream",
     "text": [
      "  0.241895 seconds (1.01 M allocations: 191.484 MiB, 25.45% gc time)\n",
      "maxlinkdim(q_psi) = 43\n",
      "  0.209707 seconds (1.01 M allocations: 191.484 MiB, 14.08% gc time)"
     ]
    },
    {
     "name": "stdout",
     "output_type": "stream",
     "text": [
      "\n",
      "maxlinkdim(q_psi) = 43\n"
     ]
    },
    {
     "name": "stdout",
     "output_type": "stream",
     "text": [
      "  0.237638 seconds (1.01 M allocations: 191.484 MiB, 24.35% gc time)\n",
      "maxlinkdim(q_psi) = 43\n",
      "  0.208589 seconds (1.01 M allocations: 191.484 MiB, 14.56% gc time)"
     ]
    },
    {
     "name": "stdout",
     "output_type": "stream",
     "text": [
      "\n",
      "maxlinkdim(q_psi) = 43\n"
     ]
    },
    {
     "name": "stdout",
     "output_type": "stream",
     "text": [
      "  0.237127 seconds (1.01 M allocations: 191.484 MiB, 23.81% gc time)\n",
      "maxlinkdim(q_psi) = 43\n",
      "  0.208262 seconds (1.01 M allocations: 191.484 MiB, 14.61% gc time)"
     ]
    },
    {
     "name": "stdout",
     "output_type": "stream",
     "text": [
      "\n",
      "maxlinkdim(q_psi) = 43\n"
     ]
    },
    {
     "name": "stdout",
     "output_type": "stream",
     "text": [
      "  0.215296 seconds (1.01 M allocations: 191.484 MiB, 15.25% gc time)\n",
      "maxlinkdim(q_psi) = 43\n",
      "  0.203544 seconds (1.01 M allocations: 191.484 MiB, 12.87% gc time)"
     ]
    },
    {
     "name": "stdout",
     "output_type": "stream",
     "text": [
      "\n",
      "maxlinkdim(q_psi) = 43\n"
     ]
    },
    {
     "name": "stdout",
     "output_type": "stream",
     "text": [
      "  0.215032 seconds (1.01 M allocations: 191.484 MiB, 14.37% gc time)\n",
      "maxlinkdim(q_psi) = 43\n",
      "  0.208715 seconds (1.01 M allocations: 191.569 MiB, 14.14% gc time)"
     ]
    },
    {
     "name": "stdout",
     "output_type": "stream",
     "text": [
      "\n",
      "maxlinkdim(q_psi) = 43\n"
     ]
    },
    {
     "name": "stdout",
     "output_type": "stream",
     "text": [
      "  0.206411 seconds (1.01 M allocations: 191.659 MiB, 13.11% gc time)\n",
      "maxlinkdim(q_psi) = 43\n",
      "  0.208256 seconds (1.01 M allocations: 191.659 MiB, 13.85% gc time)"
     ]
    },
    {
     "name": "stdout",
     "output_type": "stream",
     "text": [
      "\n",
      "maxlinkdim(q_psi) = 43\n"
     ]
    },
    {
     "name": "stdout",
     "output_type": "stream",
     "text": [
      "  0.211081 seconds (1.01 M allocations: 191.659 MiB, 14.89% gc time)\n",
      "maxlinkdim(q_psi) = 43\n",
      "  0.209161 seconds (1.01 M allocations: 191.659 MiB, 13.95% gc time)"
     ]
    },
    {
     "name": "stdout",
     "output_type": "stream",
     "text": [
      "\n",
      "maxlinkdim(q_psi) = 43\n"
     ]
    },
    {
     "name": "stdout",
     "output_type": "stream",
     "text": [
      "  0.210150 seconds (1.01 M allocations: 191.659 MiB, 13.87% gc time)\n",
      "maxlinkdim(q_psi) = 43\n",
      "  0.240179 seconds (1.01 M allocations: 191.659 MiB, 24.21% gc time)"
     ]
    },
    {
     "name": "stdout",
     "output_type": "stream",
     "text": [
      "\n",
      "maxlinkdim(q_psi) = 43\n"
     ]
    },
    {
     "name": "stdout",
     "output_type": "stream",
     "text": [
      "  0.208509 seconds (1.01 M allocations: 191.659 MiB, 13.82% gc time)\n",
      "maxlinkdim(q_psi) = 43\n",
      "  0.239358 seconds (1.01 M allocations: 191.659 MiB, 25.54% gc time)"
     ]
    },
    {
     "name": "stdout",
     "output_type": "stream",
     "text": [
      "\n",
      "maxlinkdim(q_psi) = 43\n"
     ]
    },
    {
     "name": "stdout",
     "output_type": "stream",
     "text": [
      "  0.211097 seconds (1.01 M allocations: 191.659 MiB, 14.60% gc time)\n",
      "maxlinkdim(q_psi) = 43\n",
      "  0.243361 seconds (1.01 M allocations: 191.659 MiB, 25.64% gc time)"
     ]
    },
    {
     "name": "stdout",
     "output_type": "stream",
     "text": [
      "\n",
      "maxlinkdim(q_psi) = 43\n"
     ]
    },
    {
     "name": "stdout",
     "output_type": "stream",
     "text": [
      "  0.215013 seconds (1.01 M allocations: 191.659 MiB, 13.78% gc time)\n",
      "maxlinkdim(q_psi) = 43\n",
      "  0.241585 seconds (1.01 M allocations: 191.659 MiB, 24.40% gc time)"
     ]
    },
    {
     "name": "stdout",
     "output_type": "stream",
     "text": [
      "\n",
      "maxlinkdim(q_psi) = 43\n"
     ]
    },
    {
     "name": "stdout",
     "output_type": "stream",
     "text": [
      "  0.213018 seconds (1.01 M allocations: 191.659 MiB, 12.64% gc time)\n",
      "maxlinkdim(q_psi) = 43\n",
      "  0.247920 seconds (1.01 M allocations: 191.659 MiB, 24.97% gc time)"
     ]
    },
    {
     "name": "stdout",
     "output_type": "stream",
     "text": [
      "\n",
      "maxlinkdim(q_psi) = 43\n"
     ]
    },
    {
     "name": "stdout",
     "output_type": "stream",
     "text": [
      "  0.216563 seconds (1.01 M allocations: 191.659 MiB, 13.90% gc time)\n",
      "maxlinkdim(q_psi) = 43\n",
      "  0.244199 seconds (1.01 M allocations: 191.659 MiB, 23.84% gc time)"
     ]
    },
    {
     "name": "stdout",
     "output_type": "stream",
     "text": [
      "\n",
      "maxlinkdim(q_psi) = 43\n"
     ]
    },
    {
     "name": "stdout",
     "output_type": "stream",
     "text": [
      "  0.217792 seconds (1.01 M allocations: 191.659 MiB, 14.52% gc time)\n",
      "maxlinkdim(q_psi) = 43\n",
      "  0.213631 seconds (1.01 M allocations: 191.659 MiB, 13.84% gc time)"
     ]
    },
    {
     "name": "stdout",
     "output_type": "stream",
     "text": [
      "\n",
      "maxlinkdim(q_psi) = 43\n"
     ]
    },
    {
     "name": "stdout",
     "output_type": "stream",
     "text": [
      "  0.211345 seconds (1.01 M allocations: 191.659 MiB, 13.87% gc time)\n",
      "maxlinkdim(q_psi) = 43\n",
      "  0.211623 seconds (1.01 M allocations: 191.659 MiB, 14.79% gc time)"
     ]
    },
    {
     "name": "stdout",
     "output_type": "stream",
     "text": [
      "\n",
      "maxlinkdim(q_psi) = 43\n"
     ]
    },
    {
     "name": "stdout",
     "output_type": "stream",
     "text": [
      "  0.205889 seconds (1.01 M allocations: 191.659 MiB, 14.07% gc time)\n",
      "maxlinkdim(q_psi) = 43\n",
      "  0.210692 seconds (1.01 M allocations: 191.820 MiB, 15.45% gc time)"
     ]
    },
    {
     "name": "stdout",
     "output_type": "stream",
     "text": [
      "\n",
      "maxlinkdim(q_psi) = 43\n"
     ]
    },
    {
     "name": "stdout",
     "output_type": "stream",
     "text": [
      "  0.211578 seconds (1.01 M allocations: 191.569 MiB, 14.16% gc time)\n",
      "maxlinkdim(q_psi) = 43\n",
      "  0.205362 seconds (1.01 M allocations: 191.820 MiB, 12.80% gc time)"
     ]
    },
    {
     "name": "stdout",
     "output_type": "stream",
     "text": [
      "\n",
      "maxlinkdim(q_psi) = 43\n"
     ]
    },
    {
     "name": "stdout",
     "output_type": "stream",
     "text": [
      "  0.208224 seconds (1.01 M allocations: 191.569 MiB, 14.15% gc time)\n",
      "maxlinkdim(q_psi) = 43\n",
      "  0.216621 seconds (1.01 M allocations: 191.820 MiB, 13.78% gc time)"
     ]
    },
    {
     "name": "stdout",
     "output_type": "stream",
     "text": [
      "\n",
      "maxlinkdim(q_psi) = 43\n"
     ]
    },
    {
     "name": "stdout",
     "output_type": "stream",
     "text": [
      "  0.241346 seconds (1.01 M allocations: 191.569 MiB, 25.50% gc time)\n",
      "maxlinkdim(q_psi) = 43\n",
      "  0.210194 seconds (1.01 M allocations: 191.820 MiB, 14.13% gc time)"
     ]
    },
    {
     "name": "stdout",
     "output_type": "stream",
     "text": [
      "\n",
      "maxlinkdim(q_psi) = 43\n"
     ]
    },
    {
     "name": "stdout",
     "output_type": "stream",
     "text": [
      "  0.233071 seconds (1.01 M allocations: 191.569 MiB, 24.57% gc time)\n",
      "maxlinkdim(q_psi) = 43\n",
      "  0.212942 seconds (1.01 M allocations: 191.820 MiB, 15.18% gc time)"
     ]
    },
    {
     "name": "stdout",
     "output_type": "stream",
     "text": [
      "\n",
      "maxlinkdim(q_psi) = 43\n"
     ]
    },
    {
     "name": "stdout",
     "output_type": "stream",
     "text": [
      "  0.239239 seconds (1.01 M allocations: 191.569 MiB, 24.63% gc time)\n",
      "maxlinkdim(q_psi) = 43\n",
      "  0.210204 seconds (1.01 M allocations: 191.820 MiB, 14.07% gc time)"
     ]
    },
    {
     "name": "stdout",
     "output_type": "stream",
     "text": [
      "\n",
      "maxlinkdim(q_psi) = 43\n"
     ]
    },
    {
     "name": "stdout",
     "output_type": "stream",
     "text": [
      "  0.238349 seconds (1.01 M allocations: 191.569 MiB, 24.45% gc time)\n",
      "maxlinkdim(q_psi) = 43\n",
      "  0.209057 seconds (1.01 M allocations: 191.820 MiB, 14.29% gc time)"
     ]
    },
    {
     "name": "stdout",
     "output_type": "stream",
     "text": [
      "\n",
      "maxlinkdim(q_psi) = 43\n"
     ]
    },
    {
     "name": "stdout",
     "output_type": "stream",
     "text": [
      "  0.238700 seconds (1.01 M allocations: 191.569 MiB, 23.98% gc time)\n",
      "maxlinkdim(q_psi) = 43\n",
      "  0.207420 seconds (1.01 M allocations: 191.820 MiB, 13.96% gc time)"
     ]
    },
    {
     "name": "stdout",
     "output_type": "stream",
     "text": [
      "\n",
      "maxlinkdim(q_psi) = 43\n"
     ]
    },
    {
     "name": "stdout",
     "output_type": "stream",
     "text": [
      "  0.211578 seconds (1.01 M allocations: 191.730 MiB, 12.41% gc time)\n",
      "maxlinkdim(q_psi) = 43\n",
      "  0.213580 seconds (1.01 M allocations: 191.730 MiB, 14.98% gc time)"
     ]
    },
    {
     "name": "stdout",
     "output_type": "stream",
     "text": [
      "\n",
      "maxlinkdim(q_psi) = 43\n"
     ]
    },
    {
     "name": "stdout",
     "output_type": "stream",
     "text": [
      "  0.216354 seconds (1.01 M allocations: 191.814 MiB, 14.33% gc time)\n",
      "maxlinkdim(q_psi) = 43\n",
      "  0.212455 seconds (1.01 M allocations: 191.905 MiB, 13.47% gc time)"
     ]
    },
    {
     "name": "stdout",
     "output_type": "stream",
     "text": [
      "\n",
      "maxlinkdim(q_psi) = 43\n"
     ]
    },
    {
     "name": "stdout",
     "output_type": "stream",
     "text": [
      "  0.215106 seconds (1.01 M allocations: 191.905 MiB, 13.47% gc time)\n",
      "maxlinkdim(q_psi) = 43\n",
      "  0.215632 seconds (1.01 M allocations: 191.905 MiB, 14.46% gc time)"
     ]
    },
    {
     "name": "stdout",
     "output_type": "stream",
     "text": [
      "\n",
      "maxlinkdim(q_psi) = 43\n"
     ]
    },
    {
     "name": "stdout",
     "output_type": "stream",
     "text": [
      "  0.214656 seconds (1.01 M allocations: 191.905 MiB, 14.03% gc time)\n",
      "maxlinkdim(q_psi) = 43\n",
      "  0.211082 seconds (1.01 M allocations: 191.905 MiB, 13.76% gc time)"
     ]
    },
    {
     "name": "stdout",
     "output_type": "stream",
     "text": [
      "\n",
      "maxlinkdim(q_psi) = 43\n"
     ]
    },
    {
     "name": "stdout",
     "output_type": "stream",
     "text": [
      "  0.212177 seconds (1.01 M allocations: 191.905 MiB, 12.57% gc time)\n",
      "maxlinkdim(q_psi) = 43\n",
      "  0.243270 seconds (1.01 M allocations: 191.905 MiB, 25.10% gc time)"
     ]
    },
    {
     "name": "stdout",
     "output_type": "stream",
     "text": [
      "\n",
      "maxlinkdim(q_psi) = 43\n"
     ]
    },
    {
     "name": "stdout",
     "output_type": "stream",
     "text": [
      "  0.217657 seconds (1.01 M allocations: 191.905 MiB, 14.18% gc time)\n",
      "maxlinkdim(q_psi) = 43\n",
      "  0.245562 seconds (1.01 M allocations: 191.905 MiB, 24.69% gc time)"
     ]
    },
    {
     "name": "stdout",
     "output_type": "stream",
     "text": [
      "\n",
      "maxlinkdim(q_psi) = 43\n"
     ]
    },
    {
     "name": "stdout",
     "output_type": "stream",
     "text": [
      "  0.215980 seconds (1.01 M allocations: 191.905 MiB, 14.80% gc time)\n",
      "maxlinkdim(q_psi) = 43\n",
      "  0.238021 seconds (1.01 M allocations: 191.905 MiB, 23.77% gc time)"
     ]
    },
    {
     "name": "stdout",
     "output_type": "stream",
     "text": [
      "\n",
      "maxlinkdim(q_psi) = 43\n"
     ]
    },
    {
     "name": "stdout",
     "output_type": "stream",
     "text": [
      "  0.211563 seconds (1.01 M allocations: 191.905 MiB, 14.04% gc time)\n",
      "maxlinkdim(q_psi) = 43\n",
      "  0.237568 seconds (1.01 M allocations: 191.979 MiB, 24.61% gc time)"
     ]
    },
    {
     "name": "stdout",
     "output_type": "stream",
     "text": [
      "\n",
      "maxlinkdim(q_psi) = 43\n"
     ]
    },
    {
     "name": "stdout",
     "output_type": "stream",
     "text": [
      "  0.211861 seconds (1.01 M allocations: 191.979 MiB, 14.02% gc time)\n",
      "maxlinkdim(q_psi) = 43\n",
      "  0.212183 seconds (1.01 M allocations: 191.979 MiB, 13.34% gc time)"
     ]
    },
    {
     "name": "stdout",
     "output_type": "stream",
     "text": [
      "\n",
      "maxlinkdim(q_psi) = 43\n"
     ]
    },
    {
     "name": "stdout",
     "output_type": "stream",
     "text": [
      "  0.206286 seconds (1.01 M allocations: 191.979 MiB, 12.60% gc time)\n",
      "maxlinkdim(q_psi) = 43\n",
      "  0.207964 seconds (1.01 M allocations: 191.979 MiB, 13.87% gc time)"
     ]
    },
    {
     "name": "stdout",
     "output_type": "stream",
     "text": [
      "\n",
      "maxlinkdim(q_psi) = 43\n"
     ]
    },
    {
     "name": "stdout",
     "output_type": "stream",
     "text": [
      "  0.207019 seconds (1.01 M allocations: 191.979 MiB, 13.85% gc time)\n",
      "maxlinkdim(q_psi) = 43\n",
      "  0.210141 seconds (1.01 M allocations: 191.979 MiB, 13.56% gc time)"
     ]
    },
    {
     "name": "stdout",
     "output_type": "stream",
     "text": [
      "\n",
      "maxlinkdim(q_psi) = 43\n"
     ]
    },
    {
     "name": "stdout",
     "output_type": "stream",
     "text": [
      "  0.209409 seconds (1.01 M allocations: 191.979 MiB, 14.76% gc time)\n",
      "maxlinkdim(q_psi) = 43\n",
      "  0.208193 seconds (1.01 M allocations: 191.979 MiB, 13.21% gc time)"
     ]
    },
    {
     "name": "stdout",
     "output_type": "stream",
     "text": [
      "\n",
      "maxlinkdim(q_psi) = 43\n"
     ]
    },
    {
     "name": "stdout",
     "output_type": "stream",
     "text": [
      "  0.225998 seconds (1.01 M allocations: 191.979 MiB, 12.03% gc time)\n",
      "maxlinkdim(q_psi) = 43\n",
      "  0.216704 seconds (1.01 M allocations: 191.979 MiB, 14.02% gc time)"
     ]
    },
    {
     "name": "stdout",
     "output_type": "stream",
     "text": [
      "\n",
      "maxlinkdim(q_psi) = 43\n"
     ]
    },
    {
     "name": "stdout",
     "output_type": "stream",
     "text": [
      "  0.244499 seconds (1.01 M allocations: 191.979 MiB, 25.44% gc time)\n",
      "maxlinkdim(q_psi) = 43\n",
      "  0.214054 seconds (1.01 M allocations: 191.979 MiB, 13.89% gc time)"
     ]
    },
    {
     "name": "stdout",
     "output_type": "stream",
     "text": [
      "\n",
      "maxlinkdim(q_psi) = 43\n"
     ]
    },
    {
     "name": "stdout",
     "output_type": "stream",
     "text": [
      "  0.241842 seconds (1.01 M allocations: 192.181 MiB, 24.20% gc time)\n",
      "maxlinkdim(q_psi) = 43\n",
      "  0.214283 seconds (1.01 M allocations: 192.621 MiB, 14.14% gc time)"
     ]
    },
    {
     "name": "stdout",
     "output_type": "stream",
     "text": [
      "\n",
      "maxlinkdim(q_psi) = 43\n"
     ]
    },
    {
     "name": "stdout",
     "output_type": "stream",
     "text": [
      "  0.246721 seconds (1.01 M allocations: 192.621 MiB, 24.65% gc time)\n",
      "maxlinkdim(q_psi) = 43\n",
      "  0.213263 seconds (1.01 M allocations: 192.621 MiB, 14.09% gc time)"
     ]
    },
    {
     "name": "stdout",
     "output_type": "stream",
     "text": [
      "\n",
      "maxlinkdim(q_psi) = 43\n"
     ]
    },
    {
     "name": "stdout",
     "output_type": "stream",
     "text": [
      "  0.244187 seconds (1.01 M allocations: 192.621 MiB, 25.24% gc time)\n",
      "maxlinkdim(q_psi) = 43\n",
      "  0.214120 seconds (1.01 M allocations: 192.621 MiB, 14.04% gc time)"
     ]
    },
    {
     "name": "stdout",
     "output_type": "stream",
     "text": [
      "\n",
      "maxlinkdim(q_psi) = 43\n"
     ]
    },
    {
     "name": "stdout",
     "output_type": "stream",
     "text": [
      "  0.213518 seconds (1.01 M allocations: 192.621 MiB, 13.78% gc time)\n",
      "maxlinkdim(q_psi) = 43\n",
      "  0.210662 seconds (1.01 M allocations: 192.621 MiB, 13.61% gc time)"
     ]
    },
    {
     "name": "stdout",
     "output_type": "stream",
     "text": [
      "\n",
      "maxlinkdim(q_psi) = 43\n"
     ]
    },
    {
     "name": "stdout",
     "output_type": "stream",
     "text": [
      "  0.228254 seconds (1.01 M allocations: 192.621 MiB, 12.92% gc time)\n",
      "maxlinkdim(q_psi) = 43\n",
      "  0.215548 seconds (1.01 M allocations: 192.621 MiB, 14.92% gc time)"
     ]
    },
    {
     "name": "stdout",
     "output_type": "stream",
     "text": [
      "\n",
      "maxlinkdim(q_psi) = 43\n"
     ]
    },
    {
     "name": "stdout",
     "output_type": "stream",
     "text": [
      "  0.216646 seconds (1.01 M allocations: 192.621 MiB, 14.38% gc time)\n",
      "maxlinkdim(q_psi) = 43\n",
      "  0.207550 seconds (1.01 M allocations: 192.621 MiB, 12.79% gc time)"
     ]
    },
    {
     "name": "stdout",
     "output_type": "stream",
     "text": [
      "\n",
      "maxlinkdim(q_psi) = 43\n"
     ]
    },
    {
     "name": "stdout",
     "output_type": "stream",
     "text": [
      "  0.315660 seconds (1.01 M allocations: 192.621 MiB, 8.68% gc time)\n",
      "maxlinkdim(q_psi) = 43\n",
      "  0.214334 seconds (1.01 M allocations: 192.866 MiB, 12.57% gc time)"
     ]
    },
    {
     "name": "stdout",
     "output_type": "stream",
     "text": [
      "\n",
      "maxlinkdim(q_psi) = 43\n"
     ]
    },
    {
     "name": "stdout",
     "output_type": "stream",
     "text": [
      "  0.217264 seconds (1.01 M allocations: 192.866 MiB, 14.81% gc time)\n",
      "maxlinkdim(q_psi) = 43\n",
      "  0.240608 seconds (1.01 M allocations: 192.866 MiB, 25.13% gc time)"
     ]
    },
    {
     "name": "stdout",
     "output_type": "stream",
     "text": [
      "\n",
      "maxlinkdim(q_psi) = 43\n"
     ]
    },
    {
     "name": "stdout",
     "output_type": "stream",
     "text": [
      "  0.210671 seconds (1.01 M allocations: 192.866 MiB, 14.16% gc time)\n",
      "maxlinkdim(q_psi) = 43\n",
      "  0.240403 seconds (1.01 M allocations: 192.866 MiB, 25.22% gc time)"
     ]
    },
    {
     "name": "stdout",
     "output_type": "stream",
     "text": [
      "\n",
      "maxlinkdim(q_psi) = 43\n"
     ]
    },
    {
     "name": "stdout",
     "output_type": "stream",
     "text": [
      "  0.211692 seconds (1.01 M allocations: 192.866 MiB, 14.89% gc time)\n",
      "maxlinkdim(q_psi) = 43\n",
      "  0.240356 seconds (1.01 M allocations: 192.866 MiB, 25.17% gc time)"
     ]
    },
    {
     "name": "stdout",
     "output_type": "stream",
     "text": [
      "\n",
      "maxlinkdim(q_psi) = 43\n"
     ]
    },
    {
     "name": "stdout",
     "output_type": "stream",
     "text": [
      "  0.211000 seconds (1.01 M allocations: 192.866 MiB, 13.08% gc time)\n",
      "maxlinkdim(q_psi) = 43\n",
      "  0.238178 seconds (1.01 M allocations: 192.866 MiB, 24.59% gc time)"
     ]
    },
    {
     "name": "stdout",
     "output_type": "stream",
     "text": [
      "\n",
      "maxlinkdim(q_psi) = 43\n"
     ]
    },
    {
     "name": "stdout",
     "output_type": "stream",
     "text": [
      "  0.211442 seconds (1.01 M allocations: 192.866 MiB, 13.47% gc time)\n",
      "maxlinkdim(q_psi) = 43\n",
      "  0.234260 seconds (1.02 M allocations: 193.527 MiB, 23.89% gc time)"
     ]
    },
    {
     "name": "stdout",
     "output_type": "stream",
     "text": [
      "\n",
      "maxlinkdim(q_psi) = 43\n"
     ]
    },
    {
     "name": "stdout",
     "output_type": "stream",
     "text": [
      "  0.214515 seconds (1.02 M allocations: 193.527 MiB, 14.83% gc time)\n",
      "maxlinkdim(q_psi) = 43\n",
      "  0.212074 seconds (1.02 M allocations: 193.529 MiB, 14.86% gc time)"
     ]
    },
    {
     "name": "stdout",
     "output_type": "stream",
     "text": [
      "\n",
      "maxlinkdim(q_psi) = 43\n"
     ]
    },
    {
     "name": "stdout",
     "output_type": "stream",
     "text": [
      "  0.210766 seconds (1.02 M allocations: 193.620 MiB, 14.71% gc time)\n",
      "maxlinkdim(q_psi) = 43\n",
      "  0.216111 seconds (1.02 M allocations: 193.620 MiB, 15.22% gc time)"
     ]
    },
    {
     "name": "stdout",
     "output_type": "stream",
     "text": [
      "\n",
      "maxlinkdim(q_psi) = 43\n"
     ]
    },
    {
     "name": "stdout",
     "output_type": "stream",
     "text": [
      "  0.215839 seconds (1.02 M allocations: 193.620 MiB, 12.70% gc time)\n",
      "maxlinkdim(q_psi) = 43\n",
      "  0.219200 seconds (1.02 M allocations: 193.618 MiB, 14.78% gc time)"
     ]
    },
    {
     "name": "stdout",
     "output_type": "stream",
     "text": [
      "\n",
      "maxlinkdim(q_psi) = 43\n"
     ]
    },
    {
     "name": "stdout",
     "output_type": "stream",
     "text": [
      "  0.214877 seconds (1.02 M allocations: 193.712 MiB, 14.69% gc time)\n",
      "maxlinkdim(q_psi) = 43\n",
      "  0.213321 seconds (1.02 M allocations: 193.712 MiB, 14.03% gc time)"
     ]
    },
    {
     "name": "stdout",
     "output_type": "stream",
     "text": [
      "\n",
      "maxlinkdim(q_psi) = 43\n"
     ]
    },
    {
     "name": "stdout",
     "output_type": "stream",
     "text": [
      "  0.216495 seconds (1.02 M allocations: 193.712 MiB, 14.55% gc time)\n",
      "maxlinkdim(q_psi) = 43\n",
      "  0.212382 seconds (1.02 M allocations: 193.712 MiB, 12.98% gc time)"
     ]
    },
    {
     "name": "stdout",
     "output_type": "stream",
     "text": [
      "\n",
      "maxlinkdim(q_psi) = 43\n"
     ]
    },
    {
     "name": "stdout",
     "output_type": "stream",
     "text": [
      "  0.214778 seconds (1.02 M allocations: 193.715 MiB, 14.33% gc time)\n",
      "maxlinkdim(q_psi) = 43\n",
      "  0.218015 seconds (1.02 M allocations: 193.715 MiB, 15.23% gc time)"
     ]
    },
    {
     "name": "stdout",
     "output_type": "stream",
     "text": [
      "\n",
      "maxlinkdim(q_psi) = 43\n"
     ]
    },
    {
     "name": "stdout",
     "output_type": "stream",
     "text": [
      "  0.246932 seconds (1.02 M allocations: 193.715 MiB, 25.24% gc time)\n",
      "maxlinkdim(q_psi) = 43\n",
      "  0.218044 seconds (1.02 M allocations: 193.715 MiB, 14.35% gc time)"
     ]
    },
    {
     "name": "stdout",
     "output_type": "stream",
     "text": [
      "\n",
      "maxlinkdim(q_psi) = 43\n"
     ]
    },
    {
     "name": "stdout",
     "output_type": "stream",
     "text": [
      "  0.246673 seconds (1.02 M allocations: 193.715 MiB, 25.48% gc time)\n",
      "maxlinkdim(q_psi) = 43\n",
      "  0.218709 seconds (1.02 M allocations: 194.271 MiB, 14.75% gc time)"
     ]
    },
    {
     "name": "stdout",
     "output_type": "stream",
     "text": [
      "\n",
      "maxlinkdim(q_psi) = 43\n"
     ]
    },
    {
     "name": "stdout",
     "output_type": "stream",
     "text": [
      "  0.243820 seconds (1.02 M allocations: 194.836 MiB, 24.14% gc time)\n",
      "maxlinkdim(q_psi) = 43\n",
      "  0.215360 seconds (1.02 M allocations: 194.490 MiB, 13.32% gc time)"
     ]
    },
    {
     "name": "stdout",
     "output_type": "stream",
     "text": [
      "\n",
      "maxlinkdim(q_psi) = 43\n"
     ]
    },
    {
     "name": "stdout",
     "output_type": "stream",
     "text": [
      "  0.250105 seconds (1.02 M allocations: 195.071 MiB, 24.81% gc time)\n",
      "maxlinkdim(q_psi) = 43\n",
      "  0.222269 seconds (1.02 M allocations: 194.490 MiB, 12.99% gc time)"
     ]
    },
    {
     "name": "stdout",
     "output_type": "stream",
     "text": [
      "\n",
      "maxlinkdim(q_psi) = 43\n"
     ]
    },
    {
     "name": "stdout",
     "output_type": "stream",
     "text": [
      "  0.249341 seconds (1.03 M allocations: 195.709 MiB, 23.06% gc time)\n",
      "maxlinkdim(q_psi) = 43\n",
      "  0.209224 seconds (1.03 M allocations: 195.474 MiB, 12.77% gc time)"
     ]
    },
    {
     "name": "stdout",
     "output_type": "stream",
     "text": [
      "\n",
      "maxlinkdim(q_psi) = 43\n"
     ]
    },
    {
     "name": "stdout",
     "output_type": "stream",
     "text": [
      "  0.245955 seconds (1.03 M allocations: 195.474 MiB, 24.80% gc time)\n",
      "maxlinkdim(q_psi) = 43\n",
      "  0.211653 seconds (1.03 M allocations: 195.474 MiB, 13.60% gc time)"
     ]
    },
    {
     "name": "stdout",
     "output_type": "stream",
     "text": [
      "\n",
      "maxlinkdim(q_psi) = 43\n"
     ]
    },
    {
     "name": "stdout",
     "output_type": "stream",
     "text": [
      "  0.246979 seconds (1.03 M allocations: 195.474 MiB, 24.81% gc time)\n",
      "maxlinkdim(q_psi) = 43\n",
      "  0.217675 seconds (1.03 M allocations: 195.474 MiB, 13.39% gc time)"
     ]
    },
    {
     "name": "stdout",
     "output_type": "stream",
     "text": [
      "\n",
      "maxlinkdim(q_psi) = 43\n"
     ]
    },
    {
     "name": "stdout",
     "output_type": "stream",
     "text": [
      "  0.215172 seconds (1.03 M allocations: 195.474 MiB, 14.52% gc time)\n",
      "maxlinkdim(q_psi) = 43\n",
      "  0.209682 seconds (1.03 M allocations: 195.474 MiB, 14.36% gc time)"
     ]
    },
    {
     "name": "stdout",
     "output_type": "stream",
     "text": [
      "\n",
      "maxlinkdim(q_psi) = 43\n"
     ]
    },
    {
     "name": "stdout",
     "output_type": "stream",
     "text": [
      "  0.214086 seconds (1.03 M allocations: 195.474 MiB, 13.39% gc time)\n",
      "maxlinkdim(q_psi) = 43\n",
      "  0.221615 seconds (1.03 M allocations: 195.817 MiB, 15.28% gc time)"
     ]
    },
    {
     "name": "stdout",
     "output_type": "stream",
     "text": [
      "\n",
      "maxlinkdim(q_psi) = 43\n"
     ]
    },
    {
     "name": "stdout",
     "output_type": "stream",
     "text": [
      "  0.218815 seconds (1.03 M allocations: 195.907 MiB, 14.27% gc time)\n",
      "maxlinkdim(q_psi) = 43\n",
      "  0.216554 seconds (1.03 M allocations: 195.907 MiB, 14.93% gc time)"
     ]
    },
    {
     "name": "stdout",
     "output_type": "stream",
     "text": [
      "\n",
      "maxlinkdim(q_psi) = 43\n"
     ]
    },
    {
     "name": "stdout",
     "output_type": "stream",
     "text": [
      "  0.216415 seconds (1.03 M allocations: 195.907 MiB, 12.99% gc time)\n",
      "maxlinkdim(q_psi) = 43\n",
      "  0.218471 seconds (1.03 M allocations: 195.907 MiB, 14.75% gc time)"
     ]
    },
    {
     "name": "stdout",
     "output_type": "stream",
     "text": [
      "\n",
      "maxlinkdim(q_psi) = 43\n"
     ]
    },
    {
     "name": "stdout",
     "output_type": "stream",
     "text": [
      "  0.221779 seconds (1.03 M allocations: 195.907 MiB, 14.62% gc time)\n",
      "maxlinkdim(q_psi) = 43\n",
      "  0.212977 seconds (1.03 M allocations: 195.907 MiB, 12.92% gc time)"
     ]
    },
    {
     "name": "stdout",
     "output_type": "stream",
     "text": [
      "\n",
      "maxlinkdim(q_psi) = 43\n"
     ]
    },
    {
     "name": "stdout",
     "output_type": "stream",
     "text": [
      "  0.216723 seconds (1.03 M allocations: 195.907 MiB, 12.89% gc time)\n",
      "maxlinkdim(q_psi) = 43\n",
      "  0.214547 seconds (1.03 M allocations: 195.907 MiB, 13.27% gc time)"
     ]
    },
    {
     "name": "stdout",
     "output_type": "stream",
     "text": [
      "\n",
      "maxlinkdim(q_psi) = 43\n"
     ]
    },
    {
     "name": "stdout",
     "output_type": "stream",
     "text": [
      "  0.221813 seconds (1.03 M allocations: 196.125 MiB, 14.34% gc time)\n",
      "maxlinkdim(q_psi) = 43\n",
      "  0.217701 seconds (1.03 M allocations: 195.817 MiB, 13.84% gc time)"
     ]
    },
    {
     "name": "stdout",
     "output_type": "stream",
     "text": [
      "\n",
      "maxlinkdim(q_psi) = 43\n"
     ]
    },
    {
     "name": "stdout",
     "output_type": "stream",
     "text": [
      "  0.219131 seconds (1.03 M allocations: 196.125 MiB, 12.15% gc time)\n",
      "maxlinkdim(q_psi) = 43\n",
      "  0.214989 seconds (1.03 M allocations: 195.817 MiB, 13.77% gc time)"
     ]
    },
    {
     "name": "stdout",
     "output_type": "stream",
     "text": [
      "\n",
      "maxlinkdim(q_psi) = 43\n"
     ]
    },
    {
     "name": "stdout",
     "output_type": "stream",
     "text": [
      "  0.219367 seconds (1.03 M allocations: 196.125 MiB, 13.75% gc time)\n",
      "maxlinkdim(q_psi) = 43\n",
      "  0.219793 seconds (1.03 M allocations: 195.817 MiB, 14.14% gc time)"
     ]
    },
    {
     "name": "stdout",
     "output_type": "stream",
     "text": [
      "\n",
      "maxlinkdim(q_psi) = 43\n"
     ]
    },
    {
     "name": "stdout",
     "output_type": "stream",
     "text": [
      "  0.221036 seconds (1.03 M allocations: 196.125 MiB, 13.31% gc time)\n",
      "maxlinkdim(q_psi) = 43\n",
      "  0.251472 seconds (1.03 M allocations: 196.036 MiB, 26.14% gc time)"
     ]
    },
    {
     "name": "stdout",
     "output_type": "stream",
     "text": [
      "\n",
      "maxlinkdim(q_psi) = 43\n"
     ]
    },
    {
     "name": "stdout",
     "output_type": "stream",
     "text": [
      "  0.216201 seconds (1.03 M allocations: 196.471 MiB, 13.69% gc time)\n",
      "maxlinkdim(q_psi) = 43\n",
      "  0.237656 seconds (1.03 M allocations: 196.706 MiB, 23.12% gc time)"
     ]
    },
    {
     "name": "stdout",
     "output_type": "stream",
     "text": [
      "\n",
      "maxlinkdim(q_psi) = 43\n"
     ]
    },
    {
     "name": "stdout",
     "output_type": "stream",
     "text": [
      "  0.214966 seconds (1.03 M allocations: 196.706 MiB, 13.52% gc time)\n",
      "maxlinkdim(q_psi) = 43\n",
      "  0.237573 seconds (1.03 M allocations: 196.706 MiB, 23.60% gc time)"
     ]
    },
    {
     "name": "stdout",
     "output_type": "stream",
     "text": [
      "\n",
      "maxlinkdim(q_psi) = 43\n"
     ]
    },
    {
     "name": "stdout",
     "output_type": "stream",
     "text": [
      "  0.215959 seconds (1.03 M allocations: 196.706 MiB, 12.80% gc time)\n",
      "maxlinkdim(q_psi) = 43\n",
      "  0.245212 seconds (1.03 M allocations: 196.706 MiB, 26.28% gc time)"
     ]
    },
    {
     "name": "stdout",
     "output_type": "stream",
     "text": [
      "\n",
      "maxlinkdim(q_psi) = 43\n"
     ]
    },
    {
     "name": "stdout",
     "output_type": "stream",
     "text": [
      "  0.216015 seconds (1.03 M allocations: 196.709 MiB, 13.74% gc time)\n",
      "maxlinkdim(q_psi) = 43\n",
      "  0.242762 seconds (1.03 M allocations: 197.370 MiB, 24.93% gc time)"
     ]
    },
    {
     "name": "stdout",
     "output_type": "stream",
     "text": [
      "\n",
      "maxlinkdim(q_psi) = 43\n"
     ]
    },
    {
     "name": "stdout",
     "output_type": "stream",
     "text": [
      "  0.215571 seconds (1.03 M allocations: 197.370 MiB, 13.78% gc time)\n",
      "maxlinkdim(q_psi) = 43\n",
      "  0.252719 seconds (1.03 M allocations: 197.412 MiB, 26.87% gc time)"
     ]
    },
    {
     "name": "stdout",
     "output_type": "stream",
     "text": [
      "\n",
      "maxlinkdim(q_psi) = 43\n"
     ]
    },
    {
     "name": "stdout",
     "output_type": "stream",
     "text": [
      "  0.216944 seconds (1.04 M allocations: 198.098 MiB, 13.29% gc time)\n",
      "maxlinkdim(q_psi) = 43\n",
      "  0.248673 seconds (1.04 M allocations: 198.098 MiB, 24.62% gc time)"
     ]
    },
    {
     "name": "stdout",
     "output_type": "stream",
     "text": [
      "\n",
      "maxlinkdim(q_psi) = 43\n"
     ]
    },
    {
     "name": "stdout",
     "output_type": "stream",
     "text": [
      "  0.223724 seconds (1.04 M allocations: 198.098 MiB, 14.45% gc time)\n",
      "maxlinkdim(q_psi) = 43\n",
      "  0.247751 seconds (1.04 M allocations: 198.098 MiB, 24.17% gc time)"
     ]
    },
    {
     "name": "stdout",
     "output_type": "stream",
     "text": [
      "\n",
      "maxlinkdim(q_psi) = 43\n"
     ]
    },
    {
     "name": "stdout",
     "output_type": "stream",
     "text": [
      "  0.220400 seconds (1.04 M allocations: 198.111 MiB, 13.56% gc time)\n",
      "maxlinkdim(q_psi) = 43\n",
      "  0.249680 seconds (1.04 M allocations: 198.346 MiB, 24.06% gc time)"
     ]
    },
    {
     "name": "stdout",
     "output_type": "stream",
     "text": [
      "\n",
      "maxlinkdim(q_psi) = 43\n"
     ]
    },
    {
     "name": "stdout",
     "output_type": "stream",
     "text": [
      "  0.223394 seconds (1.04 M allocations: 198.346 MiB, 13.82% gc time)\n",
      "maxlinkdim(q_psi) = 43\n",
      "  0.243500 seconds (1.04 M allocations: 198.346 MiB, 22.75% gc time)"
     ]
    },
    {
     "name": "stdout",
     "output_type": "stream",
     "text": [
      "\n",
      "maxlinkdim(q_psi) = 43\n"
     ]
    },
    {
     "name": "stdout",
     "output_type": "stream",
     "text": [
      "  0.226591 seconds (1.04 M allocations: 198.346 MiB, 14.78% gc time)\n",
      "maxlinkdim(q_psi) = 43\n",
      "  0.249260 seconds (1.04 M allocations: 198.806 MiB, 24.58% gc time)"
     ]
    },
    {
     "name": "stdout",
     "output_type": "stream",
     "text": [
      "\n",
      "maxlinkdim(q_psi) = 43\n"
     ]
    },
    {
     "name": "stdout",
     "output_type": "stream",
     "text": [
      "  0.221608 seconds (1.04 M allocations: 199.137 MiB, 13.25% gc time)\n",
      "maxlinkdim(q_psi) = 43\n",
      "  0.252960 seconds (1.04 M allocations: 198.887 MiB, 25.62% gc time)"
     ]
    },
    {
     "name": "stdout",
     "output_type": "stream",
     "text": [
      "\n",
      "maxlinkdim(q_psi) = 43\n"
     ]
    },
    {
     "name": "stdout",
     "output_type": "stream",
     "text": [
      "  0.223019 seconds (1.04 M allocations: 199.617 MiB, 14.68% gc time)\n",
      "maxlinkdim(q_psi) = 43\n",
      "  0.249184 seconds (1.04 M allocations: 199.617 MiB, 24.42% gc time)"
     ]
    },
    {
     "name": "stdout",
     "output_type": "stream",
     "text": [
      "\n",
      "maxlinkdim(q_psi) = 43\n"
     ]
    },
    {
     "name": "stdout",
     "output_type": "stream",
     "text": [
      "  0.220633 seconds (1.04 M allocations: 199.617 MiB, 13.66% gc time)\n",
      "maxlinkdim(q_psi) = 43\n",
      "  0.249778 seconds (1.04 M allocations: 199.894 MiB, 24.73% gc time)"
     ]
    },
    {
     "name": "stdout",
     "output_type": "stream",
     "text": [
      "\n",
      "maxlinkdim(q_psi) = 43\n"
     ]
    },
    {
     "name": "stdout",
     "output_type": "stream",
     "text": [
      "  0.221072 seconds (1.04 M allocations: 200.492 MiB, 14.15% gc time)\n",
      "maxlinkdim(q_psi) = 43\n",
      "  0.243409 seconds (1.04 M allocations: 200.591 MiB, 24.35% gc time)"
     ]
    },
    {
     "name": "stdout",
     "output_type": "stream",
     "text": [
      "\n",
      "maxlinkdim(q_psi) = 43\n"
     ]
    },
    {
     "name": "stdout",
     "output_type": "stream",
     "text": [
      "  0.215969 seconds (1.04 M allocations: 200.796 MiB, 13.26% gc time)\n",
      "maxlinkdim(q_psi) = 43\n",
      "  0.246349 seconds (1.04 M allocations: 200.796 MiB, 23.91% gc time)"
     ]
    },
    {
     "name": "stdout",
     "output_type": "stream",
     "text": [
      "\n",
      "maxlinkdim(q_psi) = 43\n"
     ]
    },
    {
     "name": "stdout",
     "output_type": "stream",
     "text": [
      "  0.219095 seconds (1.04 M allocations: 200.796 MiB, 13.64% gc time)\n",
      "maxlinkdim(q_psi) = 43\n",
      "  0.232967 seconds (1.04 M allocations: 200.796 MiB, 11.95% gc time)"
     ]
    },
    {
     "name": "stdout",
     "output_type": "stream",
     "text": [
      "\n",
      "maxlinkdim(q_psi) = 43\n"
     ]
    },
    {
     "name": "stdout",
     "output_type": "stream",
     "text": [
      "  0.220756 seconds (1.04 M allocations: 201.016 MiB, 13.33% gc time)\n",
      "maxlinkdim(q_psi) = 43\n",
      "  0.217692 seconds (1.04 M allocations: 201.553 MiB, 12.88% gc time)"
     ]
    },
    {
     "name": "stdout",
     "output_type": "stream",
     "text": [
      "\n",
      "maxlinkdim(q_psi) = 43\n"
     ]
    },
    {
     "name": "stdout",
     "output_type": "stream",
     "text": [
      "  0.329678 seconds (1.04 M allocations: 201.555 MiB, 9.65% gc time)\n",
      "maxlinkdim(q_psi) = 43\n",
      "  0.231165 seconds (1.04 M allocations: 202.122 MiB, 13.09% gc time)"
     ]
    },
    {
     "name": "stdout",
     "output_type": "stream",
     "text": [
      "\n",
      "maxlinkdim(q_psi) = 44\n"
     ]
    },
    {
     "name": "stdout",
     "output_type": "stream",
     "text": [
      "  0.230755 seconds (1.05 M allocations: 202.764 MiB, 13.81% gc time)\n",
      "maxlinkdim(q_psi) = 44\n",
      "  0.228114 seconds (1.05 M allocations: 202.764 MiB, 14.96% gc time)"
     ]
    },
    {
     "name": "stdout",
     "output_type": "stream",
     "text": [
      "\n",
      "maxlinkdim(q_psi) = 44\n"
     ]
    },
    {
     "name": "stdout",
     "output_type": "stream",
     "text": [
      "  0.228266 seconds (1.05 M allocations: 202.764 MiB, 12.15% gc time)\n",
      "maxlinkdim(q_psi) = 44\n",
      "  0.223885 seconds (1.05 M allocations: 202.850 MiB, 14.45% gc time)"
     ]
    },
    {
     "name": "stdout",
     "output_type": "stream",
     "text": [
      "\n",
      "maxlinkdim(q_psi) = 44\n"
     ]
    },
    {
     "name": "stdout",
     "output_type": "stream",
     "text": [
      "  0.266509 seconds (1.05 M allocations: 202.850 MiB, 23.89% gc time)\n",
      "maxlinkdim(q_psi) = 44\n",
      "  0.233404 seconds (1.05 M allocations: 203.121 MiB, 13.44% gc time)"
     ]
    },
    {
     "name": "stdout",
     "output_type": "stream",
     "text": [
      "\n",
      "maxlinkdim(q_psi) = 44\n"
     ]
    },
    {
     "name": "stdout",
     "output_type": "stream",
     "text": [
      "  0.258004 seconds (1.05 M allocations: 203.367 MiB, 23.61% gc time)\n",
      "maxlinkdim(q_psi) = 44\n",
      "  0.222336 seconds (1.05 M allocations: 203.367 MiB, 13.40% gc time)"
     ]
    },
    {
     "name": "stdout",
     "output_type": "stream",
     "text": [
      "\n",
      "maxlinkdim(q_psi) = 44\n"
     ]
    },
    {
     "name": "stdout",
     "output_type": "stream",
     "text": [
      "  0.259414 seconds (1.05 M allocations: 203.618 MiB, 24.48% gc time)\n",
      "maxlinkdim(q_psi) = 44\n",
      "  0.225576 seconds (1.05 M allocations: 204.180 MiB, 13.16% gc time)"
     ]
    },
    {
     "name": "stdout",
     "output_type": "stream",
     "text": [
      "\n",
      "maxlinkdim(q_psi) = 44\n"
     ]
    },
    {
     "name": "stdout",
     "output_type": "stream",
     "text": [
      "  0.255951 seconds (1.05 M allocations: 204.180 MiB, 24.30% gc time)\n",
      "maxlinkdim(q_psi) = 44\n",
      "  0.232324 seconds (1.05 M allocations: 204.180 MiB, 14.11% gc time)"
     ]
    },
    {
     "name": "stdout",
     "output_type": "stream",
     "text": [
      "\n",
      "maxlinkdim(q_psi) = 44\n"
     ]
    },
    {
     "name": "stdout",
     "output_type": "stream",
     "text": [
      "  0.224348 seconds (1.05 M allocations: 204.180 MiB, 12.74% gc time)\n",
      "maxlinkdim(q_psi) = 44\n",
      "  0.226756 seconds (1.05 M allocations: 204.180 MiB, 13.32% gc time)"
     ]
    },
    {
     "name": "stdout",
     "output_type": "stream",
     "text": [
      "\n",
      "maxlinkdim(q_psi) = 44\n"
     ]
    },
    {
     "name": "stdout",
     "output_type": "stream",
     "text": [
      "  0.222620 seconds (1.05 M allocations: 204.390 MiB, 12.95% gc time)\n",
      "maxlinkdim(q_psi) = 44\n",
      "  0.228691 seconds (1.05 M allocations: 204.805 MiB, 14.33% gc time)"
     ]
    },
    {
     "name": "stdout",
     "output_type": "stream",
     "text": [
      "\n",
      "maxlinkdim(q_psi) = 44\n"
     ]
    },
    {
     "name": "stdout",
     "output_type": "stream",
     "text": [
      "  0.225974 seconds (1.05 M allocations: 204.885 MiB, 13.55% gc time)\n",
      "maxlinkdim(q_psi) = 44\n",
      "  0.253563 seconds (1.05 M allocations: 205.655 MiB, 23.40% gc time)"
     ]
    },
    {
     "name": "stdout",
     "output_type": "stream",
     "text": [
      "\n",
      "maxlinkdim(q_psi) = 44\n"
     ]
    },
    {
     "name": "stdout",
     "output_type": "stream",
     "text": [
      "  0.227578 seconds (1.05 M allocations: 205.973 MiB, 12.97% gc time)\n",
      "maxlinkdim(q_psi) = 44\n",
      "  0.247975 seconds (1.05 M allocations: 206.428 MiB, 22.11% gc time)"
     ]
    },
    {
     "name": "stdout",
     "output_type": "stream",
     "text": [
      "\n",
      "maxlinkdim(q_psi) = 44\n"
     ]
    },
    {
     "name": "stdout",
     "output_type": "stream",
     "text": [
      "  0.223306 seconds (1.05 M allocations: 206.428 MiB, 13.00% gc time)\n",
      "maxlinkdim(q_psi) = 44\n",
      "  0.252530 seconds (1.05 M allocations: 206.428 MiB, 23.98% gc time)"
     ]
    },
    {
     "name": "stdout",
     "output_type": "stream",
     "text": [
      "\n",
      "maxlinkdim(q_psi) = 44\n"
     ]
    },
    {
     "name": "stdout",
     "output_type": "stream",
     "text": [
      "  0.232627 seconds (1.06 M allocations: 207.127 MiB, 15.04% gc time)\n",
      "maxlinkdim(q_psi) = 44\n",
      "  0.227008 seconds (1.06 M allocations: 207.275 MiB, 14.27% gc time)"
     ]
    },
    {
     "name": "stdout",
     "output_type": "stream",
     "text": [
      "\n",
      "maxlinkdim(q_psi) = 44\n"
     ]
    },
    {
     "name": "stdout",
     "output_type": "stream",
     "text": [
      "  0.229418 seconds (1.06 M allocations: 207.275 MiB, 12.70% gc time)\n",
      "maxlinkdim(q_psi) = 44\n",
      "  0.221700 seconds (1.06 M allocations: 207.366 MiB, 12.72% gc time)"
     ]
    },
    {
     "name": "stdout",
     "output_type": "stream",
     "text": [
      "\n",
      "maxlinkdim(q_psi) = 45\n"
     ]
    },
    {
     "name": "stdout",
     "output_type": "stream",
     "text": [
      "  0.258237 seconds (1.06 M allocations: 208.157 MiB, 24.02% gc time)\n",
      "maxlinkdim(q_psi) = 44\n",
      "  0.227226 seconds (1.06 M allocations: 207.853 MiB, 12.59% gc time)"
     ]
    },
    {
     "name": "stdout",
     "output_type": "stream",
     "text": [
      "\n",
      "maxlinkdim(q_psi) = 45\n"
     ]
    },
    {
     "name": "stdout",
     "output_type": "stream",
     "text": [
      "  0.262457 seconds (1.06 M allocations: 208.245 MiB, 24.12% gc time)\n",
      "maxlinkdim(q_psi) = 45\n",
      "  0.243616 seconds (1.06 M allocations: 208.257 MiB, 13.92% gc time)"
     ]
    },
    {
     "name": "stdout",
     "output_type": "stream",
     "text": [
      "\n",
      "maxlinkdim(q_psi) = 45\n"
     ]
    },
    {
     "name": "stdout",
     "output_type": "stream",
     "text": [
      "  0.264990 seconds (1.06 M allocations: 208.648 MiB, 24.41% gc time)\n",
      "maxlinkdim(q_psi) = 45\n",
      "  0.232899 seconds (1.06 M allocations: 209.106 MiB, 13.17% gc time)"
     ]
    },
    {
     "name": "stdout",
     "output_type": "stream",
     "text": [
      "\n",
      "maxlinkdim(q_psi) = 45\n"
     ]
    },
    {
     "name": "stdout",
     "output_type": "stream",
     "text": [
      "  0.225951 seconds (1.06 M allocations: 209.106 MiB, 12.63% gc time)\n",
      "maxlinkdim(q_psi) = 45\n",
      "  0.264193 seconds (1.06 M allocations: 209.107 MiB, 24.55% gc time)"
     ]
    },
    {
     "name": "stdout",
     "output_type": "stream",
     "text": [
      "\n",
      "maxlinkdim(q_psi) = 45\n"
     ]
    },
    {
     "name": "stdout",
     "output_type": "stream",
     "text": [
      "  0.234161 seconds (1.06 M allocations: 209.118 MiB, 12.73% gc time)\n",
      "maxlinkdim(q_psi) = 45\n",
      "  0.272150 seconds (1.06 M allocations: 209.803 MiB, 22.72% gc time)"
     ]
    },
    {
     "name": "stdout",
     "output_type": "stream",
     "text": [
      "\n",
      "maxlinkdim(q_psi) = 45\n"
     ]
    },
    {
     "name": "stdout",
     "output_type": "stream",
     "text": [
      "  0.245174 seconds (1.06 M allocations: 209.803 MiB, 13.46% gc time)\n",
      "maxlinkdim(q_psi) = 45\n",
      "  0.268837 seconds (1.06 M allocations: 209.803 MiB, 24.87% gc time)"
     ]
    },
    {
     "name": "stdout",
     "output_type": "stream",
     "text": [
      "\n",
      "maxlinkdim(q_psi) = 45\n"
     ]
    },
    {
     "name": "stdout",
     "output_type": "stream",
     "text": [
      "  0.239132 seconds (1.06 M allocations: 209.803 MiB, 12.34% gc time)\n",
      "maxlinkdim(q_psi) = 45\n",
      "  0.244250 seconds (1.06 M allocations: 209.878 MiB, 14.88% gc time)"
     ]
    },
    {
     "name": "stdout",
     "output_type": "stream",
     "text": [
      "\n",
      "maxlinkdim(q_psi) = 45\n"
     ]
    },
    {
     "name": "stdout",
     "output_type": "stream",
     "text": [
      "  0.278832 seconds (1.06 M allocations: 210.140 MiB, 24.30% gc time)\n",
      "maxlinkdim(q_psi) = 45\n",
      "  0.240198 seconds (1.06 M allocations: 210.411 MiB, 14.44% gc time)"
     ]
    },
    {
     "name": "stdout",
     "output_type": "stream",
     "text": [
      "\n",
      "maxlinkdim(q_psi) = 48\n"
     ]
    },
    {
     "name": "stdout",
     "output_type": "stream",
     "text": [
      "  0.271057 seconds (1.06 M allocations: 211.124 MiB, 22.96% gc time)\n",
      "maxlinkdim(q_psi) = 45\n",
      "  0.234503 seconds (1.06 M allocations: 211.070 MiB, 12.59% gc time)"
     ]
    },
    {
     "name": "stdout",
     "output_type": "stream",
     "text": [
      "\n",
      "maxlinkdim(q_psi) = 48\n"
     ]
    },
    {
     "name": "stdout",
     "output_type": "stream",
     "text": [
      "  0.232403 seconds (1.06 M allocations: 211.124 MiB, 13.03% gc time)\n",
      "maxlinkdim(q_psi) = 45\n",
      "  0.234176 seconds (1.06 M allocations: 210.937 MiB, 12.15% gc time)"
     ]
    },
    {
     "name": "stdout",
     "output_type": "stream",
     "text": [
      "\n",
      "maxlinkdim(q_psi) = 48\n"
     ]
    },
    {
     "name": "stdout",
     "output_type": "stream",
     "text": [
      "  0.234511 seconds (1.06 M allocations: 211.512 MiB, 13.02% gc time)\n",
      "maxlinkdim(q_psi) = 48\n",
      "  0.260922 seconds (1.06 M allocations: 211.512 MiB, 22.26% gc time)"
     ]
    },
    {
     "name": "stdout",
     "output_type": "stream",
     "text": [
      "\n",
      "maxlinkdim(q_psi) = 48\n"
     ]
    },
    {
     "name": "stdout",
     "output_type": "stream",
     "text": [
      "  0.235266 seconds (1.06 M allocations: 211.609 MiB, 12.88% gc time)\n",
      "maxlinkdim(q_psi) = 48\n",
      "  0.268448 seconds (1.06 M allocations: 211.609 MiB, 24.85% gc time)"
     ]
    },
    {
     "name": "stdout",
     "output_type": "stream",
     "text": [
      "\n",
      "maxlinkdim(q_psi) = 48\n"
     ]
    },
    {
     "name": "stdout",
     "output_type": "stream",
     "text": [
      "  0.233765 seconds (1.06 M allocations: 211.609 MiB, 12.57% gc time)\n",
      "maxlinkdim(q_psi) = 48\n",
      "  0.235822 seconds (1.06 M allocations: 212.210 MiB, 14.25% gc time)"
     ]
    },
    {
     "name": "stdout",
     "output_type": "stream",
     "text": [
      "\n",
      "maxlinkdim(q_psi) = 48\n"
     ]
    },
    {
     "name": "stdout",
     "output_type": "stream",
     "text": [
      "  0.272991 seconds (1.06 M allocations: 212.603 MiB, 23.89% gc time)\n",
      "maxlinkdim(q_psi) = 49\n",
      "  0.237714 seconds (1.07 M allocations: 214.334 MiB, 14.12% gc time)"
     ]
    },
    {
     "name": "stdout",
     "output_type": "stream",
     "text": [
      "\n",
      "maxlinkdim(q_psi) = 49\n"
     ]
    },
    {
     "name": "stdout",
     "output_type": "stream",
     "text": [
      "  0.260542 seconds (1.07 M allocations: 214.469 MiB, 22.32% gc time)\n",
      "maxlinkdim(q_psi) = 49\n",
      "  0.237644 seconds (1.07 M allocations: 214.477 MiB, 13.74% gc time)"
     ]
    },
    {
     "name": "stdout",
     "output_type": "stream",
     "text": [
      "\n",
      "maxlinkdim(q_psi) = 49\n"
     ]
    },
    {
     "name": "stdout",
     "output_type": "stream",
     "text": [
      "  0.233530 seconds (1.07 M allocations: 214.580 MiB, 12.76% gc time)\n",
      "maxlinkdim(q_psi) = 49\n",
      "  0.283547 seconds (1.07 M allocations: 215.055 MiB, 25.19% gc time)"
     ]
    },
    {
     "name": "stdout",
     "output_type": "stream",
     "text": [
      "\n",
      "maxlinkdim(q_psi) = 49\n"
     ]
    },
    {
     "name": "stdout",
     "output_type": "stream",
     "text": [
      "  0.239666 seconds (1.07 M allocations: 214.580 MiB, 14.64% gc time)\n",
      "maxlinkdim(q_psi) = 49\n",
      "  0.265918 seconds (1.07 M allocations: 215.055 MiB, 23.74% gc time)"
     ]
    },
    {
     "name": "stdout",
     "output_type": "stream",
     "text": [
      "\n",
      "maxlinkdim(q_psi) = 49\n"
     ]
    },
    {
     "name": "stdout",
     "output_type": "stream",
     "text": [
      "  0.241237 seconds (1.07 M allocations: 214.883 MiB, 12.97% gc time)\n",
      "maxlinkdim(q_psi) = 49\n",
      "  0.232617 seconds (1.07 M allocations: 215.374 MiB, 11.47% gc time)"
     ]
    },
    {
     "name": "stdout",
     "output_type": "stream",
     "text": [
      "\n",
      "maxlinkdim(q_psi) = 49\n"
     ]
    },
    {
     "name": "stdout",
     "output_type": "stream",
     "text": [
      "  0.268113 seconds (1.07 M allocations: 214.938 MiB, 22.65% gc time)\n",
      "maxlinkdim(q_psi) = 49\n",
      "  0.239112 seconds (1.07 M allocations: 215.422 MiB, 13.90% gc time)"
     ]
    },
    {
     "name": "stdout",
     "output_type": "stream",
     "text": [
      "\n",
      "maxlinkdim(q_psi) = 49\n"
     ]
    },
    {
     "name": "stdout",
     "output_type": "stream",
     "text": [
      "  0.267648 seconds (1.07 M allocations: 215.103 MiB, 24.19% gc time)\n",
      "maxlinkdim(q_psi) = 49\n",
      "  0.236324 seconds (1.07 M allocations: 216.347 MiB, 13.07% gc time)"
     ]
    },
    {
     "name": "stdout",
     "output_type": "stream",
     "text": [
      "\n",
      "maxlinkdim(q_psi) = 52\n"
     ]
    },
    {
     "name": "stdout",
     "output_type": "stream",
     "text": [
      "  0.247175 seconds (1.07 M allocations: 217.196 MiB, 14.14% gc time)\n",
      "maxlinkdim(q_psi) = 52\n",
      "  0.281125 seconds (1.07 M allocations: 217.196 MiB, 22.82% gc time)"
     ]
    },
    {
     "name": "stdout",
     "output_type": "stream",
     "text": [
      "\n",
      "maxlinkdim(q_psi) = 52\n"
     ]
    },
    {
     "name": "stdout",
     "output_type": "stream",
     "text": [
      "  0.250118 seconds (1.07 M allocations: 217.472 MiB, 12.45% gc time)\n",
      "maxlinkdim(q_psi) = 52\n",
      "  0.244979 seconds (1.07 M allocations: 218.391 MiB, 12.77% gc time)"
     ]
    },
    {
     "name": "stdout",
     "output_type": "stream",
     "text": [
      "\n",
      "maxlinkdim(q_psi) = 52\n"
     ]
    },
    {
     "name": "stdout",
     "output_type": "stream",
     "text": [
      "  0.287698 seconds (1.07 M allocations: 218.523 MiB, 21.80% gc time)\n",
      "maxlinkdim(q_psi) = 52\n",
      "  0.254170 seconds (1.07 M allocations: 218.670 MiB, 12.71% gc time)"
     ]
    },
    {
     "name": "stdout",
     "output_type": "stream",
     "text": [
      "\n",
      "maxlinkdim(q_psi) = 52\n"
     ]
    },
    {
     "name": "stdout",
     "output_type": "stream",
     "text": [
      "  0.283773 seconds (1.07 M allocations: 218.670 MiB, 23.45% gc time)\n",
      "maxlinkdim(q_psi) = 52\n",
      "  0.253212 seconds (1.07 M allocations: 218.670 MiB, 13.98% gc time)"
     ]
    },
    {
     "name": "stdout",
     "output_type": "stream",
     "text": [
      "\n",
      "maxlinkdim(q_psi) = 52\n"
     ]
    },
    {
     "name": "stdout",
     "output_type": "stream",
     "text": [
      "  0.251345 seconds (1.07 M allocations: 218.854 MiB, 12.36% gc time)\n",
      "maxlinkdim(q_psi) = 53\n",
      "  0.285950 seconds (1.07 M allocations: 219.376 MiB, 24.25% gc time)"
     ]
    },
    {
     "name": "stdout",
     "output_type": "stream",
     "text": [
      "\n",
      "maxlinkdim(q_psi) = 53\n"
     ]
    },
    {
     "name": "stdout",
     "output_type": "stream",
     "text": [
      "  0.258346 seconds (1.07 M allocations: 219.334 MiB, 11.93% gc time)\n",
      "maxlinkdim(q_psi) = 53\n",
      "  0.254783 seconds (1.07 M allocations: 219.490 MiB, 12.59% gc time)"
     ]
    },
    {
     "name": "stdout",
     "output_type": "stream",
     "text": [
      "\n",
      "maxlinkdim(q_psi) = 53\n"
     ]
    },
    {
     "name": "stdout",
     "output_type": "stream",
     "text": [
      "  0.282002 seconds (1.07 M allocations: 219.343 MiB, 22.31% gc time)\n",
      "maxlinkdim(q_psi) = 53\n",
      "  0.257938 seconds (1.08 M allocations: 220.260 MiB, 13.60% gc time)"
     ]
    },
    {
     "name": "stdout",
     "output_type": "stream",
     "text": [
      "\n",
      "maxlinkdim(q_psi) = 53\n"
     ]
    },
    {
     "name": "stdout",
     "output_type": "stream",
     "text": [
      "  0.254463 seconds (1.09 M allocations: 221.650 MiB, 13.76% gc time)\n",
      "maxlinkdim(q_psi) = 53\n",
      "  0.282656 seconds (1.09 M allocations: 222.080 MiB, 21.35% gc time)"
     ]
    },
    {
     "name": "stdout",
     "output_type": "stream",
     "text": [
      "\n",
      "maxlinkdim(q_psi) = 53\n"
     ]
    },
    {
     "name": "stdout",
     "output_type": "stream",
     "text": [
      "  0.257049 seconds (1.09 M allocations: 222.965 MiB, 13.14% gc time)\n",
      "maxlinkdim(q_psi) = 53\n",
      "  0.285031 seconds (1.09 M allocations: 223.035 MiB, 23.02% gc time)"
     ]
    },
    {
     "name": "stdout",
     "output_type": "stream",
     "text": [
      "\n",
      "maxlinkdim(q_psi) = 53\n"
     ]
    },
    {
     "name": "stdout",
     "output_type": "stream",
     "text": [
      "  0.389218 seconds (1.09 M allocations: 222.970 MiB, 15.32% gc time)\n",
      "maxlinkdim(q_psi) = 53\n",
      "  0.253486 seconds (1.09 M allocations: 223.155 MiB, 13.03% gc time)"
     ]
    },
    {
     "name": "stdout",
     "output_type": "stream",
     "text": [
      "\n",
      "maxlinkdim(q_psi) = 53\n"
     ]
    },
    {
     "name": "stdout",
     "output_type": "stream",
     "text": [
      "  0.289497 seconds (1.09 M allocations: 223.925 MiB, 22.82% gc time)\n",
      "maxlinkdim(q_psi) = 53\n",
      "  0.287225 seconds (1.09 M allocations: 224.680 MiB, 21.64% gc time)"
     ]
    },
    {
     "name": "stdout",
     "output_type": "stream",
     "text": [
      "\n",
      "maxlinkdim(q_psi) = 55\n"
     ]
    },
    {
     "name": "stdout",
     "output_type": "stream",
     "text": [
      "  0.261183 seconds (1.09 M allocations: 225.488 MiB, 12.25% gc time)\n",
      "maxlinkdim(q_psi) = 55\n",
      "  0.300565 seconds (1.09 M allocations: 225.488 MiB, 25.22% gc time)"
     ]
    },
    {
     "name": "stdout",
     "output_type": "stream",
     "text": [
      "\n",
      "maxlinkdim(q_psi) = 55\n"
     ]
    },
    {
     "name": "stdout",
     "output_type": "stream",
     "text": [
      "  0.296564 seconds (1.09 M allocations: 225.488 MiB, 23.00% gc time)\n",
      "maxlinkdim(q_psi) = 55\n",
      "  0.254370 seconds (1.09 M allocations: 225.488 MiB, 11.48% gc time)"
     ]
    },
    {
     "name": "stdout",
     "output_type": "stream",
     "text": [
      "\n",
      "maxlinkdim(q_psi) = 55\n"
     ]
    },
    {
     "name": "stdout",
     "output_type": "stream",
     "text": [
      "  0.261681 seconds (1.09 M allocations: 225.493 MiB, 13.63% gc time)\n",
      "maxlinkdim(q_psi) = 55\n",
      "  0.293771 seconds (1.09 M allocations: 225.951 MiB, 23.01% gc time)"
     ]
    },
    {
     "name": "stdout",
     "output_type": "stream",
     "text": [
      "\n",
      "maxlinkdim(q_psi) = 55\n"
     ]
    },
    {
     "name": "stdout",
     "output_type": "stream",
     "text": [
      "  0.261894 seconds (1.09 M allocations: 225.951 MiB, 11.82% gc time)\n",
      "maxlinkdim(q_psi) = 55\n",
      "  0.258871 seconds (1.09 M allocations: 225.851 MiB, 12.88% gc time)"
     ]
    },
    {
     "name": "stdout",
     "output_type": "stream",
     "text": [
      "\n",
      "maxlinkdim(q_psi) = 58\n"
     ]
    },
    {
     "name": "stdout",
     "output_type": "stream",
     "text": [
      "  0.300105 seconds (1.09 M allocations: 225.615 MiB, 21.00% gc time)\n",
      "maxlinkdim(q_psi) = 57\n",
      "  0.257304 seconds (1.09 M allocations: 225.730 MiB, 11.85% gc time)"
     ]
    },
    {
     "name": "stdout",
     "output_type": "stream",
     "text": [
      "\n",
      "maxlinkdim(q_psi) = 57\n"
     ]
    },
    {
     "name": "stdout",
     "output_type": "stream",
     "text": [
      "  0.253524 seconds (1.09 M allocations: 225.730 MiB, 12.91% gc time)\n",
      "maxlinkdim(q_psi) = 57\n",
      "  0.285527 seconds (1.09 M allocations: 226.287 MiB, 20.91% gc time)"
     ]
    },
    {
     "name": "stdout",
     "output_type": "stream",
     "text": [
      "\n",
      "maxlinkdim(q_psi) = 57\n"
     ]
    },
    {
     "name": "stdout",
     "output_type": "stream",
     "text": [
      "  0.252719 seconds (1.09 M allocations: 227.068 MiB, 11.63% gc time)\n",
      "maxlinkdim(q_psi) = 57\n",
      "  0.250933 seconds (1.09 M allocations: 227.091 MiB, 12.66% gc time)"
     ]
    },
    {
     "name": "stdout",
     "output_type": "stream",
     "text": [
      "\n",
      "maxlinkdim(q_psi) = 57\n"
     ]
    },
    {
     "name": "stdout",
     "output_type": "stream",
     "text": [
      "  0.289743 seconds (1.09 M allocations: 227.091 MiB, 20.73% gc time)\n",
      "maxlinkdim(q_psi) = 57\n",
      "  0.254275 seconds (1.09 M allocations: 227.289 MiB, 12.29% gc time)"
     ]
    },
    {
     "name": "stdout",
     "output_type": "stream",
     "text": [
      "\n",
      "maxlinkdim(q_psi) = 57\n"
     ]
    },
    {
     "name": "stdout",
     "output_type": "stream",
     "text": [
      "  0.254983 seconds (1.09 M allocations: 227.289 MiB, 12.49% gc time)\n",
      "maxlinkdim(q_psi) = 57\n",
      "  0.280910 seconds (1.09 M allocations: 228.142 MiB, 21.24% gc time)"
     ]
    },
    {
     "name": "stdout",
     "output_type": "stream",
     "text": [
      "\n",
      "maxlinkdim(q_psi) = 60\n"
     ]
    },
    {
     "name": "stdout",
     "output_type": "stream",
     "text": [
      "  0.257130 seconds (1.09 M allocations: 228.910 MiB, 11.80% gc time)\n",
      "maxlinkdim(q_psi) = 57\n",
      "  0.250617 seconds (1.09 M allocations: 228.610 MiB, 11.73% gc time)"
     ]
    },
    {
     "name": "stdout",
     "output_type": "stream",
     "text": [
      "\n",
      "maxlinkdim(q_psi) = 60\n"
     ]
    },
    {
     "name": "stdout",
     "output_type": "stream",
     "text": [
      "  0.308380 seconds (1.09 M allocations: 228.910 MiB, 21.23% gc time)\n",
      "maxlinkdim(q_psi) = 57\n",
      "  0.289427 seconds (1.09 M allocations: 228.610 MiB, 21.21% gc time)"
     ]
    },
    {
     "name": "stdout",
     "output_type": "stream",
     "text": [
      "\n",
      "maxlinkdim(q_psi) = 60\n"
     ]
    },
    {
     "name": "stdout",
     "output_type": "stream",
     "text": [
      "  0.267810 seconds (1.09 M allocations: 229.104 MiB, 11.49% gc time)\n",
      "maxlinkdim(q_psi) = 57\n",
      "  0.290935 seconds (1.09 M allocations: 228.732 MiB, 22.55% gc time)"
     ]
    },
    {
     "name": "stdout",
     "output_type": "stream",
     "text": [
      "\n",
      "maxlinkdim(q_psi) = 60\n"
     ]
    },
    {
     "name": "stdout",
     "output_type": "stream",
     "text": [
      "  0.299917 seconds (1.09 M allocations: 229.599 MiB, 22.76% gc time)\n",
      "maxlinkdim(q_psi) = 60\n",
      "  0.267046 seconds (1.09 M allocations: 229.599 MiB, 12.67% gc time)"
     ]
    },
    {
     "name": "stdout",
     "output_type": "stream",
     "text": [
      "\n",
      "maxlinkdim(q_psi) = 60\n"
     ]
    },
    {
     "name": "stdout",
     "output_type": "stream",
     "text": [
      "  0.262659 seconds (1.09 M allocations: 230.273 MiB, 12.07% gc time)\n",
      "maxlinkdim(q_psi) = 60\n",
      "  0.290620 seconds (1.09 M allocations: 230.273 MiB, 20.98% gc time)"
     ]
    },
    {
     "name": "stdout",
     "output_type": "stream",
     "text": [
      "\n",
      "maxlinkdim(q_psi) = 60\n"
     ]
    },
    {
     "name": "stdout",
     "output_type": "stream",
     "text": [
      "  0.267442 seconds (1.09 M allocations: 230.472 MiB, 12.33% gc time)\n",
      "maxlinkdim(q_psi) = 60\n",
      "  0.261156 seconds (1.09 M allocations: 231.133 MiB, 12.22% gc time)"
     ]
    },
    {
     "name": "stdout",
     "output_type": "stream",
     "text": [
      "\n",
      "maxlinkdim(q_psi) = 60\n"
     ]
    },
    {
     "name": "stdout",
     "output_type": "stream",
     "text": [
      "  0.301296 seconds (1.09 M allocations: 231.133 MiB, 21.83% gc time)\n",
      "maxlinkdim(q_psi) = 60\n",
      "  0.293968 seconds (1.09 M allocations: 231.133 MiB, 20.61% gc time)"
     ]
    },
    {
     "name": "stdout",
     "output_type": "stream",
     "text": [
      "\n",
      "maxlinkdim(q_psi) = 60\n"
     ]
    },
    {
     "name": "stdout",
     "output_type": "stream",
     "text": [
      "  0.265579 seconds (1.09 M allocations: 231.168 MiB, 13.16% gc time)\n",
      "maxlinkdim(q_psi) = 60\n",
      "  0.263328 seconds (1.09 M allocations: 231.977 MiB, 12.28% gc time)"
     ]
    },
    {
     "name": "stdout",
     "output_type": "stream",
     "text": [
      "\n",
      "maxlinkdim(q_psi) = 60\n"
     ]
    },
    {
     "name": "stdout",
     "output_type": "stream",
     "text": [
      "  0.292476 seconds (1.10 M allocations: 232.617 MiB, 19.89% gc time)\n",
      "maxlinkdim(q_psi) = 60\n",
      "  0.258970 seconds (1.10 M allocations: 233.157 MiB, 12.36% gc time)"
     ]
    },
    {
     "name": "stdout",
     "output_type": "stream",
     "text": [
      "\n",
      "maxlinkdim(q_psi) = 62\n"
     ]
    },
    {
     "name": "stdout",
     "output_type": "stream",
     "text": [
      "  0.255189 seconds (1.09 M allocations: 233.060 MiB, 11.11% gc time)\n",
      "maxlinkdim(q_psi) = 62\n",
      "  0.287489 seconds (1.09 M allocations: 233.060 MiB, 21.14% gc time)"
     ]
    },
    {
     "name": "stdout",
     "output_type": "stream",
     "text": [
      "\n",
      "maxlinkdim(q_psi) = 62\n"
     ]
    },
    {
     "name": "stdout",
     "output_type": "stream",
     "text": [
      "  0.292917 seconds (1.09 M allocations: 233.060 MiB, 20.29% gc time)\n",
      "maxlinkdim(q_psi) = 62\n",
      "  0.257707 seconds (1.09 M allocations: 233.051 MiB, 11.54% gc time)"
     ]
    },
    {
     "name": "stdout",
     "output_type": "stream",
     "text": [
      "\n",
      "maxlinkdim(q_psi) = 62\n"
     ]
    },
    {
     "name": "stdout",
     "output_type": "stream",
     "text": [
      "  0.259264 seconds (1.09 M allocations: 233.392 MiB, 12.43% gc time)\n",
      "maxlinkdim(q_psi) = 62\n",
      "  0.290867 seconds (1.09 M allocations: 233.457 MiB, 21.43% gc time)"
     ]
    },
    {
     "name": "stdout",
     "output_type": "stream",
     "text": [
      "\n",
      "maxlinkdim(q_psi) = 62\n"
     ]
    },
    {
     "name": "stdout",
     "output_type": "stream",
     "text": [
      "  0.294810 seconds (1.09 M allocations: 234.066 MiB, 21.24% gc time)\n",
      "maxlinkdim(q_psi) = 62\n",
      "  0.261500 seconds (1.09 M allocations: 235.014 MiB, 11.57% gc time)"
     ]
    },
    {
     "name": "stdout",
     "output_type": "stream",
     "text": [
      "\n",
      "maxlinkdim(q_psi) = 62\n"
     ]
    },
    {
     "name": "stdout",
     "output_type": "stream",
     "text": [
      "  0.292001 seconds (1.09 M allocations: 235.014 MiB, 21.83% gc time)\n",
      "maxlinkdim(q_psi) = 62\n",
      "  0.295182 seconds (1.09 M allocations: 235.505 MiB, 21.57% gc time)"
     ]
    },
    {
     "name": "stdout",
     "output_type": "stream",
     "text": [
      "\n",
      "maxlinkdim(q_psi) = 62\n"
     ]
    },
    {
     "name": "stdout",
     "output_type": "stream",
     "text": [
      "  0.270890 seconds (1.09 M allocations: 236.049 MiB, 11.07% gc time)\n",
      "maxlinkdim(q_psi) = 66\n",
      "  0.268275 seconds (1.10 M allocations: 237.400 MiB, 11.48% gc time)"
     ]
    },
    {
     "name": "stdout",
     "output_type": "stream",
     "text": [
      "\n",
      "maxlinkdim(q_psi) = 62\n"
     ]
    },
    {
     "name": "stdout",
     "output_type": "stream",
     "text": [
      "  0.300140 seconds (1.09 M allocations: 236.637 MiB, 21.74% gc time)\n",
      "maxlinkdim(q_psi) = 66\n",
      "  0.307951 seconds (1.10 M allocations: 237.393 MiB, 20.21% gc time)"
     ]
    },
    {
     "name": "stdout",
     "output_type": "stream",
     "text": [
      "\n",
      "maxlinkdim(q_psi) = 62\n"
     ]
    },
    {
     "name": "stdout",
     "output_type": "stream",
     "text": [
      "  0.269043 seconds (1.09 M allocations: 236.637 MiB, 10.67% gc time)\n",
      "maxlinkdim(q_psi) = 66\n",
      "  0.268995 seconds (1.10 M allocations: 237.415 MiB, 12.42% gc time)"
     ]
    },
    {
     "name": "stdout",
     "output_type": "stream",
     "text": [
      "\n",
      "maxlinkdim(q_psi) = 62\n"
     ]
    },
    {
     "name": "stdout",
     "output_type": "stream",
     "text": [
      "  0.303659 seconds (1.10 M allocations: 238.148 MiB, 21.34% gc time)\n",
      "maxlinkdim(q_psi) = 66\n",
      "  0.307623 seconds (1.11 M allocations: 241.230 MiB, 21.02% gc time)"
     ]
    },
    {
     "name": "stdout",
     "output_type": "stream",
     "text": [
      "\n",
      "maxlinkdim(q_psi) = 66\n"
     ]
    },
    {
     "name": "stdout",
     "output_type": "stream",
     "text": [
      "  0.283963 seconds (1.11 M allocations: 241.230 MiB, 11.99% gc time)\n",
      "maxlinkdim(q_psi) = 66\n",
      "  0.269724 seconds (1.11 M allocations: 241.230 MiB, 12.40% gc time)"
     ]
    },
    {
     "name": "stdout",
     "output_type": "stream",
     "text": [
      "\n",
      "maxlinkdim(q_psi) = 66\n"
     ]
    },
    {
     "name": "stdout",
     "output_type": "stream",
     "text": [
      "  0.276788 seconds (1.11 M allocations: 241.251 MiB, 11.17% gc time)\n",
      "maxlinkdim(q_psi) = 66\n",
      "  0.297939 seconds (1.11 M allocations: 241.635 MiB, 19.53% gc time)"
     ]
    },
    {
     "name": "stdout",
     "output_type": "stream",
     "text": [
      "\n",
      "maxlinkdim(q_psi) = 66\n"
     ]
    },
    {
     "name": "stdout",
     "output_type": "stream",
     "text": [
      "  0.304476 seconds (1.11 M allocations: 242.164 MiB, 20.51% gc time)\n",
      "maxlinkdim(q_psi) = 66\n",
      "  0.281222 seconds (1.11 M allocations: 242.630 MiB, 11.04% gc time)"
     ]
    },
    {
     "name": "stdout",
     "output_type": "stream",
     "text": [
      "\n",
      "maxlinkdim(q_psi) = 66\n"
     ]
    },
    {
     "name": "stdout",
     "output_type": "stream",
     "text": [
      "  0.276323 seconds (1.11 M allocations: 242.431 MiB, 10.54% gc time)\n",
      "maxlinkdim(q_psi) = 66\n",
      "  0.303622 seconds (1.11 M allocations: 242.431 MiB, 20.74% gc time)"
     ]
    },
    {
     "name": "stdout",
     "output_type": "stream",
     "text": [
      "\n",
      "maxlinkdim(q_psi) = 66\n"
     ]
    },
    {
     "name": "stdout",
     "output_type": "stream",
     "text": [
      "  0.315993 seconds (1.11 M allocations: 242.441 MiB, 19.09% gc time)\n",
      "maxlinkdim(q_psi) = 66\n",
      "  0.346356 seconds (1.11 M allocations: 243.354 MiB, 18.35% gc time)"
     ]
    },
    {
     "name": "stdout",
     "output_type": "stream",
     "text": [
      "\n",
      "maxlinkdim(q_psi) = 66\n"
     ]
    },
    {
     "name": "stdout",
     "output_type": "stream",
     "text": [
      "  0.347835 seconds (1.11 M allocations: 243.354 MiB, 12.67% gc time)\n",
      "maxlinkdim(q_psi) = 66\n",
      "  0.275293 seconds (1.11 M allocations: 243.354 MiB, 10.38% gc time)"
     ]
    },
    {
     "name": "stdout",
     "output_type": "stream",
     "text": [
      "\n",
      "maxlinkdim(q_psi) = 66\n"
     ]
    },
    {
     "name": "stdout",
     "output_type": "stream",
     "text": [
      "  0.308833 seconds (1.11 M allocations: 243.354 MiB, 20.36% gc time)\n",
      "maxlinkdim(q_psi) = 66\n",
      "  0.310921 seconds (1.11 M allocations: 243.354 MiB, 21.12% gc time)"
     ]
    },
    {
     "name": "stdout",
     "output_type": "stream",
     "text": [
      "\n",
      "maxlinkdim(q_psi) = 66\n"
     ]
    },
    {
     "name": "stdout",
     "output_type": "stream",
     "text": [
      "  0.280793 seconds (1.11 M allocations: 243.727 MiB, 11.49% gc time)\n",
      "maxlinkdim(q_psi) = 66\n",
      "  0.270636 seconds (1.11 M allocations: 243.727 MiB, 11.10% gc time)"
     ]
    },
    {
     "name": "stdout",
     "output_type": "stream",
     "text": [
      "\n",
      "maxlinkdim(q_psi) = 66\n"
     ]
    },
    {
     "name": "stdout",
     "output_type": "stream",
     "text": [
      "  0.305301 seconds (1.11 M allocations: 243.914 MiB, 20.51% gc time)\n",
      "maxlinkdim(q_psi) = 66\n",
      "  0.307713 seconds (1.11 M allocations: 244.967 MiB, 20.47% gc time)"
     ]
    },
    {
     "name": "stdout",
     "output_type": "stream",
     "text": [
      "\n",
      "maxlinkdim(q_psi) = 66\n"
     ]
    },
    {
     "name": "stdout",
     "output_type": "stream",
     "text": [
      "  0.310034 seconds (1.11 M allocations: 244.967 MiB, 19.91% gc time)\n",
      "maxlinkdim(q_psi) = 66\n",
      "  0.279842 seconds (1.11 M allocations: 244.990 MiB, 10.78% gc time)"
     ]
    },
    {
     "name": "stdout",
     "output_type": "stream",
     "text": [
      "\n",
      "maxlinkdim(q_psi) = 66\n"
     ]
    },
    {
     "name": "stdout",
     "output_type": "stream",
     "text": [
      "  0.274924 seconds (1.11 M allocations: 246.449 MiB, 10.29% gc time)\n",
      "maxlinkdim(q_psi) = 69\n",
      "  0.305982 seconds (1.11 M allocations: 247.056 MiB, 19.79% gc time)"
     ]
    },
    {
     "name": "stdout",
     "output_type": "stream",
     "text": [
      "\n",
      "maxlinkdim(q_psi) = 69\n"
     ]
    },
    {
     "name": "stdout",
     "output_type": "stream",
     "text": [
      "  0.418329 seconds (1.11 M allocations: 247.388 MiB, 14.36% gc time)\n",
      "maxlinkdim(q_psi) = 69\n",
      "  0.304417 seconds (1.11 M allocations: 247.388 MiB, 18.89% gc time)"
     ]
    },
    {
     "name": "stdout",
     "output_type": "stream",
     "text": [
      "\n",
      "maxlinkdim(q_psi) = 69\n"
     ]
    },
    {
     "name": "stdout",
     "output_type": "stream",
     "text": [
      "  0.285964 seconds (1.11 M allocations: 247.388 MiB, 11.15% gc time)\n",
      "maxlinkdim(q_psi) = 69\n",
      "  0.278991 seconds (1.11 M allocations: 247.439 MiB, 12.31% gc time)"
     ]
    },
    {
     "name": "stdout",
     "output_type": "stream",
     "text": [
      "\n",
      "maxlinkdim(q_psi) = 69\n"
     ]
    },
    {
     "name": "stdout",
     "output_type": "stream",
     "text": [
      "  0.312858 seconds (1.12 M allocations: 248.791 MiB, 21.75% gc time)\n",
      "maxlinkdim(q_psi) = 69\n",
      "  0.307449 seconds (1.12 M allocations: 248.791 MiB, 20.55% gc time)"
     ]
    },
    {
     "name": "stdout",
     "output_type": "stream",
     "text": [
      "\n",
      "maxlinkdim(q_psi) = 69\n"
     ]
    },
    {
     "name": "stdout",
     "output_type": "stream",
     "text": [
      "  0.313248 seconds (1.12 M allocations: 249.004 MiB, 20.14% gc time)\n",
      "maxlinkdim(q_psi) = 69\n",
      "  0.304068 seconds (1.12 M allocations: 249.004 MiB, 18.55% gc time)"
     ]
    },
    {
     "name": "stdout",
     "output_type": "stream",
     "text": [
      "\n",
      "maxlinkdim(q_psi) = 69\n"
     ]
    },
    {
     "name": "stdout",
     "output_type": "stream",
     "text": [
      "  0.275662 seconds (1.12 M allocations: 249.200 MiB, 10.37% gc time)\n",
      "maxlinkdim(q_psi) = 69\n",
      "  0.269254 seconds (1.12 M allocations: 249.200 MiB, 10.30% gc time)"
     ]
    },
    {
     "name": "stdout",
     "output_type": "stream",
     "text": [
      "\n",
      "maxlinkdim(q_psi) = 69\n"
     ]
    },
    {
     "name": "stdout",
     "output_type": "stream",
     "text": [
      "  0.306064 seconds (1.12 M allocations: 249.200 MiB, 20.66% gc time)\n",
      "maxlinkdim(q_psi) = 69\n",
      "  0.306840 seconds (1.12 M allocations: 249.200 MiB, 20.58% gc time)"
     ]
    },
    {
     "name": "stdout",
     "output_type": "stream",
     "text": [
      "\n",
      "maxlinkdim(q_psi) = 69\n"
     ]
    },
    {
     "name": "stdout",
     "output_type": "stream",
     "text": [
      "  0.316769 seconds (1.12 M allocations: 249.200 MiB, 19.73% gc time)\n",
      "maxlinkdim(q_psi) = 69\n",
      "  0.288611 seconds (1.12 M allocations: 249.200 MiB, 11.18% gc time)"
     ]
    },
    {
     "name": "stdout",
     "output_type": "stream",
     "text": [
      "\n",
      "maxlinkdim(q_psi) = 69\n"
     ]
    },
    {
     "name": "stdout",
     "output_type": "stream",
     "text": [
      "  0.281276 seconds (1.12 M allocations: 249.889 MiB, 10.50% gc time)\n",
      "maxlinkdim(q_psi) = 72\n",
      "  0.282166 seconds (1.12 M allocations: 250.894 MiB, 10.62% gc time)"
     ]
    },
    {
     "name": "stdout",
     "output_type": "stream",
     "text": [
      "\n",
      "maxlinkdim(q_psi) = 69\n"
     ]
    },
    {
     "name": "stdout",
     "output_type": "stream",
     "text": [
      "  0.323020 seconds (1.12 M allocations: 250.591 MiB, 19.98% gc time)\n",
      "maxlinkdim(q_psi) = 72\n",
      "  0.315394 seconds (1.12 M allocations: 251.497 MiB, 19.30% gc time)"
     ]
    },
    {
     "name": "stdout",
     "output_type": "stream",
     "text": [
      "\n",
      "maxlinkdim(q_psi) = 72\n"
     ]
    },
    {
     "name": "stdout",
     "output_type": "stream",
     "text": [
      "  0.315180 seconds (1.12 M allocations: 251.502 MiB, 19.89% gc time)\n",
      "maxlinkdim(q_psi) = 72\n",
      "  0.276675 seconds (1.12 M allocations: 251.502 MiB, 11.27% gc time)"
     ]
    },
    {
     "name": "stdout",
     "output_type": "stream",
     "text": [
      "\n",
      "maxlinkdim(q_psi) = 72\n"
     ]
    },
    {
     "name": "stdout",
     "output_type": "stream",
     "text": [
      "  0.275304 seconds (1.12 M allocations: 251.329 MiB, 10.57% gc time)\n",
      "maxlinkdim(q_psi) = 69\n",
      "  0.311929 seconds (1.12 M allocations: 251.132 MiB, 20.14% gc time)"
     ]
    },
    {
     "name": "stdout",
     "output_type": "stream",
     "text": [
      "\n",
      "maxlinkdim(q_psi) = 72\n"
     ]
    },
    {
     "name": "stdout",
     "output_type": "stream",
     "text": [
      "  0.310321 seconds (1.12 M allocations: 252.424 MiB, 19.95% gc time)\n",
      "maxlinkdim(q_psi) = 73\n",
      "  0.309782 seconds (1.12 M allocations: 252.647 MiB, 19.30% gc time)"
     ]
    },
    {
     "name": "stdout",
     "output_type": "stream",
     "text": [
      "\n",
      "maxlinkdim(q_psi) = 73\n"
     ]
    },
    {
     "name": "stdout",
     "output_type": "stream",
     "text": [
      "  0.314368 seconds (1.12 M allocations: 252.647 MiB, 18.40% gc time)\n",
      "maxlinkdim(q_psi) = 73\n",
      "  0.278265 seconds (1.12 M allocations: 253.034 MiB, 11.02% gc time)"
     ]
    },
    {
     "name": "stdout",
     "output_type": "stream",
     "text": [
      "\n",
      "maxlinkdim(q_psi) = 73\n"
     ]
    },
    {
     "name": "stdout",
     "output_type": "stream",
     "text": [
      "  0.279290 seconds (1.12 M allocations: 253.034 MiB, 11.12% gc time)\n",
      "maxlinkdim(q_psi) = 73\n",
      "  0.309918 seconds (1.12 M allocations: 253.030 MiB, 19.50% gc time)"
     ]
    },
    {
     "name": "stdout",
     "output_type": "stream",
     "text": [
      "\n",
      "maxlinkdim(q_psi) = 73\n"
     ]
    },
    {
     "name": "stdout",
     "output_type": "stream",
     "text": [
      "  0.312869 seconds (1.12 M allocations: 253.691 MiB, 19.68% gc time)\n",
      "maxlinkdim(q_psi) = 73\n",
      "  0.319296 seconds (1.12 M allocations: 253.892 MiB, 19.44% gc time)"
     ]
    },
    {
     "name": "stdout",
     "output_type": "stream",
     "text": [
      "\n",
      "maxlinkdim(q_psi) = 73\n"
     ]
    },
    {
     "name": "stdout",
     "output_type": "stream",
     "text": [
      "  0.317330 seconds (1.12 M allocations: 254.073 MiB, 18.92% gc time)\n",
      "maxlinkdim(q_psi) = 73\n",
      "  0.282443 seconds (1.12 M allocations: 254.265 MiB, 11.36% gc time)"
     ]
    },
    {
     "name": "stdout",
     "output_type": "stream",
     "text": [
      "\n",
      "maxlinkdim(q_psi) = 73\n"
     ]
    },
    {
     "name": "stdout",
     "output_type": "stream",
     "text": [
      "  0.284058 seconds (1.12 M allocations: 254.585 MiB, 11.06% gc time)\n",
      "maxlinkdim(q_psi) = 73\n",
      "  0.281754 seconds (1.12 M allocations: 254.445 MiB, 10.28% gc time)"
     ]
    },
    {
     "name": "stdout",
     "output_type": "stream",
     "text": [
      "\n",
      "maxlinkdim(q_psi) = 73\n"
     ]
    },
    {
     "name": "stdout",
     "output_type": "stream",
     "text": [
      "  0.313663 seconds (1.12 M allocations: 254.952 MiB, 19.21% gc time)\n",
      "maxlinkdim(q_psi) = 73\n",
      "  0.319995 seconds (1.12 M allocations: 254.448 MiB, 21.25% gc time)"
     ]
    },
    {
     "name": "stdout",
     "output_type": "stream",
     "text": [
      "\n",
      "maxlinkdim(q_psi) = 73\n"
     ]
    },
    {
     "name": "stdout",
     "output_type": "stream",
     "text": [
      "  0.320815 seconds (1.12 M allocations: 254.952 MiB, 18.97% gc time)\n",
      "maxlinkdim(q_psi) = 73\n",
      "  0.317265 seconds (1.12 M allocations: 254.595 MiB, 18.85% gc time)"
     ]
    },
    {
     "name": "stdout",
     "output_type": "stream",
     "text": [
      "\n",
      "maxlinkdim(q_psi) = 73\n"
     ]
    },
    {
     "name": "stdout",
     "output_type": "stream",
     "text": [
      "  0.289485 seconds (1.12 M allocations: 255.105 MiB, 9.39% gc time)\n",
      "maxlinkdim(q_psi) = 73\n",
      "  0.285607 seconds (1.12 M allocations: 254.938 MiB, 10.98% gc time)"
     ]
    },
    {
     "name": "stdout",
     "output_type": "stream",
     "text": [
      "\n",
      "maxlinkdim(q_psi) = 73\n"
     ]
    },
    {
     "name": "stdout",
     "output_type": "stream",
     "text": [
      "  0.324381 seconds (1.12 M allocations: 256.289 MiB, 20.26% gc time)\n",
      "maxlinkdim(q_psi) = 73\n",
      "  0.324537 seconds (1.12 M allocations: 256.316 MiB, 18.47% gc time)"
     ]
    },
    {
     "name": "stdout",
     "output_type": "stream",
     "text": [
      "\n",
      "maxlinkdim(q_psi) = 75\n"
     ]
    },
    {
     "name": "stdout",
     "output_type": "stream",
     "text": [
      "  0.319389 seconds (1.12 M allocations: 256.733 MiB, 19.67% gc time)\n",
      "maxlinkdim(q_psi) = 72\n",
      "  0.315103 seconds (1.13 M allocations: 257.116 MiB, 19.59% gc time)"
     ]
    },
    {
     "name": "stdout",
     "output_type": "stream",
     "text": [
      "\n",
      "maxlinkdim(q_psi) = 75\n"
     ]
    },
    {
     "name": "stdout",
     "output_type": "stream",
     "text": [
      "  0.291223 seconds (1.13 M allocations: 257.703 MiB, 11.92% gc time)\n",
      "maxlinkdim(q_psi) = 72\n",
      "  0.281148 seconds (1.13 M allocations: 256.959 MiB, 9.92% gc time)"
     ]
    },
    {
     "name": "stdout",
     "output_type": "stream",
     "text": [
      "\n",
      "maxlinkdim(q_psi) = 75\n"
     ]
    },
    {
     "name": "stdout",
     "output_type": "stream",
     "text": [
      "  0.291275 seconds (1.13 M allocations: 257.199 MiB, 9.33% gc time)\n",
      "maxlinkdim(q_psi) = 72\n",
      "  0.315197 seconds (1.13 M allocations: 257.101 MiB, 20.02% gc time)"
     ]
    },
    {
     "name": "stdout",
     "output_type": "stream",
     "text": [
      "\n",
      "maxlinkdim(q_psi) = 75\n"
     ]
    },
    {
     "name": "stdout",
     "output_type": "stream",
     "text": [
      "  0.320343 seconds (1.13 M allocations: 257.941 MiB, 18.92% gc time)\n",
      "maxlinkdim(q_psi) = 72\n",
      "  0.318160 seconds (1.13 M allocations: 257.567 MiB, 19.22% gc time)"
     ]
    },
    {
     "name": "stdout",
     "output_type": "stream",
     "text": [
      "\n",
      "maxlinkdim(q_psi) = 75\n"
     ]
    },
    {
     "name": "stdout",
     "output_type": "stream",
     "text": [
      "  0.323705 seconds (1.13 M allocations: 258.084 MiB, 19.20% gc time)\n",
      "maxlinkdim(q_psi) = 72\n",
      "  0.284598 seconds (1.13 M allocations: 258.356 MiB, 10.51% gc time)"
     ]
    },
    {
     "name": "stdout",
     "output_type": "stream",
     "text": [
      "\n",
      "maxlinkdim(q_psi) = 75\n"
     ]
    },
    {
     "name": "stdout",
     "output_type": "stream",
     "text": [
      "  0.304650 seconds (1.13 M allocations: 258.994 MiB, 11.96% gc time)\n",
      "maxlinkdim(q_psi) = 75\n",
      "  0.286342 seconds (1.13 M allocations: 258.994 MiB, 11.26% gc time)"
     ]
    },
    {
     "name": "stdout",
     "output_type": "stream",
     "text": [
      "\n",
      "maxlinkdim(q_psi) = 75\n"
     ]
    },
    {
     "name": "stdout",
     "output_type": "stream",
     "text": [
      "  0.318013 seconds (1.13 M allocations: 258.994 MiB, 20.03% gc time)\n",
      "maxlinkdim(q_psi) = 75\n",
      "  0.318426 seconds (1.13 M allocations: 258.994 MiB, 19.89% gc time)"
     ]
    },
    {
     "name": "stdout",
     "output_type": "stream",
     "text": [
      "\n",
      "maxlinkdim(q_psi) = 75\n"
     ]
    },
    {
     "name": "stdout",
     "output_type": "stream",
     "text": [
      "  0.325704 seconds (1.13 M allocations: 259.027 MiB, 19.45% gc time)\n",
      "maxlinkdim(q_psi) = 75\n",
      "  0.321193 seconds (1.13 M allocations: 260.143 MiB, 18.48% gc time)"
     ]
    },
    {
     "name": "stdout",
     "output_type": "stream",
     "text": [
      "\n",
      "maxlinkdim(q_psi) = 75\n"
     ]
    },
    {
     "name": "stdout",
     "output_type": "stream",
     "text": [
      "  0.322745 seconds (1.13 M allocations: 260.651 MiB, 18.71% gc time)\n",
      "maxlinkdim(q_psi) = 75\n",
      "  0.294975 seconds (1.13 M allocations: 260.651 MiB, 11.71% gc time)"
     ]
    },
    {
     "name": "stdout",
     "output_type": "stream",
     "text": [
      "\n",
      "maxlinkdim(q_psi) = 75\n"
     ]
    },
    {
     "name": "stdout",
     "output_type": "stream",
     "text": [
      "  0.290556 seconds (1.13 M allocations: 260.966 MiB, 9.59% gc time)\n",
      "maxlinkdim(q_psi) = 75\n",
      "  0.294342 seconds (1.13 M allocations: 260.966 MiB, 10.01% gc time)"
     ]
    },
    {
     "name": "stdout",
     "output_type": "stream",
     "text": [
      "\n",
      "maxlinkdim(q_psi) = 75\n"
     ]
    },
    {
     "name": "stdout",
     "output_type": "stream",
     "text": [
      "  0.327200 seconds (1.13 M allocations: 260.966 MiB, 18.15% gc time)\n",
      "maxlinkdim(q_psi) = 75\n",
      "  0.331807 seconds (1.13 M allocations: 261.059 MiB, 20.08% gc time)"
     ]
    },
    {
     "name": "stdout",
     "output_type": "stream",
     "text": [
      "\n",
      "maxlinkdim(q_psi) = 76\n"
     ]
    },
    {
     "name": "stdout",
     "output_type": "stream",
     "text": [
      "  0.327972 seconds (1.13 M allocations: 261.266 MiB, 19.40% gc time)\n",
      "maxlinkdim(q_psi) = 76\n",
      "  0.330531 seconds (1.13 M allocations: 261.266 MiB, 18.94% gc time)"
     ]
    },
    {
     "name": "stdout",
     "output_type": "stream",
     "text": [
      "\n",
      "maxlinkdim(q_psi) = 76\n"
     ]
    },
    {
     "name": "stdout",
     "output_type": "stream",
     "text": [
      "  0.291568 seconds (1.13 M allocations: 261.266 MiB, 10.06% gc time)\n",
      "maxlinkdim(q_psi) = 76\n",
      "  0.286742 seconds (1.13 M allocations: 261.266 MiB, 10.79% gc time)"
     ]
    },
    {
     "name": "stdout",
     "output_type": "stream",
     "text": [
      "\n",
      "maxlinkdim(q_psi) = 76\n"
     ]
    },
    {
     "name": "stdout",
     "output_type": "stream",
     "text": [
      "  0.288095 seconds (1.13 M allocations: 261.274 MiB, 10.66% gc time)\n",
      "maxlinkdim(q_psi) = 76\n",
      "  0.315296 seconds (1.13 M allocations: 261.456 MiB, 18.47% gc time)"
     ]
    },
    {
     "name": "stdout",
     "output_type": "stream",
     "text": [
      "\n",
      "maxlinkdim(q_psi) = 76\n"
     ]
    },
    {
     "name": "stdout",
     "output_type": "stream",
     "text": [
      "  0.322577 seconds (1.13 M allocations: 261.456 MiB, 19.33% gc time)\n",
      "maxlinkdim(q_psi) = 76\n",
      "  0.320231 seconds (1.13 M allocations: 261.795 MiB, 18.24% gc time)"
     ]
    },
    {
     "name": "stdout",
     "output_type": "stream",
     "text": [
      "\n",
      "maxlinkdim(q_psi) = 76\n"
     ]
    },
    {
     "name": "stdout",
     "output_type": "stream",
     "text": [
      "  0.323359 seconds (1.13 M allocations: 261.927 MiB, 18.86% gc time)\n",
      "maxlinkdim(q_psi) = 76\n",
      "  0.323288 seconds (1.13 M allocations: 261.927 MiB, 19.70% gc time)"
     ]
    },
    {
     "name": "stdout",
     "output_type": "stream",
     "text": [
      "\n",
      "maxlinkdim(q_psi) = 76\n"
     ]
    },
    {
     "name": "stdout",
     "output_type": "stream",
     "text": [
      "  0.386251 seconds (1.13 M allocations: 261.927 MiB, 7.67% gc time)\n",
      "maxlinkdim(q_psi) = 76\n",
      "  0.291182 seconds (1.13 M allocations: 261.927 MiB, 10.26% gc time)"
     ]
    },
    {
     "name": "stdout",
     "output_type": "stream",
     "text": [
      "\n",
      "maxlinkdim(q_psi) = 76\n"
     ]
    },
    {
     "name": "stdout",
     "output_type": "stream",
     "text": [
      "  0.283641 seconds (1.13 M allocations: 262.245 MiB, 10.18% gc time)\n",
      "maxlinkdim(q_psi) = 76\n",
      "  0.317437 seconds (1.13 M allocations: 262.584 MiB, 19.27% gc time)"
     ]
    },
    {
     "name": "stdout",
     "output_type": "stream",
     "text": [
      "\n",
      "maxlinkdim(q_psi) = 76\n"
     ]
    },
    {
     "name": "stdout",
     "output_type": "stream",
     "text": [
      "  0.331243 seconds (1.13 M allocations: 262.816 MiB, 17.72% gc time)\n",
      "maxlinkdim(q_psi) = 76\n",
      "  0.319879 seconds (1.13 M allocations: 263.159 MiB, 18.33% gc time)"
     ]
    },
    {
     "name": "stdout",
     "output_type": "stream",
     "text": [
      "\n",
      "maxlinkdim(q_psi) = 76\n"
     ]
    },
    {
     "name": "stdout",
     "output_type": "stream",
     "text": [
      "  0.325992 seconds (1.13 M allocations: 263.198 MiB, 18.64% gc time)\n",
      "maxlinkdim(q_psi) = 76\n",
      "  0.326042 seconds (1.13 M allocations: 263.198 MiB, 20.01% gc time)"
     ]
    },
    {
     "name": "stdout",
     "output_type": "stream",
     "text": [
      "\n",
      "maxlinkdim(q_psi) = 76\n"
     ]
    },
    {
     "name": "stdout",
     "output_type": "stream",
     "text": [
      "  0.298084 seconds (1.13 M allocations: 263.198 MiB, 9.90% gc time)\n",
      "maxlinkdim(q_psi) = 76\n",
      "  0.291714 seconds (1.13 M allocations: 263.642 MiB, 9.61% gc time)"
     ]
    },
    {
     "name": "stdout",
     "output_type": "stream",
     "text": [
      "\n",
      "maxlinkdim(q_psi) = 76\n"
     ]
    },
    {
     "name": "stdout",
     "output_type": "stream",
     "text": [
      "  0.288331 seconds (1.13 M allocations: 263.984 MiB, 9.61% gc time)\n",
      "maxlinkdim(q_psi) = 76\n",
      "  0.338493 seconds (1.13 M allocations: 263.979 MiB, 18.75% gc time)"
     ]
    },
    {
     "name": "stdout",
     "output_type": "stream",
     "text": [
      "\n",
      "maxlinkdim(q_psi) = 76\n"
     ]
    },
    {
     "name": "stdout",
     "output_type": "stream",
     "text": [
      "  0.340162 seconds (1.13 M allocations: 264.179 MiB, 18.49% gc time)\n",
      "maxlinkdim(q_psi) = 76\n",
      "  0.332403 seconds (1.13 M allocations: 266.593 MiB, 18.50% gc time)"
     ]
    },
    {
     "name": "stdout",
     "output_type": "stream",
     "text": [
      "\n",
      "maxlinkdim(q_psi) = 78\n"
     ]
    },
    {
     "name": "stdout",
     "output_type": "stream",
     "text": [
      "  0.337319 seconds (1.14 M allocations: 267.556 MiB, 18.47% gc time)\n",
      "maxlinkdim(q_psi) = 78\n",
      "  0.333945 seconds (1.14 M allocations: 267.354 MiB, 18.04% gc time)"
     ]
    },
    {
     "name": "stdout",
     "output_type": "stream",
     "text": [
      "\n",
      "maxlinkdim(q_psi) = 78\n"
     ]
    },
    {
     "name": "stdout",
     "output_type": "stream",
     "text": [
      "  0.343660 seconds (1.14 M allocations: 266.887 MiB, 20.07% gc time)\n",
      "maxlinkdim(q_psi) = 78\n",
      "  0.293783 seconds (1.14 M allocations: 267.740 MiB, 9.44% gc time)"
     ]
    },
    {
     "name": "stdout",
     "output_type": "stream",
     "text": [
      "\n",
      "maxlinkdim(q_psi) = 78\n"
     ]
    },
    {
     "name": "stdout",
     "output_type": "stream",
     "text": [
      "  0.289010 seconds (1.14 M allocations: 267.268 MiB, 10.50% gc time)\n",
      "maxlinkdim(q_psi) = 78\n",
      "  0.301415 seconds (1.14 M allocations: 267.740 MiB, 11.94% gc time)"
     ]
    },
    {
     "name": "stdout",
     "output_type": "stream",
     "text": [
      "\n",
      "maxlinkdim(q_psi) = 78\n"
     ]
    },
    {
     "name": "stdout",
     "output_type": "stream",
     "text": [
      "  0.332828 seconds (1.15 M allocations: 267.382 MiB, 19.65% gc time)\n",
      "maxlinkdim(q_psi) = 78\n",
      "  0.324148 seconds (1.15 M allocations: 268.904 MiB, 19.07% gc time)"
     ]
    },
    {
     "name": "stdout",
     "output_type": "stream",
     "text": [
      "\n",
      "maxlinkdim(q_psi) = 78\n"
     ]
    },
    {
     "name": "stdout",
     "output_type": "stream",
     "text": [
      "  0.327348 seconds (1.15 M allocations: 268.533 MiB, 18.20% gc time)\n",
      "maxlinkdim(q_psi) = 78\n",
      "  0.330765 seconds (1.15 M allocations: 269.022 MiB, 18.77% gc time)"
     ]
    },
    {
     "name": "stdout",
     "output_type": "stream",
     "text": [
      "\n",
      "maxlinkdim(q_psi) = 78\n"
     ]
    },
    {
     "name": "stdout",
     "output_type": "stream",
     "text": [
      "  0.328421 seconds (1.15 M allocations: 268.550 MiB, 18.17% gc time)\n",
      "maxlinkdim(q_psi) = 78\n",
      "  0.327888 seconds (1.15 M allocations: 268.817 MiB, 18.55% gc time)"
     ]
    },
    {
     "name": "stdout",
     "output_type": "stream",
     "text": [
      "\n",
      "maxlinkdim(q_psi) = 78\n"
     ]
    },
    {
     "name": "stdout",
     "output_type": "stream",
     "text": [
      "  0.327523 seconds (1.15 M allocations: 268.999 MiB, 18.62% gc time)\n",
      "maxlinkdim(q_psi) = 78\n",
      "  0.298752 seconds (1.15 M allocations: 270.324 MiB, 10.62% gc time)"
     ]
    },
    {
     "name": "stdout",
     "output_type": "stream",
     "text": [
      "\n",
      "maxlinkdim(q_psi) = 78\n"
     ]
    },
    {
     "ename": "UndefVarError",
     "evalue": "UndefVarError: psi not defined",
     "output_type": "error",
     "traceback": [
      "UndefVarError: psi not defined\n",
      "\n",
      "Stacktrace:\n",
      " [1] ExpValInTime(q_psi::MPS, E::Float64, U::Float64, dt::Float64, T::Float64)\n",
      "   @ Main ~/Documents/GitHub/Computational-Methods-for-Many-Body-Physics/FinalProject/SpinChargeSeparation.ipynb:201\n",
      " [2] top-level scope\n",
      "   @ ~/Documents/GitHub/Computational-Methods-for-Many-Body-Physics/FinalProject/SpinChargeSeparation.ipynb:10"
     ]
    }
   ],
   "source": [
    "L = 15\n",
    "Ne = 10\n",
    "dt = 1e-1\n",
    "T = 5.0\n",
    "Us = [0.0, 0.1, 1.0, 10.0]\n",
    "state0 = InitialState(L, Ne, 0)\n",
    "scan_U_res_third = []\n",
    "for (i,U) in enumerate(Us)\n",
    "    E, psi = Hubbard_DMRG(L,U,10,50, state0)\n",
    "    append!(scan_U_res_third,ExpValInTime(Quench(Quench(psi, \"Cdn\"), \"Cup\"), E, U, dt, T))\n",
    "end"
   ]
  },
  {
   "cell_type": "code",
   "execution_count": 6,
   "metadata": {},
   "outputs": [
    {
     "data": {
      "text/plain": [
       "15-element Vector{Any}:\n",
       " \"UpDn\"\n",
       " \"UpDn\"\n",
       " \"UpDn\"\n",
       " \"UpDn\"\n",
       " \"UpDn\"\n",
       " \"Emp\"\n",
       " \"Emp\"\n",
       " \"Emp\"\n",
       " \"Emp\"\n",
       " \"Emp\"\n",
       " \"Emp\"\n",
       " \"Emp\"\n",
       " \"Emp\"\n",
       " \"Emp\"\n",
       " \"Emp\""
      ]
     },
     "execution_count": 6,
     "metadata": {},
     "output_type": "execute_result"
    }
   ],
   "source": [
    "state0"
   ]
  },
  {
   "cell_type": "code",
   "execution_count": 429,
   "metadata": {},
   "outputs": [
    {
     "data": {
      "image/png": "[encoded data removed]",
      "text/plain": [
       "Figure(PyObject <Figure size 500x1000 with 8 Axes>)"
      ]
     },
     "metadata": {},
     "output_type": "display_data"
    }
   ],
   "source": [
    "fig,ax = subplots(4,2,figsize=(5,10))\n",
    "for i = 1:4\n",
    "    ax[i,1].imshow(real.(scan_U_res_third[2*i-1]),vmin=-maximum(abs.(scan_U_res_third[2*i-1])),vmax=maximum(abs.(scan_U_res_third[2*i-1]))\n",
    "                , aspect=\"auto\", cmap=\"RdBu\", interpolation=\"gaussian\")\n",
    "    ax[i,2].imshow(real.(scan_U_res_third[2*i]),vmin=0.0,vmax=maximum(real.(scan_U_res_third[2*i]))\n",
    "                , aspect=\"auto\", cmap=\"Blues_r\", interpolation=\"gaussian\")\n",
    "end\n",
    "\n",
    "ax[1,1].set_title(L\"$\\langle S_Z \\rangle$\", fontsize=16)\n",
    "ax[1,2].set_title(L\"$\\langle n \\rangle$\", fontsize=16)\n",
    "\n",
    "gcf()"
   ]
  },
  {
   "cell_type": "code",
   "execution_count": 430,
   "metadata": {},
   "outputs": [],
   "source": [
    "colormap_name = \"viridis\"\n",
    "num_colors = 4\n",
    "cmap = get_cmap(colormap_name)\n",
    "colors = [cmap(k/num_colors) for k in 0:num_colors-1]\n",
    "for i = 1:div(length(scan_U_res_third[7][:,1]),10)\n",
    "# i = 1\n",
    "    fig,ax = subplots(2,1,figsize=(10,4))\n",
    "    # for i = 1:length(scan_U_res_third[8][:,1])\n",
    "    #     ax.plot(real.(scan_U_res_third[7][i,:]),color=\"black\",label=L\"$\\langle S_Z \\rangle$\")\n",
    "    # end\n",
    "\n",
    "\n",
    "    ax[1].plot(real.(scan_U_res_third[2][10*i,:]),\"-o\", color=colors[1])\n",
    "    ax[1].plot(real.(scan_U_res_third[4][10*i,:]),\"-o\", color=colors[2])\n",
    "    ax[1].plot(real.(scan_U_res_third[6][10*i,:]),\"-o\", color=colors[3])\n",
    "    ax[1].plot(real.(scan_U_res_third[8][10*i,:]),\"-o\", color=colors[4])\n",
    "    ax[2].plot(real.(scan_U_res_third[1][10*i,:]),\"-o\", color=colors[1],label=Us[1])\n",
    "    ax[2].plot(real.(scan_U_res_third[3][10*i,:]),\"-o\", color=colors[2],label=Us[2])\n",
    "    ax[2].plot(real.(scan_U_res_third[5][10*i,:]),\"-o\", color=colors[3],label=Us[3])\n",
    "    ax[2].plot(real.(scan_U_res_third[7][10*i,:]),\"-o\", color=colors[4],label=Us[4])\n",
    "    ax[2].legend(fontsize=14, loc=(1.05,0.0), title=L\"$U$\")\n",
    "    # ax[2].set_title(L\"$t=$\"*string(i*dt), fontsize=14)\n",
    "    props = Dict(\"boxstyle\" => \"round\", \"facecolor\" => \"white\", \"alpha\" => 1.0)\n",
    "    ax[1].text(22.5,0.7,L\"$t=$\"*string(round(10*i*dt,digits=2)),bbox=props,fontsize=16)\n",
    "    # boxstyle='round', facecolor='wheat', alpha=0.5\n",
    "    ax[1].set_ylim([0.0,1.05])\n",
    "    ax[2].set_ylim([-0.5,0.5])\n",
    "    ax[2].set_xticks(0:2:20)\n",
    "    ax[1].grid()\n",
    "    ax[2].grid()\n",
    "\n",
    "    ax[1].set_ylabel(L\"$\\langle n \\rangle$\", fontsize=14)\n",
    "    ax[2].set_ylabel(L\"$\\langle S_z \\rangle$\", fontsize=14)\n",
    "    fig.tight_layout()\n",
    "    fig.savefig(\"timeevolutionviedo/plot_third\"*string(i)*\".png\")\n",
    "end\n",
    "# gcf()"
   ]
  },
  {
   "cell_type": "code",
   "execution_count": 337,
   "metadata": {},
   "outputs": [
    {
     "data": {
      "image/png": "[encoded data removed]",
      "text/plain": [
       "Figure(PyObject <Figure size 1000x500 with 2 Axes>)"
      ]
     },
     "metadata": {},
     "output_type": "display_data"
    }
   ],
   "source": [
    "fig,ax = subplots(1,2,figsize=(10,5))\n",
    "ax[1].imshow(real.(scan_U_res_third[7]),vmin=-maximum(abs.(scan_U_res_third[7])),vmax=maximum(abs.(scan_U_res_third[7]))\n",
    "            , aspect=\"auto\", cmap=\"RdBu\", interpolation=\"gaussian\")\n",
    "ax[2].imshow(real.(scan_U_res_third[8]),vmin=0.0,vmax=maximum(real.(scan_U_res_third[8]))\n",
    "            , aspect=\"auto\", cmap=\"Blues_r\", interpolation=\"gaussian\")\n",
    "# ax[2,1].imshow(real.(scan_U_res_s[1]),vmin=-maximum(abs.(scan_U_res_s[1])),vmax=maximum(abs.(scan_U_res_s[1]))\n",
    "#             , aspect=\"auto\", cmap=\"RdBu\", interpolation=\"none\")\n",
    "# ax[2,2].imshow(real.(scan_U_res_s[2]),vmin=0.0,vmax=maximum(real.(scan_U_res_s[2]))\n",
    "#             , aspect=\"auto\", cmap=\"Blues_r\", interpolation=\"none\")\n",
    "\n",
    "ax[1].set_title(L\"$\\langle S_Z \\rangle$\", fontsize=16)\n",
    "ax[2].set_title(L\"$\\langle n \\rangle$\", fontsize=16)\n",
    "\n",
    "\n",
    "gcf()"
   ]
  },
  {
   "cell_type": "code",
   "execution_count": 345,
   "metadata": {},
   "outputs": [
    {
     "data": {
      "image/png": "[encoded data removed]",
      "text/plain": [
       "Figure(PyObject <Figure size 640x480 with 1 Axes>)"
      ]
     },
     "metadata": {},
     "output_type": "display_data"
    }
   ],
   "source": [
    "fig,ax=subplots()\n",
    "ax.plot(real.(scan_U_res_e[7][500,:]))\n",
    "# ax.plot(real.(scan_U_res_third[8][500,:]))\n",
    "\n",
    "gcf()"
   ]
  },
  {
   "cell_type": "code",
   "execution_count": 298,
   "metadata": {},
   "outputs": [
    {
     "name": "stdout",
     "output_type": "stream",
     "text": [
      "filling factor is 0.5\n"
     ]
    },
    {
     "name": "stdout",
     "output_type": "stream",
     "text": [
      "After sweep 1 energy=-25.81067902204391  maxlinkdim=16 maxerr=6.72E-16 time=0.661\n"
     ]
    },
    {
     "name": "stdout",
     "output_type": "stream",
     "text": [
      "After sweep 2 energy=-25.962499425065825  maxlinkdim=100 maxerr=1.59E-07 time=2.703\n"
     ]
    },
    {
     "name": "stdout",
     "output_type": "stream",
     "text": [
      "After sweep 3 energy=-25.963585847257722  maxlinkdim=100 maxerr=1.90E-06 time=1.693\n"
     ]
    },
    {
     "name": "stdout",
     "output_type": "stream",
     "text": [
      "After sweep 4 energy=-25.963584999979787  maxlinkdim=100 maxerr=1.60E-06 time=1.555\n"
     ]
    },
    {
     "name": "stdout",
     "output_type": "stream",
     "text": [
      "After sweep 5 energy=-25.96358491018786  maxlinkdim=100 maxerr=1.59E-06 time=1.623\n"
     ]
    },
    {
     "name": "stdout",
     "output_type": "stream",
     "text": [
      "After sweep 6 energy=-25.963584910144032  maxlinkdim=100 maxerr=1.59E-06 time=1.621\n"
     ]
    },
    {
     "name": "stdout",
     "output_type": "stream",
     "text": [
      "After sweep 7 energy=-25.963584909762034  maxlinkdim=100 maxerr=1.59E-06 time=1.765\n"
     ]
    },
    {
     "name": "stdout",
     "output_type": "stream",
     "text": [
      "After sweep 8 energy=-25.963584909527228  maxlinkdim=100 maxerr=1.59E-06 time=1.503\n"
     ]
    },
    {
     "name": "stdout",
     "output_type": "stream",
     "text": [
      "After sweep 9 energy=-25.963584909394534  maxlinkdim=100 maxerr=1.59E-06 time=1.589\n"
     ]
    },
    {
     "name": "stdout",
     "output_type": "stream",
     "text": [
      "After sweep 10 energy=-25.963584909321234  maxlinkdim=100 maxerr=1.59E-06 time=1.692\n"
     ]
    },
    {
     "name": "stdout",
     "output_type": "stream",
     "text": [
      "After sweep 11 energy=-25.963584909281067  maxlinkdim=100 maxerr=1.59E-06 time=1.541\n"
     ]
    },
    {
     "name": "stdout",
     "output_type": "stream",
     "text": [
      "After sweep 12 energy=-25.963584909258895  maxlinkdim=100 maxerr=1.59E-06 time=1.509\n"
     ]
    },
    {
     "name": "stdout",
     "output_type": "stream",
     "text": [
      "After sweep 13 energy=-25.963584909245373  maxlinkdim=100 maxerr=1.59E-06 time=1.663\n"
     ]
    },
    {
     "name": "stdout",
     "output_type": "stream",
     "text": [
      "After sweep 14 energy=-25.963585954395562  maxlinkdim=100 maxerr=1.59E-06 time=1.527\n"
     ]
    },
    {
     "name": "stdout",
     "output_type": "stream",
     "text": [
      "After sweep 15 energy=-25.96358899159268  maxlinkdim=100 maxerr=1.61E-06 time=1.557\n"
     ]
    },
    {
     "name": "stdout",
     "output_type": "stream",
     "text": [
      "After sweep 16 energy=-25.96358898555872  maxlinkdim=100 maxerr=1.61E-06 time=1.735\n"
     ]
    },
    {
     "name": "stdout",
     "output_type": "stream",
     "text": [
      "After sweep 17 energy=-25.96358898031969  maxlinkdim=100 maxerr=1.60E-06 time=1.556\n"
     ]
    },
    {
     "name": "stdout",
     "output_type": "stream",
     "text": [
      "After sweep 18 energy=-25.963588976157222  maxlinkdim=100 maxerr=1.60E-06 time=1.699\n"
     ]
    },
    {
     "name": "stdout",
     "output_type": "stream",
     "text": [
      "After sweep 19 energy=-25.96358897322136  maxlinkdim=100 maxerr=1.60E-06 time=1.517\n"
     ]
    },
    {
     "name": "stdout",
     "output_type": "stream",
     "text": [
      "After sweep 20 energy=-25.963588971236675  maxlinkdim=100 maxerr=1.60E-06 time=1.534\n"
     ]
    },
    {
     "name": "stdout",
     "output_type": "stream",
     "text": [
      "After sweep 21 energy=-25.963588969883045  maxlinkdim=100 maxerr=1.60E-06 time=1.758\n"
     ]
    },
    {
     "name": "stdout",
     "output_type": "stream",
     "text": [
      "After sweep 22 energy=-25.963588968930193  maxlinkdim=100 maxerr=1.60E-06 time=1.567\n"
     ]
    },
    {
     "name": "stdout",
     "output_type": "stream",
     "text": [
      "After sweep 23 energy=-25.963588968224965  maxlinkdim=100 maxerr=1.60E-06 time=1.548\n"
     ]
    },
    {
     "name": "stdout",
     "output_type": "stream",
     "text": [
      "After sweep 24 energy=-25.963588967650495  maxlinkdim=100 maxerr=1.60E-06 time=1.740\n"
     ]
    },
    {
     "name": "stdout",
     "output_type": "stream",
     "text": [
      "After sweep 25 energy=-25.96358896708919  maxlinkdim=100 maxerr=1.60E-06 time=1.561\n"
     ]
    },
    {
     "name": "stdout",
     "output_type": "stream",
     "text": [
      "After sweep 26 energy=-25.96358896639549  maxlinkdim=100 maxerr=1.60E-06 time=1.610\n"
     ]
    },
    {
     "name": "stdout",
     "output_type": "stream",
     "text": [
      "After sweep 27 energy=-25.963588965405414  maxlinkdim=100 maxerr=1.60E-06 time=1.749\n"
     ]
    },
    {
     "name": "stdout",
     "output_type": "stream",
     "text": [
      "After sweep 28 energy=-25.96358896405752  maxlinkdim=100 maxerr=1.60E-06 time=1.601\n"
     ]
    },
    {
     "name": "stdout",
     "output_type": "stream",
     "text": [
      "After sweep 29 energy=-25.96358896263897  maxlinkdim=100 maxerr=1.60E-06 time=1.728\n"
     ]
    },
    {
     "name": "stdout",
     "output_type": "stream",
     "text": [
      "After sweep 30 energy=-25.963588962014637  maxlinkdim=100 maxerr=1.60E-06 time=1.543\n"
     ]
    },
    {
     "ename": "ErrorException",
     "evalue": "syntax: invalid keyword argument syntax \"30\" around /Users/noamophir/Documents/GitHub/Computational-Methods-for-Many-Body-Physics/FinalProject/SpinChargeSeparation.ipynb:4",
     "output_type": "error",
     "traceback": [
      "syntax: invalid keyword argument syntax \"30\" around /Users/noamophir/Documents/GitHub/Computational-Methods-for-Many-Body-Physics/FinalProject/SpinChargeSeparation.ipynb:4\n",
      "\n",
      "Stacktrace:\n",
      " [1] top-level scope\n",
      "   @ ~/Documents/GitHub/Computational-Methods-for-Many-Body-Physics/FinalProject/SpinChargeSeparation.ipynb:4"
     ]
    }
   ],
   "source": [
    "L = 21\n",
    "U = 0.0\n",
    "E0, psi0 = Hubbard_DMRG(L,U,30,100,1/2)\n"
   ]
  },
  {
   "cell_type": "code",
   "execution_count": 302,
   "metadata": {},
   "outputs": [
    {
     "name": "stdout",
     "output_type": "stream",
     "text": [
      "After sweep 1 energy=-25.92348781448079  maxlinkdim=100 maxerr=6.96E-05 time=2.989\n"
     ]
    },
    {
     "name": "stdout",
     "output_type": "stream",
     "text": [
      "After sweep 2 energy=-25.963274226903657  maxlinkdim=100 maxerr=3.45E-06 time=1.713\n"
     ]
    },
    {
     "name": "stdout",
     "output_type": "stream",
     "text": [
      "After sweep 3 energy=-25.963587109962507  maxlinkdim=100 maxerr=2.20E-06 time=1.712\n"
     ]
    },
    {
     "name": "stdout",
     "output_type": "stream",
     "text": [
      "After sweep 4 energy=-25.963588919520262  maxlinkdim=100 maxerr=1.61E-06 time=1.554\n"
     ]
    },
    {
     "name": "stdout",
     "output_type": "stream",
     "text": [
      "After sweep 5 energy=-25.963588779865784  maxlinkdim=100 maxerr=1.60E-06 time=1.722\n"
     ]
    },
    {
     "name": "stdout",
     "output_type": "stream",
     "text": [
      "After sweep 6 energy=-25.963588636210137  maxlinkdim=100 maxerr=1.60E-06 time=1.771\n"
     ]
    },
    {
     "name": "stdout",
     "output_type": "stream",
     "text": [
      "After sweep 7 energy=-25.963588642638435  maxlinkdim=100 maxerr=1.60E-06 time=1.676\n"
     ]
    },
    {
     "name": "stdout",
     "output_type": "stream",
     "text": [
      "After sweep 8 energy=-25.96358864745008  maxlinkdim=100 maxerr=1.60E-06 time=1.858\n"
     ]
    },
    {
     "name": "stdout",
     "output_type": "stream",
     "text": [
      "After sweep 9 energy=-25.963588650590186  maxlinkdim=100 maxerr=1.60E-06 time=1.652\n"
     ]
    },
    {
     "name": "stdout",
     "output_type": "stream",
     "text": [
      "After sweep 10 energy=-25.963588652354883  maxlinkdim=100 maxerr=1.60E-06 time=1.809\n"
     ]
    },
    {
     "name": "stdout",
     "output_type": "stream",
     "text": [
      "After sweep 11 energy=-25.963588653149863  maxlinkdim=100 maxerr=1.60E-06 time=1.681\n"
     ]
    },
    {
     "name": "stdout",
     "output_type": "stream",
     "text": [
      "After sweep 12 energy=-25.96358865327669  maxlinkdim=100 maxerr=1.60E-06 time=1.822\n"
     ]
    },
    {
     "name": "stdout",
     "output_type": "stream",
     "text": [
      "After sweep 13 energy=-25.9635886529383  maxlinkdim=100 maxerr=1.60E-06 time=1.682\n"
     ]
    },
    {
     "name": "stdout",
     "output_type": "stream",
     "text": [
      "After sweep 14 energy=-25.963588652284997  maxlinkdim=100 maxerr=1.60E-06 time=1.859\n"
     ]
    },
    {
     "name": "stdout",
     "output_type": "stream",
     "text": [
      "After sweep 15 energy=-25.963588651441068  maxlinkdim=100 maxerr=1.60E-06 time=1.824\n"
     ]
    },
    {
     "name": "stdout",
     "output_type": "stream",
     "text": [
      "After sweep 16 energy=-25.963588650507685  maxlinkdim=100 maxerr=1.60E-06 time=2.068\n"
     ]
    },
    {
     "name": "stdout",
     "output_type": "stream",
     "text": [
      "After sweep 17 energy=-25.96358864955796  maxlinkdim=100 maxerr=1.60E-06 time=1.731\n"
     ]
    },
    {
     "name": "stdout",
     "output_type": "stream",
     "text": [
      "After sweep 18 energy=-25.963588648636705  maxlinkdim=100 maxerr=1.60E-06 time=2.089\n"
     ]
    },
    {
     "name": "stdout",
     "output_type": "stream",
     "text": [
      "After sweep 19 energy=-25.96358864776605  maxlinkdim=100 maxerr=1.60E-06 time=2.117\n"
     ]
    },
    {
     "name": "stdout",
     "output_type": "stream",
     "text": [
      "After sweep 20 energy=-25.96358864695415  maxlinkdim=100 maxerr=1.60E-06 time=1.958\n"
     ]
    },
    {
     "name": "stdout",
     "output_type": "stream",
     "text": [
      "After sweep 21 energy=-25.96358864620159  maxlinkdim=100 maxerr=1.60E-06 time=1.891\n"
     ]
    },
    {
     "name": "stdout",
     "output_type": "stream",
     "text": [
      "After sweep 22 energy=-25.963588645505965  maxlinkdim=100 maxerr=1.60E-06 time=1.642\n"
     ]
    },
    {
     "name": "stdout",
     "output_type": "stream",
     "text": [
      "After sweep 23 energy=-25.963588644863897  maxlinkdim=100 maxerr=1.60E-06 time=1.779\n"
     ]
    },
    {
     "name": "stdout",
     "output_type": "stream",
     "text": [
      "After sweep 24 energy=-25.963588644272455  maxlinkdim=100 maxerr=1.60E-06 time=1.617\n"
     ]
    },
    {
     "name": "stdout",
     "output_type": "stream",
     "text": [
      "After sweep 25 energy=-25.963588643729604  maxlinkdim=100 maxerr=1.60E-06 time=1.790\n"
     ]
    },
    {
     "name": "stdout",
     "output_type": "stream",
     "text": [
      "After sweep 26 energy=-25.96358864323409  maxlinkdim=100 maxerr=1.60E-06 time=1.610\n"
     ]
    },
    {
     "name": "stdout",
     "output_type": "stream",
     "text": [
      "After sweep 27 energy=-25.963588642785385  maxlinkdim=100 maxerr=1.60E-06 time=2.042\n"
     ]
    },
    {
     "name": "stdout",
     "output_type": "stream",
     "text": [
      "After sweep 28 energy=-25.963588642382803  maxlinkdim=100 maxerr=1.60E-06 time=2.239\n"
     ]
    },
    {
     "name": "stdout",
     "output_type": "stream",
     "text": [
      "After sweep 29 energy=-25.96358864202504  maxlinkdim=100 maxerr=1.60E-06 time=1.846\n"
     ]
    },
    {
     "name": "stdout",
     "output_type": "stream",
     "text": [
      "After sweep 30 energy=-25.963588641709713  maxlinkdim=100 maxerr=1.60E-06 time=1.867\n"
     ]
    },
    {
     "data": {
      "text/plain": [
       "(-25.963588641709713, MPS\n",
       "[1] ((dim=4|id=464|\"Link,l=1\") <Out>\n",
       " 1: QN(\"Nf\",19,-1) => 1\n",
       " 2: QN(\"Nf\",20,-1) => 2\n",
       " 3: QN(\"Nf\",21,-1) => 1, (dim=4|id=146|\"Electron,Site,n=1\") <Out>\n",
       " 1: QN(\"Nf\",0,-1) => 1\n",
       " 2: QN(\"Nf\",1,-1) => 2\n",
       " 3: QN(\"Nf\",2,-1) => 1)\n",
       "[2] ((dim=16|id=946|\"Link,l=2\") <Out>\n",
       " 1: QN(\"Nf\",17,-1) => 1\n",
       " 2: QN(\"Nf\",18,-1) => 4\n",
       " 3: QN(\"Nf\",19,-1) => 6\n",
       " 4: QN(\"Nf\",20,-1) => 4\n",
       " 5: QN(\"Nf\",21,-1) => 1, (dim=4|id=241|\"Electron,Site,n=2\") <Out>\n",
       " 1: QN(\"Nf\",0,-1) => 1\n",
       " 2: QN(\"Nf\",1,-1) => 2\n",
       " 3: QN(\"Nf\",2,-1) => 1, (dim=4|id=464|\"Link,l=1\") <In>\n",
       " 1: QN(\"Nf\",19,-1) => 1\n",
       " 2: QN(\"Nf\",20,-1) => 2\n",
       " 3: QN(\"Nf\",21,-1) => 1)\n",
       "[3] ((dim=4|id=938|\"Electron,Site,n=3\") <Out>\n",
       " 1: QN(\"Nf\",0,-1) => 1\n",
       " 2: QN(\"Nf\",1,-1) => 2\n",
       " 3: QN(\"Nf\",2,-1) => 1, (dim=58|id=679|\"Link,l=3\") <Out>\n",
       " 1: QN(\"Nf\",15,-1) => 1\n",
       " 2: QN(\"Nf\",16,-1) => 6\n",
       " 3: QN(\"Nf\",17,-1) => 13\n",
       " 4: QN(\"Nf\",18,-1) => 18\n",
       " 5: QN(\"Nf\",19,-1) => 13\n",
       " 6: QN(\"Nf\",20,-1) => 6\n",
       " 7: QN(\"Nf\",21,-1) => 1, (dim=16|id=946|\"Link,l=2\") <In>\n",
       " 1: QN(\"Nf\",17,-1) => 1\n",
       " 2: QN(\"Nf\",18,-1) => 4\n",
       " 3: QN(\"Nf\",19,-1) => 6\n",
       " 4: QN(\"Nf\",20,-1) => 4\n",
       " 5: QN(\"Nf\",21,-1) => 1)\n",
       "[4] ((dim=4|id=902|\"Electron,Site,n=4\") <Out>\n",
       " 1: QN(\"Nf\",0,-1) => 1\n",
       " 2: QN(\"Nf\",1,-1) => 2\n",
       " 3: QN(\"Nf\",2,-1) => 1, (dim=100|id=641|\"Link,l=4\") <Out>\n",
       " 1: QN(\"Nf\",14,-1) => 3\n",
       " 2: QN(\"Nf\",15,-1) => 10\n",
       " 3: QN(\"Nf\",16,-1) => 24\n",
       " 4: QN(\"Nf\",17,-1) => 27\n",
       " 5: QN(\"Nf\",18,-1) => 23\n",
       " 6: QN(\"Nf\",19,-1) => 10\n",
       " 7: QN(\"Nf\",20,-1) => 3, (dim=58|id=679|\"Link,l=3\") <In>\n",
       " 1: QN(\"Nf\",15,-1) => 1\n",
       " 2: QN(\"Nf\",16,-1) => 6\n",
       " 3: QN(\"Nf\",17,-1) => 13\n",
       " 4: QN(\"Nf\",18,-1) => 18\n",
       " 5: QN(\"Nf\",19,-1) => 13\n",
       " 6: QN(\"Nf\",20,-1) => 6\n",
       " 7: QN(\"Nf\",21,-1) => 1)\n",
       "[5] ((dim=4|id=414|\"Electron,Site,n=5\") <Out>\n",
       " 1: QN(\"Nf\",0,-1) => 1\n",
       " 2: QN(\"Nf\",1,-1) => 2\n",
       " 3: QN(\"Nf\",2,-1) => 1, (dim=100|id=709|\"Link,l=5\") <Out>\n",
       " 1: QN(\"Nf\",13,-1) => 2\n",
       " 2: QN(\"Nf\",14,-1) => 11\n",
       " 3: QN(\"Nf\",15,-1) => 23\n",
       " 4: QN(\"Nf\",16,-1) => 28\n",
       " 5: QN(\"Nf\",17,-1) => 23\n",
       " 6: QN(\"Nf\",18,-1) => 11\n",
       " 7: QN(\"Nf\",19,-1) => 2, (dim=100|id=641|\"Link,l=4\") <In>\n",
       " 1: QN(\"Nf\",14,-1) => 3\n",
       " 2: QN(\"Nf\",15,-1) => 10\n",
       " 3: QN(\"Nf\",16,-1) => 24\n",
       " 4: QN(\"Nf\",17,-1) => 27\n",
       " 5: QN(\"Nf\",18,-1) => 23\n",
       " 6: QN(\"Nf\",19,-1) => 10\n",
       " 7: QN(\"Nf\",20,-1) => 3)\n",
       "[6] ((dim=4|id=957|\"Electron,Site,n=6\") <Out>\n",
       " 1: QN(\"Nf\",0,-1) => 1\n",
       " 2: QN(\"Nf\",1,-1) => 2\n",
       " 3: QN(\"Nf\",2,-1) => 1, (dim=100|id=599|\"Link,l=6\") <Out>\n",
       " 1: QN(\"Nf\",12,-1) => 2\n",
       " 2: QN(\"Nf\",13,-1) => 11\n",
       " 3: QN(\"Nf\",14,-1) => 23\n",
       " 4: QN(\"Nf\",15,-1) => 28\n",
       " 5: QN(\"Nf\",16,-1) => 22\n",
       " 6: QN(\"Nf\",17,-1) => 11\n",
       " 7: QN(\"Nf\",18,-1) => 3, (dim=100|id=709|\"Link,l=5\") <In>\n",
       " 1: QN(\"Nf\",13,-1) => 2\n",
       " 2: QN(\"Nf\",14,-1) => 11\n",
       " 3: QN(\"Nf\",15,-1) => 23\n",
       " 4: QN(\"Nf\",16,-1) => 28\n",
       " 5: QN(\"Nf\",17,-1) => 23\n",
       " 6: QN(\"Nf\",18,-1) => 11\n",
       " 7: QN(\"Nf\",19,-1) => 2)\n",
       "[7] ((dim=4|id=386|\"Electron,Site,n=7\") <Out>\n",
       " 1: QN(\"Nf\",0,-1) => 1\n",
       " 2: QN(\"Nf\",1,-1) => 2\n",
       " 3: QN(\"Nf\",2,-1) => 1, (dim=100|id=881|\"Link,l=7\") <Out>\n",
       " 1: QN(\"Nf\",11,-1) => 3\n",
       " 2: QN(\"Nf\",12,-1) => 11\n",
       " 3: QN(\"Nf\",13,-1) => 23\n",
       " 4: QN(\"Nf\",14,-1) => 28\n",
       " 5: QN(\"Nf\",15,-1) => 22\n",
       " 6: QN(\"Nf\",16,-1) => 11\n",
       " 7: QN(\"Nf\",17,-1) => 2, (dim=100|id=599|\"Link,l=6\") <In>\n",
       " 1: QN(\"Nf\",12,-1) => 2\n",
       " 2: QN(\"Nf\",13,-1) => 11\n",
       " 3: QN(\"Nf\",14,-1) => 23\n",
       " 4: QN(\"Nf\",15,-1) => 28\n",
       " 5: QN(\"Nf\",16,-1) => 22\n",
       " 6: QN(\"Nf\",17,-1) => 11\n",
       " 7: QN(\"Nf\",18,-1) => 3)\n",
       "[8] ((dim=4|id=841|\"Electron,Site,n=8\") <Out>\n",
       " 1: QN(\"Nf\",0,-1) => 1\n",
       " 2: QN(\"Nf\",1,-1) => 2\n",
       " 3: QN(\"Nf\",2,-1) => 1, (dim=100|id=958|\"Link,l=8\") <Out>\n",
       " 1: QN(\"Nf\",10,-1) => 3\n",
       " 2: QN(\"Nf\",11,-1) => 11\n",
       " 3: QN(\"Nf\",12,-1) => 23\n",
       " 4: QN(\"Nf\",13,-1) => 28\n",
       " 5: QN(\"Nf\",14,-1) => 22\n",
       " 6: QN(\"Nf\",15,-1) => 11\n",
       " 7: QN(\"Nf\",16,-1) => 2, (dim=100|id=881|\"Link,l=7\") <In>\n",
       " 1: QN(\"Nf\",11,-1) => 3\n",
       " 2: QN(\"Nf\",12,-1) => 11\n",
       " 3: QN(\"Nf\",13,-1) => 23\n",
       " 4: QN(\"Nf\",14,-1) => 28\n",
       " 5: QN(\"Nf\",15,-1) => 22\n",
       " 6: QN(\"Nf\",16,-1) => 11\n",
       " 7: QN(\"Nf\",17,-1) => 2)\n",
       "[9] ((dim=4|id=744|\"Electron,Site,n=9\") <Out>\n",
       " 1: QN(\"Nf\",0,-1) => 1\n",
       " 2: QN(\"Nf\",1,-1) => 2\n",
       " 3: QN(\"Nf\",2,-1) => 1, (dim=100|id=373|\"Link,l=9\") <Out>\n",
       " 1: QN(\"Nf\",9,-1) => 3\n",
       " 2: QN(\"Nf\",10,-1) => 11\n",
       " 3: QN(\"Nf\",11,-1) => 23\n",
       " 4: QN(\"Nf\",12,-1) => 28\n",
       " 5: QN(\"Nf\",13,-1) => 22\n",
       " 6: QN(\"Nf\",14,-1) => 11\n",
       " 7: QN(\"Nf\",15,-1) => 2, (dim=100|id=958|\"Link,l=8\") <In>\n",
       " 1: QN(\"Nf\",10,-1) => 3\n",
       " 2: QN(\"Nf\",11,-1) => 11\n",
       " 3: QN(\"Nf\",12,-1) => 23\n",
       " 4: QN(\"Nf\",13,-1) => 28\n",
       " 5: QN(\"Nf\",14,-1) => 22\n",
       " 6: QN(\"Nf\",15,-1) => 11\n",
       " 7: QN(\"Nf\",16,-1) => 2)\n",
       "[10] ((dim=4|id=477|\"Electron,Site,n=10\") <Out>\n",
       " 1: QN(\"Nf\",0,-1) => 1\n",
       " 2: QN(\"Nf\",1,-1) => 2\n",
       " 3: QN(\"Nf\",2,-1) => 1, (dim=100|id=365|\"Link,l=10\") <Out>\n",
       " 1: QN(\"Nf\",8,-1) => 3\n",
       " 2: QN(\"Nf\",9,-1) => 11\n",
       " 3: QN(\"Nf\",10,-1) => 23\n",
       " 4: QN(\"Nf\",11,-1) => 28\n",
       " 5: QN(\"Nf\",12,-1) => 22\n",
       " 6: QN(\"Nf\",13,-1) => 11\n",
       " 7: QN(\"Nf\",14,-1) => 2, (dim=100|id=373|\"Link,l=9\") <In>\n",
       " 1: QN(\"Nf\",9,-1) => 3\n",
       " 2: QN(\"Nf\",10,-1) => 11\n",
       " 3: QN(\"Nf\",11,-1) => 23\n",
       " 4: QN(\"Nf\",12,-1) => 28\n",
       " 5: QN(\"Nf\",13,-1) => 22\n",
       " 6: QN(\"Nf\",14,-1) => 11\n",
       " 7: QN(\"Nf\",15,-1) => 2)\n",
       "[11] ((dim=4|id=139|\"Electron,Site,n=11\") <Out>\n",
       " 1: QN(\"Nf\",0,-1) => 1\n",
       " 2: QN(\"Nf\",1,-1) => 2\n",
       " 3: QN(\"Nf\",2,-1) => 1, (dim=100|id=960|\"Link,l=11\") <Out>\n",
       " 1: QN(\"Nf\",7,-1) => 3\n",
       " 2: QN(\"Nf\",8,-1) => 11\n",
       " 3: QN(\"Nf\",9,-1) => 23\n",
       " 4: QN(\"Nf\",10,-1) => 28\n",
       " 5: QN(\"Nf\",11,-1) => 22\n",
       " 6: QN(\"Nf\",12,-1) => 11\n",
       " 7: QN(\"Nf\",13,-1) => 2, (dim=100|id=365|\"Link,l=10\") <In>\n",
       " 1: QN(\"Nf\",8,-1) => 3\n",
       " 2: QN(\"Nf\",9,-1) => 11\n",
       " 3: QN(\"Nf\",10,-1) => 23\n",
       " 4: QN(\"Nf\",11,-1) => 28\n",
       " 5: QN(\"Nf\",12,-1) => 22\n",
       " 6: QN(\"Nf\",13,-1) => 11\n",
       " 7: QN(\"Nf\",14,-1) => 2)\n",
       "[12] ((dim=4|id=421|\"Electron,Site,n=12\") <Out>\n",
       " 1: QN(\"Nf\",0,-1) => 1\n",
       " 2: QN(\"Nf\",1,-1) => 2\n",
       " 3: QN(\"Nf\",2,-1) => 1, (dim=100|id=374|\"Link,l=12\") <Out>\n",
       " 1: QN(\"Nf\",6,-1) => 2\n",
       " 2: QN(\"Nf\",7,-1) => 11\n",
       " 3: QN(\"Nf\",8,-1) => 22\n",
       " 4: QN(\"Nf\",9,-1) => 28\n",
       " 5: QN(\"Nf\",10,-1) => 24\n",
       " 6: QN(\"Nf\",11,-1) => 11\n",
       " 7: QN(\"Nf\",12,-1) => 2, (dim=100|id=960|\"Link,l=11\") <In>\n",
       " 1: QN(\"Nf\",7,-1) => 3\n",
       " 2: QN(\"Nf\",8,-1) => 11\n",
       " 3: QN(\"Nf\",9,-1) => 23\n",
       " 4: QN(\"Nf\",10,-1) => 28\n",
       " 5: QN(\"Nf\",11,-1) => 22\n",
       " 6: QN(\"Nf\",12,-1) => 11\n",
       " 7: QN(\"Nf\",13,-1) => 2)\n",
       "[13] ((dim=4|id=738|\"Electron,Site,n=13\") <Out>\n",
       " 1: QN(\"Nf\",0,-1) => 1\n",
       " 2: QN(\"Nf\",1,-1) => 2\n",
       " 3: QN(\"Nf\",2,-1) => 1, (dim=100|id=195|\"Link,l=13\") <Out>\n",
       " 1: QN(\"Nf\",5,-1) => 3\n",
       " 2: QN(\"Nf\",6,-1) => 11\n",
       " 3: QN(\"Nf\",7,-1) => 22\n",
       " 4: QN(\"Nf\",8,-1) => 28\n",
       " 5: QN(\"Nf\",9,-1) => 22\n",
       " 6: QN(\"Nf\",10,-1) => 11\n",
       " 7: QN(\"Nf\",11,-1) => 3, (dim=100|id=374|\"Link,l=12\") <In>\n",
       " 1: QN(\"Nf\",6,-1) => 2\n",
       " 2: QN(\"Nf\",7,-1) => 11\n",
       " 3: QN(\"Nf\",8,-1) => 22\n",
       " 4: QN(\"Nf\",9,-1) => 28\n",
       " 5: QN(\"Nf\",10,-1) => 24\n",
       " 6: QN(\"Nf\",11,-1) => 11\n",
       " 7: QN(\"Nf\",12,-1) => 2)\n",
       "[14] ((dim=4|id=237|\"Electron,Site,n=14\") <Out>\n",
       " 1: QN(\"Nf\",0,-1) => 1\n",
       " 2: QN(\"Nf\",1,-1) => 2\n",
       " 3: QN(\"Nf\",2,-1) => 1, (dim=100|id=635|\"Link,l=14\") <Out>\n",
       " 1: QN(\"Nf\",4,-1) => 3\n",
       " 2: QN(\"Nf\",5,-1) => 11\n",
       " 3: QN(\"Nf\",6,-1) => 22\n",
       " 4: QN(\"Nf\",7,-1) => 28\n",
       " 5: QN(\"Nf\",8,-1) => 22\n",
       " 6: QN(\"Nf\",9,-1) => 11\n",
       " 7: QN(\"Nf\",10,-1) => 3, (dim=100|id=195|\"Link,l=13\") <In>\n",
       " 1: QN(\"Nf\",5,-1) => 3\n",
       " 2: QN(\"Nf\",6,-1) => 11\n",
       " 3: QN(\"Nf\",7,-1) => 22\n",
       " 4: QN(\"Nf\",8,-1) => 28\n",
       " 5: QN(\"Nf\",9,-1) => 22\n",
       " 6: QN(\"Nf\",10,-1) => 11\n",
       " 7: QN(\"Nf\",11,-1) => 3)\n",
       "[15] ((dim=4|id=525|\"Electron,Site,n=15\") <Out>\n",
       " 1: QN(\"Nf\",0,-1) => 1\n",
       " 2: QN(\"Nf\",1,-1) => 2\n",
       " 3: QN(\"Nf\",2,-1) => 1, (dim=100|id=884|\"Link,l=15\") <Out>\n",
       " 1: QN(\"Nf\",3,-1) => 3\n",
       " 2: QN(\"Nf\",4,-1) => 11\n",
       " 3: QN(\"Nf\",5,-1) => 22\n",
       " 4: QN(\"Nf\",6,-1) => 28\n",
       " 5: QN(\"Nf\",7,-1) => 22\n",
       " 6: QN(\"Nf\",8,-1) => 11\n",
       " 7: QN(\"Nf\",9,-1) => 3, (dim=100|id=635|\"Link,l=14\") <In>\n",
       " 1: QN(\"Nf\",4,-1) => 3\n",
       " 2: QN(\"Nf\",5,-1) => 11\n",
       " 3: QN(\"Nf\",6,-1) => 22\n",
       " 4: QN(\"Nf\",7,-1) => 28\n",
       " 5: QN(\"Nf\",8,-1) => 22\n",
       " 6: QN(\"Nf\",9,-1) => 11\n",
       " 7: QN(\"Nf\",10,-1) => 3)\n",
       "[16] ((dim=4|id=934|\"Electron,Site,n=16\") <Out>\n",
       " 1: QN(\"Nf\",0,-1) => 1\n",
       " 2: QN(\"Nf\",1,-1) => 2\n",
       " 3: QN(\"Nf\",2,-1) => 1, (dim=100|id=297|\"Link,l=16\") <Out>\n",
       " 1: QN(\"Nf\",2,-1) => 3\n",
       " 2: QN(\"Nf\",3,-1) => 11\n",
       " 3: QN(\"Nf\",4,-1) => 23\n",
       " 4: QN(\"Nf\",5,-1) => 28\n",
       " 5: QN(\"Nf\",6,-1) => 22\n",
       " 6: QN(\"Nf\",7,-1) => 11\n",
       " 7: QN(\"Nf\",8,-1) => 2, (dim=100|id=884|\"Link,l=15\") <In>\n",
       " 1: QN(\"Nf\",3,-1) => 3\n",
       " 2: QN(\"Nf\",4,-1) => 11\n",
       " 3: QN(\"Nf\",5,-1) => 22\n",
       " 4: QN(\"Nf\",6,-1) => 28\n",
       " 5: QN(\"Nf\",7,-1) => 22\n",
       " 6: QN(\"Nf\",8,-1) => 11\n",
       " 7: QN(\"Nf\",9,-1) => 3)\n",
       "[17] ((dim=4|id=185|\"Electron,Site,n=17\") <Out>\n",
       " 1: QN(\"Nf\",0,-1) => 1\n",
       " 2: QN(\"Nf\",1,-1) => 2\n",
       " 3: QN(\"Nf\",2,-1) => 1, (dim=100|id=36|\"Link,l=17\") <Out>\n",
       " 1: QN(\"Nf\",1,-1) => 3\n",
       " 2: QN(\"Nf\",2,-1) => 10\n",
       " 3: QN(\"Nf\",3,-1) => 23\n",
       " 4: QN(\"Nf\",4,-1) => 27\n",
       " 5: QN(\"Nf\",5,-1) => 24\n",
       " 6: QN(\"Nf\",6,-1) => 10\n",
       " 7: QN(\"Nf\",7,-1) => 3, (dim=100|id=297|\"Link,l=16\") <In>\n",
       " 1: QN(\"Nf\",2,-1) => 3\n",
       " 2: QN(\"Nf\",3,-1) => 11\n",
       " 3: QN(\"Nf\",4,-1) => 23\n",
       " 4: QN(\"Nf\",5,-1) => 28\n",
       " 5: QN(\"Nf\",6,-1) => 22\n",
       " 6: QN(\"Nf\",7,-1) => 11\n",
       " 7: QN(\"Nf\",8,-1) => 2)\n",
       "[18] ((dim=4|id=153|\"Electron,Site,n=18\") <Out>\n",
       " 1: QN(\"Nf\",0,-1) => 1\n",
       " 2: QN(\"Nf\",1,-1) => 2\n",
       " 3: QN(\"Nf\",2,-1) => 1, (dim=58|id=734|\"Link,l=18\") <Out>\n",
       " 1: QN(\"Nf\",0,-1) => 1\n",
       " 2: QN(\"Nf\",1,-1) => 6\n",
       " 3: QN(\"Nf\",2,-1) => 13\n",
       " 4: QN(\"Nf\",3,-1) => 18\n",
       " 5: QN(\"Nf\",4,-1) => 13\n",
       " 6: QN(\"Nf\",5,-1) => 6\n",
       " 7: QN(\"Nf\",6,-1) => 1, (dim=100|id=36|\"Link,l=17\") <In>\n",
       " 1: QN(\"Nf\",1,-1) => 3\n",
       " 2: QN(\"Nf\",2,-1) => 10\n",
       " 3: QN(\"Nf\",3,-1) => 23\n",
       " 4: QN(\"Nf\",4,-1) => 27\n",
       " 5: QN(\"Nf\",5,-1) => 24\n",
       " 6: QN(\"Nf\",6,-1) => 10\n",
       " 7: QN(\"Nf\",7,-1) => 3)\n",
       "[19] ((dim=4|id=531|\"Electron,Site,n=19\") <Out>\n",
       " 1: QN(\"Nf\",0,-1) => 1\n",
       " 2: QN(\"Nf\",1,-1) => 2\n",
       " 3: QN(\"Nf\",2,-1) => 1, (dim=16|id=865|\"Link,l=19\") <Out>\n",
       " 1: QN(\"Nf\",0,-1) => 1\n",
       " 2: QN(\"Nf\",1,-1) => 4\n",
       " 3: QN(\"Nf\",2,-1) => 6\n",
       " 4: QN(\"Nf\",3,-1) => 4\n",
       " 5: QN(\"Nf\",4,-1) => 1, (dim=58|id=734|\"Link,l=18\") <In>\n",
       " 1: QN(\"Nf\",0,-1) => 1\n",
       " 2: QN(\"Nf\",1,-1) => 6\n",
       " 3: QN(\"Nf\",2,-1) => 13\n",
       " 4: QN(\"Nf\",3,-1) => 18\n",
       " 5: QN(\"Nf\",4,-1) => 13\n",
       " 6: QN(\"Nf\",5,-1) => 6\n",
       " 7: QN(\"Nf\",6,-1) => 1)\n",
       "[20] ((dim=4|id=135|\"Electron,Site,n=20\") <Out>\n",
       " 1: QN(\"Nf\",0,-1) => 1\n",
       " 2: QN(\"Nf\",1,-1) => 2\n",
       " 3: QN(\"Nf\",2,-1) => 1, (dim=4|id=840|\"Link,l=20\") <Out>\n",
       " 1: QN(\"Nf\",0,-1) => 1\n",
       " 2: QN(\"Nf\",1,-1) => 2\n",
       " 3: QN(\"Nf\",2,-1) => 1, (dim=16|id=865|\"Link,l=19\") <In>\n",
       " 1: QN(\"Nf\",0,-1) => 1\n",
       " 2: QN(\"Nf\",1,-1) => 4\n",
       " 3: QN(\"Nf\",2,-1) => 6\n",
       " 4: QN(\"Nf\",3,-1) => 4\n",
       " 5: QN(\"Nf\",4,-1) => 1)\n",
       "[21] ((dim=4|id=284|\"Electron,Site,n=21\") <Out>\n",
       " 1: QN(\"Nf\",0,-1) => 1\n",
       " 2: QN(\"Nf\",1,-1) => 2\n",
       " 3: QN(\"Nf\",2,-1) => 1, (dim=4|id=840|\"Link,l=20\") <In>\n",
       " 1: QN(\"Nf\",0,-1) => 1\n",
       " 2: QN(\"Nf\",1,-1) => 2\n",
       " 3: QN(\"Nf\",2,-1) => 1)\n",
       ")"
      ]
     },
     "metadata": {},
     "output_type": "display_data"
    }
   ],
   "source": [
    "H = Hubbard_Hamiltonian(siteinds(psi0),U)\n",
    "E1, psi1 = dmrg(H,[psi0],psi0;nsweeps=30,maxdim=100,cutoff=1E-8)"
   ]
  },
  {
   "cell_type": "code",
   "execution_count": 304,
   "metadata": {},
   "outputs": [
    {
     "name": "stdout",
     "output_type": "stream",
     "text": [
      "After sweep 1 energy=-25.674662918782573  maxlinkdim=100 maxerr=1.89E-05 time=1.821\n"
     ]
    },
    {
     "name": "stdout",
     "output_type": "stream",
     "text": [
      "After sweep 2 energy=-25.67861974563955  maxlinkdim=100 maxerr=1.46E-05 time=1.886\n"
     ]
    },
    {
     "name": "stdout",
     "output_type": "stream",
     "text": [
      "After sweep 3 energy=-25.67862389648693  maxlinkdim=100 maxerr=1.11E-05 time=1.975\n"
     ]
    },
    {
     "name": "stdout",
     "output_type": "stream",
     "text": [
      "After sweep 4 energy=-25.678623919975756  maxlinkdim=100 maxerr=1.11E-05 time=1.947\n"
     ]
    },
    {
     "name": "stdout",
     "output_type": "stream",
     "text": [
      "After sweep 5 energy=-25.678622603147268  maxlinkdim=100 maxerr=1.11E-05 time=1.795\n"
     ]
    },
    {
     "name": "stdout",
     "output_type": "stream",
     "text": [
      "After sweep 6 energy=-25.678624189702763  maxlinkdim=100 maxerr=1.11E-05 time=2.020\n"
     ]
    },
    {
     "name": "stdout",
     "output_type": "stream",
     "text": [
      "After sweep 7 energy=-25.678624198631162  maxlinkdim=100 maxerr=1.11E-05 time=2.067\n"
     ]
    },
    {
     "name": "stdout",
     "output_type": "stream",
     "text": [
      "After sweep 8 energy=-25.678624208006475  maxlinkdim=100 maxerr=1.11E-05 time=1.903\n"
     ]
    },
    {
     "name": "stdout",
     "output_type": "stream",
     "text": [
      "After sweep 9 energy=-25.67862421718891  maxlinkdim=100 maxerr=1.11E-05 time=2.001\n"
     ]
    },
    {
     "name": "stdout",
     "output_type": "stream",
     "text": [
      "After sweep 10 energy=-25.67862423925434  maxlinkdim=100 maxerr=1.11E-05 time=2.009\n"
     ]
    },
    {
     "name": "stdout",
     "output_type": "stream",
     "text": [
      "After sweep 11 energy=-25.678624242315543  maxlinkdim=100 maxerr=1.11E-05 time=2.063\n"
     ]
    },
    {
     "name": "stdout",
     "output_type": "stream",
     "text": [
      "After sweep 12 energy=-25.678624251178338  maxlinkdim=100 maxerr=1.11E-05 time=1.869\n"
     ]
    },
    {
     "name": "stdout",
     "output_type": "stream",
     "text": [
      "After sweep 13 energy=-25.678624259899124  maxlinkdim=100 maxerr=1.11E-05 time=2.029\n"
     ]
    },
    {
     "name": "stdout",
     "output_type": "stream",
     "text": [
      "After sweep 14 energy=-25.678624268449603  maxlinkdim=100 maxerr=1.11E-05 time=2.087\n"
     ]
    },
    {
     "name": "stdout",
     "output_type": "stream",
     "text": [
      "After sweep 15 energy=-25.678624276833155  maxlinkdim=100 maxerr=1.11E-05 time=2.033\n"
     ]
    },
    {
     "name": "stdout",
     "output_type": "stream",
     "text": [
      "After sweep 16 energy=-25.678624285052816  maxlinkdim=100 maxerr=1.11E-05 time=1.862\n"
     ]
    },
    {
     "name": "stdout",
     "output_type": "stream",
     "text": [
      "After sweep 17 energy=-25.678624293369545  maxlinkdim=100 maxerr=1.11E-05 time=2.021\n"
     ]
    },
    {
     "name": "stdout",
     "output_type": "stream",
     "text": [
      "After sweep 18 energy=-25.678624300090604  maxlinkdim=100 maxerr=1.11E-05 time=2.081\n"
     ]
    },
    {
     "name": "stdout",
     "output_type": "stream",
     "text": [
      "After sweep 19 energy=-25.678624307833797  maxlinkdim=100 maxerr=1.11E-05 time=2.378\n"
     ]
    },
    {
     "name": "stdout",
     "output_type": "stream",
     "text": [
      "After sweep 20 energy=-25.67862431542294  maxlinkdim=100 maxerr=1.11E-05 time=2.366\n"
     ]
    },
    {
     "name": "stdout",
     "output_type": "stream",
     "text": [
      "After sweep 21 energy=-25.678624322863012  maxlinkdim=100 maxerr=1.11E-05 time=2.192\n"
     ]
    },
    {
     "name": "stdout",
     "output_type": "stream",
     "text": [
      "After sweep 22 energy=-25.67862433015669  maxlinkdim=100 maxerr=1.11E-05 time=2.123\n"
     ]
    },
    {
     "name": "stdout",
     "output_type": "stream",
     "text": [
      "After sweep 23 energy=-25.678624344588474  maxlinkdim=100 maxerr=1.11E-05 time=2.160\n"
     ]
    },
    {
     "name": "stdout",
     "output_type": "stream",
     "text": [
      "After sweep 24 energy=-25.678622774647827  maxlinkdim=100 maxerr=1.11E-05 time=1.911\n"
     ]
    },
    {
     "name": "stdout",
     "output_type": "stream",
     "text": [
      "After sweep 25 energy=-25.678624085678436  maxlinkdim=100 maxerr=1.11E-05 time=2.027\n"
     ]
    },
    {
     "name": "stdout",
     "output_type": "stream",
     "text": [
      "After sweep 26 energy=-25.678624092944666  maxlinkdim=100 maxerr=1.11E-05 time=2.098\n"
     ]
    },
    {
     "name": "stdout",
     "output_type": "stream",
     "text": [
      "After sweep 27 energy=-25.678624137292164  maxlinkdim=100 maxerr=1.11E-05 time=2.026\n"
     ]
    },
    {
     "name": "stdout",
     "output_type": "stream",
     "text": [
      "After sweep 28 energy=-25.678624144150504  maxlinkdim=100 maxerr=1.11E-05 time=1.842\n"
     ]
    },
    {
     "name": "stdout",
     "output_type": "stream",
     "text": [
      "After sweep 29 energy=-25.678624151017132  maxlinkdim=100 maxerr=1.11E-05 time=2.036\n"
     ]
    },
    {
     "name": "stdout",
     "output_type": "stream",
     "text": [
      "After sweep 30 energy=-25.678624157620803  maxlinkdim=100 maxerr=1.11E-05 time=2.023\n"
     ]
    },
    {
     "data": {
      "text/plain": [
       "(-25.678624157620803, MPS\n",
       "[1] ((dim=4|id=774|\"Link,l=1\") <Out>\n",
       " 1: QN(\"Nf\",19,-1) => 1\n",
       " 2: QN(\"Nf\",20,-1) => 2\n",
       " 3: QN(\"Nf\",21,-1) => 1, (dim=4|id=146|\"Electron,Site,n=1\") <Out>\n",
       " 1: QN(\"Nf\",0,-1) => 1\n",
       " 2: QN(\"Nf\",1,-1) => 2\n",
       " 3: QN(\"Nf\",2,-1) => 1)\n",
       "[2] ((dim=16|id=650|\"Link,l=2\") <Out>\n",
       " 1: QN(\"Nf\",17,-1) => 1\n",
       " 2: QN(\"Nf\",18,-1) => 4\n",
       " 3: QN(\"Nf\",19,-1) => 6\n",
       " 4: QN(\"Nf\",20,-1) => 4\n",
       " 5: QN(\"Nf\",21,-1) => 1, (dim=4|id=241|\"Electron,Site,n=2\") <Out>\n",
       " 1: QN(\"Nf\",0,-1) => 1\n",
       " 2: QN(\"Nf\",1,-1) => 2\n",
       " 3: QN(\"Nf\",2,-1) => 1, (dim=4|id=774|\"Link,l=1\") <In>\n",
       " 1: QN(\"Nf\",19,-1) => 1\n",
       " 2: QN(\"Nf\",20,-1) => 2\n",
       " 3: QN(\"Nf\",21,-1) => 1)\n",
       "[3] ((dim=4|id=938|\"Electron,Site,n=3\") <Out>\n",
       " 1: QN(\"Nf\",0,-1) => 1\n",
       " 2: QN(\"Nf\",1,-1) => 2\n",
       " 3: QN(\"Nf\",2,-1) => 1, (dim=60|id=665|\"Link,l=3\") <Out>\n",
       " 1: QN(\"Nf\",15,-1) => 1\n",
       " 2: QN(\"Nf\",16,-1) => 6\n",
       " 3: QN(\"Nf\",17,-1) => 14\n",
       " 4: QN(\"Nf\",18,-1) => 18\n",
       " 5: QN(\"Nf\",19,-1) => 14\n",
       " 6: QN(\"Nf\",20,-1) => 6\n",
       " 7: QN(\"Nf\",21,-1) => 1, (dim=16|id=650|\"Link,l=2\") <In>\n",
       " 1: QN(\"Nf\",17,-1) => 1\n",
       " 2: QN(\"Nf\",18,-1) => 4\n",
       " 3: QN(\"Nf\",19,-1) => 6\n",
       " 4: QN(\"Nf\",20,-1) => 4\n",
       " 5: QN(\"Nf\",21,-1) => 1)\n",
       "[4] ((dim=4|id=902|\"Electron,Site,n=4\") <Out>\n",
       " 1: QN(\"Nf\",0,-1) => 1\n",
       " 2: QN(\"Nf\",1,-1) => 2\n",
       " 3: QN(\"Nf\",2,-1) => 1, (dim=100|id=755|\"Link,l=4\") <Out>\n",
       " 1: QN(\"Nf\",14,-1) => 3\n",
       " 2: QN(\"Nf\",15,-1) => 10\n",
       " 3: QN(\"Nf\",16,-1) => 23\n",
       " 4: QN(\"Nf\",17,-1) => 29\n",
       " 5: QN(\"Nf\",18,-1) => 23\n",
       " 6: QN(\"Nf\",19,-1) => 10\n",
       " 7: QN(\"Nf\",20,-1) => 2, (dim=60|id=665|\"Link,l=3\") <In>\n",
       " 1: QN(\"Nf\",15,-1) => 1\n",
       " 2: QN(\"Nf\",16,-1) => 6\n",
       " 3: QN(\"Nf\",17,-1) => 14\n",
       " 4: QN(\"Nf\",18,-1) => 18\n",
       " 5: QN(\"Nf\",19,-1) => 14\n",
       " 6: QN(\"Nf\",20,-1) => 6\n",
       " 7: QN(\"Nf\",21,-1) => 1)\n",
       "[5] ((dim=4|id=414|\"Electron,Site,n=5\") <Out>\n",
       " 1: QN(\"Nf\",0,-1) => 1\n",
       " 2: QN(\"Nf\",1,-1) => 2\n",
       " 3: QN(\"Nf\",2,-1) => 1, (dim=100|id=385|\"Link,l=5\") <Out>\n",
       " 1: QN(\"Nf\",13,-1) => 3\n",
       " 2: QN(\"Nf\",14,-1) => 10\n",
       " 3: QN(\"Nf\",15,-1) => 23\n",
       " 4: QN(\"Nf\",16,-1) => 27\n",
       " 5: QN(\"Nf\",17,-1) => 23\n",
       " 6: QN(\"Nf\",18,-1) => 11\n",
       " 7: QN(\"Nf\",19,-1) => 3, (dim=100|id=755|\"Link,l=4\") <In>\n",
       " 1: QN(\"Nf\",14,-1) => 3\n",
       " 2: QN(\"Nf\",15,-1) => 10\n",
       " 3: QN(\"Nf\",16,-1) => 23\n",
       " 4: QN(\"Nf\",17,-1) => 29\n",
       " 5: QN(\"Nf\",18,-1) => 23\n",
       " 6: QN(\"Nf\",19,-1) => 10\n",
       " 7: QN(\"Nf\",20,-1) => 2)\n",
       "[6] ((dim=4|id=957|\"Electron,Site,n=6\") <Out>\n",
       " 1: QN(\"Nf\",0,-1) => 1\n",
       " 2: QN(\"Nf\",1,-1) => 2\n",
       " 3: QN(\"Nf\",2,-1) => 1, (dim=100|id=492|\"Link,l=6\") <Out>\n",
       " 1: QN(\"Nf\",12,-1) => 2\n",
       " 2: QN(\"Nf\",13,-1) => 11\n",
       " 3: QN(\"Nf\",14,-1) => 23\n",
       " 4: QN(\"Nf\",15,-1) => 29\n",
       " 5: QN(\"Nf\",16,-1) => 22\n",
       " 6: QN(\"Nf\",17,-1) => 11\n",
       " 7: QN(\"Nf\",18,-1) => 2, (dim=100|id=385|\"Link,l=5\") <In>\n",
       " 1: QN(\"Nf\",13,-1) => 3\n",
       " 2: QN(\"Nf\",14,-1) => 10\n",
       " 3: QN(\"Nf\",15,-1) => 23\n",
       " 4: QN(\"Nf\",16,-1) => 27\n",
       " 5: QN(\"Nf\",17,-1) => 23\n",
       " 6: QN(\"Nf\",18,-1) => 11\n",
       " 7: QN(\"Nf\",19,-1) => 3)\n",
       "[7] ((dim=4|id=386|\"Electron,Site,n=7\") <Out>\n",
       " 1: QN(\"Nf\",0,-1) => 1\n",
       " 2: QN(\"Nf\",1,-1) => 2\n",
       " 3: QN(\"Nf\",2,-1) => 1, (dim=100|id=592|\"Link,l=7\") <Out>\n",
       " 1: QN(\"Nf\",11,-1) => 3\n",
       " 2: QN(\"Nf\",12,-1) => 10\n",
       " 3: QN(\"Nf\",13,-1) => 22\n",
       " 4: QN(\"Nf\",14,-1) => 29\n",
       " 5: QN(\"Nf\",15,-1) => 22\n",
       " 6: QN(\"Nf\",16,-1) => 11\n",
       " 7: QN(\"Nf\",17,-1) => 3, (dim=100|id=492|\"Link,l=6\") <In>\n",
       " 1: QN(\"Nf\",12,-1) => 2\n",
       " 2: QN(\"Nf\",13,-1) => 11\n",
       " 3: QN(\"Nf\",14,-1) => 23\n",
       " 4: QN(\"Nf\",15,-1) => 29\n",
       " 5: QN(\"Nf\",16,-1) => 22\n",
       " 6: QN(\"Nf\",17,-1) => 11\n",
       " 7: QN(\"Nf\",18,-1) => 2)\n",
       "[8] ((dim=4|id=841|\"Electron,Site,n=8\") <Out>\n",
       " 1: QN(\"Nf\",0,-1) => 1\n",
       " 2: QN(\"Nf\",1,-1) => 2\n",
       " 3: QN(\"Nf\",2,-1) => 1, (dim=100|id=157|\"Link,l=8\") <Out>\n",
       " 1: QN(\"Nf\",10,-1) => 2\n",
       " 2: QN(\"Nf\",11,-1) => 10\n",
       " 3: QN(\"Nf\",12,-1) => 23\n",
       " 4: QN(\"Nf\",13,-1) => 29\n",
       " 5: QN(\"Nf\",14,-1) => 24\n",
       " 6: QN(\"Nf\",15,-1) => 10\n",
       " 7: QN(\"Nf\",16,-1) => 2, (dim=100|id=592|\"Link,l=7\") <In>\n",
       " 1: QN(\"Nf\",11,-1) => 3\n",
       " 2: QN(\"Nf\",12,-1) => 10\n",
       " 3: QN(\"Nf\",13,-1) => 22\n",
       " 4: QN(\"Nf\",14,-1) => 29\n",
       " 5: QN(\"Nf\",15,-1) => 22\n",
       " 6: QN(\"Nf\",16,-1) => 11\n",
       " 7: QN(\"Nf\",17,-1) => 3)\n",
       "[9] ((dim=4|id=744|\"Electron,Site,n=9\") <Out>\n",
       " 1: QN(\"Nf\",0,-1) => 1\n",
       " 2: QN(\"Nf\",1,-1) => 2\n",
       " 3: QN(\"Nf\",2,-1) => 1, (dim=100|id=671|\"Link,l=9\") <Out>\n",
       " 1: QN(\"Nf\",9,-1) => 3\n",
       " 2: QN(\"Nf\",10,-1) => 10\n",
       " 3: QN(\"Nf\",11,-1) => 23\n",
       " 4: QN(\"Nf\",12,-1) => 28\n",
       " 5: QN(\"Nf\",13,-1) => 23\n",
       " 6: QN(\"Nf\",14,-1) => 10\n",
       " 7: QN(\"Nf\",15,-1) => 3, (dim=100|id=157|\"Link,l=8\") <In>\n",
       " 1: QN(\"Nf\",10,-1) => 2\n",
       " 2: QN(\"Nf\",11,-1) => 10\n",
       " 3: QN(\"Nf\",12,-1) => 23\n",
       " 4: QN(\"Nf\",13,-1) => 29\n",
       " 5: QN(\"Nf\",14,-1) => 24\n",
       " 6: QN(\"Nf\",15,-1) => 10\n",
       " 7: QN(\"Nf\",16,-1) => 2)\n",
       "[10] ((dim=4|id=477|\"Electron,Site,n=10\") <Out>\n",
       " 1: QN(\"Nf\",0,-1) => 1\n",
       " 2: QN(\"Nf\",1,-1) => 2\n",
       " 3: QN(\"Nf\",2,-1) => 1, (dim=100|id=468|\"Link,l=10\") <Out>\n",
       " 1: QN(\"Nf\",8,-1) => 3\n",
       " 2: QN(\"Nf\",9,-1) => 10\n",
       " 3: QN(\"Nf\",10,-1) => 24\n",
       " 4: QN(\"Nf\",11,-1) => 27\n",
       " 5: QN(\"Nf\",12,-1) => 24\n",
       " 6: QN(\"Nf\",13,-1) => 10\n",
       " 7: QN(\"Nf\",14,-1) => 2, (dim=100|id=671|\"Link,l=9\") <In>\n",
       " 1: QN(\"Nf\",9,-1) => 3\n",
       " 2: QN(\"Nf\",10,-1) => 10\n",
       " 3: QN(\"Nf\",11,-1) => 23\n",
       " 4: QN(\"Nf\",12,-1) => 28\n",
       " 5: QN(\"Nf\",13,-1) => 23\n",
       " 6: QN(\"Nf\",14,-1) => 10\n",
       " 7: QN(\"Nf\",15,-1) => 3)\n",
       "[11] ((dim=4|id=139|\"Electron,Site,n=11\") <Out>\n",
       " 1: QN(\"Nf\",0,-1) => 1\n",
       " 2: QN(\"Nf\",1,-1) => 2\n",
       " 3: QN(\"Nf\",2,-1) => 1, (dim=100|id=299|\"Link,l=11\") <Out>\n",
       " 1: QN(\"Nf\",7,-1) => 2\n",
       " 2: QN(\"Nf\",8,-1) => 10\n",
       " 3: QN(\"Nf\",9,-1) => 24\n",
       " 4: QN(\"Nf\",10,-1) => 27\n",
       " 5: QN(\"Nf\",11,-1) => 24\n",
       " 6: QN(\"Nf\",12,-1) => 10\n",
       " 7: QN(\"Nf\",13,-1) => 3, (dim=100|id=468|\"Link,l=10\") <In>\n",
       " 1: QN(\"Nf\",8,-1) => 3\n",
       " 2: QN(\"Nf\",9,-1) => 10\n",
       " 3: QN(\"Nf\",10,-1) => 24\n",
       " 4: QN(\"Nf\",11,-1) => 27\n",
       " 5: QN(\"Nf\",12,-1) => 24\n",
       " 6: QN(\"Nf\",13,-1) => 10\n",
       " 7: QN(\"Nf\",14,-1) => 2)\n",
       "[12] ((dim=4|id=421|\"Electron,Site,n=12\") <Out>\n",
       " 1: QN(\"Nf\",0,-1) => 1\n",
       " 2: QN(\"Nf\",1,-1) => 2\n",
       " 3: QN(\"Nf\",2,-1) => 1, (dim=100|id=54|\"Link,l=12\") <Out>\n",
       " 1: QN(\"Nf\",6,-1) => 3\n",
       " 2: QN(\"Nf\",7,-1) => 10\n",
       " 3: QN(\"Nf\",8,-1) => 23\n",
       " 4: QN(\"Nf\",9,-1) => 28\n",
       " 5: QN(\"Nf\",10,-1) => 23\n",
       " 6: QN(\"Nf\",11,-1) => 10\n",
       " 7: QN(\"Nf\",12,-1) => 3, (dim=100|id=299|\"Link,l=11\") <In>\n",
       " 1: QN(\"Nf\",7,-1) => 2\n",
       " 2: QN(\"Nf\",8,-1) => 10\n",
       " 3: QN(\"Nf\",9,-1) => 24\n",
       " 4: QN(\"Nf\",10,-1) => 27\n",
       " 5: QN(\"Nf\",11,-1) => 24\n",
       " 6: QN(\"Nf\",12,-1) => 10\n",
       " 7: QN(\"Nf\",13,-1) => 3)\n",
       "[13] ((dim=4|id=738|\"Electron,Site,n=13\") <Out>\n",
       " 1: QN(\"Nf\",0,-1) => 1\n",
       " 2: QN(\"Nf\",1,-1) => 2\n",
       " 3: QN(\"Nf\",2,-1) => 1, (dim=100|id=885|\"Link,l=13\") <Out>\n",
       " 1: QN(\"Nf\",5,-1) => 2\n",
       " 2: QN(\"Nf\",6,-1) => 10\n",
       " 3: QN(\"Nf\",7,-1) => 23\n",
       " 4: QN(\"Nf\",8,-1) => 29\n",
       " 5: QN(\"Nf\",9,-1) => 24\n",
       " 6: QN(\"Nf\",10,-1) => 10\n",
       " 7: QN(\"Nf\",11,-1) => 2, (dim=100|id=54|\"Link,l=12\") <In>\n",
       " 1: QN(\"Nf\",6,-1) => 3\n",
       " 2: QN(\"Nf\",7,-1) => 10\n",
       " 3: QN(\"Nf\",8,-1) => 23\n",
       " 4: QN(\"Nf\",9,-1) => 28\n",
       " 5: QN(\"Nf\",10,-1) => 23\n",
       " 6: QN(\"Nf\",11,-1) => 10\n",
       " 7: QN(\"Nf\",12,-1) => 3)\n",
       "[14] ((dim=4|id=237|\"Electron,Site,n=14\") <Out>\n",
       " 1: QN(\"Nf\",0,-1) => 1\n",
       " 2: QN(\"Nf\",1,-1) => 2\n",
       " 3: QN(\"Nf\",2,-1) => 1, (dim=100|id=941|\"Link,l=14\") <Out>\n",
       " 1: QN(\"Nf\",4,-1) => 3\n",
       " 2: QN(\"Nf\",5,-1) => 11\n",
       " 3: QN(\"Nf\",6,-1) => 23\n",
       " 4: QN(\"Nf\",7,-1) => 28\n",
       " 5: QN(\"Nf\",8,-1) => 22\n",
       " 6: QN(\"Nf\",9,-1) => 10\n",
       " 7: QN(\"Nf\",10,-1) => 3, (dim=100|id=885|\"Link,l=13\") <In>\n",
       " 1: QN(\"Nf\",5,-1) => 2\n",
       " 2: QN(\"Nf\",6,-1) => 10\n",
       " 3: QN(\"Nf\",7,-1) => 23\n",
       " 4: QN(\"Nf\",8,-1) => 29\n",
       " 5: QN(\"Nf\",9,-1) => 24\n",
       " 6: QN(\"Nf\",10,-1) => 10\n",
       " 7: QN(\"Nf\",11,-1) => 2)\n",
       "[15] ((dim=4|id=525|\"Electron,Site,n=15\") <Out>\n",
       " 1: QN(\"Nf\",0,-1) => 1\n",
       " 2: QN(\"Nf\",1,-1) => 2\n",
       " 3: QN(\"Nf\",2,-1) => 1, (dim=100|id=983|\"Link,l=15\") <Out>\n",
       " 1: QN(\"Nf\",3,-1) => 2\n",
       " 2: QN(\"Nf\",4,-1) => 11\n",
       " 3: QN(\"Nf\",5,-1) => 22\n",
       " 4: QN(\"Nf\",6,-1) => 29\n",
       " 5: QN(\"Nf\",7,-1) => 23\n",
       " 6: QN(\"Nf\",8,-1) => 11\n",
       " 7: QN(\"Nf\",9,-1) => 2, (dim=100|id=941|\"Link,l=14\") <In>\n",
       " 1: QN(\"Nf\",4,-1) => 3\n",
       " 2: QN(\"Nf\",5,-1) => 11\n",
       " 3: QN(\"Nf\",6,-1) => 23\n",
       " 4: QN(\"Nf\",7,-1) => 28\n",
       " 5: QN(\"Nf\",8,-1) => 22\n",
       " 6: QN(\"Nf\",9,-1) => 10\n",
       " 7: QN(\"Nf\",10,-1) => 3)\n",
       "[16] ((dim=4|id=934|\"Electron,Site,n=16\") <Out>\n",
       " 1: QN(\"Nf\",0,-1) => 1\n",
       " 2: QN(\"Nf\",1,-1) => 2\n",
       " 3: QN(\"Nf\",2,-1) => 1, (dim=100|id=913|\"Link,l=16\") <Out>\n",
       " 1: QN(\"Nf\",2,-1) => 3\n",
       " 2: QN(\"Nf\",3,-1) => 10\n",
       " 3: QN(\"Nf\",4,-1) => 23\n",
       " 4: QN(\"Nf\",5,-1) => 28\n",
       " 5: QN(\"Nf\",6,-1) => 23\n",
       " 6: QN(\"Nf\",7,-1) => 10\n",
       " 7: QN(\"Nf\",8,-1) => 3, (dim=100|id=983|\"Link,l=15\") <In>\n",
       " 1: QN(\"Nf\",3,-1) => 2\n",
       " 2: QN(\"Nf\",4,-1) => 11\n",
       " 3: QN(\"Nf\",5,-1) => 22\n",
       " 4: QN(\"Nf\",6,-1) => 29\n",
       " 5: QN(\"Nf\",7,-1) => 23\n",
       " 6: QN(\"Nf\",8,-1) => 11\n",
       " 7: QN(\"Nf\",9,-1) => 2)\n",
       "[17] ((dim=4|id=185|\"Electron,Site,n=17\") <Out>\n",
       " 1: QN(\"Nf\",0,-1) => 1\n",
       " 2: QN(\"Nf\",1,-1) => 2\n",
       " 3: QN(\"Nf\",2,-1) => 1, (dim=100|id=913|\"Link,l=17\") <Out>\n",
       " 1: QN(\"Nf\",1,-1) => 2\n",
       " 2: QN(\"Nf\",2,-1) => 10\n",
       " 3: QN(\"Nf\",3,-1) => 23\n",
       " 4: QN(\"Nf\",4,-1) => 29\n",
       " 5: QN(\"Nf\",5,-1) => 23\n",
       " 6: QN(\"Nf\",6,-1) => 10\n",
       " 7: QN(\"Nf\",7,-1) => 3, (dim=100|id=913|\"Link,l=16\") <In>\n",
       " 1: QN(\"Nf\",2,-1) => 3\n",
       " 2: QN(\"Nf\",3,-1) => 10\n",
       " 3: QN(\"Nf\",4,-1) => 23\n",
       " 4: QN(\"Nf\",5,-1) => 28\n",
       " 5: QN(\"Nf\",6,-1) => 23\n",
       " 6: QN(\"Nf\",7,-1) => 10\n",
       " 7: QN(\"Nf\",8,-1) => 3)\n",
       "[18] ((dim=4|id=153|\"Electron,Site,n=18\") <Out>\n",
       " 1: QN(\"Nf\",0,-1) => 1\n",
       " 2: QN(\"Nf\",1,-1) => 2\n",
       " 3: QN(\"Nf\",2,-1) => 1, (dim=60|id=526|\"Link,l=18\") <Out>\n",
       " 1: QN(\"Nf\",0,-1) => 1\n",
       " 2: QN(\"Nf\",1,-1) => 6\n",
       " 3: QN(\"Nf\",2,-1) => 14\n",
       " 4: QN(\"Nf\",3,-1) => 18\n",
       " 5: QN(\"Nf\",4,-1) => 14\n",
       " 6: QN(\"Nf\",5,-1) => 6\n",
       " 7: QN(\"Nf\",6,-1) => 1, (dim=100|id=913|\"Link,l=17\") <In>\n",
       " 1: QN(\"Nf\",1,-1) => 2\n",
       " 2: QN(\"Nf\",2,-1) => 10\n",
       " 3: QN(\"Nf\",3,-1) => 23\n",
       " 4: QN(\"Nf\",4,-1) => 29\n",
       " 5: QN(\"Nf\",5,-1) => 23\n",
       " 6: QN(\"Nf\",6,-1) => 10\n",
       " 7: QN(\"Nf\",7,-1) => 3)\n",
       "[19] ((dim=4|id=531|\"Electron,Site,n=19\") <Out>\n",
       " 1: QN(\"Nf\",0,-1) => 1\n",
       " 2: QN(\"Nf\",1,-1) => 2\n",
       " 3: QN(\"Nf\",2,-1) => 1, (dim=16|id=714|\"Link,l=19\") <Out>\n",
       " 1: QN(\"Nf\",0,-1) => 1\n",
       " 2: QN(\"Nf\",1,-1) => 4\n",
       " 3: QN(\"Nf\",2,-1) => 6\n",
       " 4: QN(\"Nf\",3,-1) => 4\n",
       " 5: QN(\"Nf\",4,-1) => 1, (dim=60|id=526|\"Link,l=18\") <In>\n",
       " 1: QN(\"Nf\",0,-1) => 1\n",
       " 2: QN(\"Nf\",1,-1) => 6\n",
       " 3: QN(\"Nf\",2,-1) => 14\n",
       " 4: QN(\"Nf\",3,-1) => 18\n",
       " 5: QN(\"Nf\",4,-1) => 14\n",
       " 6: QN(\"Nf\",5,-1) => 6\n",
       " 7: QN(\"Nf\",6,-1) => 1)\n",
       "[20] ((dim=4|id=135|\"Electron,Site,n=20\") <Out>\n",
       " 1: QN(\"Nf\",0,-1) => 1\n",
       " 2: QN(\"Nf\",1,-1) => 2\n",
       " 3: QN(\"Nf\",2,-1) => 1, (dim=4|id=660|\"Link,l=20\") <Out>\n",
       " 1: QN(\"Nf\",0,-1) => 1\n",
       " 2: QN(\"Nf\",1,-1) => 2\n",
       " 3: QN(\"Nf\",2,-1) => 1, (dim=16|id=714|\"Link,l=19\") <In>\n",
       " 1: QN(\"Nf\",0,-1) => 1\n",
       " 2: QN(\"Nf\",1,-1) => 4\n",
       " 3: QN(\"Nf\",2,-1) => 6\n",
       " 4: QN(\"Nf\",3,-1) => 4\n",
       " 5: QN(\"Nf\",4,-1) => 1)\n",
       "[21] ((dim=4|id=284|\"Electron,Site,n=21\") <Out>\n",
       " 1: QN(\"Nf\",0,-1) => 1\n",
       " 2: QN(\"Nf\",1,-1) => 2\n",
       " 3: QN(\"Nf\",2,-1) => 1, (dim=4|id=660|\"Link,l=20\") <In>\n",
       " 1: QN(\"Nf\",0,-1) => 1\n",
       " 2: QN(\"Nf\",1,-1) => 2\n",
       " 3: QN(\"Nf\",2,-1) => 1)\n",
       ")"
      ]
     },
     "metadata": {},
     "output_type": "display_data"
    }
   ],
   "source": [
    "E2, psi2 = dmrg(H,[psi0,psi1],psi0;nsweeps=30,maxdim=100,cutoff=1E-8)"
   ]
  },
  {
   "cell_type": "code",
   "execution_count": 306,
   "metadata": {},
   "outputs": [
    {
     "data": {
      "text/plain": [
       "0.9524236312160169"
      ]
     },
     "metadata": {},
     "output_type": "display_data"
    }
   ],
   "source": [
    "(E2-E1)/(2*pi/L)"
   ]
  },
  {
   "cell_type": "code",
   "execution_count": 320,
   "metadata": {},
   "outputs": [
    {
     "data": {
      "text/plain": [
       "(-24.76297993043037, MPS\n",
       "[1] ((dim=4|id=343|\"Link,l=1\") <Out>\n",
       " 1: QN(\"Nf\",18,-1) => 1\n",
       " 2: QN(\"Nf\",19,-1) => 2\n",
       " 3: QN(\"Nf\",20,-1) => 1, (dim=4|id=156|\"Electron,Site,n=1\") <Out>\n",
       " 1: QN(\"Nf\",0,-1) => 1\n",
       " 2: QN(\"Nf\",1,-1) => 2\n",
       " 3: QN(\"Nf\",2,-1) => 1)\n",
       "[2] ((dim=16|id=76|\"Link,l=2\") <Out>\n",
       " 1: QN(\"Nf\",16,-1) => 1\n",
       " 2: QN(\"Nf\",17,-1) => 4\n",
       " 3: QN(\"Nf\",18,-1) => 6\n",
       " 4: QN(\"Nf\",19,-1) => 4\n",
       " 5: QN(\"Nf\",20,-1) => 1, (dim=4|id=97|\"Electron,Site,n=2\") <Out>\n",
       " 1: QN(\"Nf\",0,-1) => 1\n",
       " 2: QN(\"Nf\",1,-1) => 2\n",
       " 3: QN(\"Nf\",2,-1) => 1, (dim=4|id=343|\"Link,l=1\") <In>\n",
       " 1: QN(\"Nf\",18,-1) => 1\n",
       " 2: QN(\"Nf\",19,-1) => 2\n",
       " 3: QN(\"Nf\",20,-1) => 1)\n",
       "[3] ((dim=4|id=980|\"Electron,Site,n=3\") <Out>\n",
       " 1: QN(\"Nf\",0,-1) => 1\n",
       " 2: QN(\"Nf\",1,-1) => 2\n",
       " 3: QN(\"Nf\",2,-1) => 1, (dim=64|id=824|\"Link,l=3\") <Out>\n",
       " 1: QN(\"Nf\",14,-1) => 1\n",
       " 2: QN(\"Nf\",15,-1) => 6\n",
       " 3: QN(\"Nf\",16,-1) => 15\n",
       " 4: QN(\"Nf\",17,-1) => 20\n",
       " 5: QN(\"Nf\",18,-1) => 15\n",
       " 6: QN(\"Nf\",19,-1) => 6\n",
       " 7: QN(\"Nf\",20,-1) => 1, (dim=16|id=76|\"Link,l=2\") <In>\n",
       " 1: QN(\"Nf\",16,-1) => 1\n",
       " 2: QN(\"Nf\",17,-1) => 4\n",
       " 3: QN(\"Nf\",18,-1) => 6\n",
       " 4: QN(\"Nf\",19,-1) => 4\n",
       " 5: QN(\"Nf\",20,-1) => 1)\n",
       "[4] ((dim=4|id=734|\"Electron,Site,n=4\") <Out>\n",
       " 1: QN(\"Nf\",0,-1) => 1\n",
       " 2: QN(\"Nf\",1,-1) => 2\n",
       " 3: QN(\"Nf\",2,-1) => 1, (dim=168|id=678|\"Link,l=4\") <Out>\n",
       " 1: QN(\"Nf\",12,-1) => 1\n",
       " 2: QN(\"Nf\",13,-1) => 6\n",
       " 3: QN(\"Nf\",14,-1) => 18\n",
       " 4: QN(\"Nf\",15,-1) => 37\n",
       " 5: QN(\"Nf\",16,-1) => 44\n",
       " 6: QN(\"Nf\",17,-1) => 37\n",
       " 7: QN(\"Nf\",18,-1) => 18\n",
       " 8: QN(\"Nf\",19,-1) => 6\n",
       " 9: QN(\"Nf\",20,-1) => 1, (dim=64|id=824|\"Link,l=3\") <In>\n",
       " 1: QN(\"Nf\",14,-1) => 1\n",
       " 2: QN(\"Nf\",15,-1) => 6\n",
       " 3: QN(\"Nf\",16,-1) => 15\n",
       " 4: QN(\"Nf\",17,-1) => 20\n",
       " 5: QN(\"Nf\",18,-1) => 15\n",
       " 6: QN(\"Nf\",19,-1) => 6\n",
       " 7: QN(\"Nf\",20,-1) => 1)\n",
       "[5] ((dim=4|id=128|\"Electron,Site,n=5\") <Out>\n",
       " 1: QN(\"Nf\",0,-1) => 1\n",
       " 2: QN(\"Nf\",1,-1) => 2\n",
       " 3: QN(\"Nf\",2,-1) => 1, (dim=260|id=23|\"Link,l=5\") <Out>\n",
       " 1: QN(\"Nf\",11,-1) => 2\n",
       " 2: QN(\"Nf\",12,-1) => 10\n",
       " 3: QN(\"Nf\",13,-1) => 30\n",
       " 4: QN(\"Nf\",14,-1) => 55\n",
       " 5: QN(\"Nf\",15,-1) => 66\n",
       " 6: QN(\"Nf\",16,-1) => 55\n",
       " 7: QN(\"Nf\",17,-1) => 30\n",
       " 8: QN(\"Nf\",18,-1) => 10\n",
       " 9: QN(\"Nf\",19,-1) => 2, (dim=168|id=678|\"Link,l=4\") <In>\n",
       " 1: QN(\"Nf\",12,-1) => 1\n",
       " 2: QN(\"Nf\",13,-1) => 6\n",
       " 3: QN(\"Nf\",14,-1) => 18\n",
       " 4: QN(\"Nf\",15,-1) => 37\n",
       " 5: QN(\"Nf\",16,-1) => 44\n",
       " 6: QN(\"Nf\",17,-1) => 37\n",
       " 7: QN(\"Nf\",18,-1) => 18\n",
       " 8: QN(\"Nf\",19,-1) => 6\n",
       " 9: QN(\"Nf\",20,-1) => 1)\n",
       "[6] ((dim=4|id=493|\"Electron,Site,n=6\") <Out>\n",
       " 1: QN(\"Nf\",0,-1) => 1\n",
       " 2: QN(\"Nf\",1,-1) => 2\n",
       " 3: QN(\"Nf\",2,-1) => 1, (dim=300|id=685|\"Link,l=6\") <Out>\n",
       " 1: QN(\"Nf\",10,-1) => 1\n",
       " 2: QN(\"Nf\",11,-1) => 12\n",
       " 3: QN(\"Nf\",12,-1) => 35\n",
       " 4: QN(\"Nf\",13,-1) => 62\n",
       " 5: QN(\"Nf\",14,-1) => 80\n",
       " 6: QN(\"Nf\",15,-1) => 62\n",
       " 7: QN(\"Nf\",16,-1) => 35\n",
       " 8: QN(\"Nf\",17,-1) => 12\n",
       " 9: QN(\"Nf\",18,-1) => 1, (dim=260|id=23|\"Link,l=5\") <In>\n",
       " 1: QN(\"Nf\",11,-1) => 2\n",
       " 2: QN(\"Nf\",12,-1) => 10\n",
       " 3: QN(\"Nf\",13,-1) => 30\n",
       " 4: QN(\"Nf\",14,-1) => 55\n",
       " 5: QN(\"Nf\",15,-1) => 66\n",
       " 6: QN(\"Nf\",16,-1) => 55\n",
       " 7: QN(\"Nf\",17,-1) => 30\n",
       " 8: QN(\"Nf\",18,-1) => 10\n",
       " 9: QN(\"Nf\",19,-1) => 2)\n",
       "[7] ((dim=4|id=580|\"Electron,Site,n=7\") <Out>\n",
       " 1: QN(\"Nf\",0,-1) => 1\n",
       " 2: QN(\"Nf\",1,-1) => 2\n",
       " 3: QN(\"Nf\",2,-1) => 1, (dim=299|id=665|\"Link,l=7\") <Out>\n",
       " 1: QN(\"Nf\",9,-1) => 2\n",
       " 2: QN(\"Nf\",10,-1) => 11\n",
       " 3: QN(\"Nf\",11,-1) => 35\n",
       " 4: QN(\"Nf\",12,-1) => 62\n",
       " 5: QN(\"Nf\",13,-1) => 79\n",
       " 6: QN(\"Nf\",14,-1) => 62\n",
       " 7: QN(\"Nf\",15,-1) => 35\n",
       " 8: QN(\"Nf\",16,-1) => 11\n",
       " 9: QN(\"Nf\",17,-1) => 2, (dim=300|id=685|\"Link,l=6\") <In>\n",
       " 1: QN(\"Nf\",10,-1) => 1\n",
       " 2: QN(\"Nf\",11,-1) => 12\n",
       " 3: QN(\"Nf\",12,-1) => 35\n",
       " 4: QN(\"Nf\",13,-1) => 62\n",
       " 5: QN(\"Nf\",14,-1) => 80\n",
       " 6: QN(\"Nf\",15,-1) => 62\n",
       " 7: QN(\"Nf\",16,-1) => 35\n",
       " 8: QN(\"Nf\",17,-1) => 12\n",
       " 9: QN(\"Nf\",18,-1) => 1)\n",
       "[8] ((dim=4|id=793|\"Electron,Site,n=8\") <Out>\n",
       " 1: QN(\"Nf\",0,-1) => 1\n",
       " 2: QN(\"Nf\",1,-1) => 2\n",
       " 3: QN(\"Nf\",2,-1) => 1, (dim=299|id=58|\"Link,l=8\") <Out>\n",
       " 1: QN(\"Nf\",8,-1) => 1\n",
       " 2: QN(\"Nf\",9,-1) => 12\n",
       " 3: QN(\"Nf\",10,-1) => 35\n",
       " 4: QN(\"Nf\",11,-1) => 62\n",
       " 5: QN(\"Nf\",12,-1) => 79\n",
       " 6: QN(\"Nf\",13,-1) => 62\n",
       " 7: QN(\"Nf\",14,-1) => 35\n",
       " 8: QN(\"Nf\",15,-1) => 12\n",
       " 9: QN(\"Nf\",16,-1) => 1, (dim=299|id=665|\"Link,l=7\") <In>\n",
       " 1: QN(\"Nf\",9,-1) => 2\n",
       " 2: QN(\"Nf\",10,-1) => 11\n",
       " 3: QN(\"Nf\",11,-1) => 35\n",
       " 4: QN(\"Nf\",12,-1) => 62\n",
       " 5: QN(\"Nf\",13,-1) => 79\n",
       " 6: QN(\"Nf\",14,-1) => 62\n",
       " 7: QN(\"Nf\",15,-1) => 35\n",
       " 8: QN(\"Nf\",16,-1) => 11\n",
       " 9: QN(\"Nf\",17,-1) => 2)\n",
       "[9] ((dim=4|id=30|\"Electron,Site,n=9\") <Out>\n",
       " 1: QN(\"Nf\",0,-1) => 1\n",
       " 2: QN(\"Nf\",1,-1) => 2\n",
       " 3: QN(\"Nf\",2,-1) => 1, (dim=300|id=175|\"Link,l=9\") <Out>\n",
       " 1: QN(\"Nf\",7,-1) => 2\n",
       " 2: QN(\"Nf\",8,-1) => 11\n",
       " 3: QN(\"Nf\",9,-1) => 34\n",
       " 4: QN(\"Nf\",10,-1) => 64\n",
       " 5: QN(\"Nf\",11,-1) => 78\n",
       " 6: QN(\"Nf\",12,-1) => 64\n",
       " 7: QN(\"Nf\",13,-1) => 34\n",
       " 8: QN(\"Nf\",14,-1) => 11\n",
       " 9: QN(\"Nf\",15,-1) => 2, (dim=299|id=58|\"Link,l=8\") <In>\n",
       " 1: QN(\"Nf\",8,-1) => 1\n",
       " 2: QN(\"Nf\",9,-1) => 12\n",
       " 3: QN(\"Nf\",10,-1) => 35\n",
       " 4: QN(\"Nf\",11,-1) => 62\n",
       " 5: QN(\"Nf\",12,-1) => 79\n",
       " 6: QN(\"Nf\",13,-1) => 62\n",
       " 7: QN(\"Nf\",14,-1) => 35\n",
       " 8: QN(\"Nf\",15,-1) => 12\n",
       " 9: QN(\"Nf\",16,-1) => 1)\n",
       "[10] ((dim=4|id=820|\"Electron,Site,n=10\") <Out>\n",
       " 1: QN(\"Nf\",0,-1) => 1\n",
       " 2: QN(\"Nf\",1,-1) => 2\n",
       " 3: QN(\"Nf\",2,-1) => 1, (dim=300|id=639|\"Link,l=10\") <Out>\n",
       " 1: QN(\"Nf\",6,-1) => 1\n",
       " 2: QN(\"Nf\",7,-1) => 12\n",
       " 3: QN(\"Nf\",8,-1) => 34\n",
       " 4: QN(\"Nf\",9,-1) => 65\n",
       " 5: QN(\"Nf\",10,-1) => 76\n",
       " 6: QN(\"Nf\",11,-1) => 65\n",
       " 7: QN(\"Nf\",12,-1) => 34\n",
       " 8: QN(\"Nf\",13,-1) => 12\n",
       " 9: QN(\"Nf\",14,-1) => 1, (dim=300|id=175|\"Link,l=9\") <In>\n",
       " 1: QN(\"Nf\",7,-1) => 2\n",
       " 2: QN(\"Nf\",8,-1) => 11\n",
       " 3: QN(\"Nf\",9,-1) => 34\n",
       " 4: QN(\"Nf\",10,-1) => 64\n",
       " 5: QN(\"Nf\",11,-1) => 78\n",
       " 6: QN(\"Nf\",12,-1) => 64\n",
       " 7: QN(\"Nf\",13,-1) => 34\n",
       " 8: QN(\"Nf\",14,-1) => 11\n",
       " 9: QN(\"Nf\",15,-1) => 2)\n",
       "[11] ((dim=4|id=960|\"Electron,Site,n=11\") <Out>\n",
       " 1: QN(\"Nf\",0,-1) => 1\n",
       " 2: QN(\"Nf\",1,-1) => 2\n",
       " 3: QN(\"Nf\",2,-1) => 1, (dim=300|id=304|\"Link,l=11\") <Out>\n",
       " 1: QN(\"Nf\",5,-1) => 2\n",
       " 2: QN(\"Nf\",6,-1) => 11\n",
       " 3: QN(\"Nf\",7,-1) => 34\n",
       " 4: QN(\"Nf\",8,-1) => 64\n",
       " 5: QN(\"Nf\",9,-1) => 78\n",
       " 6: QN(\"Nf\",10,-1) => 64\n",
       " 7: QN(\"Nf\",11,-1) => 34\n",
       " 8: QN(\"Nf\",12,-1) => 11\n",
       " 9: QN(\"Nf\",13,-1) => 2, (dim=300|id=639|\"Link,l=10\") <In>\n",
       " 1: QN(\"Nf\",6,-1) => 1\n",
       " 2: QN(\"Nf\",7,-1) => 12\n",
       " 3: QN(\"Nf\",8,-1) => 34\n",
       " 4: QN(\"Nf\",9,-1) => 65\n",
       " 5: QN(\"Nf\",10,-1) => 76\n",
       " 6: QN(\"Nf\",11,-1) => 65\n",
       " 7: QN(\"Nf\",12,-1) => 34\n",
       " 8: QN(\"Nf\",13,-1) => 12\n",
       " 9: QN(\"Nf\",14,-1) => 1)\n",
       "[12] ((dim=4|id=730|\"Electron,Site,n=12\") <Out>\n",
       " 1: QN(\"Nf\",0,-1) => 1\n",
       " 2: QN(\"Nf\",1,-1) => 2\n",
       " 3: QN(\"Nf\",2,-1) => 1, (dim=300|id=673|\"Link,l=12\") <Out>\n",
       " 1: QN(\"Nf\",4,-1) => 1\n",
       " 2: QN(\"Nf\",5,-1) => 12\n",
       " 3: QN(\"Nf\",6,-1) => 35\n",
       " 4: QN(\"Nf\",7,-1) => 63\n",
       " 5: QN(\"Nf\",8,-1) => 79\n",
       " 6: QN(\"Nf\",9,-1) => 62\n",
       " 7: QN(\"Nf\",10,-1) => 35\n",
       " 8: QN(\"Nf\",11,-1) => 12\n",
       " 9: QN(\"Nf\",12,-1) => 1, (dim=300|id=304|\"Link,l=11\") <In>\n",
       " 1: QN(\"Nf\",5,-1) => 2\n",
       " 2: QN(\"Nf\",6,-1) => 11\n",
       " 3: QN(\"Nf\",7,-1) => 34\n",
       " 4: QN(\"Nf\",8,-1) => 64\n",
       " 5: QN(\"Nf\",9,-1) => 78\n",
       " 6: QN(\"Nf\",10,-1) => 64\n",
       " 7: QN(\"Nf\",11,-1) => 34\n",
       " 8: QN(\"Nf\",12,-1) => 11\n",
       " 9: QN(\"Nf\",13,-1) => 2)\n",
       "[13] ((dim=4|id=831|\"Electron,Site,n=13\") <Out>\n",
       " 1: QN(\"Nf\",0,-1) => 1\n",
       " 2: QN(\"Nf\",1,-1) => 2\n",
       " 3: QN(\"Nf\",2,-1) => 1, (dim=300|id=771|\"Link,l=13\") <Out>\n",
       " 1: QN(\"Nf\",3,-1) => 2\n",
       " 2: QN(\"Nf\",4,-1) => 11\n",
       " 3: QN(\"Nf\",5,-1) => 35\n",
       " 4: QN(\"Nf\",6,-1) => 64\n",
       " 5: QN(\"Nf\",7,-1) => 76\n",
       " 6: QN(\"Nf\",8,-1) => 64\n",
       " 7: QN(\"Nf\",9,-1) => 35\n",
       " 8: QN(\"Nf\",10,-1) => 11\n",
       " 9: QN(\"Nf\",11,-1) => 2, (dim=300|id=673|\"Link,l=12\") <In>\n",
       " 1: QN(\"Nf\",4,-1) => 1\n",
       " 2: QN(\"Nf\",5,-1) => 12\n",
       " 3: QN(\"Nf\",6,-1) => 35\n",
       " 4: QN(\"Nf\",7,-1) => 63\n",
       " 5: QN(\"Nf\",8,-1) => 79\n",
       " 6: QN(\"Nf\",9,-1) => 62\n",
       " 7: QN(\"Nf\",10,-1) => 35\n",
       " 8: QN(\"Nf\",11,-1) => 12\n",
       " 9: QN(\"Nf\",12,-1) => 1)\n",
       "[14] ((dim=4|id=89|\"Electron,Site,n=14\") <Out>\n",
       " 1: QN(\"Nf\",0,-1) => 1\n",
       " 2: QN(\"Nf\",1,-1) => 2\n",
       " 3: QN(\"Nf\",2,-1) => 1, (dim=300|id=101|\"Link,l=14\") <Out>\n",
       " 1: QN(\"Nf\",2,-1) => 1\n",
       " 2: QN(\"Nf\",3,-1) => 12\n",
       " 3: QN(\"Nf\",4,-1) => 35\n",
       " 4: QN(\"Nf\",5,-1) => 62\n",
       " 5: QN(\"Nf\",6,-1) => 80\n",
       " 6: QN(\"Nf\",7,-1) => 62\n",
       " 7: QN(\"Nf\",8,-1) => 35\n",
       " 8: QN(\"Nf\",9,-1) => 12\n",
       " 9: QN(\"Nf\",10,-1) => 1, (dim=300|id=771|\"Link,l=13\") <In>\n",
       " 1: QN(\"Nf\",3,-1) => 2\n",
       " 2: QN(\"Nf\",4,-1) => 11\n",
       " 3: QN(\"Nf\",5,-1) => 35\n",
       " 4: QN(\"Nf\",6,-1) => 64\n",
       " 5: QN(\"Nf\",7,-1) => 76\n",
       " 6: QN(\"Nf\",8,-1) => 64\n",
       " 7: QN(\"Nf\",9,-1) => 35\n",
       " 8: QN(\"Nf\",10,-1) => 11\n",
       " 9: QN(\"Nf\",11,-1) => 2)\n",
       "[15] ((dim=4|id=835|\"Electron,Site,n=15\") <Out>\n",
       " 1: QN(\"Nf\",0,-1) => 1\n",
       " 2: QN(\"Nf\",1,-1) => 2\n",
       " 3: QN(\"Nf\",2,-1) => 1, (dim=261|id=99|\"Link,l=15\") <Out>\n",
       " 1: QN(\"Nf\",1,-1) => 2\n",
       " 2: QN(\"Nf\",2,-1) => 10\n",
       " 3: QN(\"Nf\",3,-1) => 30\n",
       " 4: QN(\"Nf\",4,-1) => 55\n",
       " 5: QN(\"Nf\",5,-1) => 67\n",
       " 6: QN(\"Nf\",6,-1) => 55\n",
       " 7: QN(\"Nf\",7,-1) => 30\n",
       " 8: QN(\"Nf\",8,-1) => 10\n",
       " 9: QN(\"Nf\",9,-1) => 2, (dim=300|id=101|\"Link,l=14\") <In>\n",
       " 1: QN(\"Nf\",2,-1) => 1\n",
       " 2: QN(\"Nf\",3,-1) => 12\n",
       " 3: QN(\"Nf\",4,-1) => 35\n",
       " 4: QN(\"Nf\",5,-1) => 62\n",
       " 5: QN(\"Nf\",6,-1) => 80\n",
       " 6: QN(\"Nf\",7,-1) => 62\n",
       " 7: QN(\"Nf\",8,-1) => 35\n",
       " 8: QN(\"Nf\",9,-1) => 12\n",
       " 9: QN(\"Nf\",10,-1) => 1)\n",
       "[16] ((dim=4|id=317|\"Electron,Site,n=16\") <Out>\n",
       " 1: QN(\"Nf\",0,-1) => 1\n",
       " 2: QN(\"Nf\",1,-1) => 2\n",
       " 3: QN(\"Nf\",2,-1) => 1, (dim=168|id=380|\"Link,l=16\") <Out>\n",
       " 1: QN(\"Nf\",0,-1) => 1\n",
       " 2: QN(\"Nf\",1,-1) => 6\n",
       " 3: QN(\"Nf\",2,-1) => 18\n",
       " 4: QN(\"Nf\",3,-1) => 37\n",
       " 5: QN(\"Nf\",4,-1) => 44\n",
       " 6: QN(\"Nf\",5,-1) => 37\n",
       " 7: QN(\"Nf\",6,-1) => 18\n",
       " 8: QN(\"Nf\",7,-1) => 6\n",
       " 9: QN(\"Nf\",8,-1) => 1, (dim=261|id=99|\"Link,l=15\") <In>\n",
       " 1: QN(\"Nf\",1,-1) => 2\n",
       " 2: QN(\"Nf\",2,-1) => 10\n",
       " 3: QN(\"Nf\",3,-1) => 30\n",
       " 4: QN(\"Nf\",4,-1) => 55\n",
       " 5: QN(\"Nf\",5,-1) => 67\n",
       " 6: QN(\"Nf\",6,-1) => 55\n",
       " 7: QN(\"Nf\",7,-1) => 30\n",
       " 8: QN(\"Nf\",8,-1) => 10\n",
       " 9: QN(\"Nf\",9,-1) => 2)\n",
       "[17] ((dim=4|id=108|\"Electron,Site,n=17\") <Out>\n",
       " 1: QN(\"Nf\",0,-1) => 1\n",
       " 2: QN(\"Nf\",1,-1) => 2\n",
       " 3: QN(\"Nf\",2,-1) => 1, (dim=64|id=347|\"Link,l=17\") <Out>\n",
       " 1: QN(\"Nf\",0,-1) => 1\n",
       " 2: QN(\"Nf\",1,-1) => 6\n",
       " 3: QN(\"Nf\",2,-1) => 15\n",
       " 4: QN(\"Nf\",3,-1) => 20\n",
       " 5: QN(\"Nf\",4,-1) => 15\n",
       " 6: QN(\"Nf\",5,-1) => 6\n",
       " 7: QN(\"Nf\",6,-1) => 1, (dim=168|id=380|\"Link,l=16\") <In>\n",
       " 1: QN(\"Nf\",0,-1) => 1\n",
       " 2: QN(\"Nf\",1,-1) => 6\n",
       " 3: QN(\"Nf\",2,-1) => 18\n",
       " 4: QN(\"Nf\",3,-1) => 37\n",
       " 5: QN(\"Nf\",4,-1) => 44\n",
       " 6: QN(\"Nf\",5,-1) => 37\n",
       " 7: QN(\"Nf\",6,-1) => 18\n",
       " 8: QN(\"Nf\",7,-1) => 6\n",
       " 9: QN(\"Nf\",8,-1) => 1)\n",
       "[18] ((dim=4|id=782|\"Electron,Site,n=18\") <Out>\n",
       " 1: QN(\"Nf\",0,-1) => 1\n",
       " 2: QN(\"Nf\",1,-1) => 2\n",
       " 3: QN(\"Nf\",2,-1) => 1, (dim=16|id=128|\"Link,l=18\") <Out>\n",
       " 1: QN(\"Nf\",0,-1) => 1\n",
       " 2: QN(\"Nf\",1,-1) => 4\n",
       " 3: QN(\"Nf\",2,-1) => 6\n",
       " 4: QN(\"Nf\",3,-1) => 4\n",
       " 5: QN(\"Nf\",4,-1) => 1, (dim=64|id=347|\"Link,l=17\") <In>\n",
       " 1: QN(\"Nf\",0,-1) => 1\n",
       " 2: QN(\"Nf\",1,-1) => 6\n",
       " 3: QN(\"Nf\",2,-1) => 15\n",
       " 4: QN(\"Nf\",3,-1) => 20\n",
       " 5: QN(\"Nf\",4,-1) => 15\n",
       " 6: QN(\"Nf\",5,-1) => 6\n",
       " 7: QN(\"Nf\",6,-1) => 1)\n",
       "[19] ((dim=4|id=287|\"Electron,Site,n=19\") <Out>\n",
       " 1: QN(\"Nf\",0,-1) => 1\n",
       " 2: QN(\"Nf\",1,-1) => 2\n",
       " 3: QN(\"Nf\",2,-1) => 1, (dim=4|id=605|\"Link,l=19\") <Out>\n",
       " 1: QN(\"Nf\",0,-1) => 1\n",
       " 2: QN(\"Nf\",1,-1) => 2\n",
       " 3: QN(\"Nf\",2,-1) => 1, (dim=16|id=128|\"Link,l=18\") <In>\n",
       " 1: QN(\"Nf\",0,-1) => 1\n",
       " 2: QN(\"Nf\",1,-1) => 4\n",
       " 3: QN(\"Nf\",2,-1) => 6\n",
       " 4: QN(\"Nf\",3,-1) => 4\n",
       " 5: QN(\"Nf\",4,-1) => 1)\n",
       "[20] ((dim=4|id=783|\"Electron,Site,n=20\") <Out>\n",
       " 1: QN(\"Nf\",0,-1) => 1\n",
       " 2: QN(\"Nf\",1,-1) => 2\n",
       " 3: QN(\"Nf\",2,-1) => 1, (dim=4|id=605|\"Link,l=19\") <In>\n",
       " 1: QN(\"Nf\",0,-1) => 1\n",
       " 2: QN(\"Nf\",1,-1) => 2\n",
       " 3: QN(\"Nf\",2,-1) => 1)\n",
       ")"
      ]
     },
     "metadata": {},
     "output_type": "display_data"
    }
   ],
   "source": [
    "L = 20\n",
    "\n",
    "E30, psi100 = Hubbard_DMRG(L,0.0,20,100,0.5)\n",
    "E40, psi200 = Hubbard_DMRG(L,0.0,20,200,0.5)\n",
    "E50, psi300 = Hubbard_DMRG(L,0.0,20,300,0.5)"
   ]
  },
  {
   "cell_type": "code",
   "execution_count": 326,
   "metadata": {},
   "outputs": [
    {
     "data": {
      "image/png": "[encoded data removed]",
      "text/plain": [
       "Figure(PyObject <Figure size 640x480 with 1 Axes>)"
      ]
     },
     "metadata": {},
     "output_type": "display_data"
    }
   ],
   "source": [
    "fig,ax=subplots()\n",
    "# ax.plot(expect(psi100,\"Ntot\"),\"-o\")\n",
    "# ax.plot(expect(psi200,\"Ntot\"),\"-o\")\n",
    "ax.plot(expect(psi300,\"Ntot\") ,\"-o\")\n",
    "\n",
    "gcf()"
   ]
  },
  {
   "cell_type": "code",
   "execution_count": 328,
   "metadata": {},
   "outputs": [
    {
     "data": {
      "text/plain": [
       "20-element Vector{Float64}:\n",
       " 0.9999999983208347\n",
       " 1.0000000016533657\n",
       " 0.9999999950782528\n",
       " 1.0000000047668118\n",
       " 0.999999994309805\n",
       " 0.9999999982227644\n",
       " 0.9999999875249027\n",
       " 1.0000000100486997\n",
       " 1.0000000068889834\n",
       " 1.0000000092639454\n",
       " 0.9999999975609204\n",
       " 1.0000000023539644\n",
       " 0.9999999973490119\n",
       " 1.0000000000606584\n",
       " 0.9999999989688791\n",
       " 0.9999999993575962\n",
       " 0.9999999997895097\n",
       " 0.9999999992228343\n",
       " 0.9999999999662124\n",
       " 0.9999999992920648"
      ]
     },
     "metadata": {},
     "output_type": "display_data"
    }
   ],
   "source": [
    "expect(psi100,\"Ntot\")"
   ]
  },
  {
   "cell_type": "markdown",
   "metadata": {},
   "source": [
    "# $\\nu\\neq1/2$"
   ]
  },
  {
   "cell_type": "code",
   "execution_count": 440,
   "metadata": {},
   "outputs": [],
   "source": [
    "L = 21\n",
    "Ne = 23\n",
    "dt = 1e-2\n",
    "T = 5.0\n",
    "Us = [0.0, 0.1, 1.0, 10.0]\n",
    "scan_U_res_054 = []\n",
    "for (i,U) in enumerate(Us)\n",
    "    E, psi = Hubbard_DMRG(L,U,30,100,Ne/L/2)\n",
    "    append!(scan_U_res_054,ExpValInTime(Quench(Quench(psi, \"Cdn\"), \"Cup\"), E, U, dt, T))\n",
    "end"
   ]
  },
  {
   "cell_type": "code",
   "execution_count": 437,
   "metadata": {},
   "outputs": [
    {
     "data": {
      "text/plain": [
       "0.5476190476190477"
      ]
     },
     "metadata": {},
     "output_type": "display_data"
    }
   ],
   "source": [
    "Ne = 23\n",
    "@show Ne/L/2"
   ]
  },
  {
   "cell_type": "markdown",
   "metadata": {},
   "source": [
    "# Half filling, One electron quench"
   ]
  },
  {
   "cell_type": "code",
   "execution_count": 427,
   "metadata": {},
   "outputs": [],
   "source": [
    "L = 21\n",
    "dt = 1e-2\n",
    "T = 5.0\n",
    "Us = [0.0, 0.1, 1.0, 10.0]\n",
    "scan_U_res_es = []\n",
    "for (i,U) in enumerate(Us)\n",
    "    E, psi = Hubbard_DMRG(L,U,30,100)\n",
    "    append!(scan_U_res_es,ExpValInTime(Quench(psi,\"Cup\"), E, U, dt, T))\n",
    "    # append!(scan_U_res_s,ExpValInTime(Quench(psi, \"S-\"), E, U, dt, T))\n",
    "end"
   ]
  },
  {
   "cell_type": "code",
   "execution_count": 428,
   "metadata": {},
   "outputs": [
    {
     "data": {
      "image/png": "[encoded data removed]",
      "text/plain": [
       "Figure(PyObject <Figure size 500x1000 with 8 Axes>)"
      ]
     },
     "metadata": {},
     "output_type": "display_data"
    }
   ],
   "source": [
    "fig,ax = subplots(4,2,figsize=(5,10))\n",
    "for i = 1:4\n",
    "    ax[i,1].imshow(real.(scan_U_res_es[2*i-1]),vmin=-maximum(abs.(scan_U_res_e[2*i-1])),vmax=maximum(abs.(scan_U_res_e[2*i-1]))\n",
    "                , aspect=\"auto\", cmap=\"RdBu\", interpolation=\"none\")\n",
    "    ax[i,2].imshow(real.(scan_U_res_es[2*i]),vmin=0.0,vmax=maximum(real.(scan_U_res_e[2*i]))\n",
    "                , aspect=\"auto\", cmap=\"Blues_r\", interpolation=\"none\")\n",
    "end\n",
    "\n",
    "ax[1,1].set_title(L\"$\\langle S_Z \\rangle$\", fontsize=16)\n",
    "ax[1,2].set_title(L\"$\\langle n \\rangle$\", fontsize=16)\n",
    "\n",
    "gcf()"
   ]
  },
  {
   "cell_type": "code",
   "execution_count": 502,
   "metadata": {},
   "outputs": [],
   "source": [
    "colormap_name = \"viridis\"\n",
    "num_colors = 4\n",
    "cmap = get_cmap(colormap_name)\n",
    "colors = [cmap(k/num_colors) for k in 0:num_colors-1]\n",
    "for i = 1:length(scan_U_res_2[7][:,1])\n",
    "# i = 40\n",
    "    fig,ax = subplots(2,1,figsize=(10,4))\n",
    "    # for i = 1:length(scan_U_res_2[8][:,1])\n",
    "    #     ax.plot(real.(scan_U_res_2[7][i,:]),color=\"black\",label=L\"$\\langle S_Z \\rangle$\")\n",
    "    # end\n",
    "\n",
    "\n",
    "    ax[1].plot(real.(scan_U_res_2[2][i,:]),\"-o\", color=colors[1])\n",
    "    # ax[2].plot(real.(scan_U_res_2[1][i,:]),\"-o\", color=colors[1])\n",
    "    ax[1].plot(real.(scan_U_res_2[4][i,:]),\"-o\", color=colors[2])\n",
    "    ax[1].plot(real.(scan_U_res_2[6][i,:]),\"-o\", color=colors[3])\n",
    "    ax[1].plot(real.(scan_U_res_2[8][i,:]),\"-o\", color=colors[4])\n",
    "    ax[2].plot(real.(scan_U_res_2[1][i,:]),\"-o\", color=colors[1],label=Us[1])\n",
    "    ax[2].plot(real.(scan_U_res_2[3][i,:]),\"-o\", color=colors[2],label=Us[2])\n",
    "    ax[2].plot(real.(scan_U_res_2[5][i,:]),\"-o\", color=colors[3],label=Us[3])\n",
    "    ax[2].plot(real.(scan_U_res_2[7][i,:]),\"-o\", color=colors[4],label=Us[4])\n",
    "    ax[2].legend(fontsize=14, loc=(1.05,0.0), title=L\"$U$\")\n",
    "    # ax[2].set_title(L\"$t=$\"*string(i*dt), fontsize=14)\n",
    "    props = Dict(\"boxstyle\" => \"round\", \"facecolor\" => \"white\", \"alpha\" => 1.0)\n",
    "    ax[1].text(22.5,0.7,L\"$t=$\"*string(round(i*dt,digits=2)),bbox=props,fontsize=16)\n",
    "    # boxstyle='round', facecolor='wheat', alpha=0.5\n",
    "    ax[1].set_ylim([0.0,1.05])\n",
    "    ax[2].set_ylim([-0.2,0.2])\n",
    "    ax[2].set_xticks(0:2:20)\n",
    "    ax[1].grid()\n",
    "    ax[2].grid()\n",
    "\n",
    "    ax[1].set_ylabel(L\"$\\langle n \\rangle$\", fontsize=14)\n",
    "    ax[2].set_ylabel(L\"$\\langle S_z \\rangle$\", fontsize=14)\n",
    "    fig.tight_layout()\n",
    "    fig.savefig(\"timeevolutionviedo/plot_nu05_m033\"*string(i)*\".png\")\n",
    "end\n",
    "# gcf()"
   ]
  },
  {
   "cell_type": "code",
   "execution_count": 488,
   "metadata": {},
   "outputs": [
    {
     "data": {
      "text/plain": [
       "(51, 21)"
      ]
     },
     "metadata": {},
     "output_type": "display_data"
    }
   ],
   "source": [
    "size(scan_U_res_1[1])"
   ]
  },
  {
   "cell_type": "code",
   "execution_count": 501,
   "metadata": {},
   "outputs": [],
   "source": [
    "L = 21\n",
    "Ne = 14\n",
    "dt = 1e-1\n",
    "T = 5.0\n",
    "Us = [0.0, 0.1, 1.0, 10.0]\n",
    "scan_U_res_2 = []\n",
    "state0 = InitialState(L,L,7)\n",
    "for (i,U) in enumerate(Us)\n",
    "    E, psi = Hubbard_DMRG(L,U,30,100,state0)\n",
    "    append!(scan_U_res_2,ExpValInTime(Quench(Quench(psi, \"Cdn\"), \"Cup\"), E, U, dt, T))\n",
    "end"
   ]
  },
  {
   "cell_type": "code",
   "execution_count": 479,
   "metadata": {},
   "outputs": [
    {
     "data": {
      "text/plain": [
       "5-element Vector{Any}:\n",
       " \"UpDn\"\n",
       " \"UpDn\"\n",
       " \"Up\"\n",
       " \"Emp\"\n",
       " \"Emp\""
      ]
     },
     "metadata": {},
     "output_type": "display_data"
    }
   ],
   "source": [
    "InitialState(5,5,1)"
   ]
  },
  {
   "cell_type": "code",
   "execution_count": 507,
   "metadata": {},
   "outputs": [],
   "source": []
  },
  {
   "cell_type": "code",
   "execution_count": null,
   "metadata": {},
   "outputs": [],
   "source": []
  }
 ],
 "metadata": {
  "kernelspec": {
   "display_name": "Julia 1.7.3",
   "language": "julia",
   "name": "julia-1.7"
  },
  "language_info": {
   "file_extension": ".jl",
   "mimetype": "application/julia",
   "name": "julia",
   "version": "1.7.3"
  },
  "orig_nbformat": 4,
  "vscode": {
   "interpreter": {
    "hash": "610c699f0cd8c4f129acd9140687fff6866bed0eb8e82f249fc8848b827b628c"
   }
  }
 },
 "nbformat": 4,
 "nbformat_minor": 2
}
