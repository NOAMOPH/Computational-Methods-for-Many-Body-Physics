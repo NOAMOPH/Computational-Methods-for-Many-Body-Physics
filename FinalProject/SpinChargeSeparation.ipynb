{
 "cells": [
  {
   "cell_type": "code",
   "execution_count": null,
   "metadata": {},
   "outputs": [],
   "source": [
    "using LsqFit\n",
    "using ITensors, PyPlot, Polynomials"
   ]
  },
  {
   "cell_type": "markdown",
   "metadata": {},
   "source": [
    "$$H=t\\sum_{i,\\sigma} c^\\dagger_{i,\\sigma} c_{i+1,\\sigma} +\\mathrm{h.c.}+U\\sum_i n_{i,\\uparrow}n_{i,\\downarrow}$$"
   ]
  },
  {
   "cell_type": "code",
   "execution_count": null,
   "metadata": {},
   "outputs": [
    {
     "data": {
      "text/plain": [
       "Hubbard_Hamiltonian (generic function with 1 method)"
      ]
     },
     "metadata": {},
     "output_type": "display_data"
    }
   ],
   "source": [
    "function Hubbard_Hamiltonian(sites,U)\n",
    "    \"\"\"\n",
    "    t = 1\n",
    "    \"\"\"\n",
    "    L = length(sites)\n",
    "    ampo = OpSum()\n",
    "\n",
    "    for i = 1:L-1\n",
    "        ampo += \"Cdagup\",i,\"Cup\",i+1\n",
    "        ampo += \"Cdagup\",i+1,\"Cup\",i\n",
    "        ampo += \"Cdagdn\",i,\"Cdn\",i+1\n",
    "        ampo += \"Cdagdn\",i+1,\"Cdn\",i\n",
    "    end\n",
    "    for i = 1:L\n",
    "        ampo += U, \"Nup\", i, \"Ndn\", i\n",
    "    end\n",
    "    return MPO(ampo,sites)\n",
    "end"
   ]
  },
  {
   "cell_type": "code",
   "execution_count": 33,
   "metadata": {},
   "outputs": [
    {
     "name": "stdout",
     "output_type": "stream",
     "text": [
      "flux(psi0) = QN(\"Nf\",6,-1)\n"
     ]
    },
    {
     "ename": "MethodError",
     "evalue": "MethodError: no method matching sort(::Tuple{Index{Vector{Pair{QN, Int64}}}, Index{Vector{Pair{QN, Int64}}}}; by=ITensors.plev)\nClosest candidates are:\n  sort(!Matched::AbstractUnitRange) at /Applications/Julia-1.7.app/Contents/Resources/julia/share/julia/base/range.jl:1304 got unsupported keyword argument \"by\"\n  sort(!Matched::AbstractRange) at /Applications/Julia-1.7.app/Contents/Resources/julia/share/julia/base/range.jl:1307 got unsupported keyword argument \"by\"\n  sort(!Matched::SparseArrays.SparseVector{Tv, Ti}; kws...) where {Tv, Ti} at /Applications/Julia-1.7.app/Contents/Resources/julia/share/julia/stdlib/v1.7/SparseArrays/src/sparsevector.jl:1968\n  ...",
     "output_type": "error",
     "traceback": [
      "MethodError: no method matching sort(::Tuple{Index{Vector{Pair{QN, Int64}}}, Index{Vector{Pair{QN, Int64}}}}; by=ITensors.plev)\n",
      "Closest candidates are:\n",
      "  sort(!Matched::AbstractUnitRange) at /Applications/Julia-1.7.app/Contents/Resources/julia/share/julia/base/range.jl:1304 got unsupported keyword argument \"by\"\n",
      "  sort(!Matched::AbstractRange) at /Applications/Julia-1.7.app/Contents/Resources/julia/share/julia/base/range.jl:1307 got unsupported keyword argument \"by\"\n",
      "  sort(!Matched::SparseArrays.SparseVector{Tv, Ti}; kws...) where {Tv, Ti} at /Applications/Julia-1.7.app/Contents/Resources/julia/share/julia/stdlib/v1.7/SparseArrays/src/sparsevector.jl:1968\n",
      "  ...\n",
      "\n",
      "Stacktrace:\n",
      " [1] permute(M::MPO, #unused#::Tuple{typeof(linkind), typeof(siteinds), typeof(linkind)})\n",
      "   @ ITensors ~/.julia/packages/ITensors/YVElE/src/mps/dmrg.jl:13\n",
      " [2] #dmrg#1051\n",
      "   @ ~/.julia/packages/ITensors/YVElE/src/mps/dmrg.jl:25 [inlined]\n",
      " [3] dmrg\n",
      "   @ ~/.julia/packages/ITensors/YVElE/src/mps/dmrg.jl:21 [inlined]\n",
      " [4] #dmrg#1057\n",
      "   @ ~/.julia/packages/ITensors/YVElE/src/mps/dmrg.jl:389 [inlined]\n",
      " [5] top-level scope\n",
      "   @ ~/Documents/GitHub/Computational-Methods-for-Many-Body-Physics/FinalProject/SpinChargeSeparation.ipynb:11"
     ]
    }
   ],
   "source": [
    "L = 6\n",
    "sites = siteinds(\"Electron\",L; conserve_nf=true, conserve_sz=false)\n",
    "H = Hubbard_Hamiltonian(sites,1);\n",
    "state0 = [isodd(l) ? \"Up\" : \"Dn\" for l = 1:L] #half-filling\n",
    "psi0 = randomMPS(sites,state0)\n",
    "\n",
    "@show flux(psi0)\n",
    "nsweeps = 10\n",
    "maxdim = [20,60,100,100,200,400,800]\n",
    "cutoff = [1E-8]\n",
    "energy,psi = dmrg(H,psi0;nsweeps,maxdim,cutoff)\n",
    "# @show flux(psi)"
   ]
  },
  {
   "cell_type": "code",
   "execution_count": null,
   "metadata": {},
   "outputs": [],
   "source": []
  }
 ],
 "metadata": {
  "kernelspec": {
   "display_name": "Julia 1.6.7",
   "language": "julia",
   "name": "julia-1.6"
  },
  "language_info": {
   "file_extension": ".jl",
   "mimetype": "application/julia",
   "name": "julia",
   "version": "1.6.7"
  },
  "orig_nbformat": 4,
  "vscode": {
   "interpreter": {
    "hash": "610c699f0cd8c4f129acd9140687fff6866bed0eb8e82f249fc8848b827b628c"
   }
  }
 },
 "nbformat": 4,
 "nbformat_minor": 2
}
