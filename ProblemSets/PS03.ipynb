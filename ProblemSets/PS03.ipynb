{
 "cells": [
  {
   "cell_type": "code",
   "execution_count": 1,
   "metadata": {},
   "outputs": [],
   "source": [
    "using LinearAlgebra\n",
    "using PyPlot\n",
    "using RandomMatrix\n",
    "using ITensors\n",
    "using TensorOperations\n",
    "using LsqFit"
   ]
  },
  {
   "cell_type": "markdown",
   "metadata": {},
   "source": [
    "# Numerical many-body methods - Problem Set 3 \n",
    "## (DMRG)\n",
    "Noam Ophir"
   ]
  },
  {
   "cell_type": "markdown",
   "metadata": {},
   "source": [
    "# $J_1-J_2$ spin-1/2 chain\n",
    "*In this problem we will revisit the spin-1/2 antiferromagnetic $J_1-J_2$ chain discussed in Problem Set 1, given by the Hamiltonian*\n",
    "$$\n",
    "H\n",
    "=\n",
    "J_1\\sum_i\\vec{S}_i\\cdot\\vec{S}_{i+1}+J_2\\sum_i\\vec{S}_i\\cdot\\vec{S}_{i+2}\n",
    "$$\n",
    "*Recall that the model exhibits a phase transition between a gapless and a dimerized phase at $g_c\\simeq 0.241$, where $g$ is the dimensionless ratio $J_2/J_1$.*\n",
    "\n",
    "*We will now solve the problem using DMRG and employing the ITensor library. In sections 2,3 below use values of $g\\leq1/2$. (For $g > 1/2$ the system is still dimerized but exhibitis incommensurate spin-spin correlations, reminiscent of the classical ordering, which can give rise to large  nite-size effects.)*"
   ]
  },
  {
   "cell_type": "markdown",
   "metadata": {},
   "source": [
    "## 1-1\n",
    "*Generalize the construction of the Heisenberg Hamiltonian discussed in class to allow for a finite $J_2$ term.*"
   ]
  },
  {
   "cell_type": "code",
   "execution_count": null,
   "metadata": {},
   "outputs": [],
   "source": []
  },
  {
   "cell_type": "markdown",
   "metadata": {},
   "source": [
    "## 1-2\n",
    "*Perform finite-size scaling of the triplet gap (i.e. the energy gap between the ground state in the $S^z = 0$ sector to the lowest state in the $S^z = 1$ sector) for different values of $g$ across the phase transition. To find the lowest energy state in each $S^z$ sector you will need to make sure that the initial state is in the same $S^z$ sector. You can now easily access system sizes of up to $N = 100$ sites (performing e.g. 10 sweeps with bond dimensions of order 100), but to clearly observe a finite gap for $g > g_c$ it is still advisable to consider values of g close enough to $g = 1/2$.*"
   ]
  },
  {
   "cell_type": "code",
   "execution_count": null,
   "metadata": {},
   "outputs": [],
   "source": []
  },
  {
   "cell_type": "markdown",
   "metadata": {},
   "source": [
    "## 1-3\n",
    "*Calculate the spin-spin correlations (i.e. the expectation value of $\\langle\\vec{S}_{x_0} \\cdot \\vec{S}_{x_0+x} \\rangle$ as function of $x$) for different values of g across the phase transition. Show that for $g\\leq g_c$ the correlations decay as a power law (i.e.  $1/x^\\alpha$), while for $g > g_c$ the decay is exponential (i.e. $\\sim\\exp(-x\\xi)$) . Use system sizes of $N = 200$ sites and calculate the correlations with respect to a site in the middle of the system to avoid boundary effects. (Recall that we are now working with open boundary conditions as opposed to all the calculations we performed using Exact Diagonalization.) For $g\\leq g_c$ calculate the exponent $\\alpha$, and for $g > g_c$ obtain the correlation length $\\xi$. Note: to obtain the spin-spin correlations you can use the built in ITensor function `correlation matrix(psi,\"Sz\",\"Sz\")` that calculates the full correlation matrix $\\langle \\psi|S^z_i S^z_j|\\psi \\rangle$ for every pair of sites $(i,j)$ in the system.*"
   ]
  },
  {
   "cell_type": "code",
   "execution_count": null,
   "metadata": {},
   "outputs": [],
   "source": []
  },
  {
   "cell_type": "markdown",
   "metadata": {},
   "source": [
    "# Spin-1 chain - Haldane gap\n",
    "*In this problem we will consider the spin-1 bilinear-biquadtatic model*\n",
    "$$H=\\sum_i J_1 \\vec{S}_i\\cdot\\vec{S}_{i+1} + J_2 \\left( \\vec{S}_i\\cdot\\vec{S}_{i+1} \\right)^2 $$\n",
    "*As discussed in the tutorial and in Problem Set 2, for $J_2/J_1 = 1/3$ the model is exactly solvable,and the ground state can be written explicitly as an MPS of bind dimension $M = 2$. At this point you observed that the ground state is four-fold degenerate for open boundary conditions and that the edges feature fractionalized spin-1/2 states.*\n",
    "\n",
    "*In this problem you will show that when $J_2\\rightarrow0$ the system remains in the same phase, i.e. it is gapped, and hosts fractionalized edge mods.*"
   ]
  },
  {
   "cell_type": "markdown",
   "metadata": {},
   "source": [
    "## 2-1\n",
    "*Consider different values of $J_2$ ranging between $1/3$ and $0$ and show that the system remains gapped within this range. To this end, perform finite-size scaling of the bulk gap. Note that to probe the bulk gap in this case you will need to look at the $S^z = 2$ sector, as the lowest energy state in the $S^z = 1$ sector simply accumulates the extra spin at the edges of the system (you'll check this in the next section).*"
   ]
  },
  {
   "cell_type": "code",
   "execution_count": null,
   "metadata": {},
   "outputs": [],
   "source": []
  },
  {
   "cell_type": "markdown",
   "metadata": {},
   "source": [
    "## 2-2\n",
    "*For the same values of $J_2$ as above, calculate the gap between the $S^z = 1$ and $S^z = 0$ sectors.Show that the gap decays exponentially with system size (i.e. the states are degenerate in the thermodynamic limit). Calculate the local expectation value of $S^z$ along the chain in the lowest energy state with $S^z = 1$ and show that the total spin accumulated near each edge is $\\pm 1/2$.*"
   ]
  },
  {
   "cell_type": "code",
   "execution_count": null,
   "metadata": {},
   "outputs": [],
   "source": []
  }
 ],
 "metadata": {
  "kernelspec": {
   "display_name": "Julia 1.6.4",
   "language": "julia",
   "name": "julia-1.6"
  },
  "language_info": {
   "file_extension": ".jl",
   "mimetype": "application/julia",
   "name": "julia",
   "version": "1.6.4"
  },
  "orig_nbformat": 4,
  "vscode": {
   "interpreter": {
    "hash": "610c699f0cd8c4f129acd9140687fff6866bed0eb8e82f249fc8848b827b628c"
   }
  }
 },
 "nbformat": 4,
 "nbformat_minor": 2
}
