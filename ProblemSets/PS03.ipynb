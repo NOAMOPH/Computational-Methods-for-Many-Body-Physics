{
 "cells": [
  {
   "cell_type": "code",
   "execution_count": 3,
   "metadata": {},
   "outputs": [],
   "source": [
    "# using LinearAlgebra\n",
    "# using PyPlot\n",
    "# using RandomMatrix\n",
    "# using ITensors\n",
    "# # using TensorOperations\n",
    "# # using LsqFit\n",
    "using ITensors#, PyPlot, Polynomials"
   ]
  },
  {
   "cell_type": "markdown",
   "metadata": {},
   "source": [
    "# Numerical many-body methods - Problem Set 3 \n",
    "## (DMRG)\n",
    "Noam Ophir"
   ]
  },
  {
   "cell_type": "markdown",
   "metadata": {},
   "source": [
    "# $J_1-J_2$ spin-1/2 chain\n",
    "*In this problem we will revisit the spin-1/2 antiferromagnetic $J_1-J_2$ chain discussed in Problem Set 1, given by the Hamiltonian*\n",
    "$$\n",
    "H\n",
    "=\n",
    "J_1\\sum_i\\vec{S}_i\\cdot\\vec{S}_{i+1}+J_2\\sum_i\\vec{S}_i\\cdot\\vec{S}_{i+2}\n",
    "$$\n",
    "*Recall that the model exhibits a phase transition between a gapless and a dimerized phase at $g_c\\simeq 0.241$, where $g$ is the dimensionless ratio $J_2/J_1$.*\n",
    "\n",
    "*We will now solve the problem using DMRG and employing the ITensor library. In sections 2,3 below use values of $g\\leq1/2$. (For $g > 1/2$ the system is still dimerized but exhibitis incommensurate spin-spin correlations, reminiscent of the classical ordering, which can give rise to large finite-size effects.)*"
   ]
  },
  {
   "cell_type": "markdown",
   "metadata": {},
   "source": [
    "## 1-1\n",
    "*Generalize the construction of the Heisenberg Hamiltonian discussed in class to allow for a finite $J_2$ term.*"
   ]
  },
  {
   "cell_type": "code",
   "execution_count": 11,
   "metadata": {},
   "outputs": [
    {
     "name": "stdout",
     "output_type": "stream",
     "text": [
      "flux(psi0) = QN(\"Sz\",0)\n"
     ]
    },
    {
     "ename": "LoadError",
     "evalue": "MethodError: no method matching sort(::Tuple{Index{Vector{Pair{QN, Int64}}}, Index{Vector{Pair{QN, Int64}}}}; by=ITensors.plev)\n\u001b[0mClosest candidates are:\n\u001b[0m  sort(\u001b[91m::AbstractUnitRange\u001b[39m) at range.jl:1060\u001b[91m got unsupported keyword argument \"by\"\u001b[39m\n\u001b[0m  sort(\u001b[91m::AbstractRange\u001b[39m) at range.jl:1063\u001b[91m got unsupported keyword argument \"by\"\u001b[39m\n\u001b[0m  sort(\u001b[91m::SparseArrays.SparseVector{Tv, Ti}\u001b[39m; kws...) where {Tv, Ti} at /Users/julia/buildbot/worker/package_macos64/build/usr/share/julia/stdlib/v1.6/SparseArrays/src/sparsevector.jl:1942\n\u001b[0m  ...",
     "output_type": "error",
     "traceback": [
      "MethodError: no method matching sort(::Tuple{Index{Vector{Pair{QN, Int64}}}, Index{Vector{Pair{QN, Int64}}}}; by=ITensors.plev)\n\u001b[0mClosest candidates are:\n\u001b[0m  sort(\u001b[91m::AbstractUnitRange\u001b[39m) at range.jl:1060\u001b[91m got unsupported keyword argument \"by\"\u001b[39m\n\u001b[0m  sort(\u001b[91m::AbstractRange\u001b[39m) at range.jl:1063\u001b[91m got unsupported keyword argument \"by\"\u001b[39m\n\u001b[0m  sort(\u001b[91m::SparseArrays.SparseVector{Tv, Ti}\u001b[39m; kws...) where {Tv, Ti} at /Users/julia/buildbot/worker/package_macos64/build/usr/share/julia/stdlib/v1.6/SparseArrays/src/sparsevector.jl:1942\n\u001b[0m  ...",
      "",
      "Stacktrace:",
      " [1] permute(M::MPO, #unused#::Tuple{typeof(linkind), typeof(siteinds), typeof(linkind)})",
      "   @ ITensors ~/.julia/packages/ITensors/t2bln/src/mps/dmrg.jl:13",
      " [2] #dmrg#1019",
      "   @ ~/.julia/packages/ITensors/t2bln/src/mps/dmrg.jl:25 [inlined]",
      " [3] #dmrg#1025",
      "   @ ~/.julia/packages/ITensors/t2bln/src/mps/dmrg.jl:375 [inlined]",
      " [4] top-level scope",
      "   @ In[11]:59"
     ]
    }
   ],
   "source": [
    "function J1J2Hamiltonian(sites, J2)\n",
    "    N = length(sites)\n",
    "    # Initialize an operator sum representing the Hamiltonian using ITensors\n",
    "    ampo = OpSum()\n",
    "\n",
    "    # Construct the Hamiltonian operator for the 1D quantum system\n",
    "    for j = 1:N-1\n",
    "        # Heisenberg interaction term (Sz-Sz)\n",
    "        ampo += \"Sz\", j, \"Sz\", j+1\n",
    "        # Spin-flip terms (S+, S- and S-, S+) with coupling strength 1/2\n",
    "        ampo += 1/2, \"S+\", j, \"S-\", j+1\n",
    "        ampo += 1/2, \"S-\", j, \"S+\", j+1\n",
    "    end\n",
    "    for j = 1:N-2\n",
    "        # Heisenberg interaction term (Sz-Sz)\n",
    "        ampo += J2, \"Sz\", j, \"Sz\", j+2\n",
    "        # Spin-flip terms (S+, S- and S-, S+) with coupling strength 1/2\n",
    "        ampo += J2/2, \"S+\", j, \"S-\", j+2\n",
    "        ampo += J2/2, \"S-\", j, \"S+\", j+2\n",
    "    end\n",
    "\n",
    "    # Convert the operator sum to a Matrix Product Operator (MPO)\n",
    "    H = MPO(ampo, sites)\n",
    "    return H\n",
    "end\n",
    "\n",
    "# Number of sites in the 1D quantum system\n",
    "N = 100\n",
    "\n",
    "# Generate an index set representing quantum sites with spin S=1/2, conserving quantum numbers\n",
    "sites = siteinds(\"S=1/2\", N; conserve_qns=true)\n",
    "\n",
    "# # Initialize an operator sum representing the Hamiltonian using ITensors\n",
    "# ampo = OpSum()\n",
    "\n",
    "state0 = [isodd(n) ? \"Up\" : \"Dn\" for n=1:N]\n",
    "\n",
    "# Initialize the initial state to an antiferromagnetic (AFM) state with total Sz=0\n",
    "psi0 = productMPS(sites, state0)\n",
    "\n",
    "# Display the total flux of the initial state\n",
    "@show flux(psi0)\n",
    "\n",
    "# Set up parameters for the DMRG (Density Matrix Renormalization Group) algorithm\n",
    "nsweeps = Sweeps(10)\n",
    "setmaxdim!(sweeps, 20, 50, 100)\n",
    "setcutoff!(sweeps, 1E-12)\n",
    "\n",
    "# Perform the DMRG simulation to obtain the ground state energy and MPS representation\n",
    "J2 = 1.0\n",
    "H = J1J2Hamiltonian(sites, J2)\n",
    "\n",
    "# @show length(H)\n",
    "# @show length(psi0)\n",
    "# @show typeof(sweeps)\n",
    "# dmrg(H,stateMPS_i; nsweeps=nu_sweep, maxdim=maxdim, cutoff=1E-10, noise=noise_arr)\n",
    "# E, psi = dmrg(H, psi0; nsweeps=sweeps, maxdim=100, cutoff=1E-10);\n",
    "# energy, psi = dmrg(H, psi0, sweeps)\n",
    "energy,psi = dmrg(H,psi0; nsweeps=10, maxdim=10, cutoff=1E-10)"
   ]
  },
  {
   "cell_type": "markdown",
   "metadata": {},
   "source": [
    "## 1-2\n",
    "*Perform finite-size scaling of the triplet gap (i.e. the energy gap between the ground state in the $S^z = 0$ sector to the lowest state in the $S^z = 1$ sector) for different values of $g$ across the phase transition. To find the lowest energy state in each $S^z$ sector you will need to make sure that the initial state is in the same $S^z$ sector. You can now easily access system sizes of up to $N = 100$ sites (performing e.g. 10 sweeps with bond dimensions of order 100), but to clearly observe a finite gap for $g > g_c$ it is still advisable to consider values of g close enough to $g = 1/2$.*"
   ]
  },
  {
   "cell_type": "code",
   "execution_count": 1,
   "metadata": {},
   "outputs": [
    {
     "name": "stdout",
     "output_type": "stream",
     "text": [
      "hello world"
     ]
    }
   ],
   "source": [
    "print(\"hello world\")"
   ]
  },
  {
   "cell_type": "markdown",
   "metadata": {},
   "source": [
    "## 1-3\n",
    "*Calculate the spin-spin correlations (i.e. the expectation value of $\\langle\\vec{S}_{x_0} \\cdot \\vec{S}_{x_0+x} \\rangle$ as function of $x$) for different values of g across the phase transition. Show that for $g\\leq g_c$ the correlations decay as a power law (i.e.  $1/x^\\alpha$), while for $g > g_c$ the decay is exponential (i.e. $\\sim\\exp(-x\\xi)$) . Use system sizes of $N = 200$ sites and calculate the correlations with respect to a site in the middle of the system to avoid boundary effects. (Recall that we are now working with open boundary conditions as opposed to all the calculations we performed using Exact Diagonalization.) For $g\\leq g_c$ calculate the exponent $\\alpha$, and for $g > g_c$ obtain the correlation length $\\xi$. Note: to obtain the spin-spin correlations you can use the built in ITensor function `correlation matrix(psi,\"Sz\",\"Sz\")` that calculates the full correlation matrix $\\langle \\psi|S^z_i S^z_j|\\psi \\rangle$ for every pair of sites $(i,j)$ in the system.*"
   ]
  },
  {
   "cell_type": "code",
   "execution_count": null,
   "metadata": {},
   "outputs": [],
   "source": []
  },
  {
   "cell_type": "markdown",
   "metadata": {},
   "source": [
    "# Spin-1 chain - Haldane gap\n",
    "*In this problem we will consider the spin-1 bilinear-biquadtatic model*\n",
    "$$H=\\sum_i J_1 \\vec{S}_i\\cdot\\vec{S}_{i+1} + J_2 \\left( \\vec{S}_i\\cdot\\vec{S}_{i+1} \\right)^2 $$\n",
    "*As discussed in the tutorial and in Problem Set 2, for $J_2/J_1 = 1/3$ the model is exactly solvable,and the ground state can be written explicitly as an MPS of bind dimension $M = 2$. At this point you observed that the ground state is four-fold degenerate for open boundary conditions and that the edges feature fractionalized spin-1/2 states.*\n",
    "\n",
    "*In this problem you will show that when $J_2\\rightarrow0$ the system remains in the same phase, i.e. it is gapped, and hosts fractionalized edge mods.*"
   ]
  },
  {
   "cell_type": "markdown",
   "metadata": {},
   "source": [
    "## 2-1\n",
    "*Consider different values of $J_2$ ranging between $1/3$ and $0$ and show that the system remains gapped within this range. To this end, perform finite-size scaling of the bulk gap. Note that to probe the bulk gap in this case you will need to look at the $S^z = 2$ sector, as the lowest energy state in the $S^z = 1$ sector simply accumulates the extra spin at the edges of the system (you'll check this in the next section).*"
   ]
  },
  {
   "cell_type": "code",
   "execution_count": null,
   "metadata": {},
   "outputs": [],
   "source": []
  },
  {
   "cell_type": "markdown",
   "metadata": {},
   "source": [
    "## 2-2\n",
    "*For the same values of $J_2$ as above, calculate the gap between the $S^z = 1$ and $S^z = 0$ sectors.Show that the gap decays exponentially with system size (i.e. the states are degenerate in the thermodynamic limit). Calculate the local expectation value of $S^z$ along the chain in the lowest energy state with $S^z = 1$ and show that the total spin accumulated near each edge is $\\pm 1/2$.*"
   ]
  },
  {
   "cell_type": "code",
   "execution_count": null,
   "metadata": {},
   "outputs": [],
   "source": []
  }
 ],
 "metadata": {
  "kernelspec": {
   "display_name": "Julia 1.6.7",
   "language": "julia",
   "name": "julia-1.6"
  },
  "language_info": {
   "file_extension": ".jl",
   "mimetype": "application/julia",
   "name": "julia",
   "version": "1.6.7"
  },
  "orig_nbformat": 4,
  "vscode": {
   "interpreter": {
    "hash": "610c699f0cd8c4f129acd9140687fff6866bed0eb8e82f249fc8848b827b628c"
   }
  }
 },
 "nbformat": 4,
 "nbformat_minor": 2
}
