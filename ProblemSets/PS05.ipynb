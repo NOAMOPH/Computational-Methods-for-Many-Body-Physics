{
 "cells": [
  {
   "cell_type": "code",
   "execution_count": 4,
   "metadata": {},
   "outputs": [],
   "source": [
    "using PyPlot, LsqFit, Polynomials, Random, Statistics, CurveFit, ProgressBars"
   ]
  },
  {
   "cell_type": "markdown",
   "metadata": {},
   "source": [
    "# Numerical many-body methods - Problem Set 5\n",
    "## (Quantum Monte Carlo)\n",
    "Noam Ophir"
   ]
  },
  {
   "cell_type": "markdown",
   "metadata": {},
   "source": [
    "# 1D Transverse Field Ising Model\n",
    "\n",
    "*In this problem we will consider the transverse field Ising model in 1D, given by the following Hamiltonian*\n",
    "$$\n",
    "H=-J\\sum_i \\sigma^z_i \\sigma^z_{i+1} - h \\sum_i \\sigma^x_i\n",
    "$$\n",
    "*As we saw in class, this model is exactly solvable (using the Jordan-Wigner transformation) and at $T = 0$ features a phase transition between an ordered ferromagnetic ground state at $h/J < 1$ and a paramagnetic state at $h/J > 1$. We also showed, that the quantum partition function $Z = \\mathrm{Tr}(e^{-\\beta H})$ for this model can be mapped to the classical partition function of an anistropic 2D Ising model:*\n",
    "$$\n",
    "Z\n",
    "=\n",
    "\\sum_{\\sigma_{i,n}^z}\n",
    "\\exp\\left(\n",
    "\\sum_{x,n}\n",
    "\\Big[\n",
    "J_x \\sigma^z_{i,n}\\sigma^z_{i+1,n}\n",
    "+J_\\tau \\sigma^z_{i,n} \\sigma^z_{i,n+1}\n",
    "\\Big]\n",
    "\\right)\\;,\n",
    "$$\n",
    "*where the couplings along the spatial and imaginary time directions are given by $J_x = J \\Delta \\tau$ and $J_\\tau  = \\log(\\coth(\\Delta \\tau h))/2$ respectively, and the size of the system along the imaginary time direction is $N_\\tau = \\beta/\\Delta \\tau$ (where $\\beta$ is the inverse temperature $1/T$).*"
   ]
  },
  {
   "cell_type": "markdown",
   "metadata": {},
   "source": [
    "## 1\n",
    "*Adjust the code we used in class for the classical 2D Ising model, to study the 1D transverse field Ising model. Use the Wolff cluster update algorithm and think how it should be modified for the anisotropic case.*"
   ]
  },
  {
   "cell_type": "code",
   "execution_count": 5,
   "metadata": {},
   "outputs": [
    {
     "data": {
      "text/plain": [
       "NearestNeighbors (generic function with 1 method)"
      ]
     },
     "metadata": {},
     "output_type": "display_data"
    }
   ],
   "source": [
    "### Tutorial functions\n",
    "struct Point2D\n",
    "    x::Int64\n",
    "    tau::Int64\n",
    "end\n",
    "\n",
    "struct Chain_time_grid\n",
    "    Nx::Int64\n",
    "    Ntau::Int64    \n",
    "end\n",
    "\n",
    "import Base.length\n",
    "function length(lat::Chain_time_grid)\n",
    "    return lat.Nx*lat.Ntau\n",
    "end\n",
    "\n",
    "function PointToIndex(lat::Chain_time_grid, r::Point2D)\n",
    "    @assert r.x <= lat.Nx \"Site x coordinate exceeding lattice length\"\n",
    "    @assert r.tau <= lat.Ntau \"Site y coordinate exceeding lattice width\"\n",
    "    \n",
    "    return (r.tau-1)*lat.Nx + r.x\n",
    "end\n",
    "\n",
    "function IndexToPoint(lat::Chain_time_grid, ind::Int64)\n",
    "    \n",
    "    @assert ind <= length(lat) \"Site index exceeding lattice size\"\n",
    "    \n",
    "    tau = div(ind-1, lat.Nx)+1\n",
    "    x = mod(ind-1, lat.Nx)+1\n",
    "\n",
    "    return Point2D(x,tau)\n",
    "end\n",
    "    \n",
    "function NearestNeighbors(lat::Chain_time_grid, ind::Int64)\n",
    "\n",
    "    r = IndexToPoint(lat, ind)\n",
    "    \n",
    "    nn = zeros(Int64,4)\n",
    "    \n",
    "    xp = mod(r.x, lat.Nx)+1\n",
    "    xm = mod(r.x-2, lat.Nx)+1\n",
    "    taup = mod(r.tau, lat.Ntau)+1\n",
    "    taum = mod(r.tau-2, lat.Ntau)+1\n",
    "    \n",
    "    nn[1] = PointToIndex(lat, Point2D(xm, r.tau) )\n",
    "    nn[2] = PointToIndex(lat, Point2D(xp, r.tau) )\n",
    "    nn[3] = PointToIndex(lat, Point2D(r.x, taum) )\n",
    "    nn[4] = PointToIndex(lat, Point2D(r.x, taup) )\n",
    "    \n",
    "    return nn\n",
    "end"
   ]
  },
  {
   "cell_type": "code",
   "execution_count": 14,
   "metadata": {},
   "outputs": [
    {
     "data": {
      "text/plain": [
       "TFIM_MC (generic function with 1 method)"
      ]
     },
     "metadata": {},
     "output_type": "display_data"
    }
   ],
   "source": [
    "function WolffUpdate!(lat::Chain_time_grid, config::Vector{Int64}, Jx::Float64, Jtau::Float64)\n",
    "    N = length(lat)\n",
    "    @assert N == length(config) \"Configuration incompatible with lattice size\"\n",
    "    ind = rand(1:N)\n",
    "\n",
    "    cluster = Int64[] \n",
    "    RealSpaceCandidates = Int64[] \n",
    "    # ImTimeCandidates = Int64[] \n",
    "    newlyAdded = Int64[]\n",
    "\n",
    "    push!(cluster, ind)\n",
    "    append!(RealSpaceCandidates, NearestNeighbors(lat, ind)[1:2])\n",
    "    # append!(ImTimeCandidates, NearestNeighbors(lat, ind)[3:4])\n",
    "    append!(newlyAdded, NearestNeighbors(lat, ind))\n",
    "\n",
    "    \n",
    "    # Perform the Wolff algorithm until the cluster is empty\n",
    "    while !isempty(newlyAdded)\n",
    "        j = pop!(newlyAdded)\n",
    "        \n",
    "        # Skip if already in the cluster\n",
    "        if j in cluster\n",
    "            continue\n",
    "        end\n",
    "        \n",
    "        if config[j] == config[ind]\n",
    "            if j in RealSpaceCandidates \n",
    "                filter!(x -> x != j, RealSpaceCandidates)\n",
    "                if rand() < (1. - exp(-2*Jx))\n",
    "                    push!(cluster, j)\n",
    "                    \n",
    "                    nn = NearestNeighbors(lat, j)\n",
    "                    append!(newlyAdded, nn)\n",
    "                    append!(RealSpaceCandidates, nn[1:2])\n",
    "                end\n",
    "            else\n",
    "                if rand() < (1. - exp(-2*Jtau))\n",
    "                    push!(cluster, j)\n",
    "                    \n",
    "                    nn = NearestNeighbors(lat, j)\n",
    "                    append!(newlyAdded, nn)\n",
    "                    append!(RealSpaceCandidates, nn[1:2])\n",
    "                end\n",
    "            end\n",
    "        end\n",
    "    end\n",
    "\n",
    "    # Candidates = []\n",
    "\n",
    "    # nn = NearestNeighbors(lat, ind)\n",
    "    # append!(Candidates, [[nn[1],0]])\n",
    "    # append!(Candidates, [[nn[2],0]])\n",
    "    # append!(Candidates, [[nn[3],1]])\n",
    "    # append!(Candidates, [[nn[4],1]])\n",
    "\n",
    "    # while !isempty(Candidates)\n",
    "    #     candidate = pop!(Candidates)\n",
    "\n",
    "    #     if candidate[1] in cluster\n",
    "    #         continue\n",
    "    #     end\n",
    "\n",
    "    #     if candidate[2] == 0\n",
    "    #         p = 1. - exp(-2*Jx)\n",
    "    #     else\n",
    "    #         p = 1. - exp(-2*Jtau)\n",
    "    #     end\n",
    "\n",
    "    #     if config[candidate[1]] == config[ind] && rand() < p\n",
    "    #         push!(cluster, candidate[1])\n",
    "    #         nn = NearestNeighbors(lat, candidate[1])\n",
    "    #         append!(Candidates, [[nn[1],0]])\n",
    "    #         append!(Candidates, [[nn[2],0]])\n",
    "    #         append!(Candidates, [[nn[3],1]])\n",
    "    #         append!(Candidates, [[nn[4],1]])\n",
    "    #     end\n",
    "    # end\n",
    "    # @show length(cluster)\n",
    "    # Flip the spins in the cluster\n",
    "    # @show mean(config[cluster])\n",
    "    config[cluster] *= -1\n",
    "    # @show mean(config[cluster])\n",
    "end\n",
    "\n",
    "function TFIM_MC(Nx::Int64, T::Float64, dtau::Float64, h::Float64, Nsw::Int64, Neq::Int64)\n",
    "    Jx = dtau\n",
    "    Jtau = log(coth(dtau*h))/2\n",
    "    beta = 1/T\n",
    "    Ntau = Int64(beta/dtau)\n",
    "\n",
    "    lat = Chain_time_grid(Nx,Ntau)\n",
    "    m1 = Float64[]\n",
    "    m2 = Float64[]\n",
    "    m4 = Float64[]\n",
    "    # @show 1. - exp(-2*Jx)\n",
    "    # @show 1. - exp(-2*Jtau)\n",
    "\n",
    "    # configs[:,1:Ntau] = rand(0:1, Nx,Ntau)\n",
    "    config = 2 .* rand(0:1, length(lat)) .- 1\n",
    "    for i in range(1, stop=Neq)\n",
    "        # @show mean(mean(reshape(config,(Nx,Ntau)),dims=1))\n",
    "        WolffUpdate!(lat, config, Jx, Jtau)\n",
    "        # @show mean(mean(reshape(config,(Nx,Ntau)),dims=1))\n",
    "    end\n",
    "    for i in range(1, stop=Nsw)\n",
    "        WolffUpdate!(lat, config, Jx, Jtau)\n",
    "        append!(m1,mean(abs.(mean(reshape(config,(Nx,Ntau)),dims=1))))\n",
    "        append!(m2,mean(mean(reshape(config,(Nx,Ntau)),dims=1) .^2))\n",
    "        append!(m4,mean(mean(reshape(config,(Nx,Ntau)),dims=1) .^4))\n",
    "    end\n",
    "    # @show reshape(config,(Nx,Ntau))\n",
    "    return mean(m1), mean(m2), mean(m4) #, reshape(config,(Nx,Ntau))\n",
    "end"
   ]
  },
  {
   "cell_type": "markdown",
   "metadata": {},
   "source": [
    "## 2 \n",
    "\n",
    "*Calculate the absolute value of the magnetization as function of $h/J$ across the phase transition for different system sizes (e.g. $N_x = 8, 16, 32$). Perform the calculation in the low temperature limit, e.g. $T/J = 0.1$, and using a small enough imaginary time step of e.g. $\\Delta\\tau J = 0.1$. **Be careful with the calculation of expectation values!***"
   ]
  },
  {
   "cell_type": "code",
   "execution_count": 17,
   "metadata": {},
   "outputs": [
    {
     "name": "stdout",
     "output_type": "stream",
     "text": [
      "0.08\n",
      "0.0"
     ]
    },
    {
     "name": "stdout",
     "output_type": "stream",
     "text": [
      "16\n"
     ]
    },
    {
     "name": "stdout",
     "output_type": "stream",
     "text": [
      "0.032\n",
      "0.1"
     ]
    },
    {
     "name": "stdout",
     "output_type": "stream",
     "text": [
      "8\n"
     ]
    },
    {
     "name": "stdout",
     "output_type": "stream",
     "text": [
      "0.116\n",
      "0.1"
     ]
    },
    {
     "name": "stdout",
     "output_type": "stream",
     "text": [
      "32\n"
     ]
    },
    {
     "name": "stdout",
     "output_type": "stream",
     "text": [
      "0.28\n",
      "0.2"
     ]
    },
    {
     "name": "stdout",
     "output_type": "stream",
     "text": [
      "16\n"
     ]
    },
    {
     "name": "stdout",
     "output_type": "stream",
     "text": [
      "0.232\n",
      "0.3"
     ]
    },
    {
     "name": "stdout",
     "output_type": "stream",
     "text": [
      "8\n"
     ]
    },
    {
     "name": "stdout",
     "output_type": "stream",
     "text": [
      "0.316\n",
      "0.3"
     ]
    },
    {
     "name": "stdout",
     "output_type": "stream",
     "text": [
      "32\n"
     ]
    },
    {
     "name": "stdout",
     "output_type": "stream",
     "text": [
      "0.48\n",
      "0.4"
     ]
    },
    {
     "name": "stdout",
     "output_type": "stream",
     "text": [
      "16\n"
     ]
    },
    {
     "name": "stdout",
     "output_type": "stream",
     "text": [
      "0.432\n",
      "0.5"
     ]
    },
    {
     "name": "stdout",
     "output_type": "stream",
     "text": [
      "8\n"
     ]
    },
    {
     "name": "stdout",
     "output_type": "stream",
     "text": [
      "0.516\n",
      "0.5"
     ]
    },
    {
     "name": "stdout",
     "output_type": "stream",
     "text": [
      "32\n"
     ]
    },
    {
     "name": "stdout",
     "output_type": "stream",
     "text": [
      "0.68\n",
      "0.6"
     ]
    },
    {
     "name": "stdout",
     "output_type": "stream",
     "text": [
      "16\n"
     ]
    },
    {
     "name": "stdout",
     "output_type": "stream",
     "text": [
      "0.632\n",
      "0.7"
     ]
    },
    {
     "name": "stdout",
     "output_type": "stream",
     "text": [
      "8\n"
     ]
    },
    {
     "name": "stdout",
     "output_type": "stream",
     "text": [
      "0.716\n",
      "0.7"
     ]
    },
    {
     "name": "stdout",
     "output_type": "stream",
     "text": [
      "32\n"
     ]
    },
    {
     "name": "stdout",
     "output_type": "stream",
     "text": [
      "0.88\n",
      "0.8"
     ]
    },
    {
     "name": "stdout",
     "output_type": "stream",
     "text": [
      "16\n"
     ]
    },
    {
     "name": "stdout",
     "output_type": "stream",
     "text": [
      "0.832\n",
      "0.9"
     ]
    },
    {
     "name": "stdout",
     "output_type": "stream",
     "text": [
      "8\n"
     ]
    },
    {
     "name": "stdout",
     "output_type": "stream",
     "text": [
      "0.916\n",
      "0.9"
     ]
    },
    {
     "name": "stdout",
     "output_type": "stream",
     "text": [
      "32\n"
     ]
    },
    {
     "name": "stdout",
     "output_type": "stream",
     "text": [
      "1.08\n",
      "1.0"
     ]
    },
    {
     "name": "stdout",
     "output_type": "stream",
     "text": [
      "16\n"
     ]
    },
    {
     "name": "stdout",
     "output_type": "stream",
     "text": [
      "1.032\n",
      "1.1"
     ]
    },
    {
     "name": "stdout",
     "output_type": "stream",
     "text": [
      "8\n"
     ]
    },
    {
     "name": "stdout",
     "output_type": "stream",
     "text": [
      "1.116\n",
      "1.1"
     ]
    },
    {
     "name": "stdout",
     "output_type": "stream",
     "text": [
      "32\n"
     ]
    },
    {
     "name": "stdout",
     "output_type": "stream",
     "text": [
      "1.28\n",
      "1.2"
     ]
    },
    {
     "name": "stdout",
     "output_type": "stream",
     "text": [
      "16\n"
     ]
    },
    {
     "name": "stdout",
     "output_type": "stream",
     "text": [
      "1.232\n",
      "1.3"
     ]
    },
    {
     "name": "stdout",
     "output_type": "stream",
     "text": [
      "8\n"
     ]
    },
    {
     "name": "stdout",
     "output_type": "stream",
     "text": [
      "1.316\n",
      "1.3"
     ]
    },
    {
     "name": "stdout",
     "output_type": "stream",
     "text": [
      "32\n"
     ]
    },
    {
     "name": "stdout",
     "output_type": "stream",
     "text": [
      "1.48\n",
      "1.4"
     ]
    },
    {
     "name": "stdout",
     "output_type": "stream",
     "text": [
      "16\n"
     ]
    },
    {
     "name": "stdout",
     "output_type": "stream",
     "text": [
      "1.432\n",
      "1.5"
     ]
    },
    {
     "name": "stdout",
     "output_type": "stream",
     "text": [
      "8\n"
     ]
    },
    {
     "name": "stdout",
     "output_type": "stream",
     "text": [
      "1.516\n",
      "1.5"
     ]
    },
    {
     "name": "stdout",
     "output_type": "stream",
     "text": [
      "32\n"
     ]
    },
    {
     "name": "stdout",
     "output_type": "stream",
     "text": [
      "1.68\n",
      "1.6"
     ]
    },
    {
     "name": "stdout",
     "output_type": "stream",
     "text": [
      "16\n"
     ]
    },
    {
     "name": "stdout",
     "output_type": "stream",
     "text": [
      "1.632\n",
      "1.7"
     ]
    },
    {
     "name": "stdout",
     "output_type": "stream",
     "text": [
      "8\n"
     ]
    },
    {
     "name": "stdout",
     "output_type": "stream",
     "text": [
      "1.716\n",
      "1.7"
     ]
    },
    {
     "name": "stdout",
     "output_type": "stream",
     "text": [
      "32\n"
     ]
    },
    {
     "name": "stdout",
     "output_type": "stream",
     "text": [
      "1.88\n",
      "1.8"
     ]
    },
    {
     "name": "stdout",
     "output_type": "stream",
     "text": [
      "16\n"
     ]
    },
    {
     "name": "stdout",
     "output_type": "stream",
     "text": [
      "1.832\n",
      "1.9"
     ]
    },
    {
     "name": "stdout",
     "output_type": "stream",
     "text": [
      "8\n"
     ]
    },
    {
     "name": "stdout",
     "output_type": "stream",
     "text": [
      "1.916\n",
      "1.9"
     ]
    },
    {
     "name": "stdout",
     "output_type": "stream",
     "text": [
      "32\n"
     ]
    },
    {
     "name": "stdout",
     "output_type": "stream",
     "text": [
      "2.08\n",
      "2.0"
     ]
    },
    {
     "name": "stdout",
     "output_type": "stream",
     "text": [
      "16\n"
     ]
    },
    {
     "name": "stdout",
     "output_type": "stream",
     "text": [
      "2.032\n"
     ]
    }
   ],
   "source": [
    "Nxs = [8, 16 ,32]\n",
    "hs = 0:0.1:2.0\n",
    "T = 0.1\n",
    "dtau = 0.1\n",
    "Nsw = 10000\n",
    "Neq = 1000\n",
    "\n",
    "m1 = zeros(length(Nxs), length(hs))\n",
    "m2 = zeros(length(Nxs), length(hs))\n",
    "m4 = zeros(length(Nxs), length(hs))\n",
    "\n",
    "for (i,h) in enumerate(hs)\n",
    "    for (j,Nx) in enumerate(Nxs)\n",
    "        println(h, Nx)\n",
    "        m1[j,i], m2[j,i], m4[j,i] = TFIM_MC(Nx, T, dtau, h, Nsw, Neq)\n",
    "        # @show typeof(res)\n",
    "    end\n",
    "end"
   ]
  },
  {
   "cell_type": "code",
   "execution_count": 18,
   "metadata": {},
   "outputs": [
    {
     "data": {
      "text/plain": [
       "3×21 Matrix{Float64}:\n",
       " 1.0  0.99945   0.997823  0.994538  0.989674  …  0.427114  0.414633  0.401249\n",
       " 1.0  0.999421  0.99772   0.994574  0.9894       0.294626  0.290406  0.280231\n",
       " 1.0  0.999409  0.997692  0.994494  0.989321     0.208667  0.205017  0.198138"
      ]
     },
     "metadata": {},
     "output_type": "display_data"
    }
   ],
   "source": [
    "m1"
   ]
  },
  {
   "cell_type": "code",
   "execution_count": 25,
   "metadata": {},
   "outputs": [
    {
     "data": {
      "image/png": "[encoded data removed]",
      "text/plain": [
       "Figure(PyObject <Figure size 800x400 with 1 Axes>)"
      ]
     },
     "metadata": {},
     "output_type": "display_data"
    }
   ],
   "source": [
    "fig, ax = subplots(figsize=(8,4))\n",
    "\n",
    "for i = 1:3\n",
    "    ax.plot(hs,m1[i,:],\"-o\")\n",
    "end\n",
    "ax.set_xlabel(L\"$h/J$\",fontsize=16)\n",
    "ax.set_ylabel(L\"\\langle m \\rangle\",fontsize=16)\n",
    "ax.grid()\n",
    "gcf()"
   ]
  },
  {
   "cell_type": "markdown",
   "metadata": {},
   "source": [
    "## 3\n",
    "\n",
    "*Calculate the Binder cumulant*\n",
    "$$\n",
    "U_2 = \n",
    "\\frac{3}{2}\n",
    "\\left(\n",
    "1\n",
    "-\n",
    "\\frac{1}{3}\\frac{\\langle m^4 \\rangle}{\\langle m^2 \\rangle^2}\n",
    "\\right)$$\n",
    "*as function of *h/J* across the phase transition for different system sizes (as above), and check that the curves for different system sizes indeed cross at the phase transition point $h/J = 1$. **Again, be careful with the calculation of the expectation values of the higher moments of magnetization!***"
   ]
  },
  {
   "cell_type": "code",
   "execution_count": 26,
   "metadata": {},
   "outputs": [
    {
     "data": {
      "image/png": "[encoded data removed]",
      "text/plain": [
       "Figure(PyObject <Figure size 800x400 with 1 Axes>)"
      ]
     },
     "metadata": {},
     "output_type": "display_data"
    }
   ],
   "source": [
    "U2 = 3 .* ( 1 .- m4 ./ (3 .* m2 .^ 2)) ./ 2\n",
    "\n",
    "fig, ax = subplots(figsize=(8,4))\n",
    "\n",
    "for i = 1:3\n",
    "    ax.plot(hs,U2[i,:],\"-o\")\n",
    "end\n",
    "ax.set_xlabel(L\"$h/J$\",fontsize=16)\n",
    "ax.set_ylabel(L\"U_2 = \\frac{3}{2}\\left(1-\\frac{\\langle m^4 \\rangle}{3 \\langle m^2 \\rangle^2}\\right)\",fontsize=16)\n",
    "ax.grid()\n",
    "gcf()"
   ]
  },
  {
   "cell_type": "code",
   "execution_count": 27,
   "metadata": {},
   "outputs": [
    {
     "name": "stdout",
     "output_type": "stream",
     "text": [
      "0.98\n",
      "0.9"
     ]
    },
    {
     "name": "stdout",
     "output_type": "stream",
     "text": [
      "16\n"
     ]
    },
    {
     "name": "stdout",
     "output_type": "stream",
     "text": [
      "0.932\n",
      "0.91"
     ]
    },
    {
     "name": "stdout",
     "output_type": "stream",
     "text": [
      "8\n"
     ]
    },
    {
     "name": "stdout",
     "output_type": "stream",
     "text": [
      "0.9116\n",
      "0.91"
     ]
    },
    {
     "name": "stdout",
     "output_type": "stream",
     "text": [
      "32\n"
     ]
    },
    {
     "name": "stdout",
     "output_type": "stream",
     "text": [
      "0.928\n",
      "0.92"
     ]
    },
    {
     "name": "stdout",
     "output_type": "stream",
     "text": [
      "16\n"
     ]
    },
    {
     "name": "stdout",
     "output_type": "stream",
     "text": [
      "0.9232\n",
      "0.93"
     ]
    },
    {
     "name": "stdout",
     "output_type": "stream",
     "text": [
      "8\n"
     ]
    },
    {
     "name": "stdout",
     "output_type": "stream",
     "text": [
      "0.9316\n",
      "0.93"
     ]
    },
    {
     "name": "stdout",
     "output_type": "stream",
     "text": [
      "32\n"
     ]
    },
    {
     "name": "stdout",
     "output_type": "stream",
     "text": [
      "0.948\n",
      "0.94"
     ]
    },
    {
     "name": "stdout",
     "output_type": "stream",
     "text": [
      "16\n"
     ]
    },
    {
     "name": "stdout",
     "output_type": "stream",
     "text": [
      "0.9432\n",
      "0.95"
     ]
    },
    {
     "name": "stdout",
     "output_type": "stream",
     "text": [
      "8\n"
     ]
    },
    {
     "name": "stdout",
     "output_type": "stream",
     "text": [
      "0.9516\n",
      "0.95"
     ]
    },
    {
     "name": "stdout",
     "output_type": "stream",
     "text": [
      "32\n"
     ]
    },
    {
     "name": "stdout",
     "output_type": "stream",
     "text": [
      "0.968\n",
      "0.96"
     ]
    },
    {
     "name": "stdout",
     "output_type": "stream",
     "text": [
      "16\n"
     ]
    },
    {
     "name": "stdout",
     "output_type": "stream",
     "text": [
      "0.9632\n",
      "0.97"
     ]
    },
    {
     "name": "stdout",
     "output_type": "stream",
     "text": [
      "8\n"
     ]
    },
    {
     "name": "stdout",
     "output_type": "stream",
     "text": [
      "0.9716\n",
      "0.97"
     ]
    },
    {
     "name": "stdout",
     "output_type": "stream",
     "text": [
      "32\n"
     ]
    },
    {
     "name": "stdout",
     "output_type": "stream",
     "text": [
      "0.988\n",
      "0.98"
     ]
    },
    {
     "name": "stdout",
     "output_type": "stream",
     "text": [
      "16\n"
     ]
    },
    {
     "name": "stdout",
     "output_type": "stream",
     "text": [
      "0.9832\n",
      "0.99"
     ]
    },
    {
     "name": "stdout",
     "output_type": "stream",
     "text": [
      "8\n"
     ]
    },
    {
     "name": "stdout",
     "output_type": "stream",
     "text": [
      "0.9916\n",
      "0.99"
     ]
    },
    {
     "name": "stdout",
     "output_type": "stream",
     "text": [
      "32\n"
     ]
    },
    {
     "name": "stdout",
     "output_type": "stream",
     "text": [
      "1.08\n",
      "1.0"
     ]
    },
    {
     "name": "stdout",
     "output_type": "stream",
     "text": [
      "16\n"
     ]
    },
    {
     "name": "stdout",
     "output_type": "stream",
     "text": [
      "1.032\n",
      "1.01"
     ]
    },
    {
     "name": "stdout",
     "output_type": "stream",
     "text": [
      "8\n"
     ]
    },
    {
     "name": "stdout",
     "output_type": "stream",
     "text": [
      "1.0116\n",
      "1.01"
     ]
    },
    {
     "name": "stdout",
     "output_type": "stream",
     "text": [
      "32\n"
     ]
    },
    {
     "name": "stdout",
     "output_type": "stream",
     "text": [
      "1.028\n",
      "1.02"
     ]
    },
    {
     "name": "stdout",
     "output_type": "stream",
     "text": [
      "16\n"
     ]
    },
    {
     "name": "stdout",
     "output_type": "stream",
     "text": [
      "1.0232\n",
      "1.03"
     ]
    },
    {
     "name": "stdout",
     "output_type": "stream",
     "text": [
      "8\n"
     ]
    },
    {
     "name": "stdout",
     "output_type": "stream",
     "text": [
      "1.0316\n",
      "1.03"
     ]
    },
    {
     "name": "stdout",
     "output_type": "stream",
     "text": [
      "32\n"
     ]
    },
    {
     "name": "stdout",
     "output_type": "stream",
     "text": [
      "1.048\n",
      "1.04"
     ]
    },
    {
     "name": "stdout",
     "output_type": "stream",
     "text": [
      "16\n"
     ]
    },
    {
     "name": "stdout",
     "output_type": "stream",
     "text": [
      "1.0432\n",
      "1.05"
     ]
    },
    {
     "name": "stdout",
     "output_type": "stream",
     "text": [
      "8\n"
     ]
    },
    {
     "name": "stdout",
     "output_type": "stream",
     "text": [
      "1.0516\n",
      "1.05"
     ]
    },
    {
     "name": "stdout",
     "output_type": "stream",
     "text": [
      "32\n"
     ]
    },
    {
     "name": "stdout",
     "output_type": "stream",
     "text": [
      "1.068\n",
      "1.06"
     ]
    },
    {
     "name": "stdout",
     "output_type": "stream",
     "text": [
      "16\n"
     ]
    },
    {
     "name": "stdout",
     "output_type": "stream",
     "text": [
      "1.0632\n",
      "1.07"
     ]
    },
    {
     "name": "stdout",
     "output_type": "stream",
     "text": [
      "8\n"
     ]
    },
    {
     "name": "stdout",
     "output_type": "stream",
     "text": [
      "1.0716\n",
      "1.07"
     ]
    },
    {
     "name": "stdout",
     "output_type": "stream",
     "text": [
      "32\n"
     ]
    },
    {
     "name": "stdout",
     "output_type": "stream",
     "text": [
      "1.088\n",
      "1.08"
     ]
    },
    {
     "name": "stdout",
     "output_type": "stream",
     "text": [
      "16\n"
     ]
    },
    {
     "name": "stdout",
     "output_type": "stream",
     "text": [
      "1.0832\n",
      "1.09"
     ]
    },
    {
     "name": "stdout",
     "output_type": "stream",
     "text": [
      "8\n"
     ]
    },
    {
     "name": "stdout",
     "output_type": "stream",
     "text": [
      "1.0916\n",
      "1.09"
     ]
    },
    {
     "name": "stdout",
     "output_type": "stream",
     "text": [
      "32\n"
     ]
    },
    {
     "name": "stdout",
     "output_type": "stream",
     "text": [
      "1.18\n",
      "1.1"
     ]
    },
    {
     "name": "stdout",
     "output_type": "stream",
     "text": [
      "16\n"
     ]
    },
    {
     "name": "stdout",
     "output_type": "stream",
     "text": [
      "1.132\n"
     ]
    }
   ],
   "source": [
    "Nxs = [8, 16 ,32]\n",
    "hs = 0.9:0.01:1.1\n",
    "T = 0.1\n",
    "dtau = 0.1\n",
    "Nsw = 10000\n",
    "Neq = 1000\n",
    "\n",
    "m1 = zeros(length(Nxs), length(hs))\n",
    "m2 = zeros(length(Nxs), length(hs))\n",
    "m4 = zeros(length(Nxs), length(hs))\n",
    "\n",
    "for (i,h) in enumerate(hs)\n",
    "    for (j,Nx) in enumerate(Nxs)\n",
    "        println(h, Nx)\n",
    "        m1[j,i], m2[j,i], m4[j,i] = TFIM_MC(Nx, T, dtau, h, Nsw, Neq)\n",
    "        # @show typeof(res)\n",
    "    end\n",
    "end"
   ]
  },
  {
   "cell_type": "code",
   "execution_count": 28,
   "metadata": {},
   "outputs": [
    {
     "data": {
      "image/png": "[encoded data removed]",
      "text/plain": [
       "Figure(PyObject <Figure size 800x400 with 1 Axes>)"
      ]
     },
     "metadata": {},
     "output_type": "display_data"
    }
   ],
   "source": [
    "U2 = 3 .* ( 1 .- m4 ./ (3 .* m2 .^ 2)) ./ 2\n",
    "\n",
    "fig, ax = subplots(figsize=(8,4))\n",
    "\n",
    "for i = 1:3\n",
    "    ax.plot(hs,U2[i,:],\"-o\")\n",
    "end\n",
    "ax.set_xlabel(L\"$h/J$\",fontsize=16)\n",
    "ax.set_ylabel(L\"U_2 = \\frac{3}{2}\\left(1-\\frac{\\langle m^4 \\rangle}{3 \\langle m^2 \\rangle^2}\\right)\",fontsize=16)\n",
    "ax.grid()\n",
    "gcf()"
   ]
  },
  {
   "cell_type": "code",
   "execution_count": null,
   "metadata": {},
   "outputs": [],
   "source": []
  }
 ],
 "metadata": {
  "kernelspec": {
   "display_name": "Julia 1.7.3",
   "language": "julia",
   "name": "julia-1.7"
  },
  "language_info": {
   "file_extension": ".jl",
   "mimetype": "application/julia",
   "name": "julia",
   "version": "1.7.3"
  },
  "orig_nbformat": 4
 },
 "nbformat": 4,
 "nbformat_minor": 2
}
