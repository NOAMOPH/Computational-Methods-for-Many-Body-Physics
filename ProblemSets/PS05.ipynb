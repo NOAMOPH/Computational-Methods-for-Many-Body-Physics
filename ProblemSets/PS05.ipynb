{
 "cells": [
  {
   "cell_type": "code",
   "execution_count": 1,
   "metadata": {},
   "outputs": [],
   "source": [
    "using PyPlot, LsqFit, Polynomials, Random, Statistics, CurveFit"
   ]
  },
  {
   "cell_type": "markdown",
   "metadata": {},
   "source": [
    "# Numerical many-body methods - Problem Set 5\n",
    "## (Quantum Monte Carlo)\n",
    "Noam Ophir"
   ]
  },
  {
   "cell_type": "markdown",
   "metadata": {},
   "source": [
    "# 1D Transverse Field Ising Model\n",
    "\n",
    "*In this problem we will consider the transverse field Ising model in 1D, given by the following Hamiltonian*\n",
    "$$\n",
    "H=-J\\sum_i \\sigma^z_i \\sigma^z_{i+1} - h \\sum_i \\sigma^x_i\n",
    "$$\n",
    "*As we saw in class, this model is exactly solvable (using the Jordan-Wigner transformation) and at $T = 0$ features a phase transition between an ordered ferromagnetic ground state at $h/J < 1$ and a paramagnetic state at $h/J > 1$. We also showed, that the quantum partition function $Z = \\mathrm{Tr}(e^{-\\beta H})$ for this model can be mapped to the classical partition function of an anistropic 2D Ising model:*\n",
    "$$\n",
    "Z\n",
    "=\n",
    "\\sum_{\\sigma_{i,n}^z}\n",
    "\\exp\\left(\n",
    "\\sum_{x,n}\n",
    "\\Big[\n",
    "J_x \\sigma^z_{i,n}\\sigma^z_{i+1,n}\n",
    "+J_\\tau \\sigma^z_{i,n} \\sigma^z_{i,n+1}\n",
    "\\Big]\n",
    "\\right)\\;,\n",
    "$$\n",
    "*where the couplings along the spatial and imaginary time directions are given by $J_x = J \\Delta \\tau$ and $J_\\tau  = \\log(\\coth(\\Delta \\tau h))/2$ respectively, and the size of the system along the imaginary time direction is $N_\\tau = \\beta/\\Delta \\tau$ (where $\\beta$ is the inverse temperature $1/T$).*"
   ]
  },
  {
   "cell_type": "markdown",
   "metadata": {},
   "source": [
    "## 1\n",
    "*Adjust the code we used in class for the classical 2D Ising model, to study the 1D transverse field Ising model. Use the Wolff cluster update algorithm and think how it should be modi ed for the anisotropic case.*"
   ]
  },
  {
   "cell_type": "code",
   "execution_count": null,
   "metadata": {},
   "outputs": [],
   "source": []
  },
  {
   "cell_type": "markdown",
   "metadata": {},
   "source": [
    "## 2 \n",
    "\n",
    "*Calculate the absolute value of the magnetization as function of $h/J$ across the phase transition for different system sizes (e.g. $N_x = 8, 16, 32$). Perform the calculation in the low temperature limit, e.g. $T/J = 0.1$, and using a small enough imaginary time step of e.g. $\\Delta\\tau J = 0.1$. **Be careful with the calculation of expectation values!***"
   ]
  },
  {
   "cell_type": "code",
   "execution_count": null,
   "metadata": {},
   "outputs": [],
   "source": []
  },
  {
   "cell_type": "markdown",
   "metadata": {},
   "source": [
    "## 3\n",
    "\n",
    "*Calculate the Binder cumulant*\n",
    "$$\n",
    "U_2 = \n",
    "\\frac{3}{2}\n",
    "\\left(\n",
    "1\n",
    "-\n",
    "\\frac{1}{3}\\frac{\\langle m^4 \\rangle}{\\langle m^2 \\rangle^2}\n",
    "\\right)$$\n",
    "*as function of *h/J* across the phase transition for different system sizes (as above), and check that the curves for different system sizes indeed cross at the phase transition point $h/J = 1$. **Again, be careful with the calculation of the expectation values of the higher moments of magnetization!***"
   ]
  },
  {
   "cell_type": "code",
   "execution_count": null,
   "metadata": {},
   "outputs": [],
   "source": []
  },
  {
   "cell_type": "code",
   "execution_count": null,
   "metadata": {},
   "outputs": [],
   "source": []
  }
 ],
 "metadata": {
  "kernelspec": {
   "display_name": "Julia 1.7.3",
   "language": "julia",
   "name": "julia-1.7"
  },
  "language_info": {
   "file_extension": ".jl",
   "mimetype": "application/julia",
   "name": "julia",
   "version": "1.7.3"
  },
  "orig_nbformat": 4
 },
 "nbformat": 4,
 "nbformat_minor": 2
}
