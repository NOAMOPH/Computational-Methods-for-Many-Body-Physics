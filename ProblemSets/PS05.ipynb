{
 "cells": [
  {
   "cell_type": "code",
   "execution_count": 1,
   "metadata": {},
   "outputs": [],
   "source": [
    "using PyPlot, LsqFit, Polynomials, Random, Statistics, CurveFit"
   ]
  },
  {
   "cell_type": "markdown",
   "metadata": {},
   "source": [
    "# Numerical many-body methods - Problem Set 5\n",
    "## (Quantum Monte Carlo)\n",
    "Noam Ophir"
   ]
  },
  {
   "cell_type": "markdown",
   "metadata": {},
   "source": [
    "# 1D Transverse Field Ising Model\n",
    "\n",
    "*In this problem we will consider the transverse field Ising model in 1D, given by the following Hamiltonian*\n",
    "$$\n",
    "H=-J\\sum_i \\sigma^z_i \\sigma^z_{i+1} - h \\sum_i \\sigma^x_i\n",
    "$$\n",
    "*As we saw in class, this model is exactly solvable (using the Jordan-Wigner transformation) and at $T = 0$ features a phase transition between an ordered ferromagnetic ground state at $h/J < 1$ and a paramagnetic state at $h/J > 1$. We also showed, that the quantum partition function $Z = \\mathrm{Tr}(e^{-\\beta H})$ for this model can be mapped to the classical partition function of an anistropic 2D Ising model:*\n",
    "$$\n",
    "Z\n",
    "=\n",
    "\\sum_{\\sigma_{i,n}^z}\n",
    "\\exp\\left(\n",
    "\\sum_{x,n}\n",
    "\\Big[\n",
    "J_x \\sigma^z_{i,n}\\sigma^z_{i+1,n}\n",
    "+J_\\tau \\sigma^z_{i,n} \\sigma^z_{i,n+1}\n",
    "\\Big]\n",
    "\\right)\\;,\n",
    "$$\n",
    "*where the couplings along the spatial and imaginary time directions are given by $J_x = J \\Delta \\tau$ and $J_\\tau  = \\log(\\coth(\\Delta \\tau h))/2$ respectively, and the size of the system along the imaginary time direction is $N_\\tau = \\beta/\\Delta \\tau$ (where $\\beta$ is the inverse temperature $1/T$).*"
   ]
  },
  {
   "cell_type": "markdown",
   "metadata": {},
   "source": [
    "## 1\n",
    "*Adjust the code we used in class for the classical 2D Ising model, to study the 1D transverse field Ising model. Use the Wolff cluster update algorithm and think how it should be modified for the anisotropic case.*"
   ]
  },
  {
   "cell_type": "code",
   "execution_count": 18,
   "metadata": {},
   "outputs": [
    {
     "data": {
      "text/plain": [
       "NearestNeighbors (generic function with 2 methods)"
      ]
     },
     "metadata": {},
     "output_type": "display_data"
    }
   ],
   "source": [
    "### Tutorial functions\n",
    "struct Point2D\n",
    "    x::Int64\n",
    "    tau::Int64\n",
    "end\n",
    "\n",
    "struct Chain_time_grid\n",
    "    Nx::Int64\n",
    "    Ntau::Int64    \n",
    "end\n",
    "\n",
    "import Base.length\n",
    "function length(lat::Chain_time_grid)\n",
    "    return lat.Nx*lat.Ntau\n",
    "end\n",
    "\n",
    "function PointToIndex(lat::Chain_time_grid, r::Point2D)\n",
    "    @assert r.x <= lat.Nx \"Site x coordinate exceeding lattice length\"\n",
    "    @assert r.tau <= lat.Ntau \"Site y coordinate exceeding lattice width\"\n",
    "    \n",
    "    return (r.tau-1)*lat.Nx + r.x\n",
    "end\n",
    "\n",
    "function IndexToPoint(lat::Chain_time_grid, ind::Int64)\n",
    "    \n",
    "    @assert ind <= length(lat) \"Site index exceeding lattice size\"\n",
    "    \n",
    "    tau = div(ind-1, lat.Nx)+1\n",
    "    x = mod(ind-1, lat.Nx)+1\n",
    "\n",
    "    return Point2D(x,tau)\n",
    "end\n",
    "    \n",
    "function NearestNeighbors(lat::Chain_time_grid, ind::Int64)\n",
    "\n",
    "    r = IndexToPoint(lat, ind)\n",
    "    \n",
    "    nn = zeros(Int64,4)\n",
    "    \n",
    "    xp = mod(r.x, lat.Nx)+1\n",
    "    taup = mod(r.tau, lat.Ntau)+1\n",
    "    xm = mod(r.x-2, lat.Nx)+1\n",
    "    taum = mod(r.tau-2, lat.Ntau)+1\n",
    "    \n",
    "    nn[1] = PointToIndex(lat, Point2D(xm, r.tau) )\n",
    "    nn[2] = PointToIndex(lat, Point2D(xp, r.tau) )\n",
    "    nn[3] = PointToIndex(lat, Point2D(r.x, taum) )\n",
    "    nn[4] = PointToIndex(lat, Point2D(r.x, taup) )\n",
    "    \n",
    "    return nn\n",
    "end"
   ]
  },
  {
   "cell_type": "code",
   "execution_count": 139,
   "metadata": {},
   "outputs": [
    {
     "data": {
      "text/plain": [
       "TFIM_MC (generic function with 1 method)"
      ]
     },
     "metadata": {},
     "output_type": "display_data"
    }
   ],
   "source": [
    "function WolffUpdate!(lat::Chain_time_grid, config::Vector{Int64}, Jx::Float64, Jtau::Float64)\n",
    "    N = length(lat)\n",
    "    ind = rand(1:N)\n",
    "\n",
    "    cluster = Int64[] \n",
    "    RealSpaceCandidates = Int64[] \n",
    "    ImTimeCandidates = Int64[] \n",
    "    newlyAdded = Int64[]\n",
    "\n",
    "    push!(cluster, ind)\n",
    "    append!(RealSpaceCandidates, NearestNeighbors(lat, ind)[1:2])\n",
    "    # append!(ImTimeCandidates, NearestNeighbors(lat, ind)[3:4])\n",
    "    append!(newlyAdded, NearestNeighbors(lat, ind))\n",
    "    \n",
    "    # Perform the Wolff algorithm until the cluster is empty\n",
    "    while !isempty(newlyAdded)\n",
    "        j = pop!(newlyAdded)\n",
    "        \n",
    "        # Skip if already in the cluster\n",
    "        if j in cluster\n",
    "            continue\n",
    "        end\n",
    "        \n",
    "        if j in RealSpaceCandidates\n",
    "            if config[j] == config[ind] && rand() < 1. - exp(-2*Jx)\n",
    "                push!(cluster, j)\n",
    "                \n",
    "                nn = NearestNeighbors(lat, j)\n",
    "                append!(newlyAdded, nn)\n",
    "                append!(RealSpaceCandidates, nn[1:2])\n",
    "                # append!(ImTimeCandidates, nn[3:4])\n",
    "            end\n",
    "        else\n",
    "            if config[j] == config[ind] && rand() < 1. - exp(-2*Jtau)\n",
    "                print(\"hi\")\n",
    "                push!(cluster, j)\n",
    "                \n",
    "                nn = NearestNeighbors(lat, j)\n",
    "                append!(newlyAdded, nn)\n",
    "                append!(RealSpaceCandidates, nn[1:2])\n",
    "                # append!(ImTimeCandidates, nn[3:4])\n",
    "            end\n",
    "        end\n",
    "    end\n",
    "    \n",
    "    # Flip the spins in the cluster\n",
    "    config[cluster] .= 1 .- config[cluster]\n",
    "end\n",
    "\n",
    "function TFIM_MC(Nx::Int64, T::Float64, dtau::Float64, h::Float64, Nsw::Int64, Neq::Int64)\n",
    "    print(\"Hello\")\n",
    "\n",
    "    flush(stdout)\n",
    "    Jx = dtau\n",
    "    Jtau = log(coth(dtau*h))/2\n",
    "    @show Jtau\n",
    "    beta = 1/T\n",
    "    Ntau = Int64(div(beta,dtau))\n",
    "\n",
    "    lat = Chain_time_grid(Nx,Ntau)\n",
    "    m1 = Float64[]\n",
    "    m2 = Float64[]\n",
    "    m4 = Float64[]\n",
    "\n",
    "    # configs[:,1:Ntau] = rand(0:1, Nx,Ntau)\n",
    "    config = rand(0:1, length(lat))\n",
    "    for i in range(1, stop=Neq)\n",
    "        WolffUpdate!(lat, config, Jx, Jtau)\n",
    "    end\n",
    "    for i in range(1, stop=Nsw)\n",
    "        WolffUpdate!(lat, config, Jx, Jtau)\n",
    "        append!(m1,mean(abs.(mean(config,dims=1))))\n",
    "        append!(m2,mean(mean(config,dims=1)) .^2)\n",
    "        append!(m4,mean(mean(config,dims=1)) .^4)\n",
    "    end\n",
    "    return [m1, m2, m4]\n",
    "end"
   ]
  },
  {
   "cell_type": "code",
   "execution_count": 140,
   "metadata": {},
   "outputs": [],
   "source": [
    "Nx = 10\n",
    "T = 10.\n",
    "dtau = 0.1\n",
    "h = 0.\n",
    "Nsw = 10\n",
    "Neq = 10\n",
    "\n",
    "m1, m2, m4 = TFIM_MC(Nx, T, dtau, h, Nsw, Neq);"
   ]
  },
  {
   "cell_type": "code",
   "execution_count": 125,
   "metadata": {},
   "outputs": [
    {
     "data": {
      "image/png": "[encoded data removed]",
      "text/plain": [
       "Figure(PyObject <Figure size 800x400 with 1 Axes>)"
      ]
     },
     "metadata": {},
     "output_type": "display_data"
    }
   ],
   "source": [
    "fig, ax = subplots(figsize=(8,4))\n",
    "ax.plot(m1)\n",
    "\n",
    "@show mean(m1)\n",
    "gcf()"
   ]
  },
  {
   "cell_type": "code",
   "execution_count": 31,
   "metadata": {},
   "outputs": [
    {
     "data": {
      "text/plain": [
       "10×10 Matrix{Int64}:\n",
       " 1  0  1  0  1  1  0  1  0  0\n",
       " 0  0  1  1  0  0  0  1  0  0\n",
       " 1  1  0  0  0  1  1  0  1  1\n",
       " 1  0  1  0  0  1  1  1  1  0\n",
       " 0  0  1  1  1  1  0  1  1  0\n",
       " 0  0  0  1  1  0  0  0  1  0\n",
       " 0  0  0  1  0  0  1  0  1  1\n",
       " 0  0  0  1  0  0  1  0  1  1\n",
       " 0  1  1  1  0  0  0  1  1  1\n",
       " 0  0  0  1  1  0  0  0  0  0"
      ]
     },
     "metadata": {},
     "output_type": "display_data"
    }
   ],
   "source": []
  },
  {
   "cell_type": "markdown",
   "metadata": {},
   "source": [
    "## 2 \n",
    "\n",
    "*Calculate the absolute value of the magnetization as function of $h/J$ across the phase transition for different system sizes (e.g. $N_x = 8, 16, 32$). Perform the calculation in the low temperature limit, e.g. $T/J = 0.1$, and using a small enough imaginary time step of e.g. $\\Delta\\tau J = 0.1$. **Be careful with the calculation of expectation values!***"
   ]
  },
  {
   "cell_type": "code",
   "execution_count": null,
   "metadata": {},
   "outputs": [],
   "source": [
    "Nxs = [8, 16 ,32]\n",
    "hs = 0:0.1:2.0"
   ]
  },
  {
   "cell_type": "markdown",
   "metadata": {},
   "source": [
    "## 3\n",
    "\n",
    "*Calculate the Binder cumulant*\n",
    "$$\n",
    "U_2 = \n",
    "\\frac{3}{2}\n",
    "\\left(\n",
    "1\n",
    "-\n",
    "\\frac{1}{3}\\frac{\\langle m^4 \\rangle}{\\langle m^2 \\rangle^2}\n",
    "\\right)$$\n",
    "*as function of *h/J* across the phase transition for different system sizes (as above), and check that the curves for different system sizes indeed cross at the phase transition point $h/J = 1$. **Again, be careful with the calculation of the expectation values of the higher moments of magnetization!***"
   ]
  },
  {
   "cell_type": "code",
   "execution_count": null,
   "metadata": {},
   "outputs": [],
   "source": []
  },
  {
   "cell_type": "code",
   "execution_count": null,
   "metadata": {},
   "outputs": [],
   "source": []
  }
 ],
 "metadata": {
  "kernelspec": {
   "display_name": "Julia 1.7.3",
   "language": "julia",
   "name": "julia-1.7"
  },
  "language_info": {
   "file_extension": ".jl",
   "mimetype": "application/julia",
   "name": "julia",
   "version": "1.7.3"
  },
  "orig_nbformat": 4
 },
 "nbformat": 4,
 "nbformat_minor": 2
}
